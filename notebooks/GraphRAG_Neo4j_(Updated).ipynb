{
  "cells": [
    {
      "cell_type": "markdown",
      "metadata": {
        "id": "b7zow2uXarlR"
      },
      "source": [
        "### What is Langchain?\n",
        "LangChain is an open-source framework for building LLM-powered applications, offering core components like Models (LLM integration), Prompt Templates (structured prompts), Memory (context retention), Indexes & Retrievers (efficient document retrieval), Agents (dynamic decision-making), and Chains (workflow automation). It simplifies RAG applications by enabling efficient document ingestion, retrieval, contextualized responses, and state management using vector databases, embeddings, and intelligent querying. This allows for seamless integration with external data sources and scalable AI-driven search and reasoning systems. 🚀"
      ]
    },
    {
      "cell_type": "markdown",
      "metadata": {
        "id": "0_nW4OcOvkFS"
      },
      "source": [
        "1. **`langchain-community`** – Contains community-maintained integrations and tools for working with various LLM providers, databases, and APIs.  \n",
        "2. **`langchain-experimental`** – Includes experimental and early-stage features for advanced LangChain applications, such as novel retrieval methods and agent capabilities.  \n",
        "3. **`langchain-groq`** – Provides integration with **Groq's LLMs**, enabling fast and efficient model inference.  \n",
        "4. **`langchain-huggingface`** – Facilitates the use of **Hugging Face models** (transformers, embeddings, and pipelines) within LangChain applications. 🚀"
      ]
    },
    {
      "cell_type": "markdown",
      "metadata": {
        "id": "wRhSxH1clXCF"
      },
      "source": [
        "##Imports"
      ]
    },
    {
      "cell_type": "code",
      "execution_count": null,
      "metadata": {
        "colab": {
          "base_uri": "https://localhost:8080/"
        },
        "collapsed": true,
        "id": "vdtlwkZlu0rN",
        "outputId": "8d7a7280-2f97-4500-f906-6666fc8358b1"
      },
      "outputs": [
        {
          "name": "stdout",
          "output_type": "stream",
          "text": [
            "\u001b[?25l   \u001b[90m━━━━━━━━━━━━━━━━━━━━━━━━━━━━━━━━━━━━━━━━\u001b[0m \u001b[32m0.0/2.5 MB\u001b[0m \u001b[31m?\u001b[0m eta \u001b[36m-:--:--\u001b[0m\r\u001b[2K   \u001b[91m━━━━━━━\u001b[0m\u001b[90m╺\u001b[0m\u001b[90m━━━━━━━━━━━━━━━━━━━━━━━━━━━━━━━━\u001b[0m \u001b[32m0.5/2.5 MB\u001b[0m \u001b[31m14.0 MB/s\u001b[0m eta \u001b[36m0:00:01\u001b[0m\r\u001b[2K   \u001b[91m━━━━━━━━━━━━━━━━━━━━━━━━━━━━━━━━━━━━━━━\u001b[0m\u001b[91m╸\u001b[0m \u001b[32m2.5/2.5 MB\u001b[0m \u001b[31m38.6 MB/s\u001b[0m eta \u001b[36m0:00:01\u001b[0m\r\u001b[2K   \u001b[90m━━━━━━━━━━━━━━━━━━━━━━━━━━━━━━━━━━━━━━━━\u001b[0m \u001b[32m2.5/2.5 MB\u001b[0m \u001b[31m29.1 MB/s\u001b[0m eta \u001b[36m0:00:00\u001b[0m\n",
            "\u001b[2K   \u001b[90m━━━━━━━━━━━━━━━━━━━━━━━━━━━━━━━━━━━━━━━━\u001b[0m \u001b[32m209.2/209.2 kB\u001b[0m \u001b[31m11.6 MB/s\u001b[0m eta \u001b[36m0:00:00\u001b[0m\n",
            "\u001b[2K   \u001b[90m━━━━━━━━━━━━━━━━━━━━━━━━━━━━━━━━━━━━━━━━\u001b[0m \u001b[32m129.6/129.6 kB\u001b[0m \u001b[31m8.8 MB/s\u001b[0m eta \u001b[36m0:00:00\u001b[0m\n",
            "\u001b[2K   \u001b[90m━━━━━━━━━━━━━━━━━━━━━━━━━━━━━━━━━━━━━━━━\u001b[0m \u001b[32m44.4/44.4 kB\u001b[0m \u001b[31m2.7 MB/s\u001b[0m eta \u001b[36m0:00:00\u001b[0m\n",
            "\u001b[2K   \u001b[90m━━━━━━━━━━━━━━━━━━━━━━━━━━━━━━━━━━━━━━━━\u001b[0m \u001b[32m50.9/50.9 kB\u001b[0m \u001b[31m2.8 MB/s\u001b[0m eta \u001b[36m0:00:00\u001b[0m\n",
            "\u001b[2K   \u001b[90m━━━━━━━━━━━━━━━━━━━━━━━━━━━━━━━━━━━━━━━━\u001b[0m \u001b[32m363.4/363.4 MB\u001b[0m \u001b[31m3.7 MB/s\u001b[0m eta \u001b[36m0:00:00\u001b[0m\n",
            "\u001b[2K   \u001b[90m━━━━━━━━━━━━━━━━━━━━━━━━━━━━━━━━━━━━━━━━\u001b[0m \u001b[32m13.8/13.8 MB\u001b[0m \u001b[31m95.3 MB/s\u001b[0m eta \u001b[36m0:00:00\u001b[0m\n",
            "\u001b[2K   \u001b[90m━━━━━━━━━━━━━━━━━━━━━━━━━━━━━━━━━━━━━━━━\u001b[0m \u001b[32m24.6/24.6 MB\u001b[0m \u001b[31m81.7 MB/s\u001b[0m eta \u001b[36m0:00:00\u001b[0m\n",
            "\u001b[2K   \u001b[90m━━━━━━━━━━━━━━━━━━━━━━━━━━━━━━━━━━━━━━━━\u001b[0m \u001b[32m883.7/883.7 kB\u001b[0m \u001b[31m42.6 MB/s\u001b[0m eta \u001b[36m0:00:00\u001b[0m\n",
            "\u001b[2K   \u001b[90m━━━━━━━━━━━━━━━━━━━━━━━━━━━━━━━━━━━━━━━━\u001b[0m \u001b[32m664.8/664.8 MB\u001b[0m \u001b[31m2.2 MB/s\u001b[0m eta \u001b[36m0:00:00\u001b[0m\n",
            "\u001b[2K   \u001b[90m━━━━━━━━━━━━━━━━━━━━━━━━━━━━━━━━━━━━━━━━\u001b[0m \u001b[32m211.5/211.5 MB\u001b[0m \u001b[31m5.8 MB/s\u001b[0m eta \u001b[36m0:00:00\u001b[0m\n",
            "\u001b[2K   \u001b[90m━━━━━━━━━━━━━━━━━━━━━━━━━━━━━━━━━━━━━━━━\u001b[0m \u001b[32m56.3/56.3 MB\u001b[0m \u001b[31m12.4 MB/s\u001b[0m eta \u001b[36m0:00:00\u001b[0m\n",
            "\u001b[2K   \u001b[90m━━━━━━━━━━━━━━━━━━━━━━━━━━━━━━━━━━━━━━━━\u001b[0m \u001b[32m127.9/127.9 MB\u001b[0m \u001b[31m6.9 MB/s\u001b[0m eta \u001b[36m0:00:00\u001b[0m\n",
            "\u001b[2K   \u001b[90m━━━━━━━━━━━━━━━━━━━━━━━━━━━━━━━━━━━━━━━━\u001b[0m \u001b[32m207.5/207.5 MB\u001b[0m \u001b[31m6.1 MB/s\u001b[0m eta \u001b[36m0:00:00\u001b[0m\n",
            "\u001b[2K   \u001b[90m━━━━━━━━━━━━━━━━━━━━━━━━━━━━━━━━━━━━━━━━\u001b[0m \u001b[32m21.1/21.1 MB\u001b[0m \u001b[31m86.2 MB/s\u001b[0m eta \u001b[36m0:00:00\u001b[0m\n",
            "\u001b[2K   \u001b[90m━━━━━━━━━━━━━━━━━━━━━━━━━━━━━━━━━━━━━━━━\u001b[0m \u001b[32m312.3/312.3 kB\u001b[0m \u001b[31m7.1 MB/s\u001b[0m eta \u001b[36m0:00:00\u001b[0m\n",
            "\u001b[2K   \u001b[90m━━━━━━━━━━━━━━━━━━━━━━━━━━━━━━━━━━━━━━━━\u001b[0m \u001b[32m15.7/15.7 MB\u001b[0m \u001b[31m75.3 MB/s\u001b[0m eta \u001b[36m0:00:00\u001b[0m\n",
            "\u001b[2K   \u001b[90m━━━━━━━━━━━━━━━━━━━━━━━━━━━━━━━━━━━━━━━━\u001b[0m \u001b[32m1.6/1.6 MB\u001b[0m \u001b[31m63.0 MB/s\u001b[0m eta \u001b[36m0:00:00\u001b[0m\n",
            "\u001b[2K   \u001b[90m━━━━━━━━━━━━━━━━━━━━━━━━━━━━━━━━━━━━━━━━\u001b[0m \u001b[32m304.2/304.2 kB\u001b[0m \u001b[31m4.7 MB/s\u001b[0m eta \u001b[36m0:00:00\u001b[0m\n",
            "\u001b[?25h"
          ]
        }
      ],
      "source": [
        "!pip install --upgrade --quiet langchain langchain-community langchain-experimental langchain-groq langchain-huggingface\n",
        "!pip install --upgrade --quiet  sentence-transformers\n",
        "!pip install --upgrade --quiet transformers\n",
        "!pip install --upgrade --quiet neo4j tiktoken yfiles_jupyter_graphs\n",
        "!pip install --upgrade --quiet pypdf"
      ]
    },
    {
      "cell_type": "markdown",
      "metadata": {
        "id": "QBT6Bw24j5W1"
      },
      "source": [
        "##Uploading the PDF"
      ]
    },
    {
      "cell_type": "code",
      "execution_count": null,
      "metadata": {
        "colab": {
          "base_uri": "https://localhost:8080/",
          "height": 74
        },
        "id": "8A5-kp1ljAF-",
        "outputId": "d3f85afd-82ba-45fc-bf80-c7dbc4a84697"
      },
      "outputs": [
        {
          "data": {
            "text/html": [
              "\n",
              "     <input type=\"file\" id=\"files-be3dbf50-01f2-4a3d-8d4a-fdd435b102f6\" name=\"files[]\" multiple disabled\n",
              "        style=\"border:none\" />\n",
              "     <output id=\"result-be3dbf50-01f2-4a3d-8d4a-fdd435b102f6\">\n",
              "      Upload widget is only available when the cell has been executed in the\n",
              "      current browser session. Please rerun this cell to enable.\n",
              "      </output>\n",
              "      <script>// Copyright 2017 Google LLC\n",
              "//\n",
              "// Licensed under the Apache License, Version 2.0 (the \"License\");\n",
              "// you may not use this file except in compliance with the License.\n",
              "// You may obtain a copy of the License at\n",
              "//\n",
              "//      http://www.apache.org/licenses/LICENSE-2.0\n",
              "//\n",
              "// Unless required by applicable law or agreed to in writing, software\n",
              "// distributed under the License is distributed on an \"AS IS\" BASIS,\n",
              "// WITHOUT WARRANTIES OR CONDITIONS OF ANY KIND, either express or implied.\n",
              "// See the License for the specific language governing permissions and\n",
              "// limitations under the License.\n",
              "\n",
              "/**\n",
              " * @fileoverview Helpers for google.colab Python module.\n",
              " */\n",
              "(function(scope) {\n",
              "function span(text, styleAttributes = {}) {\n",
              "  const element = document.createElement('span');\n",
              "  element.textContent = text;\n",
              "  for (const key of Object.keys(styleAttributes)) {\n",
              "    element.style[key] = styleAttributes[key];\n",
              "  }\n",
              "  return element;\n",
              "}\n",
              "\n",
              "// Max number of bytes which will be uploaded at a time.\n",
              "const MAX_PAYLOAD_SIZE = 100 * 1024;\n",
              "\n",
              "function _uploadFiles(inputId, outputId) {\n",
              "  const steps = uploadFilesStep(inputId, outputId);\n",
              "  const outputElement = document.getElementById(outputId);\n",
              "  // Cache steps on the outputElement to make it available for the next call\n",
              "  // to uploadFilesContinue from Python.\n",
              "  outputElement.steps = steps;\n",
              "\n",
              "  return _uploadFilesContinue(outputId);\n",
              "}\n",
              "\n",
              "// This is roughly an async generator (not supported in the browser yet),\n",
              "// where there are multiple asynchronous steps and the Python side is going\n",
              "// to poll for completion of each step.\n",
              "// This uses a Promise to block the python side on completion of each step,\n",
              "// then passes the result of the previous step as the input to the next step.\n",
              "function _uploadFilesContinue(outputId) {\n",
              "  const outputElement = document.getElementById(outputId);\n",
              "  const steps = outputElement.steps;\n",
              "\n",
              "  const next = steps.next(outputElement.lastPromiseValue);\n",
              "  return Promise.resolve(next.value.promise).then((value) => {\n",
              "    // Cache the last promise value to make it available to the next\n",
              "    // step of the generator.\n",
              "    outputElement.lastPromiseValue = value;\n",
              "    return next.value.response;\n",
              "  });\n",
              "}\n",
              "\n",
              "/**\n",
              " * Generator function which is called between each async step of the upload\n",
              " * process.\n",
              " * @param {string} inputId Element ID of the input file picker element.\n",
              " * @param {string} outputId Element ID of the output display.\n",
              " * @return {!Iterable<!Object>} Iterable of next steps.\n",
              " */\n",
              "function* uploadFilesStep(inputId, outputId) {\n",
              "  const inputElement = document.getElementById(inputId);\n",
              "  inputElement.disabled = false;\n",
              "\n",
              "  const outputElement = document.getElementById(outputId);\n",
              "  outputElement.innerHTML = '';\n",
              "\n",
              "  const pickedPromise = new Promise((resolve) => {\n",
              "    inputElement.addEventListener('change', (e) => {\n",
              "      resolve(e.target.files);\n",
              "    });\n",
              "  });\n",
              "\n",
              "  const cancel = document.createElement('button');\n",
              "  inputElement.parentElement.appendChild(cancel);\n",
              "  cancel.textContent = 'Cancel upload';\n",
              "  const cancelPromise = new Promise((resolve) => {\n",
              "    cancel.onclick = () => {\n",
              "      resolve(null);\n",
              "    };\n",
              "  });\n",
              "\n",
              "  // Wait for the user to pick the files.\n",
              "  const files = yield {\n",
              "    promise: Promise.race([pickedPromise, cancelPromise]),\n",
              "    response: {\n",
              "      action: 'starting',\n",
              "    }\n",
              "  };\n",
              "\n",
              "  cancel.remove();\n",
              "\n",
              "  // Disable the input element since further picks are not allowed.\n",
              "  inputElement.disabled = true;\n",
              "\n",
              "  if (!files) {\n",
              "    return {\n",
              "      response: {\n",
              "        action: 'complete',\n",
              "      }\n",
              "    };\n",
              "  }\n",
              "\n",
              "  for (const file of files) {\n",
              "    const li = document.createElement('li');\n",
              "    li.append(span(file.name, {fontWeight: 'bold'}));\n",
              "    li.append(span(\n",
              "        `(${file.type || 'n/a'}) - ${file.size} bytes, ` +\n",
              "        `last modified: ${\n",
              "            file.lastModifiedDate ? file.lastModifiedDate.toLocaleDateString() :\n",
              "                                    'n/a'} - `));\n",
              "    const percent = span('0% done');\n",
              "    li.appendChild(percent);\n",
              "\n",
              "    outputElement.appendChild(li);\n",
              "\n",
              "    const fileDataPromise = new Promise((resolve) => {\n",
              "      const reader = new FileReader();\n",
              "      reader.onload = (e) => {\n",
              "        resolve(e.target.result);\n",
              "      };\n",
              "      reader.readAsArrayBuffer(file);\n",
              "    });\n",
              "    // Wait for the data to be ready.\n",
              "    let fileData = yield {\n",
              "      promise: fileDataPromise,\n",
              "      response: {\n",
              "        action: 'continue',\n",
              "      }\n",
              "    };\n",
              "\n",
              "    // Use a chunked sending to avoid message size limits. See b/62115660.\n",
              "    let position = 0;\n",
              "    do {\n",
              "      const length = Math.min(fileData.byteLength - position, MAX_PAYLOAD_SIZE);\n",
              "      const chunk = new Uint8Array(fileData, position, length);\n",
              "      position += length;\n",
              "\n",
              "      const base64 = btoa(String.fromCharCode.apply(null, chunk));\n",
              "      yield {\n",
              "        response: {\n",
              "          action: 'append',\n",
              "          file: file.name,\n",
              "          data: base64,\n",
              "        },\n",
              "      };\n",
              "\n",
              "      let percentDone = fileData.byteLength === 0 ?\n",
              "          100 :\n",
              "          Math.round((position / fileData.byteLength) * 100);\n",
              "      percent.textContent = `${percentDone}% done`;\n",
              "\n",
              "    } while (position < fileData.byteLength);\n",
              "  }\n",
              "\n",
              "  // All done.\n",
              "  yield {\n",
              "    response: {\n",
              "      action: 'complete',\n",
              "    }\n",
              "  };\n",
              "}\n",
              "\n",
              "scope.google = scope.google || {};\n",
              "scope.google.colab = scope.google.colab || {};\n",
              "scope.google.colab._files = {\n",
              "  _uploadFiles,\n",
              "  _uploadFilesContinue,\n",
              "};\n",
              "})(self);\n",
              "</script> "
            ],
            "text/plain": [
              "<IPython.core.display.HTML object>"
            ]
          },
          "metadata": {},
          "output_type": "display_data"
        },
        {
          "name": "stdout",
          "output_type": "stream",
          "text": [
            "Saving BTSA-FTE Offer Letter.pdf to BTSA-FTE Offer Letter.pdf\n"
          ]
        }
      ],
      "source": [
        "# Imports\n",
        "from langchain.document_loaders import PyPDFLoader\n",
        "from langchain.text_splitter import RecursiveCharacterTextSplitter\n",
        "from google.colab import files\n",
        "import os\n",
        "\n",
        "# Upload the PDF file using Google Colab's file upload utility\n",
        "uploaded = files.upload()\n",
        "\n",
        "# Get the file path\n",
        "pdf_path = list(uploaded.keys())[0]\n",
        "\n",
        "# Load the PDF using Langchain's PyPDFLoader\n",
        "loader = PyPDFLoader(pdf_path)\n",
        "documents = loader.load()\n"
      ]
    },
    {
      "cell_type": "code",
      "execution_count": null,
      "metadata": {
        "colab": {
          "base_uri": "https://localhost:8080/"
        },
        "id": "SfvrYM1454B4",
        "outputId": "71cdb822-48dc-4fa3-846e-19c3281e7b57"
      },
      "outputs": [
        {
          "data": {
            "text/plain": [
              "list"
            ]
          },
          "execution_count": 3,
          "metadata": {},
          "output_type": "execute_result"
        }
      ],
      "source": [
        "type(documents)"
      ]
    },
    {
      "cell_type": "code",
      "execution_count": null,
      "metadata": {
        "colab": {
          "base_uri": "https://localhost:8080/"
        },
        "id": "3mF5C7sR6PRe",
        "outputId": "92a25d17-6f83-4251-e120-7fed63b53abc"
      },
      "outputs": [
        {
          "data": {
            "text/plain": [
              "Document(metadata={'producer': 'PDFKit.NET 12.3.320.0 DMV10', 'creator': 'PyPDF', 'creationdate': '2025-05-21T01:17:06-07:00', 'moddate': '2025-05-21T01:17:06-07:00', 'source': 'BTSA-FTE Offer Letter.pdf', 'total_pages': 8, 'page': 0, 'page_label': '1'}, page_content=\"May 21, 2025\\n \\nCONFIDENTIAL\\n \\nSubhadip De\\nAdhikari Ghosh Road, Hatthuba, PO :- Habra\\nDistrict - North 24 Parganas\\nHabra, West Bengal 743263\\nDear Subhadip:\\nWe are pleased to extend you an offer to join ZS Associates India Private Ltd. (‘ZS’) as a\\nBusiness Technology Solutions Associate , to be based in our Bengaluru office with a start \\ndate of June 2, 2025 . We hope that you give this opportunity with ZS serious \\nconsideration.\\n \\nZS has a special culture of collaboration and innovation and intensity. We produce work of \\noutstanding quality and are proud of the client-first approach we bring to every \\nengagement. ZSers bring passion to make an impact, commitment to continuous learning, \\nself-improvement and expertise to achieve that result.\\nSalary: Your annual gross salary will be INR ₹850,000.00/Annually, inclusive of basic and \\nfixed allowances; all associates are paid on the last working day of every month. ZS \\nreviews salaries each June, which is effective 1st July, provided you were employed at ZS \\nby March 31 in that year; the raise is pro-rated if your employment tenure is fewer than 12 \\nmonths. For salary details, please refer to Appendix 1.\\nStarting Bonus: When you start full-time active, permanent employment with ZS, we will \\npay you a starting bonus INR ₹100,000.00 in your second month's payroll,\\nHowever, if you do not then complete one full year (12 months) of continuous full-time \\nemployment with ZS immediately after that point for any reason (except for involuntary \\ntermination of your employment by ZS), then you agree to refund the starting bonus in its \\nentirety.\\nPerformance Bonus: ZS associates receive performance bonuses at the end of each year, \\nbased on your performance and the firm's results. This bonus may be up to 10% of your \\neligible wages earned during the calendar year. Bonuses are determined at the discretion \\nof ZS and are subject to standard withholding taxes.\\n    \\nDocusign Envelope ID: A63035C4-D3FB-44B0-B839-5B660260D5BD\")"
            ]
          },
          "execution_count": 4,
          "metadata": {},
          "output_type": "execute_result"
        }
      ],
      "source": [
        "documents[0]"
      ]
    },
    {
      "cell_type": "code",
      "execution_count": null,
      "metadata": {
        "colab": {
          "base_uri": "https://localhost:8080/"
        },
        "id": "3nQx85ybAcjn",
        "outputId": "c73350ac-5c65-4f1a-efda-146f08f17847"
      },
      "outputs": [
        {
          "data": {
            "text/plain": [
              "8"
            ]
          },
          "execution_count": 5,
          "metadata": {},
          "output_type": "execute_result"
        }
      ],
      "source": [
        "len(documents)"
      ]
    },
    {
      "cell_type": "markdown",
      "metadata": {
        "id": "SB7uogzLlaV7"
      },
      "source": [
        "##Setting up the Environment for Developing"
      ]
    },
    {
      "cell_type": "markdown",
      "metadata": {
        "id": "wa2VpZsojBKj"
      },
      "source": [
        "### Environment in a Development Project\n",
        "In a development project, an **environment** refers to a configured system setup where software is developed, tested, and deployed, often using **environment variables** to manage sensitive information like API keys securely. In **Google Colab**, environment variables can be stored in **secrets** (e.g., `os.environ[\"API_KEY\"] = \"your_key\"`) to prevent hardcoding sensitive data. This ensures security, flexibility, and easier configuration management across different environments. 🚀"
      ]
    },
    {
      "cell_type": "code",
      "execution_count": null,
      "metadata": {
        "id": "MvIX2qW_j9qu"
      },
      "outputs": [],
      "source": [
        "import os\n",
        "from google.colab import userdata\n",
        "\n",
        "os.environ[\"GROQ_API_KEY\"] = userdata.get('GROQ_API_KEY')\n",
        "os.environ[\"HF_TOKEN\"] = userdata.get('HF_TOKEN')\n",
        "os.environ[\"NEO4J_URI\"] = userdata.get('NEO4J_URI')\n",
        "os.environ[\"NEO4J_USERNAME\"] = userdata.get('NEO4J_USERNAME')\n",
        "os.environ[\"NEO4J_PASSWORD\"] = userdata.get('NEO4J_PASSWORD')"
      ]
    },
    {
      "cell_type": "code",
      "execution_count": null,
      "metadata": {
        "id": "dTc1oouVwoYu"
      },
      "outputs": [],
      "source": [
        "from langchain_core.prompts import ChatPromptTemplate\n",
        "from langchain_core.prompts.prompt import PromptTemplate\n",
        "\n",
        "from typing import Tuple, List, Optional\n",
        "\n",
        "from langchain_core.messages import AIMessage, HumanMessage\n",
        "from langchain_core.output_parsers import StrOutputParser\n",
        "\n",
        "from langchain_core.runnables import ConfigurableField\n",
        "\n",
        "from yfiles_jupyter_graphs import GraphWidget\n",
        "from neo4j import GraphDatabase\n",
        "\n",
        "from langchain_community.vectorstores import Neo4jVector\n",
        "from langchain_community.graphs import Neo4jGraph\n",
        "\n",
        "from langchain_huggingface import HuggingFaceEmbeddings"
      ]
    },
    {
      "cell_type": "code",
      "execution_count": null,
      "metadata": {
        "id": "zZK-vw_Sy4cu"
      },
      "outputs": [],
      "source": [
        "try:\n",
        "  import google.colab\n",
        "  from google.colab import output\n",
        "  output.enable_custom_widget_manager()\n",
        "except:\n",
        "  pass"
      ]
    },
    {
      "cell_type": "code",
      "execution_count": null,
      "metadata": {
        "id": "M5FS6bBWj9om"
      },
      "outputs": [],
      "source": [
        "from langchain_core.runnables import (\n",
        "    RunnableBranch,\n",
        "    RunnableLambda,\n",
        "    RunnableParallel,\n",
        "    RunnablePassthrough,\n",
        ")"
      ]
    },
    {
      "cell_type": "markdown",
      "metadata": {
        "id": "eyN_RBsiqYSz"
      },
      "source": [
        "##Extracting Text from Wikipedia Pages\n",
        "--Using WikipediaLoader from Langchain"
      ]
    },
    {
      "cell_type": "code",
      "execution_count": null,
      "metadata": {
        "colab": {
          "base_uri": "https://localhost:8080/"
        },
        "id": "PdPlfdqFzg7g",
        "outputId": "4983dfe9-926a-4dfb-a836-74046b595285"
      },
      "outputs": [
        {
          "name": "stderr",
          "output_type": "stream",
          "text": [
            "/usr/local/lib/python3.11/dist-packages/wikipedia/wikipedia.py:389: GuessedAtParserWarning: No parser was explicitly specified, so I'm using the best available HTML parser for this system (\"lxml\"). This usually isn't a problem, but if you run this code on another system, or in a different virtual environment, it may use a different parser and behave differently.\n",
            "\n",
            "The code that caused this warning is on line 389 of the file /usr/local/lib/python3.11/dist-packages/wikipedia/wikipedia.py. To get rid of this warning, pass the additional argument 'features=\"lxml\"' to the BeautifulSoup constructor.\n",
            "\n",
            "  lis = BeautifulSoup(html).find_all('li')\n"
          ]
        }
      ],
      "source": [
        "# from langchain.document_loaders import WikipediaLoader\n",
        "# raw_documents = WikipediaLoader(query=\"The Merchant of Venice\").load()"
      ]
    },
    {
      "cell_type": "markdown",
      "metadata": {
        "id": "LhdrdifqmFI9"
      },
      "source": [
        "##Constants"
      ]
    },
    {
      "cell_type": "code",
      "execution_count": null,
      "metadata": {
        "id": "fK1MDDVR1TKg"
      },
      "outputs": [],
      "source": [
        "chunk_size = 512\n",
        "chunk_overlap = 24\n",
        "\n",
        "model_name = \"deepseek-r1-distill-llama-70b\"\n",
        "embedding_model = \"sentence-transformers/all-mpnet-base-v2\"\n",
        "temperature = 0.3\n",
        "tokens_per_minute = 900"
      ]
    },
    {
      "cell_type": "markdown",
      "metadata": {
        "id": "5EZCmxNQq-6D"
      },
      "source": [
        "##Text Splitting using Recursive Charecter Text Splitter"
      ]
    },
    {
      "cell_type": "code",
      "execution_count": null,
      "metadata": {
        "id": "kGS_yTfrz0Km"
      },
      "outputs": [],
      "source": [
        "# # For Wikipedia\n",
        "# from langchain.text_splitter import RecursiveCharacterTextSplitter\n",
        "# text_splitter = RecursiveCharacterTextSplitter(chunk_size=chunk_size, chunk_overlap=chunk_overlap)\n",
        "# documents = text_splitter.split_documents(raw_documents[:4])"
      ]
    },
    {
      "cell_type": "code",
      "execution_count": null,
      "metadata": {
        "id": "FFo8rElTIjYT"
      },
      "outputs": [],
      "source": [
        "# For PDF (Custom Upload)\n",
        "from langchain.text_splitter import RecursiveCharacterTextSplitter\n",
        "text_splitter = RecursiveCharacterTextSplitter(chunk_size=chunk_size, chunk_overlap=chunk_overlap)\n",
        "document_chunks = text_splitter.split_documents(documents)"
      ]
    },
    {
      "cell_type": "code",
      "execution_count": null,
      "metadata": {
        "colab": {
          "base_uri": "https://localhost:8080/"
        },
        "id": "NH25P9SmnRoK",
        "outputId": "5d47e8e2-76a7-4ee0-9b84-1f5460f0484f"
      },
      "outputs": [
        {
          "data": {
            "text/plain": [
              "[Document(metadata={'producer': 'PDFKit.NET 12.3.320.0 DMV10', 'creator': 'PyPDF', 'creationdate': '2025-05-21T01:17:06-07:00', 'moddate': '2025-05-21T01:17:06-07:00', 'source': 'BTSA-FTE Offer Letter.pdf', 'total_pages': 8, 'page': 0, 'page_label': '1'}, page_content='May 21, 2025\\n \\nCONFIDENTIAL\\n \\nSubhadip De\\nAdhikari Ghosh Road, Hatthuba, PO :- Habra\\nDistrict - North 24 Parganas\\nHabra, West Bengal 743263\\nDear Subhadip:\\nWe are pleased to extend you an offer to join ZS Associates India Private Ltd. (‘ZS’) as a\\nBusiness Technology Solutions Associate , to be based in our Bengaluru office with a start \\ndate of June 2, 2025 . We hope that you give this opportunity with ZS serious \\nconsideration.'),\n",
              " Document(metadata={'producer': 'PDFKit.NET 12.3.320.0 DMV10', 'creator': 'PyPDF', 'creationdate': '2025-05-21T01:17:06-07:00', 'moddate': '2025-05-21T01:17:06-07:00', 'source': 'BTSA-FTE Offer Letter.pdf', 'total_pages': 8, 'page': 0, 'page_label': '1'}, page_content='consideration.\\n \\nZS has a special culture of collaboration and innovation and intensity. We produce work of \\noutstanding quality and are proud of the client-first approach we bring to every \\nengagement. ZSers bring passion to make an impact, commitment to continuous learning, \\nself-improvement and expertise to achieve that result.\\nSalary: Your annual gross salary will be INR ₹850,000.00/Annually, inclusive of basic and \\nfixed allowances; all associates are paid on the last working day of every month. ZS'),\n",
              " Document(metadata={'producer': 'PDFKit.NET 12.3.320.0 DMV10', 'creator': 'PyPDF', 'creationdate': '2025-05-21T01:17:06-07:00', 'moddate': '2025-05-21T01:17:06-07:00', 'source': 'BTSA-FTE Offer Letter.pdf', 'total_pages': 8, 'page': 0, 'page_label': '1'}, page_content=\"reviews salaries each June, which is effective 1st July, provided you were employed at ZS \\nby March 31 in that year; the raise is pro-rated if your employment tenure is fewer than 12 \\nmonths. For salary details, please refer to Appendix 1.\\nStarting Bonus: When you start full-time active, permanent employment with ZS, we will \\npay you a starting bonus INR ₹100,000.00 in your second month's payroll,\\nHowever, if you do not then complete one full year (12 months) of continuous full-time\"),\n",
              " Document(metadata={'producer': 'PDFKit.NET 12.3.320.0 DMV10', 'creator': 'PyPDF', 'creationdate': '2025-05-21T01:17:06-07:00', 'moddate': '2025-05-21T01:17:06-07:00', 'source': 'BTSA-FTE Offer Letter.pdf', 'total_pages': 8, 'page': 0, 'page_label': '1'}, page_content=\"employment with ZS immediately after that point for any reason (except for involuntary \\ntermination of your employment by ZS), then you agree to refund the starting bonus in its \\nentirety.\\nPerformance Bonus: ZS associates receive performance bonuses at the end of each year, \\nbased on your performance and the firm's results. This bonus may be up to 10% of your \\neligible wages earned during the calendar year. Bonuses are determined at the discretion \\nof ZS and are subject to standard withholding taxes.\"),\n",
              " Document(metadata={'producer': 'PDFKit.NET 12.3.320.0 DMV10', 'creator': 'PyPDF', 'creationdate': '2025-05-21T01:17:06-07:00', 'moddate': '2025-05-21T01:17:06-07:00', 'source': 'BTSA-FTE Offer Letter.pdf', 'total_pages': 8, 'page': 0, 'page_label': '1'}, page_content='Docusign Envelope ID: A63035C4-D3FB-44B0-B839-5B660260D5BD'),\n",
              " Document(metadata={'producer': 'PDFKit.NET 12.3.320.0 DMV10', 'creator': 'PyPDF', 'creationdate': '2025-05-21T01:17:06-07:00', 'moddate': '2025-05-21T01:17:06-07:00', 'source': 'BTSA-FTE Offer Letter.pdf', 'total_pages': 8, 'page': 1, 'page_label': '2'}, page_content='Emerging Leader Reward Program (ELRP): The expertise you gain over your tenure is \\nvaluable to ZS and we recognize your continued commitment and progression towards \\nbecoming a future leader in the firm. ZS rewards this expertise through a tenure-based \\nincentive of total INR 9 lacs, which begins after 12 months’ tenure and is paid at every one-\\nyear milestone till 48 months of your tenure with ZS India. Should your employment with'),\n",
              " Document(metadata={'producer': 'PDFKit.NET 12.3.320.0 DMV10', 'creator': 'PyPDF', 'creationdate': '2025-05-21T01:17:06-07:00', 'moddate': '2025-05-21T01:17:06-07:00', 'source': 'BTSA-FTE Offer Letter.pdf', 'total_pages': 8, 'page': 1, 'page_label': '2'}, page_content='ZS terminate (other than a dismissal by ZS without cause), and  if you don’t complete 8 \\nmonths of continuous full-time employment with ZS from the time of your ELRP pay-out, \\nthen you will be expected to return the pay-out of ELRP in its entirety.\\nAll bonuses are determined at the discretion of ZS, and are subject to standard \\nwithholding taxes.\\n  \\nProvident Fund: When you begin employment with ZS, you will be enrolled in the Provident'),\n",
              " Document(metadata={'producer': 'PDFKit.NET 12.3.320.0 DMV10', 'creator': 'PyPDF', 'creationdate': '2025-05-21T01:17:06-07:00', 'moddate': '2025-05-21T01:17:06-07:00', 'source': 'BTSA-FTE Offer Letter.pdf', 'total_pages': 8, 'page': 1, 'page_label': '2'}, page_content='Fund program. The primary objective of this program is to provide retirement and pension \\nsupport as per the Provident Fund Act, while reducing current tax exposure. As a \\nparticipant, you will make 12% contributions on the first INR ₹15,000 of your monthly \\nsalary through payroll deduction; ZS makes a separate additional matching contribution to \\nyour account. You can opt for additional contributions to your Fund account through \\npayroll deduction.'),\n",
              " Document(metadata={'producer': 'PDFKit.NET 12.3.320.0 DMV10', 'creator': 'PyPDF', 'creationdate': '2025-05-21T01:17:06-07:00', 'moddate': '2025-05-21T01:17:06-07:00', 'source': 'BTSA-FTE Offer Letter.pdf', 'total_pages': 8, 'page': 1, 'page_label': '2'}, page_content='payroll deduction.\\n \\nGratuity: After you complete five years of continuous service, ZS will pay 15 days’ salary \\nfor every completed year of service at the time of retirement or separation. The maximum \\namount payable is governed by the Gratuity Law.\\n \\nIn addition to components of the offer detailing direct compensation described above, this \\noffer also includes elements describing non-cash benefits of employment with ZS. You will'),\n",
              " Document(metadata={'producer': 'PDFKit.NET 12.3.320.0 DMV10', 'creator': 'PyPDF', 'creationdate': '2025-05-21T01:17:06-07:00', 'moddate': '2025-05-21T01:17:06-07:00', 'source': 'BTSA-FTE Offer Letter.pdf', 'total_pages': 8, 'page': 1, 'page_label': '2'}, page_content='be eligible for all of the following benefits as of your start date with ZS. Benefits described \\nare subject to taxes based on the prevailing government guidelines.\\n \\nAnnual Leave, Holidays and Sick Time: We provide 25 days of paid annual leave per year, \\ninclusive of privilege and casual leave, on a pro-rata basis. In addition, ZS has designated \\npaid holidays and permits up to seven paid sick days per year on a pro rata basis.'),\n",
              " Document(metadata={'producer': 'PDFKit.NET 12.3.320.0 DMV10', 'creator': 'PyPDF', 'creationdate': '2025-05-21T01:17:06-07:00', 'moddate': '2025-05-21T01:17:06-07:00', 'source': 'BTSA-FTE Offer Letter.pdf', 'total_pages': 8, 'page': 1, 'page_label': '2'}, page_content='Insurance: We offer a group insurance plan to cover hospitalization expenses for \\nemployees and immediate dependents may also be added as per the existing insurance \\nprogram guidelines. Additionally, ZS provides some preventive healthcare coverage \\n(Health Check-Up, OPD (Outpatient Department) coverage, mental well-being and care, \\netc.). ZS provides accident insurance and business travel insurance for employees. ZS \\nalso provides life insurance coverage in the amount of three times your annual gross'),\n",
              " Document(metadata={'producer': 'PDFKit.NET 12.3.320.0 DMV10', 'creator': 'PyPDF', 'creationdate': '2025-05-21T01:17:06-07:00', 'moddate': '2025-05-21T01:17:06-07:00', 'source': 'BTSA-FTE Offer Letter.pdf', 'total_pages': 8, 'page': 1, 'page_label': '2'}, page_content='salary, with ZS paying these premiums in full.\\n \\nTransportation and Meal: ZS will provide a transportation allowance of INR 12,000 \\nmonthly for you to arrange your own transport to/from the office. This allowance of INR \\n12000 shall be granted, in full, if your office presence is 12 or more days in a month, \\notherwise it shall be granted on pro-rata basis based on the actual number of your office \\npresence. Additionally, a meal allowance of INR 5,500 will be disbursed monthly via payroll,'),\n",
              " Document(metadata={'producer': 'PDFKit.NET 12.3.320.0 DMV10', 'creator': 'PyPDF', 'creationdate': '2025-05-21T01:17:06-07:00', 'moddate': '2025-05-21T01:17:06-07:00', 'source': 'BTSA-FTE Offer Letter.pdf', 'total_pages': 8, 'page': 1, 'page_label': '2'}, page_content='in lieu of in-office dining services. The transportation and meal allowances are considered \\nas taxable income.\\nDocusign Envelope ID: A63035C4-D3FB-44B0-B839-5B660260D5BD'),\n",
              " Document(metadata={'producer': 'PDFKit.NET 12.3.320.0 DMV10', 'creator': 'PyPDF', 'creationdate': '2025-05-21T01:17:06-07:00', 'moddate': '2025-05-21T01:17:06-07:00', 'source': 'BTSA-FTE Offer Letter.pdf', 'total_pages': 8, 'page': 2, 'page_label': '3'}, page_content=\"Broadband access: ZS will provide a broadband allowance of INR ₹1,500 per month \\nthrough payroll. We will also reimburse a one-time ‘installation charge' of INR ₹500 against \\nthe receipt from your broadband service provider. We expect that you install a high-speed \\nbroadband connection at home to enable you to work remotely for project demands, and \\nrecommend at least a 2.0 MBPS wired connection. ZS retains the right to conduct random \\naudits to ensure appropriate use of the allowance.\"),\n",
              " Document(metadata={'producer': 'PDFKit.NET 12.3.320.0 DMV10', 'creator': 'PyPDF', 'creationdate': '2025-05-21T01:17:06-07:00', 'moddate': '2025-05-21T01:17:06-07:00', 'source': 'BTSA-FTE Offer Letter.pdf', 'total_pages': 8, 'page': 2, 'page_label': '3'}, page_content='Finally, the following elements of your offer relate to logistics: getting you to ZS and \\ngetting you started.\\nRelocation: We will provide relocation assistance to support your move closer to your ZS \\noffice. If you are relocating from another city to Bangalore, ZS provides the following \\nsupport:\\noYou have to arrange train/air tickets from your college/home location to your ZS \\noffice location at your expense and share the tickets with Gaurav Asolkar'),\n",
              " Document(metadata={'producer': 'PDFKit.NET 12.3.320.0 DMV10', 'creator': 'PyPDF', 'creationdate': '2025-05-21T01:17:06-07:00', 'moddate': '2025-05-21T01:17:06-07:00', 'source': 'BTSA-FTE Offer Letter.pdf', 'total_pages': 8, 'page': 2, 'page_label': '3'}, page_content='(gaurav.asolkar@zs.com) which will enable him to book your accommodation if \\nrequired.\\noUpon your arrival, ZS will provide up to 2 weeks (14 days) of temporary guest house \\naccommodation on a twin sharing basis. ZS will direct pay the guest house \\naccommodation.\\noZS will provide a onetime relocation allowance of INR₹75,000.00 through the second \\nmonth’s payroll. If you do not complete one full year (12 months) of continuous full-'),\n",
              " Document(metadata={'producer': 'PDFKit.NET 12.3.320.0 DMV10', 'creator': 'PyPDF', 'creationdate': '2025-05-21T01:17:06-07:00', 'moddate': '2025-05-21T01:17:06-07:00', 'source': 'BTSA-FTE Offer Letter.pdf', 'total_pages': 8, 'page': 2, 'page_label': '3'}, page_content='time employment with ZS, then you agree to refund the relocation allowance and the \\nexpenses incurred for the accommodation and travel entirely. The relocation \\nallowance is considered taxable income.\\nNotice Period: ZS expects that experienced hires serve out their notice period with their \\ncurrent employer; however, ZS may opt to buy-out your notice period. If you do not start \\nemployment with ZS or do not complete one full year (12 months) of continuous full-time'),\n",
              " Document(metadata={'producer': 'PDFKit.NET 12.3.320.0 DMV10', 'creator': 'PyPDF', 'creationdate': '2025-05-21T01:17:06-07:00', 'moddate': '2025-05-21T01:17:06-07:00', 'source': 'BTSA-FTE Offer Letter.pdf', 'total_pages': 8, 'page': 2, 'page_label': '3'}, page_content='employment with ZS immediately after that point for any reason (except for involuntary \\ntermination of your employment by ZS), then you agree to repay to ZS any buyout amount \\nin its entirety.\\n \\nConfidentiality and Employment Agreement: Our work at ZS often involves the use of \\nconfidential information of our clients, as well as the development and use of ZS \\nproprietary software and processes. For you to start employment with ZS, you will be'),\n",
              " Document(metadata={'producer': 'PDFKit.NET 12.3.320.0 DMV10', 'creator': 'PyPDF', 'creationdate': '2025-05-21T01:17:06-07:00', 'moddate': '2025-05-21T01:17:06-07:00', 'source': 'BTSA-FTE Offer Letter.pdf', 'total_pages': 8, 'page': 2, 'page_label': '3'}, page_content='required to sign the employment agreement. If you have questions regarding this \\nagreement, please do not hesitate to ask.\\n \\nZStart and Orientation: New associates who begin employment between ZStart sessions \\nparticipate in an office-based Orientation program to gain a basic understanding of ZS \\nculture and work. The ZStart Academy program, held several times per year is designed to \\nprovide a deeper view of the issues you will solve and the skills you will develop at ZS.'),\n",
              " Document(metadata={'producer': 'PDFKit.NET 12.3.320.0 DMV10', 'creator': 'PyPDF', 'creationdate': '2025-05-21T01:17:06-07:00', 'moddate': '2025-05-21T01:17:06-07:00', 'source': 'BTSA-FTE Offer Letter.pdf', 'total_pages': 8, 'page': 2, 'page_label': '3'}, page_content='Both session provide an excellent opportunity to get to know other new ZS associates.\\n \\nDocusign Envelope ID: A63035C4-D3FB-44B0-B839-5B660260D5BD'),\n",
              " Document(metadata={'producer': 'PDFKit.NET 12.3.320.0 DMV10', 'creator': 'PyPDF', 'creationdate': '2025-05-21T01:17:06-07:00', 'moddate': '2025-05-21T01:17:06-07:00', 'source': 'BTSA-FTE Offer Letter.pdf', 'total_pages': 8, 'page': 3, 'page_label': '4'}, page_content='Start Date and Formalities: We propose a start date of June 2, 2025, contingent on your \\ncurrent employment arrangement. Please ensure that you report for work on the date \\nindicated.\\n \\nThis offer is subject to verification of original certificates of educational qualifications and \\nother documents listed below. At the time of joining, you are required to bring the \\nfollowing:\\noOriginal certificates of all educational qualifications, each with a scanned copy\\noAadhar Card'),\n",
              " Document(metadata={'producer': 'PDFKit.NET 12.3.320.0 DMV10', 'creator': 'PyPDF', 'creationdate': '2025-05-21T01:17:06-07:00', 'moddate': '2025-05-21T01:17:06-07:00', 'source': 'BTSA-FTE Offer Letter.pdf', 'total_pages': 8, 'page': 3, 'page_label': '4'}, page_content='oAadhar Card\\noProof of age (Pan Card or Passport scanned copy)\\noRelieving letter scanned copy (if employed)\\noScanned copy of the latest salary slip from your current employer (if employed)\\noTwo passport-size photographs \\nWe are pleased by the prospect of you starting your ZS career in this position. If you \\ndecide to accept this offer, please sign this letter electronically through DocuSign to return \\nit to us. Should you decide not to accept, please decline through DocuSign so that your \\noffer is closed.'),\n",
              " Document(metadata={'producer': 'PDFKit.NET 12.3.320.0 DMV10', 'creator': 'PyPDF', 'creationdate': '2025-05-21T01:17:06-07:00', 'moddate': '2025-05-21T01:17:06-07:00', 'source': 'BTSA-FTE Offer Letter.pdf', 'total_pages': 8, 'page': 3, 'page_label': '4'}, page_content='offer is closed. \\n \\nPlease know that we would like to hear from you regarding your decision as soon as \\npossible. We will consider this offer to be valid until May 23, 2025.\\nThe elements of this offer are personal and specific to you and, accordingly, we do not \\nconsider them appropriate to be shared with colleagues or the public. All details conveyed \\nin this offer are based on our understanding of your expected completion of degree'),\n",
              " Document(metadata={'producer': 'PDFKit.NET 12.3.320.0 DMV10', 'creator': 'PyPDF', 'creationdate': '2025-05-21T01:17:06-07:00', 'moddate': '2025-05-21T01:17:06-07:00', 'source': 'BTSA-FTE Offer Letter.pdf', 'total_pages': 8, 'page': 3, 'page_label': '4'}, page_content='program, availability and likely start timing. We describe benefits and conditions currently \\nin force as of today and expected to be ongoing at the time you join. This offer is \\ncontingent upon successful completion of a background verification. If you have any \\nquestions about any of the elements of this offer, or would like to discuss the job further, \\nplease do not hesitate to contact me.\\n \\nWe look forward to you joining ZS and helping ZS (and you!) continue to grow and prosper \\nin the future!'),\n",
              " Document(metadata={'producer': 'PDFKit.NET 12.3.320.0 DMV10', 'creator': 'PyPDF', 'creationdate': '2025-05-21T01:17:06-07:00', 'moddate': '2025-05-21T01:17:06-07:00', 'source': 'BTSA-FTE Offer Letter.pdf', 'total_pages': 8, 'page': 3, 'page_label': '4'}, page_content='in the future!\\n \\nSincerely,\\n \\nManish Menon\\nOffice Managing Principal\\n \\nSignature:  ${esignature.signature}\\n       \\nName as it appears on PAN card or passport: ${esignature.initial}\\n \\nDate Signed:  ${esignature.date}\\nDocusign Envelope ID: A63035C4-D3FB-44B0-B839-5B660260D5BD'),\n",
              " Document(metadata={'producer': 'PDFKit.NET 12.3.320.0 DMV10', 'creator': 'PyPDF', 'creationdate': '2025-05-21T01:17:06-07:00', 'moddate': '2025-05-21T01:17:06-07:00', 'source': 'BTSA-FTE Offer Letter.pdf', 'total_pages': 8, 'page': 4, 'page_label': '5'}, page_content='APPENDIX 1 \\nSalary Break up Details\\nZS Associates India Pvt. Ltd.\\n              Annual INR\\nZS Gross   8,50,000\\nBasic  3,40,000\\nHRA  1,36,000\\nLTA 28,333\\nSpecial Allowance  3,45,667\\nPerformance Bonus 85,000\\nMaximum 10% of ZS gross salary; pay-out at the end of \\ncalendar year, depending on individual performance  \\nCash Benefit 84,000\\nBroadband Allowance (ZS will provide a broadband \\nallowance of INR 1,500 per month, through payroll) 18,000\\nMeal Allowance (ZS will provide a meal allowance of INR'),\n",
              " Document(metadata={'producer': 'PDFKit.NET 12.3.320.0 DMV10', 'creator': 'PyPDF', 'creationdate': '2025-05-21T01:17:06-07:00', 'moddate': '2025-05-21T01:17:06-07:00', 'source': 'BTSA-FTE Offer Letter.pdf', 'total_pages': 8, 'page': 4, 'page_label': '5'}, page_content=\"5500 per month, through payroll) 66,000\\nRetirals 16,000\\nGratuity - payable on completing 5 years of continuous \\nservice with ZS India Private Limited as per the Payment of \\nGratuity Act 1972 (first year's provision)\\n \\nProvident Fund 21,600\\nEmployer's contribution to Provident Fund  \\nOne time Starting Bonus 100,000\\n  \\n*ELRP Payout in 1st year (details of the program are \\nmentioned in the table below) 150,000\\nFirst Year Earning Potential 1,290,600\\nDocusign Envelope ID: A63035C4-D3FB-44B0-B839-5B660260D5BD\"),\n",
              " Document(metadata={'producer': 'PDFKit.NET 12.3.320.0 DMV10', 'creator': 'PyPDF', 'creationdate': '2025-05-21T01:17:06-07:00', 'moddate': '2025-05-21T01:17:06-07:00', 'source': 'BTSA-FTE Offer Letter.pdf', 'total_pages': 8, 'page': 5, 'page_label': '6'}, page_content='Docusign Envelope ID: A63035C4-D3FB-44B0-B839-5B660260D5BD'),\n",
              " Document(metadata={'producer': 'PDFKit.NET 12.3.320.0 DMV10', 'creator': 'PyPDF', 'creationdate': '2025-05-21T01:17:06-07:00', 'moddate': '2025-05-21T01:17:06-07:00', 'source': 'BTSA-FTE Offer Letter.pdf', 'total_pages': 8, 'page': 6, 'page_label': '7'}, page_content='Benefit Details\\n \\n \\nConvenience Benefits:\\n \\noAdvance toward Home Deposit: An interest-free advance up to INR ₹75,000 against \\nlease agreement, recovered over a period of 06 months through payroll.\\n \\nHealth and Wellness Benefits:\\n \\noGroup Medical Insurance: A Sum Assured of INR ₹4,00,000 for Associates, \\nAssociate Consultants, Consultants and Managers and INR ₹5,00,000 for Associate \\nPrincipals and Principals. Employee can nominate up to five immediate dependent \\nfamily members.'),\n",
              " Document(metadata={'producer': 'PDFKit.NET 12.3.320.0 DMV10', 'creator': 'PyPDF', 'creationdate': '2025-05-21T01:17:06-07:00', 'moddate': '2025-05-21T01:17:06-07:00', 'source': 'BTSA-FTE Offer Letter.pdf', 'total_pages': 8, 'page': 6, 'page_label': '7'}, page_content='family members.\\noLife Insurance Coverage: 3 times your annual gross salary\\noAccident Policy: A Sum Assured of INR ₹10,00,000\\noOutPatient Department (OPD) expense coverage: INR ₹5000 annually\\noAnnual Health Check Reimbursement for self and spouse: INR ₹5000 in total \\nannually.\\noLeaves: 25 days of vacation per calendar year and up to 7 days of sick leave on pro-\\nrata basis\\noDay care reimbursement (for women ZSers): INR ₹7000 monthly, for children aged'),\n",
              " Document(metadata={'producer': 'PDFKit.NET 12.3.320.0 DMV10', 'creator': 'PyPDF', 'creationdate': '2025-05-21T01:17:06-07:00', 'moddate': '2025-05-21T01:17:06-07:00', 'source': 'BTSA-FTE Offer Letter.pdf', 'total_pages': 8, 'page': 6, 'page_label': '7'}, page_content='0-12months and INR ₹4000 monthly, for children aged 13months to 4 years.\\nDocusign Envelope ID: A63035C4-D3FB-44B0-B839-5B660260D5BD'),\n",
              " Document(metadata={'producer': 'PDFKit.NET 12.3.320.0 DMV10', 'creator': 'PyPDF', 'creationdate': '2025-05-21T01:17:06-07:00', 'moddate': '2025-05-21T01:17:06-07:00', 'source': 'BTSA-FTE Offer Letter.pdf', 'total_pages': 8, 'page': 7, 'page_label': '8'}, page_content='Docusign Envelope ID: A63035C4-D3FB-44B0-B839-5B660260D5BD')]"
            ]
          },
          "execution_count": 13,
          "metadata": {},
          "output_type": "execute_result"
        }
      ],
      "source": [
        "document_chunks"
      ]
    },
    {
      "cell_type": "markdown",
      "metadata": {
        "id": "ELkC9PrSmK7d"
      },
      "source": [
        "##Initializing a Large Language Model (LLM) and Graph Transformer instance"
      ]
    },
    {
      "cell_type": "code",
      "execution_count": null,
      "metadata": {
        "id": "09E1Hro31Et9"
      },
      "outputs": [],
      "source": [
        "from langchain_groq import ChatGroq\n",
        "\n",
        "llm = ChatGroq(\n",
        "            model_name=model_name,\n",
        "            temperature=temperature,\n",
        "            max_tokens=None,\n",
        "            groq_api_key=os.environ[\"GROQ_API_KEY\"],\n",
        "            timeout=60\n",
        "        )"
      ]
    },
    {
      "cell_type": "code",
      "execution_count": null,
      "metadata": {
        "id": "1rbZJRwh2u9m"
      },
      "outputs": [],
      "source": [
        "# Import the LLMGraphTransformer for converting text into a structured graph\n",
        "from langchain_experimental.graph_transformers import LLMGraphTransformer\n",
        "\n",
        "# Initialize the Graph Transformer with a Large Language Model (LLM)\n",
        "llm_transformer = LLMGraphTransformer(llm=llm)\n",
        "\n",
        "# Convert a list of textual documents into a structured graph representation\n",
        "graph_documents = llm_transformer.convert_to_graph_documents(document_chunks)\n",
        "\n",
        "# The output 'graph_documents' contains entities (nodes) and their relationships (edges),\n",
        "# which can be used for knowledge graph construction, search, and reasoning.\n"
      ]
    },
    {
      "cell_type": "code",
      "execution_count": null,
      "metadata": {
        "colab": {
          "base_uri": "https://localhost:8080/"
        },
        "id": "r9QRPGMF3NHE",
        "outputId": "1852fa28-264e-4aec-fc6d-567fdbebd238"
      },
      "outputs": [
        {
          "data": {
            "text/plain": [
              "[GraphDocument(nodes=[Node(id='Subhadip De', type='Person', properties={}), Node(id='Zs Associates India Private Ltd.', type='Organization', properties={}), Node(id='Business Technology Solutions Associate', type='Role', properties={}), Node(id='Bengaluru', type='Location', properties={}), Node(id='June 2, 2025', type='Date', properties={})], relationships=[Relationship(source=Node(id='Zs Associates India Private Ltd.', type='Organization', properties={}), target=Node(id='Subhadip De', type='Person', properties={}), type='OFFERED_TO', properties={}), Relationship(source=Node(id='Zs Associates India Private Ltd.', type='Organization', properties={}), target=Node(id='Business Technology Solutions Associate', type='Role', properties={}), type='OFFERS', properties={}), Relationship(source=Node(id='Business Technology Solutions Associate', type='Role', properties={}), target=Node(id='Bengaluru', type='Location', properties={}), type='BASED_IN', properties={}), Relationship(source=Node(id='Business Technology Solutions Associate', type='Role', properties={}), target=Node(id='June 2, 2025', type='Date', properties={}), type='START_DATE', properties={})], source=Document(metadata={'producer': 'PDFKit.NET 12.3.320.0 DMV10', 'creator': 'PyPDF', 'creationdate': '2025-05-21T01:17:06-07:00', 'moddate': '2025-05-21T01:17:06-07:00', 'source': 'BTSA-FTE Offer Letter.pdf', 'total_pages': 8, 'page': 0, 'page_label': '1'}, page_content='May 21, 2025\\n \\nCONFIDENTIAL\\n \\nSubhadip De\\nAdhikari Ghosh Road, Hatthuba, PO :- Habra\\nDistrict - North 24 Parganas\\nHabra, West Bengal 743263\\nDear Subhadip:\\nWe are pleased to extend you an offer to join ZS Associates India Private Ltd. (‘ZS’) as a\\nBusiness Technology Solutions Associate , to be based in our Bengaluru office with a start \\ndate of June 2, 2025 . We hope that you give this opportunity with ZS serious \\nconsideration.')),\n",
              " GraphDocument(nodes=[Node(id='Zs', type='Company', properties={}), Node(id='Collaboration', type='Concept', properties={}), Node(id='Innovation', type='Concept', properties={}), Node(id='Intensity', type='Concept', properties={}), Node(id='Quality', type='Concept', properties={}), Node(id='Client-First Approach', type='Concept', properties={}), Node(id='Annual Gross Salary', type='Monetary value', properties={}), Node(id='Monthly Payment Schedule', type='Schedule', properties={}), Node(id='Associates', type='Group', properties={})], relationships=[Relationship(source=Node(id='Zs', type='Company', properties={}), target=Node(id='Collaboration', type='Concept', properties={}), type='EMPHASIZES', properties={}), Relationship(source=Node(id='Zs', type='Company', properties={}), target=Node(id='Innovation', type='Concept', properties={}), type='EMPHASIZES', properties={}), Relationship(source=Node(id='Zs', type='Company', properties={}), target=Node(id='Intensity', type='Concept', properties={}), type='EMPHASIZES', properties={}), Relationship(source=Node(id='Zs', type='Company', properties={}), target=Node(id='Quality', type='Concept', properties={}), type='EMPHASIZES', properties={}), Relationship(source=Node(id='Zs', type='Company', properties={}), target=Node(id='Client-First Approach', type='Concept', properties={}), type='FOLLOWS', properties={}), Relationship(source=Node(id='Zs', type='Company', properties={}), target=Node(id='Annual Gross Salary', type='Monetary value', properties={}), type='PROVIDES', properties={}), Relationship(source=Node(id='Zs', type='Company', properties={}), target=Node(id='Monthly Payment Schedule', type='Schedule', properties={}), type='FOLLOWS', properties={}), Relationship(source=Node(id='Zs', type='Company', properties={}), target=Node(id='Associates', type='Group', properties={}), type='EMPLOYS', properties={})], source=Document(metadata={'producer': 'PDFKit.NET 12.3.320.0 DMV10', 'creator': 'PyPDF', 'creationdate': '2025-05-21T01:17:06-07:00', 'moddate': '2025-05-21T01:17:06-07:00', 'source': 'BTSA-FTE Offer Letter.pdf', 'total_pages': 8, 'page': 0, 'page_label': '1'}, page_content='consideration.\\n \\nZS has a special culture of collaboration and innovation and intensity. We produce work of \\noutstanding quality and are proud of the client-first approach we bring to every \\nengagement. ZSers bring passion to make an impact, commitment to continuous learning, \\nself-improvement and expertise to achieve that result.\\nSalary: Your annual gross salary will be INR ₹850,000.00/Annually, inclusive of basic and \\nfixed allowances; all associates are paid on the last working day of every month. ZS')),\n",
              " GraphDocument(nodes=[Node(id='Zs', type='Organization', properties={}), Node(id='Salary Review', type='Process', properties={}), Node(id='June', type='Month', properties={}), Node(id='July 1St', type='Date', properties={}), Node(id='March 31', type='Date', properties={}), Node(id='Employment Tenure', type='Concept', properties={}), Node(id='12 Months', type='Duration', properties={}), Node(id='Appendix 1', type='Document', properties={}), Node(id='Starting Bonus', type='Concept', properties={}), Node(id='Inr ₹100,000.00', type='Monetary value', properties={}), Node(id=\"Second Month'S Payroll\", type='Concept', properties={}), Node(id='Full-Time Active Permanent Employment', type='Concept', properties={})], relationships=[Relationship(source=Node(id='Zs', type='Organization', properties={}), target=Node(id='Salary Review', type='Process', properties={}), type='CONDUCTS', properties={}), Relationship(source=Node(id='Salary Review', type='Process', properties={}), target=Node(id='June', type='Month', properties={}), type='OCCURS_IN', properties={}), Relationship(source=Node(id='Salary Review', type='Process', properties={}), target=Node(id='July 1St', type='Date', properties={}), type='EFFECTIVE_FROM', properties={}), Relationship(source=Node(id='Salary Review', type='Process', properties={}), target=Node(id='March 31', type='Date', properties={}), type='REQUIRES_EMPLOYMENT_BY', properties={}), Relationship(source=Node(id='Salary Review', type='Process', properties={}), target=Node(id='Employment Tenure', type='Concept', properties={}), type='PRO_RATED_BASED_ON', properties={}), Relationship(source=Node(id='Employment Tenure', type='Concept', properties={}), target=Node(id='12 Months', type='Duration', properties={}), type='LESS_THAN', properties={}), Relationship(source=Node(id='Salary Details', type='Concept', properties={}), target=Node(id='Appendix 1', type='Document', properties={}), type='REFER_TO', properties={}), Relationship(source=Node(id='Zs', type='Organization', properties={}), target=Node(id='Starting Bonus', type='Concept', properties={}), type='PAYS', properties={}), Relationship(source=Node(id='Starting Bonus', type='Concept', properties={}), target=Node(id='Inr ₹100,000.00', type='Monetary value', properties={}), type='AMOUNT', properties={}), Relationship(source=Node(id='Starting Bonus', type='Concept', properties={}), target=Node(id=\"Second Month'S Payroll\", type='Concept', properties={}), type='PAID_IN', properties={}), Relationship(source=Node(id='Starting Bonus', type='Concept', properties={}), target=Node(id='Full-Time Active Permanent Employment', type='Concept', properties={}), type='REQUIRES', properties={}), Relationship(source=Node(id='Full-Time Active Permanent Employment', type='Concept', properties={}), target=Node(id='12 Months', type='Duration', properties={}), type='REQUIRES_COMPLETION_OF', properties={})], source=Document(metadata={'producer': 'PDFKit.NET 12.3.320.0 DMV10', 'creator': 'PyPDF', 'creationdate': '2025-05-21T01:17:06-07:00', 'moddate': '2025-05-21T01:17:06-07:00', 'source': 'BTSA-FTE Offer Letter.pdf', 'total_pages': 8, 'page': 0, 'page_label': '1'}, page_content=\"reviews salaries each June, which is effective 1st July, provided you were employed at ZS \\nby March 31 in that year; the raise is pro-rated if your employment tenure is fewer than 12 \\nmonths. For salary details, please refer to Appendix 1.\\nStarting Bonus: When you start full-time active, permanent employment with ZS, we will \\npay you a starting bonus INR ₹100,000.00 in your second month's payroll,\\nHowever, if you do not then complete one full year (12 months) of continuous full-time\")),\n",
              " GraphDocument(nodes=[Node(id='Zs', type='Organization', properties={}), Node(id='Starting Bonus', type='Bonus', properties={}), Node(id='Performance Bonus', type='Bonus', properties={})], relationships=[Relationship(source=Node(id='Zs', type='Organization', properties={}), target=Node(id='Starting Bonus', type='Bonus', properties={}), type='PROVIDES', properties={}), Relationship(source=Node(id='Zs', type='Organization', properties={}), target=Node(id='Performance Bonus', type='Bonus', properties={}), type='PROVIDES', properties={})], source=Document(metadata={'producer': 'PDFKit.NET 12.3.320.0 DMV10', 'creator': 'PyPDF', 'creationdate': '2025-05-21T01:17:06-07:00', 'moddate': '2025-05-21T01:17:06-07:00', 'source': 'BTSA-FTE Offer Letter.pdf', 'total_pages': 8, 'page': 0, 'page_label': '1'}, page_content=\"employment with ZS immediately after that point for any reason (except for involuntary \\ntermination of your employment by ZS), then you agree to refund the starting bonus in its \\nentirety.\\nPerformance Bonus: ZS associates receive performance bonuses at the end of each year, \\nbased on your performance and the firm's results. This bonus may be up to 10% of your \\neligible wages earned during the calendar year. Bonuses are determined at the discretion \\nof ZS and are subject to standard withholding taxes.\")),\n",
              " GraphDocument(nodes=[Node(id='Docusign Envelope Id', type='Document id', properties={})], relationships=[], source=Document(metadata={'producer': 'PDFKit.NET 12.3.320.0 DMV10', 'creator': 'PyPDF', 'creationdate': '2025-05-21T01:17:06-07:00', 'moddate': '2025-05-21T01:17:06-07:00', 'source': 'BTSA-FTE Offer Letter.pdf', 'total_pages': 8, 'page': 0, 'page_label': '1'}, page_content='Docusign Envelope ID: A63035C4-D3FB-44B0-B839-5B660260D5BD')),\n",
              " GraphDocument(nodes=[Node(id='Emerging Leader Reward Program (Elrp)', type='Program', properties={}), Node(id='Zs', type='Company', properties={}), Node(id='Expertise', type='Concept', properties={}), Node(id='Inr 9 Lacs', type='Monetaryvalue', properties={}), Node(id='12 Months', type='Timeperiod', properties={}), Node(id='48 Months', type='Timeperiod', properties={})], relationships=[Relationship(source=Node(id='Emerging Leader Reward Program (Elrp)', type='Program', properties={}), target=Node(id='Expertise', type='Concept', properties={}), type='RECOGNIZES', properties={}), Relationship(source=Node(id='Zs', type='Company', properties={}), target=Node(id='Emerging Leader Reward Program (Elrp)', type='Program', properties={}), type='PROVIDES', properties={}), Relationship(source=Node(id='Emerging Leader Reward Program (Elrp)', type='Program', properties={}), target=Node(id='Inr 9 Lacs', type='Monetaryvalue', properties={}), type='INCLUDES', properties={}), Relationship(source=Node(id='Inr 9 Lacs', type='Monetaryvalue', properties={}), target=Node(id='12 Months', type='Timeperiod', properties={}), type='PAID_AFTER', properties={}), Relationship(source=Node(id='Inr 9 Lacs', type='Monetaryvalue', properties={}), target=Node(id='48 Months', type='Timeperiod', properties={}), type='PAID_UNTIL', properties={})], source=Document(metadata={'producer': 'PDFKit.NET 12.3.320.0 DMV10', 'creator': 'PyPDF', 'creationdate': '2025-05-21T01:17:06-07:00', 'moddate': '2025-05-21T01:17:06-07:00', 'source': 'BTSA-FTE Offer Letter.pdf', 'total_pages': 8, 'page': 1, 'page_label': '2'}, page_content='Emerging Leader Reward Program (ELRP): The expertise you gain over your tenure is \\nvaluable to ZS and we recognize your continued commitment and progression towards \\nbecoming a future leader in the firm. ZS rewards this expertise through a tenure-based \\nincentive of total INR 9 lacs, which begins after 12 months’ tenure and is paid at every one-\\nyear milestone till 48 months of your tenure with ZS India. Should your employment with')),\n",
              " GraphDocument(nodes=[Node(id='Zs', type='Organization', properties={}), Node(id='Elrp', type='Program', properties={}), Node(id='Bonus', type='Bonus', properties={}), Node(id='Provident Fund', type='Fund', properties={}), Node(id='Employee', type='Person', properties={})], relationships=[Relationship(source=Node(id='Zs', type='Organization', properties={}), target=Node(id='Elrp', type='Program', properties={}), type='PROVIDES', properties={}), Relationship(source=Node(id='Zs', type='Organization', properties={}), target=Node(id='Employee', type='Person', properties={}), type='EMPLOYS', properties={}), Relationship(source=Node(id='Employee', type='Person', properties={}), target=Node(id='Zs', type='Organization', properties={}), type='EMPLOYED_BY', properties={}), Relationship(source=Node(id='Zs', type='Organization', properties={}), target=Node(id='Elrp', type='Program', properties={}), type='REQUIRES_RETURN_IF_NOT_EMPLOYED_CONTINUOUSLY_FOR_8_MONTHS', properties={}), Relationship(source=Node(id='Zs', type='Organization', properties={}), target=Node(id='Bonus', type='Bonus', properties={}), type='DETERMINES', properties={}), Relationship(source=Node(id='Zs', type='Organization', properties={}), target=Node(id='Provident Fund', type='Fund', properties={}), type='ENROLLS_IN', properties={})], source=Document(metadata={'producer': 'PDFKit.NET 12.3.320.0 DMV10', 'creator': 'PyPDF', 'creationdate': '2025-05-21T01:17:06-07:00', 'moddate': '2025-05-21T01:17:06-07:00', 'source': 'BTSA-FTE Offer Letter.pdf', 'total_pages': 8, 'page': 1, 'page_label': '2'}, page_content='ZS terminate (other than a dismissal by ZS without cause), and  if you don’t complete 8 \\nmonths of continuous full-time employment with ZS from the time of your ELRP pay-out, \\nthen you will be expected to return the pay-out of ELRP in its entirety.\\nAll bonuses are determined at the discretion of ZS, and are subject to standard \\nwithholding taxes.\\n  \\nProvident Fund: When you begin employment with ZS, you will be enrolled in the Provident')),\n",
              " GraphDocument(nodes=[Node(id='Fund Program', type='Program', properties={}), Node(id='Primary Objective', type='Objective', properties={}), Node(id='Participant', type='Person', properties={}), Node(id='Contribution Details', type='Contribution details', properties={}), Node(id='Zs', type='Organization', properties={}), Node(id='Additional Contributions', type='Contribution', properties={})], relationships=[Relationship(source=Node(id='Fund Program', type='Program', properties={}), target=Node(id='Primary Objective', type='Objective', properties={}), type='PRIMARY_OBJECTIVE', properties={}), Relationship(source=Node(id='Fund Program', type='Program', properties={}), target=Node(id='Contribution Details', type='Contribution details', properties={}), type='CONTRIBUTES', properties={}), Relationship(source=Node(id='Participant', type='Person', properties={}), target=Node(id='Contribution Details', type='Contribution details', properties={}), type='CONTRIBUTES', properties={}), Relationship(source=Node(id='Zs', type='Organization', properties={}), target=Node(id='Contribution Details', type='Contribution details', properties={}), type='CONTRIBUTES', properties={}), Relationship(source=Node(id='Fund Program', type='Program', properties={}), target=Node(id='Additional Contributions', type='Contribution', properties={}), type='ALLOWS', properties={}), Relationship(source=Node(id='Participant', type='Person', properties={}), target=Node(id='Additional Contributions', type='Contribution', properties={}), type='CONTRIBUTES', properties={})], source=Document(metadata={'producer': 'PDFKit.NET 12.3.320.0 DMV10', 'creator': 'PyPDF', 'creationdate': '2025-05-21T01:17:06-07:00', 'moddate': '2025-05-21T01:17:06-07:00', 'source': 'BTSA-FTE Offer Letter.pdf', 'total_pages': 8, 'page': 1, 'page_label': '2'}, page_content='Fund program. The primary objective of this program is to provide retirement and pension \\nsupport as per the Provident Fund Act, while reducing current tax exposure. As a \\nparticipant, you will make 12% contributions on the first INR ₹15,000 of your monthly \\nsalary through payroll deduction; ZS makes a separate additional matching contribution to \\nyour account. You can opt for additional contributions to your Fund account through \\npayroll deduction.')),\n",
              " GraphDocument(nodes=[Node(id='Gratuity', type='Compensation', properties={}), Node(id='Zs', type='Organization', properties={}), Node(id='Gratuity Law', type='Law', properties={})], relationships=[Relationship(source=Node(id='Gratuity', type='Compensation', properties={}), target=Node(id='Zs', type='Organization', properties={}), type='PROVIDED_BY', properties={}), Relationship(source=Node(id='Gratuity', type='Compensation', properties={}), target=Node(id='Gratuity Law', type='Law', properties={}), type='GOVERNED_BY', properties={})], source=Document(metadata={'producer': 'PDFKit.NET 12.3.320.0 DMV10', 'creator': 'PyPDF', 'creationdate': '2025-05-21T01:17:06-07:00', 'moddate': '2025-05-21T01:17:06-07:00', 'source': 'BTSA-FTE Offer Letter.pdf', 'total_pages': 8, 'page': 1, 'page_label': '2'}, page_content='payroll deduction.\\n \\nGratuity: After you complete five years of continuous service, ZS will pay 15 days’ salary \\nfor every completed year of service at the time of retirement or separation. The maximum \\namount payable is governed by the Gratuity Law.\\n \\nIn addition to components of the offer detailing direct compensation described above, this \\noffer also includes elements describing non-cash benefits of employment with ZS. You will')),\n",
              " GraphDocument(nodes=[Node(id='Zs', type='Organization', properties={}), Node(id='Annual Leave', type='Benefit', properties={}), Node(id='Holidays', type='Benefit', properties={}), Node(id='Sick Time', type='Benefit', properties={}), Node(id='Annual Leave Details', type='Details', properties={}), Node(id='Sick Time Details', type='Details', properties={})], relationships=[Relationship(source=Node(id='Zs', type='Organization', properties={}), target=Node(id='Annual Leave', type='Benefit', properties={}), type='PROVIDES', properties={}), Relationship(source=Node(id='Zs', type='Organization', properties={}), target=Node(id='Holidays', type='Benefit', properties={}), type='PROVIDES', properties={}), Relationship(source=Node(id='Zs', type='Organization', properties={}), target=Node(id='Sick Time', type='Benefit', properties={}), type='PROVIDES', properties={}), Relationship(source=Node(id='Annual Leave', type='Benefit', properties={}), target=Node(id='Annual Leave Details', type='Details', properties={}), type='DETAILS', properties={}), Relationship(source=Node(id='Sick Time', type='Benefit', properties={}), target=Node(id='Sick Time Details', type='Details', properties={}), type='DETAILS', properties={})], source=Document(metadata={'producer': 'PDFKit.NET 12.3.320.0 DMV10', 'creator': 'PyPDF', 'creationdate': '2025-05-21T01:17:06-07:00', 'moddate': '2025-05-21T01:17:06-07:00', 'source': 'BTSA-FTE Offer Letter.pdf', 'total_pages': 8, 'page': 1, 'page_label': '2'}, page_content='be eligible for all of the following benefits as of your start date with ZS. Benefits described \\nare subject to taxes based on the prevailing government guidelines.\\n \\nAnnual Leave, Holidays and Sick Time: We provide 25 days of paid annual leave per year, \\ninclusive of privilege and casual leave, on a pro-rata basis. In addition, ZS has designated \\npaid holidays and permits up to seven paid sick days per year on a pro rata basis.')),\n",
              " GraphDocument(nodes=[Node(id='Zs', type='Company', properties={}), Node(id='Group Insurance Plan', type='Insurance plan', properties={}), Node(id='Preventive Healthcare Coverage', type='Insurance coverage', properties={}), Node(id='Accident Insurance', type='Insurance', properties={}), Node(id='Business Travel Insurance', type='Insurance', properties={}), Node(id='Life Insurance', type='Insurance', properties={}), Node(id='Hospitalization Expenses', type='Expense', properties={}), Node(id='Dependents', type='Person', properties={}), Node(id='Health Check-Up', type='Medical service', properties={}), Node(id='Opd Coverage', type='Medical service', properties={}), Node(id='Mental Well-Being And Care', type='Medical service', properties={})], relationships=[Relationship(source=Node(id='Zs', type='Company', properties={}), target=Node(id='Group Insurance Plan', type='Insurance plan', properties={}), type='OFFERS', properties={}), Relationship(source=Node(id='Group Insurance Plan', type='Insurance plan', properties={}), target=Node(id='Hospitalization Expenses', type='Expense', properties={}), type='COVERS', properties={}), Relationship(source=Node(id='Group Insurance Plan', type='Insurance plan', properties={}), target=Node(id='Dependents', type='Person', properties={}), type='COVERS', properties={}), Relationship(source=Node(id='Zs', type='Company', properties={}), target=Node(id='Preventive Healthcare Coverage', type='Insurance coverage', properties={}), type='OFFERS', properties={}), Relationship(source=Node(id='Preventive Healthcare Coverage', type='Insurance coverage', properties={}), target=Node(id='Health Check-Up', type='Medical service', properties={}), type='INCLUDES', properties={}), Relationship(source=Node(id='Preventive Healthcare Coverage', type='Insurance coverage', properties={}), target=Node(id='Opd Coverage', type='Medical service', properties={}), type='INCLUDES', properties={}), Relationship(source=Node(id='Preventive Healthcare Coverage', type='Insurance coverage', properties={}), target=Node(id='Mental Well-Being And Care', type='Medical service', properties={}), type='INCLUDES', properties={}), Relationship(source=Node(id='Zs', type='Company', properties={}), target=Node(id='Accident Insurance', type='Insurance', properties={}), type='OFFERS', properties={}), Relationship(source=Node(id='Zs', type='Company', properties={}), target=Node(id='Business Travel Insurance', type='Insurance', properties={}), type='OFFERS', properties={}), Relationship(source=Node(id='Zs', type='Company', properties={}), target=Node(id='Life Insurance', type='Insurance', properties={}), type='OFFERS', properties={}), Relationship(source=Node(id='Life Insurance', type='Insurance', properties={}), target=Node(id='Three Times Annual Gross Salary', type='Monetary value', properties={}), type='EQUALS', properties={})], source=Document(metadata={'producer': 'PDFKit.NET 12.3.320.0 DMV10', 'creator': 'PyPDF', 'creationdate': '2025-05-21T01:17:06-07:00', 'moddate': '2025-05-21T01:17:06-07:00', 'source': 'BTSA-FTE Offer Letter.pdf', 'total_pages': 8, 'page': 1, 'page_label': '2'}, page_content='Insurance: We offer a group insurance plan to cover hospitalization expenses for \\nemployees and immediate dependents may also be added as per the existing insurance \\nprogram guidelines. Additionally, ZS provides some preventive healthcare coverage \\n(Health Check-Up, OPD (Outpatient Department) coverage, mental well-being and care, \\netc.). ZS provides accident insurance and business travel insurance for employees. ZS \\nalso provides life insurance coverage in the amount of three times your annual gross')),\n",
              " GraphDocument(nodes=[Node(id='Zs', type='Company', properties={}), Node(id='Transportation Allowance', type='Allowance', properties={}), Node(id='Meal Allowance', type='Allowance', properties={}), Node(id='Office Presence', type='Condition', properties={})], relationships=[Relationship(source=Node(id='Zs', type='Company', properties={}), target=Node(id='Transportation Allowance', type='Allowance', properties={}), type='PROVIDES', properties={}), Relationship(source=Node(id='Zs', type='Company', properties={}), target=Node(id='Meal Allowance', type='Allowance', properties={}), type='PROVIDES', properties={}), Relationship(source=Node(id='Transportation Allowance', type='Allowance', properties={}), target=Node(id='Office Presence', type='Condition', properties={}), type='CONDITION', properties={})], source=Document(metadata={'producer': 'PDFKit.NET 12.3.320.0 DMV10', 'creator': 'PyPDF', 'creationdate': '2025-05-21T01:17:06-07:00', 'moddate': '2025-05-21T01:17:06-07:00', 'source': 'BTSA-FTE Offer Letter.pdf', 'total_pages': 8, 'page': 1, 'page_label': '2'}, page_content='salary, with ZS paying these premiums in full.\\n \\nTransportation and Meal: ZS will provide a transportation allowance of INR 12,000 \\nmonthly for you to arrange your own transport to/from the office. This allowance of INR \\n12000 shall be granted, in full, if your office presence is 12 or more days in a month, \\notherwise it shall be granted on pro-rata basis based on the actual number of your office \\npresence. Additionally, a meal allowance of INR 5,500 will be disbursed monthly via payroll,')),\n",
              " GraphDocument(nodes=[Node(id='Transportation And Meal Allowances', type='Allowance', properties={}), Node(id='Taxable Income', type='Income', properties={}), Node(id='A63035C4-D3Fb-44B0-B839-5B660260D5Bd', type='Document', properties={})], relationships=[Relationship(source=Node(id='Transportation And Meal Allowances', type='Allowance', properties={}), target=Node(id='Taxable Income', type='Income', properties={}), type='CONSIDERED', properties={}), Relationship(source=Node(id='A63035C4-D3Fb-44B0-B839-5B660260D5Bd', type='Document', properties={}), target=Node(id='Taxable Income', type='Income', properties={}), type='IDENTIFIED_IN', properties={})], source=Document(metadata={'producer': 'PDFKit.NET 12.3.320.0 DMV10', 'creator': 'PyPDF', 'creationdate': '2025-05-21T01:17:06-07:00', 'moddate': '2025-05-21T01:17:06-07:00', 'source': 'BTSA-FTE Offer Letter.pdf', 'total_pages': 8, 'page': 1, 'page_label': '2'}, page_content='in lieu of in-office dining services. The transportation and meal allowances are considered \\nas taxable income.\\nDocusign Envelope ID: A63035C4-D3FB-44B0-B839-5B660260D5BD')),\n",
              " GraphDocument(nodes=[Node(id='Zs', type='Organization', properties={}), Node(id='Broadband_Allowance', type='Benefit', properties={}), Node(id='Installation_Charge', type='Reimbursement', properties={}), Node(id='Broadband_Service_Provider', type='Organization', properties={}), Node(id='High_Speed_Broadband_Connection', type='Technology', properties={}), Node(id='Remote_Work', type='Activity', properties={}), Node(id='Audit', type='Process', properties={})], relationships=[Relationship(source=Node(id='Zs', type='Organization', properties={}), target=Node(id='Broadband_Allowance', type='Benefit', properties={}), type='PROVIDES_ALLOWANCE', properties={}), Relationship(source=Node(id='Zs', type='Organization', properties={}), target=Node(id='Installation_Charge', type='Reimbursement', properties={}), type='REIMBURSES', properties={}), Relationship(source=Node(id='Broadband_Service_Provider', type='Organization', properties={}), target=Node(id='Installation_Charge', type='Reimbursement', properties={}), type='ISSUES_RECEIPT', properties={}), Relationship(source=Node(id='Zs', type='Organization', properties={}), target=Node(id='High_Speed_Broadband_Connection', type='Technology', properties={}), type='REQUIRES', properties={}), Relationship(source=Node(id='High_Speed_Broadband_Connection', type='Technology', properties={}), target=Node(id='Remote_Work', type='Activity', properties={}), type='ENABLES', properties={}), Relationship(source=Node(id='Zs', type='Organization', properties={}), target=Node(id='Audit', type='Process', properties={}), type='CONDUCTS_AUDITS', properties={})], source=Document(metadata={'producer': 'PDFKit.NET 12.3.320.0 DMV10', 'creator': 'PyPDF', 'creationdate': '2025-05-21T01:17:06-07:00', 'moddate': '2025-05-21T01:17:06-07:00', 'source': 'BTSA-FTE Offer Letter.pdf', 'total_pages': 8, 'page': 2, 'page_label': '3'}, page_content=\"Broadband access: ZS will provide a broadband allowance of INR ₹1,500 per month \\nthrough payroll. We will also reimburse a one-time ‘installation charge' of INR ₹500 against \\nthe receipt from your broadband service provider. We expect that you install a high-speed \\nbroadband connection at home to enable you to work remotely for project demands, and \\nrecommend at least a 2.0 MBPS wired connection. ZS retains the right to conduct random \\naudits to ensure appropriate use of the allowance.\")),\n",
              " GraphDocument(nodes=[Node(id='Zs', type='Company', properties={}), Node(id='Gaurav Asolkar', type='Person', properties={}), Node(id='Relocation Assistance', type='Concept', properties={})], relationships=[Relationship(source=Node(id='Zs', type='Company', properties={}), target=Node(id='Relocation Assistance', type='Concept', properties={}), type='PROVIDES', properties={}), Relationship(source=Node(id='You', type='Person', properties={}), target=Node(id='Gaurav Asolkar', type='Person', properties={}), type='SHARES_WITH', properties={})], source=Document(metadata={'producer': 'PDFKit.NET 12.3.320.0 DMV10', 'creator': 'PyPDF', 'creationdate': '2025-05-21T01:17:06-07:00', 'moddate': '2025-05-21T01:17:06-07:00', 'source': 'BTSA-FTE Offer Letter.pdf', 'total_pages': 8, 'page': 2, 'page_label': '3'}, page_content='Finally, the following elements of your offer relate to logistics: getting you to ZS and \\ngetting you started.\\nRelocation: We will provide relocation assistance to support your move closer to your ZS \\noffice. If you are relocating from another city to Bangalore, ZS provides the following \\nsupport:\\noYou have to arrange train/air tickets from your college/home location to your ZS \\noffice location at your expense and share the tickets with Gaurav Asolkar')),\n",
              " GraphDocument(nodes=[Node(id='Gaurav_Asolkar', type='Person', properties={}), Node(id='Zs', type='Organization', properties={}), Node(id='Guest_House', type='Accommodation', properties={}), Node(id='Relocation_Allowance', type='Allowance', properties={})], relationships=[Relationship(source=Node(id='Zs', type='Organization', properties={}), target=Node(id='Guest_House', type='Accommodation', properties={}), type='PROVIDES', properties={}), Relationship(source=Node(id='Zs', type='Organization', properties={}), target=Node(id='Relocation_Allowance', type='Allowance', properties={}), type='PROVIDES', properties={}), Relationship(source=Node(id='Gaurav_Asolkar', type='Person', properties={}), target=Node(id='Guest_House', type='Accommodation', properties={}), type='RECEIVES', properties={}), Relationship(source=Node(id='Gaurav_Asolkar', type='Person', properties={}), target=Node(id='Relocation_Allowance', type='Allowance', properties={}), type='RECEIVES', properties={})], source=Document(metadata={'producer': 'PDFKit.NET 12.3.320.0 DMV10', 'creator': 'PyPDF', 'creationdate': '2025-05-21T01:17:06-07:00', 'moddate': '2025-05-21T01:17:06-07:00', 'source': 'BTSA-FTE Offer Letter.pdf', 'total_pages': 8, 'page': 2, 'page_label': '3'}, page_content='(gaurav.asolkar@zs.com) which will enable him to book your accommodation if \\nrequired.\\noUpon your arrival, ZS will provide up to 2 weeks (14 days) of temporary guest house \\naccommodation on a twin sharing basis. ZS will direct pay the guest house \\naccommodation.\\noZS will provide a onetime relocation allowance of INR₹75,000.00 through the second \\nmonth’s payroll. If you do not complete one full year (12 months) of continuous full-')),\n",
              " GraphDocument(nodes=[Node(id='Zs', type='Organization', properties={}), Node(id='Relocation Allowance', type='Financial concept', properties={}), Node(id='Expenses', type='Financial concept', properties={}), Node(id='Notice Period', type='Time period', properties={}), Node(id='Employment', type='Concept', properties={})], relationships=[Relationship(source=Node(id='Relocation Allowance', type='Financial concept', properties={}), target=Node(id='Taxable Income', type='Financial concept', properties={}), type='IS', properties={})], source=Document(metadata={'producer': 'PDFKit.NET 12.3.320.0 DMV10', 'creator': 'PyPDF', 'creationdate': '2025-05-21T01:17:06-07:00', 'moddate': '2025-05-21T01:17:06-07:00', 'source': 'BTSA-FTE Offer Letter.pdf', 'total_pages': 8, 'page': 2, 'page_label': '3'}, page_content='time employment with ZS, then you agree to refund the relocation allowance and the \\nexpenses incurred for the accommodation and travel entirely. The relocation \\nallowance is considered taxable income.\\nNotice Period: ZS expects that experienced hires serve out their notice period with their \\ncurrent employer; however, ZS may opt to buy-out your notice period. If you do not start \\nemployment with ZS or do not complete one full year (12 months) of continuous full-time')),\n",
              " GraphDocument(nodes=[Node(id='Employment', type='Employment', properties={}), Node(id='Zs', type='Organization', properties={}), Node(id='Buyout Amount', type='Buyout amount', properties={}), Node(id='Confidentiality', type='Confidentiality', properties={}), Node(id='Proprietary Software And Processes', type='Proprietary software and processes', properties={})], relationships=[Relationship(source=Node(id='Zs', type='Organization', properties={}), target=Node(id='Employment', type='Employment', properties={}), type='EMPLOYS', properties={}), Relationship(source=Node(id='Buyout Amount', type='Buyout amount', properties={}), target=Node(id='Employment', type='Employment', properties={}), type='REPAYMENT_OBLIGATION', properties={}), Relationship(source=Node(id='Confidentiality', type='Confidentiality', properties={}), target=Node(id='Employment', type='Employment', properties={}), type='GOVERNANCE', properties={}), Relationship(source=Node(id='Proprietary Software And Processes', type='Proprietary software and processes', properties={}), target=Node(id='Employment', type='Employment', properties={}), type='DEVELOPMENT_AND_USE', properties={})], source=Document(metadata={'producer': 'PDFKit.NET 12.3.320.0 DMV10', 'creator': 'PyPDF', 'creationdate': '2025-05-21T01:17:06-07:00', 'moddate': '2025-05-21T01:17:06-07:00', 'source': 'BTSA-FTE Offer Letter.pdf', 'total_pages': 8, 'page': 2, 'page_label': '3'}, page_content='employment with ZS immediately after that point for any reason (except for involuntary \\ntermination of your employment by ZS), then you agree to repay to ZS any buyout amount \\nin its entirety.\\n \\nConfidentiality and Employment Agreement: Our work at ZS often involves the use of \\nconfidential information of our clients, as well as the development and use of ZS \\nproprietary software and processes. For you to start employment with ZS, you will be')),\n",
              " GraphDocument(nodes=[Node(id='Employment_Agreement', type='Employment_agreement', properties={}), Node(id='Orientation_Program', type='Orientation_program', properties={}), Node(id='Zstart_Academy', type='Academy_program', properties={})], relationships=[Relationship(source=Node(id='Orientation_Program', type='Orientation_program', properties={}), target=Node(id='Zs', type='Company', properties={}), type='DESIGNED_FOR', properties={}), Relationship(source=Node(id='Zstart_Academy', type='Academy_program', properties={}), target=Node(id='Zs', type='Company', properties={}), type='PROVIDES', properties={})], source=Document(metadata={'producer': 'PDFKit.NET 12.3.320.0 DMV10', 'creator': 'PyPDF', 'creationdate': '2025-05-21T01:17:06-07:00', 'moddate': '2025-05-21T01:17:06-07:00', 'source': 'BTSA-FTE Offer Letter.pdf', 'total_pages': 8, 'page': 2, 'page_label': '3'}, page_content='required to sign the employment agreement. If you have questions regarding this \\nagreement, please do not hesitate to ask.\\n \\nZStart and Orientation: New associates who begin employment between ZStart sessions \\nparticipate in an office-based Orientation program to gain a basic understanding of ZS \\nculture and work. The ZStart Academy program, held several times per year is designed to \\nprovide a deeper view of the issues you will solve and the skills you will develop at ZS.')),\n",
              " GraphDocument(nodes=[Node(id='Session', type='Event', properties={}), Node(id='Zs Associates', type='Person', properties={}), Node(id='A63035C4-D3Fb-44B0-B839-5B660260D5Bd', type='Document', properties={})], relationships=[Relationship(source=Node(id='Session', type='Event', properties={}), target=Node(id='Zs Associates', type='Person', properties={}), type='PROVIDES_OPPORTUNITY', properties={})], source=Document(metadata={'producer': 'PDFKit.NET 12.3.320.0 DMV10', 'creator': 'PyPDF', 'creationdate': '2025-05-21T01:17:06-07:00', 'moddate': '2025-05-21T01:17:06-07:00', 'source': 'BTSA-FTE Offer Letter.pdf', 'total_pages': 8, 'page': 2, 'page_label': '3'}, page_content='Both session provide an excellent opportunity to get to know other new ZS associates.\\n \\nDocusign Envelope ID: A63035C4-D3FB-44B0-B839-5B660260D5BD')),\n",
              " GraphDocument(nodes=[Node(id='Start Date', type='Date', properties={}), Node(id='June 2, 2025', type='Value', properties={}), Node(id='Contingency', type='Condition', properties={}), Node(id='Employment Arrangement', type='Arrangement', properties={}), Node(id='Verification', type='Process', properties={}), Node(id='Educational Qualifications', type='Qualification', properties={}), Node(id='Documents', type='Requirement', properties={}), Node(id='Educational Certificates', type='Document', properties={}), Node(id='Scanned Copy', type='Copy', properties={}), Node(id='Aadhar Card', type='Document', properties={})], relationships=[Relationship(source=Node(id='Start Date', type='Date', properties={}), target=Node(id='June 2, 2025', type='Value', properties={}), type='SPECIFIES', properties={}), Relationship(source=Node(id='Contingency', type='Condition', properties={}), target=Node(id='Employment Arrangement', type='Arrangement', properties={}), type='CONTINGENT_UPON', properties={}), Relationship(source=Node(id='Verification', type='Process', properties={}), target=Node(id='Educational Qualifications', type='Qualification', properties={}), type='REQUIRES', properties={}), Relationship(source=Node(id='Documents', type='Requirement', properties={}), target=Node(id='Educational Certificates', type='Document', properties={}), type='INCLUDES', properties={}), Relationship(source=Node(id='Educational Certificates', type='Document', properties={}), target=Node(id='Scanned Copy', type='Copy', properties={}), type='REQUIRES', properties={}), Relationship(source=Node(id='Documents', type='Requirement', properties={}), target=Node(id='Aadhar Card', type='Document', properties={}), type='INCLUDES', properties={})], source=Document(metadata={'producer': 'PDFKit.NET 12.3.320.0 DMV10', 'creator': 'PyPDF', 'creationdate': '2025-05-21T01:17:06-07:00', 'moddate': '2025-05-21T01:17:06-07:00', 'source': 'BTSA-FTE Offer Letter.pdf', 'total_pages': 8, 'page': 3, 'page_label': '4'}, page_content='Start Date and Formalities: We propose a start date of June 2, 2025, contingent on your \\ncurrent employment arrangement. Please ensure that you report for work on the date \\nindicated.\\n \\nThis offer is subject to verification of original certificates of educational qualifications and \\nother documents listed below. At the time of joining, you are required to bring the \\nfollowing:\\noOriginal certificates of all educational qualifications, each with a scanned copy\\noAadhar Card')),\n",
              " GraphDocument(nodes=[Node(id='Offer Letter', type='Letter', properties={}), Node(id='Candidate', type='Person', properties={}), Node(id='Aadhar Card', type='Document', properties={}), Node(id='Pan Card', type='Document', properties={}), Node(id='Passport', type='Document', properties={}), Node(id='Relieving Letter', type='Document', properties={}), Node(id='Salary Slip', type='Document', properties={}), Node(id='Passport-Size Photographs', type='Document', properties={}), Node(id='Sign Offer Letter', type='Action', properties={}), Node(id='Decline Offer', type='Action', properties={})], relationships=[Relationship(source=Node(id='Offer Letter', type='Letter', properties={}), target=Node(id='Candidate', type='Person', properties={}), type='ADDRESSEE', properties={}), Relationship(source=Node(id='Aadhar Card', type='Document', properties={}), target=Node(id='Offer Letter', type='Letter', properties={}), type='REQUIRED_FOR', properties={}), Relationship(source=Node(id='Pan Card', type='Document', properties={}), target=Node(id='Offer Letter', type='Letter', properties={}), type='REQUIRED_FOR', properties={}), Relationship(source=Node(id='Passport', type='Document', properties={}), target=Node(id='Offer Letter', type='Letter', properties={}), type='REQUIRED_FOR', properties={}), Relationship(source=Node(id='Relieving Letter', type='Document', properties={}), target=Node(id='Offer Letter', type='Letter', properties={}), type='REQUIRED_FOR', properties={}), Relationship(source=Node(id='Salary Slip', type='Document', properties={}), target=Node(id='Offer Letter', type='Letter', properties={}), type='REQUIRED_FOR', properties={}), Relationship(source=Node(id='Passport-Size Photographs', type='Document', properties={}), target=Node(id='Offer Letter', type='Letter', properties={}), type='REQUIRED_FOR', properties={}), Relationship(source=Node(id='Candidate', type='Person', properties={}), target=Node(id='Sign Offer Letter', type='Action', properties={}), type='ACCEPT_ACTION', properties={}), Relationship(source=Node(id='Candidate', type='Person', properties={}), target=Node(id='Decline Offer', type='Action', properties={}), type='DECLINE_ACTION', properties={})], source=Document(metadata={'producer': 'PDFKit.NET 12.3.320.0 DMV10', 'creator': 'PyPDF', 'creationdate': '2025-05-21T01:17:06-07:00', 'moddate': '2025-05-21T01:17:06-07:00', 'source': 'BTSA-FTE Offer Letter.pdf', 'total_pages': 8, 'page': 3, 'page_label': '4'}, page_content='oAadhar Card\\noProof of age (Pan Card or Passport scanned copy)\\noRelieving letter scanned copy (if employed)\\noScanned copy of the latest salary slip from your current employer (if employed)\\noTwo passport-size photographs \\nWe are pleased by the prospect of you starting your ZS career in this position. If you \\ndecide to accept this offer, please sign this letter electronically through DocuSign to return \\nit to us. Should you decide not to accept, please decline through DocuSign so that your \\noffer is closed.')),\n",
              " GraphDocument(nodes=[Node(id='Offer', type='Offer', properties={}), Node(id='May 23, 2025', type='Date', properties={})], relationships=[Relationship(source=Node(id='Offer', type='Offer', properties={}), target=Node(id='May 23, 2025', type='Date', properties={}), type='EXPIRES_ON', properties={})], source=Document(metadata={'producer': 'PDFKit.NET 12.3.320.0 DMV10', 'creator': 'PyPDF', 'creationdate': '2025-05-21T01:17:06-07:00', 'moddate': '2025-05-21T01:17:06-07:00', 'source': 'BTSA-FTE Offer Letter.pdf', 'total_pages': 8, 'page': 3, 'page_label': '4'}, page_content='offer is closed. \\n \\nPlease know that we would like to hear from you regarding your decision as soon as \\npossible. We will consider this offer to be valid until May 23, 2025.\\nThe elements of this offer are personal and specific to you and, accordingly, we do not \\nconsider them appropriate to be shared with colleagues or the public. All details conveyed \\nin this offer are based on our understanding of your expected completion of degree')),\n",
              " GraphDocument(nodes=[Node(id='Zs', type='Organization', properties={}), Node(id='Job Offer', type='Event', properties={}), Node(id='Background Verification', type='Process', properties={})], relationships=[Relationship(source=Node(id='Job Offer', type='Event', properties={}), target=Node(id='Zs', type='Organization', properties={}), type='OFFERED_BY', properties={}), Relationship(source=Node(id='Job Offer', type='Event', properties={}), target=Node(id='Background Verification', type='Process', properties={}), type='CONTINGENT_UPON', properties={}), Relationship(source=Node(id='Job Offer', type='Event', properties={}), target=Node(id='Joining Zs', type='Event', properties={}), type='INVOLVES', properties={}), Relationship(source=Node(id='Job Offer', type='Event', properties={}), target=Node(id='Discussion', type='Event', properties={}), type='INVOLVES', properties={})], source=Document(metadata={'producer': 'PDFKit.NET 12.3.320.0 DMV10', 'creator': 'PyPDF', 'creationdate': '2025-05-21T01:17:06-07:00', 'moddate': '2025-05-21T01:17:06-07:00', 'source': 'BTSA-FTE Offer Letter.pdf', 'total_pages': 8, 'page': 3, 'page_label': '4'}, page_content='program, availability and likely start timing. We describe benefits and conditions currently \\nin force as of today and expected to be ongoing at the time you join. This offer is \\ncontingent upon successful completion of a background verification. If you have any \\nquestions about any of the elements of this offer, or would like to discuss the job further, \\nplease do not hesitate to contact me.\\n \\nWe look forward to you joining ZS and helping ZS (and you!) continue to grow and prosper \\nin the future!')),\n",
              " GraphDocument(nodes=[Node(id='Manish Menon', type='Person', properties={}), Node(id='Office Managing Principal', type='Title', properties={}), Node(id='${Esignature.Signature}', type='Signature', properties={}), Node(id='${Esignature.Initial}', type='Initial', properties={}), Node(id='${Esignature.Date}', type='Date', properties={}), Node(id='A63035C4-D3Fb-44B0-B839-5B660260D5Bd', type='Docusign envelope id', properties={})], relationships=[Relationship(source=Node(id='Manish Menon', type='Person', properties={}), target=Node(id='Office Managing Principal', type='Title', properties={}), type='HOLDS', properties={}), Relationship(source=Node(id='Manish Menon', type='Person', properties={}), target=Node(id='${Esignature.Signature}', type='Signature', properties={}), type='ASSOCIATED_WITH', properties={}), Relationship(source=Node(id='Manish Menon', type='Person', properties={}), target=Node(id='${Esignature.Initial}', type='Initial', properties={}), type='ASSOCIATED_WITH', properties={}), Relationship(source=Node(id='Manish Menon', type='Person', properties={}), target=Node(id='${Esignature.Date}', type='Date', properties={}), type='ASSOCIATED_WITH', properties={}), Relationship(source=Node(id='Manish Menon', type='Person', properties={}), target=Node(id='A63035C4-D3Fb-44B0-B839-5B660260D5Bd', type='Docusign envelope id', properties={}), type='ASSOCIATED_WITH', properties={})], source=Document(metadata={'producer': 'PDFKit.NET 12.3.320.0 DMV10', 'creator': 'PyPDF', 'creationdate': '2025-05-21T01:17:06-07:00', 'moddate': '2025-05-21T01:17:06-07:00', 'source': 'BTSA-FTE Offer Letter.pdf', 'total_pages': 8, 'page': 3, 'page_label': '4'}, page_content='in the future!\\n \\nSincerely,\\n \\nManish Menon\\nOffice Managing Principal\\n \\nSignature:  ${esignature.signature}\\n       \\nName as it appears on PAN card or passport: ${esignature.initial}\\n \\nDate Signed:  ${esignature.date}\\nDocusign Envelope ID: A63035C4-D3FB-44B0-B839-5B660260D5BD')),\n",
              " GraphDocument(nodes=[Node(id='Zs Associates India Pvt. Ltd.', type='Organization', properties={}), Node(id='Zs Gross', type='Salary component', properties={}), Node(id='Basic', type='Salary component', properties={}), Node(id='Hra', type='Salary component', properties={}), Node(id='Lta', type='Salary component', properties={}), Node(id='Special Allowance', type='Salary component', properties={}), Node(id='Performance Bonus', type='Salary component', properties={}), Node(id='Cash Benefit', type='Salary component', properties={}), Node(id='Broadband Allowance', type='Salary component', properties={}), Node(id='Meal Allowance', type='Salary component', properties={})], relationships=[Relationship(source=Node(id='Zs Associates India Pvt. Ltd.', type='Organization', properties={}), target=Node(id='Zs Gross', type='Salary component', properties={}), type='PROVIDES', properties={}), Relationship(source=Node(id='Zs Associates India Pvt. Ltd.', type='Organization', properties={}), target=Node(id='Basic', type='Salary component', properties={}), type='PROVIDES', properties={}), Relationship(source=Node(id='Zs Associates India Pvt. Ltd.', type='Organization', properties={}), target=Node(id='Hra', type='Salary component', properties={}), type='PROVIDES', properties={}), Relationship(source=Node(id='Zs Associates India Pvt. Ltd.', type='Organization', properties={}), target=Node(id='Lta', type='Salary component', properties={}), type='PROVIDES', properties={}), Relationship(source=Node(id='Zs Associates India Pvt. Ltd.', type='Organization', properties={}), target=Node(id='Special Allowance', type='Salary component', properties={}), type='PROVIDES', properties={}), Relationship(source=Node(id='Zs Associates India Pvt. Ltd.', type='Organization', properties={}), target=Node(id='Performance Bonus', type='Salary component', properties={}), type='PROVIDES', properties={}), Relationship(source=Node(id='Zs Associates India Pvt. Ltd.', type='Organization', properties={}), target=Node(id='Cash Benefit', type='Salary component', properties={}), type='PROVIDES', properties={}), Relationship(source=Node(id='Zs Associates India Pvt. Ltd.', type='Organization', properties={}), target=Node(id='Broadband Allowance', type='Salary component', properties={}), type='PROVIDES', properties={}), Relationship(source=Node(id='Zs Associates India Pvt. Ltd.', type='Organization', properties={}), target=Node(id='Meal Allowance', type='Salary component', properties={}), type='PROVIDES', properties={})], source=Document(metadata={'producer': 'PDFKit.NET 12.3.320.0 DMV10', 'creator': 'PyPDF', 'creationdate': '2025-05-21T01:17:06-07:00', 'moddate': '2025-05-21T01:17:06-07:00', 'source': 'BTSA-FTE Offer Letter.pdf', 'total_pages': 8, 'page': 4, 'page_label': '5'}, page_content='APPENDIX 1 \\nSalary Break up Details\\nZS Associates India Pvt. Ltd.\\n              Annual INR\\nZS Gross   8,50,000\\nBasic  3,40,000\\nHRA  1,36,000\\nLTA 28,333\\nSpecial Allowance  3,45,667\\nPerformance Bonus 85,000\\nMaximum 10% of ZS gross salary; pay-out at the end of \\ncalendar year, depending on individual performance  \\nCash Benefit 84,000\\nBroadband Allowance (ZS will provide a broadband \\nallowance of INR 1,500 per month, through payroll) 18,000\\nMeal Allowance (ZS will provide a meal allowance of INR')),\n",
              " GraphDocument(nodes=[Node(id='5500 Per Month', type='Financial concept', properties={}), Node(id='66,000', type='Financial concept', properties={}), Node(id='Retirals', type='Financial concept', properties={}), Node(id='Gratuity', type='Financial concept', properties={}), Node(id='Provident Fund', type='Financial concept', properties={}), Node(id='One Time Starting Bonus', type='Financial concept', properties={}), Node(id='Elrp Payout In 1St Year', type='Financial concept', properties={}), Node(id='First Year Earning Potential', type='Financial concept', properties={}), Node(id='Docusign Envelope Id', type='Document id', properties={})], relationships=[Relationship(source=Node(id='Retirals', type='Financial concept', properties={}), target=Node(id='Provident Fund', type='Financial concept', properties={}), type='PART_OF', properties={}), Relationship(source=Node(id='Gratuity', type='Financial concept', properties={}), target=Node(id='Payment Of Gratuity Act 1972', type='Legal document', properties={}), type='GOVERNED_BY', properties={}), Relationship(source=Node(id='Elrp Payout In 1St Year', type='Financial concept', properties={}), target=Node(id='First Year Earning Potential', type='Financial concept', properties={}), type='PART_OF', properties={})], source=Document(metadata={'producer': 'PDFKit.NET 12.3.320.0 DMV10', 'creator': 'PyPDF', 'creationdate': '2025-05-21T01:17:06-07:00', 'moddate': '2025-05-21T01:17:06-07:00', 'source': 'BTSA-FTE Offer Letter.pdf', 'total_pages': 8, 'page': 4, 'page_label': '5'}, page_content=\"5500 per month, through payroll) 66,000\\nRetirals 16,000\\nGratuity - payable on completing 5 years of continuous \\nservice with ZS India Private Limited as per the Payment of \\nGratuity Act 1972 (first year's provision)\\n \\nProvident Fund 21,600\\nEmployer's contribution to Provident Fund  \\nOne time Starting Bonus 100,000\\n  \\n*ELRP Payout in 1st year (details of the program are \\nmentioned in the table below) 150,000\\nFirst Year Earning Potential 1,290,600\\nDocusign Envelope ID: A63035C4-D3FB-44B0-B839-5B660260D5BD\")),\n",
              " GraphDocument(nodes=[Node(id='Docusign Envelope Id', type='Identifier', properties={}), Node(id='A63035C4-D3Fb-44B0-B839-5B660260D5Bd', type='String', properties={})], relationships=[Relationship(source=Node(id='Docusign Envelope Id', type='Identifier', properties={}), target=Node(id='A63035C4-D3Fb-44B0-B839-5B660260D5Bd', type='String', properties={}), type='HAS_VALUE', properties={})], source=Document(metadata={'producer': 'PDFKit.NET 12.3.320.0 DMV10', 'creator': 'PyPDF', 'creationdate': '2025-05-21T01:17:06-07:00', 'moddate': '2025-05-21T01:17:06-07:00', 'source': 'BTSA-FTE Offer Letter.pdf', 'total_pages': 8, 'page': 5, 'page_label': '6'}, page_content='Docusign Envelope ID: A63035C4-D3FB-44B0-B839-5B660260D5BD')),\n",
              " GraphDocument(nodes=[Node(id='Advance Toward Home Deposit', type='Convenience benefit', properties={}), Node(id='Group Medical Insurance', type='Health and wellness benefit', properties={})], relationships=[Relationship(source=Node(id='Advance Toward Home Deposit', type='Convenience benefit', properties={}), target=Node(id='Convenience Benefits', type='Convenience benefit', properties={}), type='CONVENIENCE_BENEFIT', properties={}), Relationship(source=Node(id='Group Medical Insurance', type='Health and wellness benefit', properties={}), target=Node(id='Health And Wellness Benefits', type='Health and wellness benefit', properties={}), type='HEALTH_AND_WELLNESS_BENEFIT', properties={})], source=Document(metadata={'producer': 'PDFKit.NET 12.3.320.0 DMV10', 'creator': 'PyPDF', 'creationdate': '2025-05-21T01:17:06-07:00', 'moddate': '2025-05-21T01:17:06-07:00', 'source': 'BTSA-FTE Offer Letter.pdf', 'total_pages': 8, 'page': 6, 'page_label': '7'}, page_content='Benefit Details\\n \\n \\nConvenience Benefits:\\n \\noAdvance toward Home Deposit: An interest-free advance up to INR ₹75,000 against \\nlease agreement, recovered over a period of 06 months through payroll.\\n \\nHealth and Wellness Benefits:\\n \\noGroup Medical Insurance: A Sum Assured of INR ₹4,00,000 for Associates, \\nAssociate Consultants, Consultants and Managers and INR ₹5,00,000 for Associate \\nPrincipals and Principals. Employee can nominate up to five immediate dependent \\nfamily members.')),\n",
              " GraphDocument(nodes=[Node(id='Life Insurance Coverage', type='Insurance coverage', properties={}), Node(id='Accident Policy', type='Insurance policy', properties={}), Node(id='Outpatient Department (Opd) Expense Coverage', type='Expense coverage', properties={}), Node(id='Annual Health Check Reimbursement', type='Reimbursement', properties={}), Node(id='Leaves', type='Leave policy', properties={}), Node(id='Day Care Reimbursement', type='Reimbursement', properties={})], relationships=[Relationship(source=Node(id='Life Insurance Coverage', type='Insurance coverage', properties={}), target=Node(id='3 Times Your Annual Gross Salary', type='Monetary value', properties={}), type='COVERS', properties={}), Relationship(source=Node(id='Accident Policy', type='Insurance policy', properties={}), target=Node(id='Inr ₹10,00,000', type='Monetary value', properties={}), type='SUM_ASSURED', properties={}), Relationship(source=Node(id='Outpatient Department (Opd) Expense Coverage', type='Expense coverage', properties={}), target=Node(id='Inr ₹5000 Annually', type='Monetary value', properties={}), type='COVERS', properties={}), Relationship(source=Node(id='Annual Health Check Reimbursement', type='Reimbursement', properties={}), target=Node(id='Inr ₹5000 In Total Annually', type='Monetary value', properties={}), type='REIMBURSES', properties={}), Relationship(source=Node(id='Leaves', type='Leave policy', properties={}), target=Node(id='25 Days Of Vacation Per Calendar Year', type='Leave days', properties={}), type='PROVIDES', properties={}), Relationship(source=Node(id='Leaves', type='Leave policy', properties={}), target=Node(id='Up To 7 Days Of Sick Leave On Pro-Rata Basis', type='Leave days', properties={}), type='PROVIDES', properties={}), Relationship(source=Node(id='Day Care Reimbursement', type='Reimbursement', properties={}), target=Node(id='Inr ₹7000 Monthly', type='Monetary value', properties={}), type='REIMBURSES', properties={}), Relationship(source=Node(id='Day Care Reimbursement', type='Reimbursement', properties={}), target=Node(id='Children Aged', type='Demographic', properties={}), type='APPLIES_TO', properties={})], source=Document(metadata={'producer': 'PDFKit.NET 12.3.320.0 DMV10', 'creator': 'PyPDF', 'creationdate': '2025-05-21T01:17:06-07:00', 'moddate': '2025-05-21T01:17:06-07:00', 'source': 'BTSA-FTE Offer Letter.pdf', 'total_pages': 8, 'page': 6, 'page_label': '7'}, page_content='family members.\\noLife Insurance Coverage: 3 times your annual gross salary\\noAccident Policy: A Sum Assured of INR ₹10,00,000\\noOutPatient Department (OPD) expense coverage: INR ₹5000 annually\\noAnnual Health Check Reimbursement for self and spouse: INR ₹5000 in total \\nannually.\\noLeaves: 25 days of vacation per calendar year and up to 7 days of sick leave on pro-\\nrata basis\\noDay care reimbursement (for women ZSers): INR ₹7000 monthly, for children aged')),\n",
              " GraphDocument(nodes=[Node(id='0-12 Months', type='Age_range', properties={}), Node(id='Inr ₹4000 Monthly', type='Fee', properties={}), Node(id='13 Months To 4 Years', type='Age_range', properties={}), Node(id='A63035C4-D3Fb-44B0-B839-5B660260D5Bd', type='Document_id', properties={})], relationships=[Relationship(source=Node(id='0-12 Months', type='Age_range', properties={}), target=Node(id='Inr ₹4000 Monthly', type='Fee', properties={}), type='ASSOCIATED_WITH', properties={}), Relationship(source=Node(id='13 Months To 4 Years', type='Age_range', properties={}), target=Node(id='Inr ₹4000 Monthly', type='Fee', properties={}), type='ASSOCIATED_WITH', properties={})], source=Document(metadata={'producer': 'PDFKit.NET 12.3.320.0 DMV10', 'creator': 'PyPDF', 'creationdate': '2025-05-21T01:17:06-07:00', 'moddate': '2025-05-21T01:17:06-07:00', 'source': 'BTSA-FTE Offer Letter.pdf', 'total_pages': 8, 'page': 6, 'page_label': '7'}, page_content='0-12months and INR ₹4000 monthly, for children aged 13months to 4 years.\\nDocusign Envelope ID: A63035C4-D3FB-44B0-B839-5B660260D5BD')),\n",
              " GraphDocument(nodes=[Node(id='A63035C4-D3Fb-44B0-B839-5B660260D5Bd', type='Identifier', properties={})], relationships=[], source=Document(metadata={'producer': 'PDFKit.NET 12.3.320.0 DMV10', 'creator': 'PyPDF', 'creationdate': '2025-05-21T01:17:06-07:00', 'moddate': '2025-05-21T01:17:06-07:00', 'source': 'BTSA-FTE Offer Letter.pdf', 'total_pages': 8, 'page': 7, 'page_label': '8'}, page_content='Docusign Envelope ID: A63035C4-D3FB-44B0-B839-5B660260D5BD'))]"
            ]
          },
          "execution_count": 16,
          "metadata": {},
          "output_type": "execute_result"
        }
      ],
      "source": [
        "graph_documents"
      ]
    },
    {
      "cell_type": "code",
      "execution_count": null,
      "metadata": {
        "colab": {
          "base_uri": "https://localhost:8080/"
        },
        "id": "7RDkHMLuj9j1",
        "outputId": "a85bc8d3-8aad-47f9-c343-d6e7aab0f6c3"
      },
      "outputs": [
        {
          "name": "stderr",
          "output_type": "stream",
          "text": [
            "<ipython-input-17-c1ddba185a4a>:2: LangChainDeprecationWarning: The class `Neo4jGraph` was deprecated in LangChain 0.3.8 and will be removed in 1.0. An updated version of the class exists in the :class:`~langchain-neo4j package and should be used instead. To use it run `pip install -U :class:`~langchain-neo4j` and import as `from :class:`~langchain_neo4j import Neo4jGraph``.\n",
            "  graph = Neo4jGraph()\n"
          ]
        }
      ],
      "source": [
        "# Initializing Neo4j Instance\n",
        "graph = Neo4jGraph()"
      ]
    },
    {
      "cell_type": "code",
      "execution_count": null,
      "metadata": {
        "id": "gJ144VWy3WoD"
      },
      "outputs": [],
      "source": [
        "# Adding the Graph created to the Neo4j Cloud\n",
        "graph.add_graph_documents(\n",
        "    graph_documents,\n",
        "    baseEntityLabel=True, #Ensures nodes have labels like Person, Company, etc.\n",
        "    include_source=True #Keeps the original document as part of the graph for traceability.\n",
        ")"
      ]
    },
    {
      "cell_type": "code",
      "execution_count": null,
      "metadata": {
        "id": "xA2S9kD5CMni"
      },
      "outputs": [],
      "source": [
        "# directly show the graph resulting from the given Cypher query\n",
        "default_cypher = \"MATCH (s)-[r:!MENTIONS]->(t) RETURN s,r,t LIMIT 50\""
      ]
    },
    {
      "cell_type": "code",
      "execution_count": null,
      "metadata": {
        "id": "cSbnuIW1CPUZ"
      },
      "outputs": [],
      "source": [
        "from yfiles_jupyter_graphs import GraphWidget\n",
        "from neo4j import GraphDatabase"
      ]
    },
    {
      "cell_type": "code",
      "execution_count": null,
      "metadata": {
        "id": "movs-Kf4CWco"
      },
      "outputs": [],
      "source": [
        "# Visualizing the graph through GraphWidget\n",
        "def showGraph(cypher: str = default_cypher):\n",
        "    # create a neo4j session to run queries\n",
        "    driver = GraphDatabase.driver(\n",
        "        uri = os.environ[\"NEO4J_URI\"],\n",
        "        auth = (os.environ[\"NEO4J_USERNAME\"],\n",
        "                os.environ[\"NEO4J_PASSWORD\"]))\n",
        "    session = driver.session()\n",
        "    widget = GraphWidget(graph = session.run(cypher).graph())\n",
        "    widget.node_label_mapping = 'id'\n",
        "    display(widget)\n",
        "    return widget"
      ]
    },
    {
      "cell_type": "code",
      "execution_count": null,
      "metadata": {
        "colab": {
          "base_uri": "https://localhost:8080/",
          "height": 1000,
          "referenced_widgets": [
            "d0c233b84c604285b292b87b606827ec",
            "c0a5f2a2e3a148749c51a01ec4cfdbfe"
          ]
        },
        "id": "2h0NdTRuCa0k",
        "outputId": "3e2d2a05-02ca-4fcd-ae56-2354ada7301a"
      },
      "outputs": [
        {
          "data": {
            "application/vnd.jupyter.widget-view+json": {
              "model_id": "d0c233b84c604285b292b87b606827ec",
              "version_major": 2,
              "version_minor": 0
            },
            "text/plain": [
              "GraphWidget(layout=Layout(height='800px', width='100%'))"
            ]
          },
          "metadata": {
            "application/vnd.jupyter.widget-view+json": {
              "colab": {
                "custom_widget_manager": {
                  "url": "https://ssl.gstatic.com/colaboratory-static/widgets/colab-cdn-widget-manager/2b70e893a8ba7c0f/manager.min.js"
                }
              }
            }
          },
          "output_type": "display_data"
        },
        {
          "data": {
            "application/vnd.jupyter.widget-view+json": {
              "model_id": "d0c233b84c604285b292b87b606827ec",
              "version_major": 2,
              "version_minor": 0
            },
            "text/plain": [
              "GraphWidget(layout=Layout(height='800px', width='100%'))"
            ]
          },
          "metadata": {
            "application/vnd.jupyter.widget-view+json": {
              "colab": {
                "custom_widget_manager": {
                  "url": "https://ssl.gstatic.com/colaboratory-static/widgets/colab-cdn-widget-manager/2b70e893a8ba7c0f/manager.min.js"
                }
              }
            }
          },
          "output_type": "display_data"
        }
      ],
      "source": [
        "showGraph()"
      ]
    },
    {
      "cell_type": "markdown",
      "metadata": {
        "id": "nXt5T-zJpv6O"
      },
      "source": [
        "##Creating Word Embedding"
      ]
    },
    {
      "cell_type": "code",
      "execution_count": null,
      "metadata": {
        "colab": {
          "base_uri": "https://localhost:8080/",
          "height": 369,
          "referenced_widgets": [
            "b865c7df94724cbdbe5857060f25c795",
            "d0a3260f9cad4af8bd19cd3524958ef9",
            "43073154968f49d2bfebba83b8a133f2",
            "8fde1c1645fd4be7b8808126b1910a83",
            "b2da6dbc3fa945ed97392d59524ad58a",
            "191d9c08db1d48559ca64474ca96cdfd",
            "6988ae3afac548a19c5d790261604cb5",
            "4b213e3f46164170bee9e46885c54a98",
            "0032b05cc0cb4d14a509c0636093a677",
            "cc516de8327a4f93a3b4d83602498b6e",
            "6db37bdf7703475e9ad0a84650d67b8b",
            "9323c2bd6ef545e68ab97ca36dac45bd",
            "0095fec9ce8e472e82d186390fe0e2d8",
            "41baa386cbb84154a7f5190c93a33934",
            "062a1707ae2147b58d81d32b895e1b97",
            "1e423600e880484f86fe1a6fe6bd149b",
            "cb795e84573e4db293f44e246126487a",
            "4bfc10a9f16a4fe0b6003caaf81143ee",
            "94f3552dfa50465290fc533c70d65263",
            "3a3f4cc837c24803a20672b8dbad0254",
            "98123ab4e207489e85d0db1f921ce5e6",
            "a920ee50cf924ebf9ec088afd52604d9",
            "308d7a9fea5d47e5a39f0622d400d3c9",
            "cc3be6b2345f497f83b1eb444264d34a",
            "c90cf5c152544efca76bb80ef5332d53",
            "45c4146030784c728d2088153c71d0ca",
            "b6b9f662bca14bcdb7751313fa8c62d9",
            "ef649c6d8c15411c884942226c92a4b7",
            "575a8327be9749fe873385e0cf741a8c",
            "0df4b7231ecb4fb889686d775e70b6e0",
            "6bf71fc37f884e19980505fca19a535c",
            "2e2e9f41437a4081a7c66551712882e0",
            "086c73bebce147a5b4d57311002adbb7",
            "af369d3982114a62bbd339b6b62cb509",
            "30edd9c69d314ea1932eced97d99f11f",
            "148156f88224446c8384f5481fb5e47f",
            "c7fdb0defe4b4bcda1fc53065098ab91",
            "d1bef64422f44eb79c3ab20a554c8739",
            "249e950dc8624808ba27dcf7f8054740",
            "bc683738256945a69325c9937861dc94",
            "6a381cba614e4a78adadc9b7831e6cc0",
            "fbaff09bffe34ed983a84b27b5e981f2",
            "30194fd1bd9a452d92b8f7bbf442fbf2",
            "80865598bdf2493db678a610d476b61a",
            "fffcea987f914711b3d0e30ce7ea51c1",
            "fa971907191d4b769e6098754a26a144",
            "841205b183cc4f2e96fceae12c201cc2",
            "27d45061a8df4356a503542c6f8aa348",
            "bff98e379a494f11a4cc639fff3a965a",
            "8bbb507893014f9499740611277531ea",
            "b078ef79bef94d2d9e50f85ee5da8345",
            "5d0bf069e93b4082bee9820505754da3",
            "5967e51287fb41498a0ba425cf1deb2b",
            "a75b7c16176a4e8fbe5f7010901d71a3",
            "c130e47f56224365bb71cc9ad48d7599",
            "9f301c26d4e14aa2b23d0fbfa3d360dc",
            "a21b07546f894143a44167fe242bad33",
            "c3689930227841af911d6d763fc84d0a",
            "f2493c8a040d4685bd549ebfee3f9a0e",
            "cb2f691ee0a34d1fb76b52a34974fba6",
            "3b1cb65b2ab64f2786e2d758127ee99b",
            "23419445182649ffb6cd18c4a9123e27",
            "6e12d802165e420bb0e5adeb3c94efa9",
            "b87a5a394f854e80b9f6ac063715d80f",
            "7e77a921a02a43b6826d993d1280b42f",
            "643b665ebf734a6a96cdcd30e2847db0",
            "1296d392c58943e68ca312c1450df165",
            "5c6d08d0765d41e68090da906734e942",
            "01f693371caf46aebcf244bf45e70e10",
            "eb56b25ad0964b86b6a6657d59c6e0a8",
            "03972232df754c11a98a94bfa947ad4a",
            "b2655297b2164a3bb75fe6cf3f7a62d9",
            "b9dfada775fa42348676ad96ed462656",
            "52c8edd20a4646968d0f46aab83ee597",
            "59a6bd7c1a104514bedcb2c62c231e55",
            "81a69108b0a342e4adc6d2444b189fc8",
            "6b843504bfa443d184c92fc2e59b5c7f",
            "1464dd0b60704a599297a132ed2f0b86",
            "86d68b130d064267b299b84d45033ef1",
            "aea92b683be04edfabf8b13d37aaf9ea",
            "3af636903422427491eb2cc7fd65d793",
            "159f92f3419943a9874465c9364eab26",
            "d370f37f6119496699eef8db3649494d",
            "80c6b9732c694c90ad155966231f1489",
            "67ba6f352e874a2e8b23415f9e5efa71",
            "4defa666451f4eaca63d529f196e8ed1",
            "b5402dcf784045a79b433db2ace92418",
            "1879f047a7e744239bec99310576cd46",
            "718bbad3e1ea4d4aba7c07de6a797bbc",
            "258182290026479ebaa381d0d67b9386",
            "9f09046f389243a690ea9c6667b8ce96",
            "1fe27d3d254e49b099f90d34d0acc3c0",
            "cf0a83185b3449adb6abd08a82762356",
            "82a102295f4f4f7ba70bb4b48509fb58",
            "ee660d6cf42b40cfba314bc4cb4b124e",
            "2ac2c74212894e13b928417205126f7d",
            "5859b0835561414883022c0417361f67",
            "24cd6c9c41444c4c96397433cafad862",
            "a0da3c7a55e344e089dc76a1e4871146",
            "997b131cd6c7469480938f32fd4c4f5f",
            "97b8dc0a189943d2b923ce104edd7e64",
            "dc15a3a9422540ca8a1bd9d9c428f0ea",
            "112acf92a6504ae98f1f2b57e673ed94",
            "b1d5be7ef0d5464391658948123079d1",
            "2c2a40e47f1b402ba9f220cd51cf4dc9",
            "aabae17d77c447ca867bcb11e3190007",
            "8e2f954e3e244330a9ef197350ee6116",
            "d9d96dbcbf104b98b5f4b8c39c6b469e",
            "1a5093e766a84509bc7f3375346bb5a6",
            "b051ffef303e4dda9c695ca9a30112c6",
            "148faf48a9bc4aa3bea518b44093b958",
            "88a04cab69bc4c0fa6df22d0ffa281b7",
            "5f2ed160570e49f58611b4e3cedbb127",
            "ee532e21aa59461e8a78a62702829f3a",
            "4ca1c09a95794e998c885055cd50248d",
            "0f8020856e7742bf9a3b9cac9c1f1b5b",
            "89e0174175cc40a6a2c6bfe7c507b667",
            "1a17418ead3b49c1a2c57c1d3eb2ec33",
            "ea47f7d77fea455292a6b202e8936091",
            "2569ccff00c64e83be0c306aea9c97db",
            "07d1a3e098e94197a35e017200d9fb98"
          ]
        },
        "id": "8YAqIRn6sUSU",
        "outputId": "2cda432c-877b-428c-9a6a-f7ccaa217c15"
      },
      "outputs": [
        {
          "data": {
            "application/vnd.jupyter.widget-view+json": {
              "model_id": "b865c7df94724cbdbe5857060f25c795",
              "version_major": 2,
              "version_minor": 0
            },
            "text/plain": [
              "modules.json:   0%|          | 0.00/349 [00:00<?, ?B/s]"
            ]
          },
          "metadata": {
            "application/vnd.jupyter.widget-view+json": {
              "colab": {
                "custom_widget_manager": {
                  "url": "https://ssl.gstatic.com/colaboratory-static/widgets/colab-cdn-widget-manager/2b70e893a8ba7c0f/manager.min.js"
                }
              }
            }
          },
          "output_type": "display_data"
        },
        {
          "data": {
            "application/vnd.jupyter.widget-view+json": {
              "model_id": "9323c2bd6ef545e68ab97ca36dac45bd",
              "version_major": 2,
              "version_minor": 0
            },
            "text/plain": [
              "config_sentence_transformers.json:   0%|          | 0.00/116 [00:00<?, ?B/s]"
            ]
          },
          "metadata": {
            "application/vnd.jupyter.widget-view+json": {
              "colab": {
                "custom_widget_manager": {
                  "url": "https://ssl.gstatic.com/colaboratory-static/widgets/colab-cdn-widget-manager/2b70e893a8ba7c0f/manager.min.js"
                }
              }
            }
          },
          "output_type": "display_data"
        },
        {
          "data": {
            "application/vnd.jupyter.widget-view+json": {
              "model_id": "308d7a9fea5d47e5a39f0622d400d3c9",
              "version_major": 2,
              "version_minor": 0
            },
            "text/plain": [
              "README.md:   0%|          | 0.00/10.4k [00:00<?, ?B/s]"
            ]
          },
          "metadata": {
            "application/vnd.jupyter.widget-view+json": {
              "colab": {
                "custom_widget_manager": {
                  "url": "https://ssl.gstatic.com/colaboratory-static/widgets/colab-cdn-widget-manager/2b70e893a8ba7c0f/manager.min.js"
                }
              }
            }
          },
          "output_type": "display_data"
        },
        {
          "data": {
            "application/vnd.jupyter.widget-view+json": {
              "model_id": "af369d3982114a62bbd339b6b62cb509",
              "version_major": 2,
              "version_minor": 0
            },
            "text/plain": [
              "sentence_bert_config.json:   0%|          | 0.00/53.0 [00:00<?, ?B/s]"
            ]
          },
          "metadata": {
            "application/vnd.jupyter.widget-view+json": {
              "colab": {
                "custom_widget_manager": {
                  "url": "https://ssl.gstatic.com/colaboratory-static/widgets/colab-cdn-widget-manager/2b70e893a8ba7c0f/manager.min.js"
                }
              }
            }
          },
          "output_type": "display_data"
        },
        {
          "data": {
            "application/vnd.jupyter.widget-view+json": {
              "model_id": "c130e47f56224365bb71cc9ad48d7599",
              "version_major": 2,
              "version_minor": 0
            },
            "text/plain": [
              "config.json:   0%|          | 0.00/571 [00:00<?, ?B/s]"
            ]
          },
          "metadata": {
            "application/vnd.jupyter.widget-view+json": {
              "colab": {
                "custom_widget_manager": {
                  "url": "https://ssl.gstatic.com/colaboratory-static/widgets/colab-cdn-widget-manager/2b70e893a8ba7c0f/manager.min.js"
                }
              }
            }
          },
          "output_type": "display_data"
        },
        {
          "data": {
            "application/vnd.jupyter.widget-view+json": {
              "model_id": "643b665ebf734a6a96cdcd30e2847db0",
              "version_major": 2,
              "version_minor": 0
            },
            "text/plain": [
              "model.safetensors:   0%|          | 0.00/438M [00:00<?, ?B/s]"
            ]
          },
          "metadata": {
            "application/vnd.jupyter.widget-view+json": {
              "colab": {
                "custom_widget_manager": {
                  "url": "https://ssl.gstatic.com/colaboratory-static/widgets/colab-cdn-widget-manager/2b70e893a8ba7c0f/manager.min.js"
                }
              }
            }
          },
          "output_type": "display_data"
        },
        {
          "data": {
            "application/vnd.jupyter.widget-view+json": {
              "model_id": "6b843504bfa443d184c92fc2e59b5c7f",
              "version_major": 2,
              "version_minor": 0
            },
            "text/plain": [
              "tokenizer_config.json:   0%|          | 0.00/363 [00:00<?, ?B/s]"
            ]
          },
          "metadata": {
            "application/vnd.jupyter.widget-view+json": {
              "colab": {
                "custom_widget_manager": {
                  "url": "https://ssl.gstatic.com/colaboratory-static/widgets/colab-cdn-widget-manager/2b70e893a8ba7c0f/manager.min.js"
                }
              }
            }
          },
          "output_type": "display_data"
        },
        {
          "data": {
            "application/vnd.jupyter.widget-view+json": {
              "model_id": "1879f047a7e744239bec99310576cd46",
              "version_major": 2,
              "version_minor": 0
            },
            "text/plain": [
              "vocab.txt:   0%|          | 0.00/232k [00:00<?, ?B/s]"
            ]
          },
          "metadata": {
            "application/vnd.jupyter.widget-view+json": {
              "colab": {
                "custom_widget_manager": {
                  "url": "https://ssl.gstatic.com/colaboratory-static/widgets/colab-cdn-widget-manager/2b70e893a8ba7c0f/manager.min.js"
                }
              }
            }
          },
          "output_type": "display_data"
        },
        {
          "data": {
            "application/vnd.jupyter.widget-view+json": {
              "model_id": "a0da3c7a55e344e089dc76a1e4871146",
              "version_major": 2,
              "version_minor": 0
            },
            "text/plain": [
              "tokenizer.json:   0%|          | 0.00/466k [00:00<?, ?B/s]"
            ]
          },
          "metadata": {
            "application/vnd.jupyter.widget-view+json": {
              "colab": {
                "custom_widget_manager": {
                  "url": "https://ssl.gstatic.com/colaboratory-static/widgets/colab-cdn-widget-manager/2b70e893a8ba7c0f/manager.min.js"
                }
              }
            }
          },
          "output_type": "display_data"
        },
        {
          "data": {
            "application/vnd.jupyter.widget-view+json": {
              "model_id": "b051ffef303e4dda9c695ca9a30112c6",
              "version_major": 2,
              "version_minor": 0
            },
            "text/plain": [
              "special_tokens_map.json:   0%|          | 0.00/239 [00:00<?, ?B/s]"
            ]
          },
          "metadata": {
            "application/vnd.jupyter.widget-view+json": {
              "colab": {
                "custom_widget_manager": {
                  "url": "https://ssl.gstatic.com/colaboratory-static/widgets/colab-cdn-widget-manager/2b70e893a8ba7c0f/manager.min.js"
                }
              }
            }
          },
          "output_type": "display_data"
        },
        {
          "data": {
            "application/vnd.jupyter.widget-view+json": {
              "model_id": "07d1a3e098e94197a35e017200d9fb98",
              "version_major": 2,
              "version_minor": 0
            },
            "text/plain": [
              "config.json:   0%|          | 0.00/190 [00:00<?, ?B/s]"
            ]
          },
          "metadata": {},
          "output_type": "display_data"
        }
      ],
      "source": [
        "# Creating Word Embedding instance from HuggingFace\n",
        "embeddings = HuggingFaceEmbeddings(\n",
        "            model_name=embedding_model,\n",
        "            model_kwargs={'device': 'cpu'}\n",
        "        )"
      ]
    },
    {
      "cell_type": "code",
      "execution_count": null,
      "metadata": {
        "id": "UvCOaROrTz5S"
      },
      "outputs": [],
      "source": [
        "from langchain_community.vectorstores import Neo4jVector\n",
        "\n",
        "# Use the embeddings with Neo4jVector\n",
        "vector_index = Neo4jVector.from_existing_graph(\n",
        "    embeddings,\n",
        "    search_type=\"hybrid\",\n",
        "    node_label=\"Document\",\n",
        "    text_node_properties=[\"text\"],\n",
        "    embedding_node_property=\"embedding\"\n",
        ")"
      ]
    },
    {
      "cell_type": "code",
      "execution_count": null,
      "metadata": {
        "colab": {
          "base_uri": "https://localhost:8080/"
        },
        "id": "sfBIy-JHTz1x",
        "outputId": "59005ea6-ff68-4500-8f44-8f24362e6a7d"
      },
      "outputs": [
        {
          "data": {
            "text/plain": [
              "[]"
            ]
          },
          "execution_count": 25,
          "metadata": {},
          "output_type": "execute_result"
        }
      ],
      "source": [
        "graph.query(\"CREATE FULLTEXT INDEX entity IF NOT EXISTS FOR (e:__Entity__) ON EACH [e.id]\")"
      ]
    },
    {
      "cell_type": "markdown",
      "metadata": {
        "id": "-v3pN266r3OB"
      },
      "source": [
        "##Extracting Entities (Nodes) from the text given input"
      ]
    },
    {
      "cell_type": "code",
      "execution_count": null,
      "metadata": {
        "id": "MB0dmxczTzym"
      },
      "outputs": [],
      "source": [
        "from pydantic import BaseModel, Field\n",
        "# Extract entities from text\n",
        "class Entities(BaseModel):\n",
        "    \"\"\"Identifying information about entities.\"\"\"\n",
        "\n",
        "    names: List[str] = Field(\n",
        "        ...,\n",
        "        description=\"All the person, organization, or business entities that \"\n",
        "        \"appear in the text\",\n",
        "    )"
      ]
    },
    {
      "cell_type": "code",
      "execution_count": null,
      "metadata": {
        "id": "vSqpK6U6Tzlw"
      },
      "outputs": [],
      "source": [
        "# Creating Prompt Templates using Langchain\n",
        "from langchain_core.prompts import ChatPromptTemplate\n",
        "from langchain_core.prompts.prompt import PromptTemplate\n",
        "\n",
        "prompt = ChatPromptTemplate.from_messages(\n",
        "    [\n",
        "        (\n",
        "            \"system\",\n",
        "            \"You are extracting organization and person entities from the text.\",\n",
        "        ),\n",
        "        (\n",
        "            \"human\",\n",
        "            \"Use the given format to extract information from the following \"\n",
        "            \"input: {question}\",\n",
        "        ),\n",
        "    ]\n",
        ")"
      ]
    },
    {
      "cell_type": "code",
      "execution_count": null,
      "metadata": {
        "id": "8F6AWyxuVqGW"
      },
      "outputs": [],
      "source": [
        "entity_chain = prompt | llm.with_structured_output(Entities)"
      ]
    },
    {
      "cell_type": "code",
      "execution_count": null,
      "metadata": {
        "colab": {
          "base_uri": "https://localhost:8080/"
        },
        "id": "9Q6qHj24VqDJ",
        "outputId": "c283698a-b5a1-456b-89ee-aed8eb371fe1"
      },
      "outputs": [
        {
          "data": {
            "text/plain": [
              "['ZS', 'Broadband Allowances']"
            ]
          },
          "execution_count": 31,
          "metadata": {},
          "output_type": "execute_result"
        }
      ],
      "source": [
        "entity_chain.invoke({\"question\": \"Will ZS offer any Broadband Allowances?\"}).names"
      ]
    },
    {
      "cell_type": "markdown",
      "metadata": {
        "id": "NKrFd_82sPfR"
      },
      "source": [
        "##Graph Retrieval from the Question"
      ]
    },
    {
      "cell_type": "code",
      "execution_count": null,
      "metadata": {
        "id": "1VI-QZJoVqBC"
      },
      "outputs": [],
      "source": [
        "# Generates a full-text search query with fuzzy matching (~2) for Neo4j by sanitizing input and combining words using AND.\n",
        "from langchain_community.vectorstores.neo4j_vector import remove_lucene_chars\n",
        "\n",
        "def generate_full_text_query(input: str) -> str:\n",
        "    full_text_query = \"\"\n",
        "    words = [el for el in remove_lucene_chars(input).split() if el]\n",
        "    for word in words[:-1]:\n",
        "        full_text_query += f\" {word}~2 AND\"\n",
        "    full_text_query += f\" {words[-1]}~2\"\n",
        "    return full_text_query.strip()"
      ]
    },
    {
      "cell_type": "code",
      "execution_count": null,
      "metadata": {
        "id": "o1fzKZdnVp-A"
      },
      "outputs": [],
      "source": [
        "# Full text index query\n",
        "def structured_retriever(question: str) -> str:\n",
        "    result = \"\"\n",
        "    entities = entity_chain.invoke({\"question\": question})\n",
        "    for entity in entities.names:\n",
        "        response = graph.query(\n",
        "            \"\"\"CALL db.index.fulltext.queryNodes('entity', $query, {limit:2})\n",
        "            YIELD node,score\n",
        "            CALL {\n",
        "              WITH node\n",
        "              MATCH (node)-[r:!MENTIONS]->(neighbor)\n",
        "              RETURN node.id + ' - ' + type(r) + ' -> ' + neighbor.id AS output\n",
        "              UNION ALL\n",
        "              WITH node\n",
        "              MATCH (node)<-[r:!MENTIONS]-(neighbor)\n",
        "              RETURN neighbor.id + ' - ' + type(r) + ' -> ' +  node.id AS output\n",
        "            }\n",
        "            RETURN output LIMIT 50\n",
        "            \"\"\",\n",
        "            {\"query\": generate_full_text_query(entity)},\n",
        "        )\n",
        "        result += \"\\n\".join([el['output'] for el in response])\n",
        "    return result"
      ]
    },
    {
      "cell_type": "code",
      "execution_count": null,
      "metadata": {
        "colab": {
          "base_uri": "https://localhost:8080/"
        },
        "id": "qBIWywYaVp7Z",
        "outputId": "2fddaf4c-82d4-4333-cf64-b39f458b3361"
      },
      "outputs": [
        {
          "name": "stderr",
          "output_type": "stream",
          "text": [
            "<ipython-input-32-2132f4b34bad>:6: LangChainDeprecationWarning: The function `remove_lucene_chars` was deprecated in LangChain 0.3.8 and will be removed in 1.0. An updated version of the function exists in the :meth:`~langchain-neo4j package and should be used instead. To use it run `pip install -U :meth:`~langchain-neo4j` and import as `from :meth:`~langchain_neo4j.vectorstores.neo4j_vector import remove_lucene_chars``.\n",
            "  words = [el for el in remove_lucene_chars(input).split() if el]\n",
            "WARNING:neo4j.notifications:Received notification from DBMS server: {severity: WARNING} {code: Neo.ClientNotification.Statement.FeatureDeprecationWarning} {category: DEPRECATION} {title: This feature is deprecated and will be removed in future versions.} {description: CALL subquery without a variable scope clause is now deprecated. Use CALL (node, node) { ... }} {position: line: 3, column: 13, offset: 104} for query: \"CALL db.index.fulltext.queryNodes('entity', $query, {limit:2})\\n            YIELD node,score\\n            CALL {\\n              WITH node\\n              MATCH (node)-[r:!MENTIONS]->(neighbor)\\n              RETURN node.id + ' - ' + type(r) + ' -> ' + neighbor.id AS output\\n              UNION ALL\\n              WITH node\\n              MATCH (node)<-[r:!MENTIONS]-(neighbor)\\n              RETURN neighbor.id + ' - ' + type(r) + ' -> ' +  node.id AS output\\n            }\\n            RETURN output LIMIT 50\\n            \"\n"
          ]
        },
        {
          "name": "stdout",
          "output_type": "stream",
          "text": [
            "Zs - OFFERS -> Group Insurance Plan\n",
            "Zs - OFFERS -> Preventive Healthcare Coverage\n",
            "Zs - OFFERS -> Accident Insurance\n",
            "Zs - OFFERS -> Business Travel Insurance\n",
            "Zs - OFFERS -> Life Insurance\n",
            "Zs - EMPHASIZES -> Collaboration\n",
            "Zs - EMPHASIZES -> Innovation\n",
            "Zs - EMPHASIZES -> Intensity\n",
            "Zs - EMPHASIZES -> Quality\n",
            "Zs - FOLLOWS -> Client-First Approach\n",
            "Zs - FOLLOWS -> Monthly Payment Schedule\n",
            "Zs - PROVIDES -> Annual Gross Salary\n",
            "Zs - PROVIDES -> Starting Bonus\n",
            "Zs - PROVIDES -> Performance Bonus\n",
            "Zs - PROVIDES -> Emerging Leader Reward Program (Elrp)\n",
            "Zs - PROVIDES -> Elrp\n",
            "Zs - PROVIDES -> Annual Leave\n",
            "Zs - PROVIDES -> Holidays\n",
            "Zs - PROVIDES -> Sick Time\n",
            "Zs - PROVIDES -> Transportation Allowance\n",
            "Zs - PROVIDES -> Meal Allowance\n",
            "Zs - PROVIDES -> Relocation Assistance\n",
            "Zs - PROVIDES -> Guest_House\n",
            "Zs - PROVIDES -> Relocation_Allowance\n",
            "Zs - EMPLOYS -> Associates\n",
            "Zs - EMPLOYS -> Employee\n",
            "Zs - EMPLOYS -> Employment\n",
            "Zs - CONDUCTS -> Salary Review\n",
            "Zs - PAYS -> Starting Bonus\n",
            "Zs - REQUIRES -> High_Speed_Broadband_Connection\n",
            "Zs - REQUIRES_RETURN_IF_NOT_EMPLOYED_CONTINUOUSLY_FOR_8_MONTHS -> Elrp\n",
            "Zs - DETERMINES -> Bonus\n",
            "Zs - ENROLLS_IN -> Provident Fund\n",
            "Zs - CONTRIBUTES -> Contribution Details\n",
            "Zs - PROVIDES_ALLOWANCE -> Broadband_Allowance\n",
            "Zs - REIMBURSES -> Installation_Charge\n",
            "Zs - CONDUCTS_AUDITS -> Audit\n",
            "Zstart_Academy - PROVIDES -> Zs\n",
            "Employee - EMPLOYED_BY -> Zs\n",
            "Gratuity - PROVIDED_BY -> Zs\n",
            "Orientation_Program - DESIGNED_FOR -> Zs\n",
            "Job Offer - OFFERED_BY -> Zs\n",
            "Session - PROVIDES_OPPORTUNITY -> Zs Associates\n"
          ]
        }
      ],
      "source": [
        "print(structured_retriever(\"Will ZS offer any Broadband Allowances?\"))"
      ]
    },
    {
      "cell_type": "markdown",
      "metadata": {
        "id": "W5ryKEnKsZ0y"
      },
      "source": [
        "##Combining results from a structured retriever and a vector-based similarity search\n"
      ]
    },
    {
      "cell_type": "code",
      "execution_count": null,
      "metadata": {
        "id": "CaX6YRB3Vp5B"
      },
      "outputs": [],
      "source": [
        "# Retrieves structured and unstructured data based on the input question.\n",
        "\n",
        "def retriever(question: str):\n",
        "    print(f\"Search query: {question}\")\n",
        "    structured_data = structured_retriever(question)\n",
        "    unstructured_data = [el.page_content for el in vector_index.similarity_search(question)]\n",
        "    final_data = f\"\"\"Structured data:\n",
        "      {structured_data}\n",
        "      Unstructured data:\n",
        "      {\"#Document \". join(unstructured_data)}\n",
        "          \"\"\"\n",
        "    return final_data"
      ]
    },
    {
      "cell_type": "code",
      "execution_count": null,
      "metadata": {
        "id": "TFkJFCWJVp2a"
      },
      "outputs": [],
      "source": [
        "_template = \"\"\"Given the following conversation and a follow up question, rephrase the follow up question to be a standalone question,\n",
        "in its original language.\n",
        "Chat History:\n",
        "{chat_history}\n",
        "Follow Up Input: {question}\n",
        "Standalone question:\"\"\""
      ]
    },
    {
      "cell_type": "code",
      "execution_count": null,
      "metadata": {
        "id": "Skpxz-WsVpzr"
      },
      "outputs": [],
      "source": [
        "CONDENSE_QUESTION_PROMPT = PromptTemplate.from_template(_template)"
      ]
    },
    {
      "cell_type": "code",
      "execution_count": null,
      "metadata": {
        "id": "khFyAhmNVpxJ"
      },
      "outputs": [],
      "source": [
        "def _format_chat_history(chat_history: List[Tuple[str, str]]) -> List:\n",
        "    buffer = []\n",
        "    for human, ai in chat_history:\n",
        "        buffer.append(HumanMessage(content=human))\n",
        "        buffer.append(AIMessage(content=ai))\n",
        "    return buffer"
      ]
    },
    {
      "cell_type": "code",
      "execution_count": null,
      "metadata": {
        "id": "aqV3DTxNWUYJ"
      },
      "outputs": [],
      "source": [
        "_search_query = RunnableBranch(\n",
        "    # If input includes chat_history, we condense it with the follow-up question\n",
        "    (\n",
        "        RunnableLambda(lambda x: bool(x.get(\"chat_history\"))).with_config(\n",
        "            run_name=\"HasChatHistoryCheck\"\n",
        "        ),  # Condense follow-up question and chat into a standalone_question\n",
        "        RunnablePassthrough.assign(\n",
        "            chat_history=lambda x: _format_chat_history(x[\"chat_history\"])\n",
        "        )\n",
        "        | CONDENSE_QUESTION_PROMPT\n",
        "        | llm\n",
        "        | StrOutputParser(),\n",
        "    ),\n",
        "    # Else, we have no chat history, so just pass through the question\n",
        "    RunnableLambda(lambda x : x[\"question\"]),\n",
        ")"
      ]
    },
    {
      "cell_type": "code",
      "execution_count": null,
      "metadata": {
        "id": "oKjCWzWCWUVu"
      },
      "outputs": [],
      "source": [
        "template = \"\"\"Answer the question based only on the following context:\n",
        "{context}\n",
        "\n",
        "Question: {question}\n",
        "\n",
        "Provide a concise context (2-3 sentences) for this chunk, considering the following guidelines:\n",
        "        1. Identify the main topic or metric discussed .\n",
        "        2. Mention any relevant time periods or comparisons .\n",
        "        3. Include any key figures or percentages that provide important context.\n",
        "        4. Do not use phrases like \"This chunk discusses\" or \"This section provides\". Instead, directly state the context.\n",
        "\n",
        "Answer:\"\"\"\n"
      ]
    },
    {
      "cell_type": "code",
      "execution_count": null,
      "metadata": {
        "id": "6w1RpMHNWUTF"
      },
      "outputs": [],
      "source": [
        "prompt = ChatPromptTemplate.from_template(template)"
      ]
    },
    {
      "cell_type": "code",
      "execution_count": null,
      "metadata": {
        "id": "yeBQnBReVpup"
      },
      "outputs": [],
      "source": [
        "# Creates a processing chain where a search query is retrieved, passed to a prompt, sent to an LLM, and then parsed into a string output.\n",
        "chain = (\n",
        "    RunnableParallel(\n",
        "        {\n",
        "            \"context\": _search_query | retriever,\n",
        "            \"question\": RunnablePassthrough(),\n",
        "        }\n",
        "    )\n",
        "    | prompt\n",
        "    | llm\n",
        "    | StrOutputParser()\n",
        ")"
      ]
    },
    {
      "cell_type": "code",
      "execution_count": null,
      "metadata": {
        "colab": {
          "base_uri": "https://localhost:8080/",
          "height": 255
        },
        "id": "c0LqYoLVWgss",
        "outputId": "b40248c1-0e14-48b9-c868-4e62d540fa68"
      },
      "outputs": [
        {
          "name": "stdout",
          "output_type": "stream",
          "text": [
            "Search query: Will ZS offer any Broadband Allowances?\n"
          ]
        },
        {
          "name": "stderr",
          "output_type": "stream",
          "text": [
            "WARNING:neo4j.notifications:Received notification from DBMS server: {severity: WARNING} {code: Neo.ClientNotification.Statement.FeatureDeprecationWarning} {category: DEPRECATION} {title: This feature is deprecated and will be removed in future versions.} {description: CALL subquery without a variable scope clause is now deprecated. Use CALL (node, node) { ... }} {position: line: 3, column: 13, offset: 104} for query: \"CALL db.index.fulltext.queryNodes('entity', $query, {limit:2})\\n            YIELD node,score\\n            CALL {\\n              WITH node\\n              MATCH (node)-[r:!MENTIONS]->(neighbor)\\n              RETURN node.id + ' - ' + type(r) + ' -> ' + neighbor.id AS output\\n              UNION ALL\\n              WITH node\\n              MATCH (node)<-[r:!MENTIONS]-(neighbor)\\n              RETURN neighbor.id + ' - ' + type(r) + ' -> ' +  node.id AS output\\n            }\\n            RETURN output LIMIT 50\\n            \"\n",
            "WARNING:neo4j.notifications:Received notification from DBMS server: {severity: WARNING} {code: Neo.ClientNotification.Statement.FeatureDeprecationWarning} {category: DEPRECATION} {title: This feature is deprecated and will be removed in future versions.} {description: CALL subquery without a variable scope clause is now deprecated. Use CALL () { ... }} {position: line: 1, column: 1, offset: 0} for query: \"CALL { CALL db.index.vector.queryNodes($index, $k, $embedding) YIELD node, score WITH collect({node:node, score:score}) AS nodes, max(score) AS max UNWIND nodes AS n RETURN n.node AS node, (n.score / max) AS score UNION CALL db.index.fulltext.queryNodes($keyword_index, $query, {limit: $k}) YIELD node, score WITH collect({node:node, score:score}) AS nodes, max(score) AS max UNWIND nodes AS n RETURN n.node AS node, (n.score / max) AS score } WITH node, max(score) AS score ORDER BY score DESC LIMIT $k RETURN reduce(str='', k IN ['text'] | str + '\\\\n' + k + ': ' + coalesce(node[k], '')) AS text, node {.*, `embedding`: Null, id: Null, `text`: Null} AS metadata, score\"\n"
          ]
        },
        {
          "data": {
            "application/vnd.google.colaboratory.intrinsic+json": {
              "type": "string"
            },
            "text/plain": [
              "\"<think>\\nOkay, I need to figure out if ZS offers any Broadband Allowances. Let me go through the provided context step by step.\\n\\nFirst, looking at the structured data, I see that Zs Associates India Private Ltd. offers a position called Business Technology Solutions Associate to Subhadip De. The unstructured data has several documents. \\n\\nIn the first document, it mentions that ZS will provide a broadband allowance of INR ₹1,500 per month through payroll. They also reimburse a one-time installation charge of INR ₹500. They expect the employee to have a high-speed connection, at least 2.0 MBPS, for remote work. Additionally, ZS can audit the usage of this allowance randomly.\\n\\nThe second document is the salary breakup, which includes the Broadband Allowance as a separate component amounting to INR 18,000 annually. This is calculated as INR 1,500 per month. \\n\\nThe other documents talk about the offer being contingent on background verification and relocation assistance, but those aren't directly related to the broadband allowance.\\n\\nSo, putting it all together, ZS does offer a Broadband Allowance. It's a monthly stipend of ₹1,500, which totals ₹18,000 per year. They also cover a one-time installation fee of ₹500. This is part of their salary structure and benefits package to support remote work with a reliable internet connection.\\n</think>\\n\\nZS offers a Broadband Allowance of ₹1,500 per month, totaling ₹18,000 annually, and reimburses a one-time installation charge of ₹500 to support remote work with a high-speed connection.\""
            ]
          },
          "execution_count": 47,
          "metadata": {},
          "output_type": "execute_result"
        }
      ],
      "source": [
        "chain.invoke({\"question\": \"Will ZS offer any Broadband Allowances?\"})"
      ]
    },
    {
      "cell_type": "code",
      "execution_count": null,
      "metadata": {
        "id": "U4jXpksaWgpT"
      },
      "outputs": [],
      "source": [
        "# chain.invoke(\n",
        "#     {\n",
        "#         \"question\": \"When was she born?\",\n",
        "#         \"chat_history\": [(\"Which house did Elizabeth I belong to?\", \"House Of Tudor\")],\n",
        "#     }\n",
        "# )"
      ]
    },
    {
      "cell_type": "code",
      "execution_count": null,
      "metadata": {
        "id": "KljTxjhoWgiL"
      },
      "outputs": [],
      "source": []
    }
  ],
  "metadata": {
    "colab": {
      "collapsed_sections": [
        "eyN_RBsiqYSz"
      ],
      "provenance": []
    },
    "kernelspec": {
      "display_name": "Python 3",
      "name": "python3"
    },
    "language_info": {
      "name": "python"
    },
    "widgets": {
      "application/vnd.jupyter.widget-state+json": {
        "0032b05cc0cb4d14a509c0636093a677": {
          "model_module": "@jupyter-widgets/controls",
          "model_module_version": "1.5.0",
          "model_name": "ProgressStyleModel",
          "state": {
            "_model_module": "@jupyter-widgets/controls",
            "_model_module_version": "1.5.0",
            "_model_name": "ProgressStyleModel",
            "_view_count": null,
            "_view_module": "@jupyter-widgets/base",
            "_view_module_version": "1.2.0",
            "_view_name": "StyleView",
            "bar_color": null,
            "description_width": ""
          }
        },
        "0095fec9ce8e472e82d186390fe0e2d8": {
          "model_module": "@jupyter-widgets/controls",
          "model_module_version": "1.5.0",
          "model_name": "HTMLModel",
          "state": {
            "_dom_classes": [],
            "_model_module": "@jupyter-widgets/controls",
            "_model_module_version": "1.5.0",
            "_model_name": "HTMLModel",
            "_view_count": null,
            "_view_module": "@jupyter-widgets/controls",
            "_view_module_version": "1.5.0",
            "_view_name": "HTMLView",
            "description": "",
            "description_tooltip": null,
            "layout": "IPY_MODEL_cb795e84573e4db293f44e246126487a",
            "placeholder": "​",
            "style": "IPY_MODEL_4bfc10a9f16a4fe0b6003caaf81143ee",
            "value": "config_sentence_transformers.json: 100%"
          }
        },
        "01f693371caf46aebcf244bf45e70e10": {
          "model_module": "@jupyter-widgets/base",
          "model_module_version": "1.2.0",
          "model_name": "LayoutModel",
          "state": {
            "_model_module": "@jupyter-widgets/base",
            "_model_module_version": "1.2.0",
            "_model_name": "LayoutModel",
            "_view_count": null,
            "_view_module": "@jupyter-widgets/base",
            "_view_module_version": "1.2.0",
            "_view_name": "LayoutView",
            "align_content": null,
            "align_items": null,
            "align_self": null,
            "border": null,
            "bottom": null,
            "display": null,
            "flex": null,
            "flex_flow": null,
            "grid_area": null,
            "grid_auto_columns": null,
            "grid_auto_flow": null,
            "grid_auto_rows": null,
            "grid_column": null,
            "grid_gap": null,
            "grid_row": null,
            "grid_template_areas": null,
            "grid_template_columns": null,
            "grid_template_rows": null,
            "height": null,
            "justify_content": null,
            "justify_items": null,
            "left": null,
            "margin": null,
            "max_height": null,
            "max_width": null,
            "min_height": null,
            "min_width": null,
            "object_fit": null,
            "object_position": null,
            "order": null,
            "overflow": null,
            "overflow_x": null,
            "overflow_y": null,
            "padding": null,
            "right": null,
            "top": null,
            "visibility": null,
            "width": null
          }
        },
        "03972232df754c11a98a94bfa947ad4a": {
          "model_module": "@jupyter-widgets/base",
          "model_module_version": "1.2.0",
          "model_name": "LayoutModel",
          "state": {
            "_model_module": "@jupyter-widgets/base",
            "_model_module_version": "1.2.0",
            "_model_name": "LayoutModel",
            "_view_count": null,
            "_view_module": "@jupyter-widgets/base",
            "_view_module_version": "1.2.0",
            "_view_name": "LayoutView",
            "align_content": null,
            "align_items": null,
            "align_self": null,
            "border": null,
            "bottom": null,
            "display": null,
            "flex": null,
            "flex_flow": null,
            "grid_area": null,
            "grid_auto_columns": null,
            "grid_auto_flow": null,
            "grid_auto_rows": null,
            "grid_column": null,
            "grid_gap": null,
            "grid_row": null,
            "grid_template_areas": null,
            "grid_template_columns": null,
            "grid_template_rows": null,
            "height": null,
            "justify_content": null,
            "justify_items": null,
            "left": null,
            "margin": null,
            "max_height": null,
            "max_width": null,
            "min_height": null,
            "min_width": null,
            "object_fit": null,
            "object_position": null,
            "order": null,
            "overflow": null,
            "overflow_x": null,
            "overflow_y": null,
            "padding": null,
            "right": null,
            "top": null,
            "visibility": null,
            "width": null
          }
        },
        "062a1707ae2147b58d81d32b895e1b97": {
          "model_module": "@jupyter-widgets/controls",
          "model_module_version": "1.5.0",
          "model_name": "HTMLModel",
          "state": {
            "_dom_classes": [],
            "_model_module": "@jupyter-widgets/controls",
            "_model_module_version": "1.5.0",
            "_model_name": "HTMLModel",
            "_view_count": null,
            "_view_module": "@jupyter-widgets/controls",
            "_view_module_version": "1.5.0",
            "_view_name": "HTMLView",
            "description": "",
            "description_tooltip": null,
            "layout": "IPY_MODEL_98123ab4e207489e85d0db1f921ce5e6",
            "placeholder": "​",
            "style": "IPY_MODEL_a920ee50cf924ebf9ec088afd52604d9",
            "value": " 116/116 [00:00&lt;00:00, 5.49kB/s]"
          }
        },
        "07d1a3e098e94197a35e017200d9fb98": {
          "model_module": "@jupyter-widgets/controls",
          "model_module_version": "1.5.0",
          "model_name": "HBoxModel",
          "state": {
            "_dom_classes": [],
            "_model_module": "@jupyter-widgets/controls",
            "_model_module_version": "1.5.0",
            "_model_name": "HBoxModel",
            "_view_count": null,
            "_view_module": "@jupyter-widgets/controls",
            "_view_module_version": "1.5.0",
            "_view_name": "HBoxView",
            "box_style": "",
            "children": [
              "IPY_MODEL_89e0174175cc40a6a2c6bfe7c507b667",
              "IPY_MODEL_1a17418ead3b49c1a2c57c1d3eb2ec33",
              "IPY_MODEL_ea47f7d77fea455292a6b202e8936091"
            ],
            "layout": "IPY_MODEL_2569ccff00c64e83be0c306aea9c97db"
          }
        },
        "086c73bebce147a5b4d57311002adbb7": {
          "model_module": "@jupyter-widgets/controls",
          "model_module_version": "1.5.0",
          "model_name": "DescriptionStyleModel",
          "state": {
            "_model_module": "@jupyter-widgets/controls",
            "_model_module_version": "1.5.0",
            "_model_name": "DescriptionStyleModel",
            "_view_count": null,
            "_view_module": "@jupyter-widgets/base",
            "_view_module_version": "1.2.0",
            "_view_name": "StyleView",
            "description_width": ""
          }
        },
        "0df4b7231ecb4fb889686d775e70b6e0": {
          "model_module": "@jupyter-widgets/base",
          "model_module_version": "1.2.0",
          "model_name": "LayoutModel",
          "state": {
            "_model_module": "@jupyter-widgets/base",
            "_model_module_version": "1.2.0",
            "_model_name": "LayoutModel",
            "_view_count": null,
            "_view_module": "@jupyter-widgets/base",
            "_view_module_version": "1.2.0",
            "_view_name": "LayoutView",
            "align_content": null,
            "align_items": null,
            "align_self": null,
            "border": null,
            "bottom": null,
            "display": null,
            "flex": null,
            "flex_flow": null,
            "grid_area": null,
            "grid_auto_columns": null,
            "grid_auto_flow": null,
            "grid_auto_rows": null,
            "grid_column": null,
            "grid_gap": null,
            "grid_row": null,
            "grid_template_areas": null,
            "grid_template_columns": null,
            "grid_template_rows": null,
            "height": null,
            "justify_content": null,
            "justify_items": null,
            "left": null,
            "margin": null,
            "max_height": null,
            "max_width": null,
            "min_height": null,
            "min_width": null,
            "object_fit": null,
            "object_position": null,
            "order": null,
            "overflow": null,
            "overflow_x": null,
            "overflow_y": null,
            "padding": null,
            "right": null,
            "top": null,
            "visibility": null,
            "width": null
          }
        },
        "0f8020856e7742bf9a3b9cac9c1f1b5b": {
          "model_module": "@jupyter-widgets/controls",
          "model_module_version": "1.5.0",
          "model_name": "DescriptionStyleModel",
          "state": {
            "_model_module": "@jupyter-widgets/controls",
            "_model_module_version": "1.5.0",
            "_model_name": "DescriptionStyleModel",
            "_view_count": null,
            "_view_module": "@jupyter-widgets/base",
            "_view_module_version": "1.2.0",
            "_view_name": "StyleView",
            "description_width": ""
          }
        },
        "112acf92a6504ae98f1f2b57e673ed94": {
          "model_module": "@jupyter-widgets/controls",
          "model_module_version": "1.5.0",
          "model_name": "DescriptionStyleModel",
          "state": {
            "_model_module": "@jupyter-widgets/controls",
            "_model_module_version": "1.5.0",
            "_model_name": "DescriptionStyleModel",
            "_view_count": null,
            "_view_module": "@jupyter-widgets/base",
            "_view_module_version": "1.2.0",
            "_view_name": "StyleView",
            "description_width": ""
          }
        },
        "1296d392c58943e68ca312c1450df165": {
          "model_module": "@jupyter-widgets/base",
          "model_module_version": "1.2.0",
          "model_name": "LayoutModel",
          "state": {
            "_model_module": "@jupyter-widgets/base",
            "_model_module_version": "1.2.0",
            "_model_name": "LayoutModel",
            "_view_count": null,
            "_view_module": "@jupyter-widgets/base",
            "_view_module_version": "1.2.0",
            "_view_name": "LayoutView",
            "align_content": null,
            "align_items": null,
            "align_self": null,
            "border": null,
            "bottom": null,
            "display": null,
            "flex": null,
            "flex_flow": null,
            "grid_area": null,
            "grid_auto_columns": null,
            "grid_auto_flow": null,
            "grid_auto_rows": null,
            "grid_column": null,
            "grid_gap": null,
            "grid_row": null,
            "grid_template_areas": null,
            "grid_template_columns": null,
            "grid_template_rows": null,
            "height": null,
            "justify_content": null,
            "justify_items": null,
            "left": null,
            "margin": null,
            "max_height": null,
            "max_width": null,
            "min_height": null,
            "min_width": null,
            "object_fit": null,
            "object_position": null,
            "order": null,
            "overflow": null,
            "overflow_x": null,
            "overflow_y": null,
            "padding": null,
            "right": null,
            "top": null,
            "visibility": null,
            "width": null
          }
        },
        "1464dd0b60704a599297a132ed2f0b86": {
          "model_module": "@jupyter-widgets/base",
          "model_module_version": "1.2.0",
          "model_name": "LayoutModel",
          "state": {
            "_model_module": "@jupyter-widgets/base",
            "_model_module_version": "1.2.0",
            "_model_name": "LayoutModel",
            "_view_count": null,
            "_view_module": "@jupyter-widgets/base",
            "_view_module_version": "1.2.0",
            "_view_name": "LayoutView",
            "align_content": null,
            "align_items": null,
            "align_self": null,
            "border": null,
            "bottom": null,
            "display": null,
            "flex": null,
            "flex_flow": null,
            "grid_area": null,
            "grid_auto_columns": null,
            "grid_auto_flow": null,
            "grid_auto_rows": null,
            "grid_column": null,
            "grid_gap": null,
            "grid_row": null,
            "grid_template_areas": null,
            "grid_template_columns": null,
            "grid_template_rows": null,
            "height": null,
            "justify_content": null,
            "justify_items": null,
            "left": null,
            "margin": null,
            "max_height": null,
            "max_width": null,
            "min_height": null,
            "min_width": null,
            "object_fit": null,
            "object_position": null,
            "order": null,
            "overflow": null,
            "overflow_x": null,
            "overflow_y": null,
            "padding": null,
            "right": null,
            "top": null,
            "visibility": null,
            "width": null
          }
        },
        "148156f88224446c8384f5481fb5e47f": {
          "model_module": "@jupyter-widgets/controls",
          "model_module_version": "1.5.0",
          "model_name": "FloatProgressModel",
          "state": {
            "_dom_classes": [],
            "_model_module": "@jupyter-widgets/controls",
            "_model_module_version": "1.5.0",
            "_model_name": "FloatProgressModel",
            "_view_count": null,
            "_view_module": "@jupyter-widgets/controls",
            "_view_module_version": "1.5.0",
            "_view_name": "ProgressView",
            "bar_style": "success",
            "description": "",
            "description_tooltip": null,
            "layout": "IPY_MODEL_6a381cba614e4a78adadc9b7831e6cc0",
            "max": 53,
            "min": 0,
            "orientation": "horizontal",
            "style": "IPY_MODEL_fbaff09bffe34ed983a84b27b5e981f2",
            "value": 53
          }
        },
        "148faf48a9bc4aa3bea518b44093b958": {
          "model_module": "@jupyter-widgets/base",
          "model_module_version": "1.2.0",
          "model_name": "LayoutModel",
          "state": {
            "_model_module": "@jupyter-widgets/base",
            "_model_module_version": "1.2.0",
            "_model_name": "LayoutModel",
            "_view_count": null,
            "_view_module": "@jupyter-widgets/base",
            "_view_module_version": "1.2.0",
            "_view_name": "LayoutView",
            "align_content": null,
            "align_items": null,
            "align_self": null,
            "border": null,
            "bottom": null,
            "display": null,
            "flex": null,
            "flex_flow": null,
            "grid_area": null,
            "grid_auto_columns": null,
            "grid_auto_flow": null,
            "grid_auto_rows": null,
            "grid_column": null,
            "grid_gap": null,
            "grid_row": null,
            "grid_template_areas": null,
            "grid_template_columns": null,
            "grid_template_rows": null,
            "height": null,
            "justify_content": null,
            "justify_items": null,
            "left": null,
            "margin": null,
            "max_height": null,
            "max_width": null,
            "min_height": null,
            "min_width": null,
            "object_fit": null,
            "object_position": null,
            "order": null,
            "overflow": null,
            "overflow_x": null,
            "overflow_y": null,
            "padding": null,
            "right": null,
            "top": null,
            "visibility": null,
            "width": null
          }
        },
        "159f92f3419943a9874465c9364eab26": {
          "model_module": "@jupyter-widgets/base",
          "model_module_version": "1.2.0",
          "model_name": "LayoutModel",
          "state": {
            "_model_module": "@jupyter-widgets/base",
            "_model_module_version": "1.2.0",
            "_model_name": "LayoutModel",
            "_view_count": null,
            "_view_module": "@jupyter-widgets/base",
            "_view_module_version": "1.2.0",
            "_view_name": "LayoutView",
            "align_content": null,
            "align_items": null,
            "align_self": null,
            "border": null,
            "bottom": null,
            "display": null,
            "flex": null,
            "flex_flow": null,
            "grid_area": null,
            "grid_auto_columns": null,
            "grid_auto_flow": null,
            "grid_auto_rows": null,
            "grid_column": null,
            "grid_gap": null,
            "grid_row": null,
            "grid_template_areas": null,
            "grid_template_columns": null,
            "grid_template_rows": null,
            "height": null,
            "justify_content": null,
            "justify_items": null,
            "left": null,
            "margin": null,
            "max_height": null,
            "max_width": null,
            "min_height": null,
            "min_width": null,
            "object_fit": null,
            "object_position": null,
            "order": null,
            "overflow": null,
            "overflow_x": null,
            "overflow_y": null,
            "padding": null,
            "right": null,
            "top": null,
            "visibility": null,
            "width": null
          }
        },
        "1879f047a7e744239bec99310576cd46": {
          "model_module": "@jupyter-widgets/controls",
          "model_module_version": "1.5.0",
          "model_name": "HBoxModel",
          "state": {
            "_dom_classes": [],
            "_model_module": "@jupyter-widgets/controls",
            "_model_module_version": "1.5.0",
            "_model_name": "HBoxModel",
            "_view_count": null,
            "_view_module": "@jupyter-widgets/controls",
            "_view_module_version": "1.5.0",
            "_view_name": "HBoxView",
            "box_style": "",
            "children": [
              "IPY_MODEL_80c6b9732c694c90ad155966231f1489",
              "IPY_MODEL_67ba6f352e874a2e8b23415f9e5efa71",
              "IPY_MODEL_4defa666451f4eaca63d529f196e8ed1"
            ],
            "layout": "IPY_MODEL_b5402dcf784045a79b433db2ace92418"
          }
        },
        "191d9c08db1d48559ca64474ca96cdfd": {
          "model_module": "@jupyter-widgets/base",
          "model_module_version": "1.2.0",
          "model_name": "LayoutModel",
          "state": {
            "_model_module": "@jupyter-widgets/base",
            "_model_module_version": "1.2.0",
            "_model_name": "LayoutModel",
            "_view_count": null,
            "_view_module": "@jupyter-widgets/base",
            "_view_module_version": "1.2.0",
            "_view_name": "LayoutView",
            "align_content": null,
            "align_items": null,
            "align_self": null,
            "border": null,
            "bottom": null,
            "display": null,
            "flex": null,
            "flex_flow": null,
            "grid_area": null,
            "grid_auto_columns": null,
            "grid_auto_flow": null,
            "grid_auto_rows": null,
            "grid_column": null,
            "grid_gap": null,
            "grid_row": null,
            "grid_template_areas": null,
            "grid_template_columns": null,
            "grid_template_rows": null,
            "height": null,
            "justify_content": null,
            "justify_items": null,
            "left": null,
            "margin": null,
            "max_height": null,
            "max_width": null,
            "min_height": null,
            "min_width": null,
            "object_fit": null,
            "object_position": null,
            "order": null,
            "overflow": null,
            "overflow_x": null,
            "overflow_y": null,
            "padding": null,
            "right": null,
            "top": null,
            "visibility": null,
            "width": null
          }
        },
        "1a17418ead3b49c1a2c57c1d3eb2ec33": {
          "model_module": "@jupyter-widgets/controls",
          "model_module_version": "1.5.0",
          "model_name": "FloatProgressModel",
          "state": {
            "_dom_classes": [],
            "_model_module": "@jupyter-widgets/controls",
            "_model_module_version": "1.5.0",
            "_model_name": "FloatProgressModel",
            "_view_count": null,
            "_view_module": "@jupyter-widgets/controls",
            "_view_module_version": "1.5.0",
            "_view_name": "ProgressView",
            "bar_style": "success",
            "description": "",
            "description_tooltip": null,
            "layout": "IPY_MODEL_148faf48a9bc4aa3bea518b44093b958",
            "max": 190,
            "min": 0,
            "orientation": "horizontal",
            "style": "IPY_MODEL_88a04cab69bc4c0fa6df22d0ffa281b7",
            "value": 190
          }
        },
        "1a5093e766a84509bc7f3375346bb5a6": {
          "model_module": "@jupyter-widgets/base",
          "model_module_version": "1.2.0",
          "model_name": "LayoutModel",
          "state": {
            "_model_module": "@jupyter-widgets/base",
            "_model_module_version": "1.2.0",
            "_model_name": "LayoutModel",
            "_view_count": null,
            "_view_module": "@jupyter-widgets/base",
            "_view_module_version": "1.2.0",
            "_view_name": "LayoutView",
            "align_content": null,
            "align_items": null,
            "align_self": null,
            "border": null,
            "bottom": null,
            "display": null,
            "flex": null,
            "flex_flow": null,
            "grid_area": null,
            "grid_auto_columns": null,
            "grid_auto_flow": null,
            "grid_auto_rows": null,
            "grid_column": null,
            "grid_gap": null,
            "grid_row": null,
            "grid_template_areas": null,
            "grid_template_columns": null,
            "grid_template_rows": null,
            "height": null,
            "justify_content": null,
            "justify_items": null,
            "left": null,
            "margin": null,
            "max_height": null,
            "max_width": null,
            "min_height": null,
            "min_width": null,
            "object_fit": null,
            "object_position": null,
            "order": null,
            "overflow": null,
            "overflow_x": null,
            "overflow_y": null,
            "padding": null,
            "right": null,
            "top": null,
            "visibility": null,
            "width": null
          }
        },
        "1e423600e880484f86fe1a6fe6bd149b": {
          "model_module": "@jupyter-widgets/base",
          "model_module_version": "1.2.0",
          "model_name": "LayoutModel",
          "state": {
            "_model_module": "@jupyter-widgets/base",
            "_model_module_version": "1.2.0",
            "_model_name": "LayoutModel",
            "_view_count": null,
            "_view_module": "@jupyter-widgets/base",
            "_view_module_version": "1.2.0",
            "_view_name": "LayoutView",
            "align_content": null,
            "align_items": null,
            "align_self": null,
            "border": null,
            "bottom": null,
            "display": null,
            "flex": null,
            "flex_flow": null,
            "grid_area": null,
            "grid_auto_columns": null,
            "grid_auto_flow": null,
            "grid_auto_rows": null,
            "grid_column": null,
            "grid_gap": null,
            "grid_row": null,
            "grid_template_areas": null,
            "grid_template_columns": null,
            "grid_template_rows": null,
            "height": null,
            "justify_content": null,
            "justify_items": null,
            "left": null,
            "margin": null,
            "max_height": null,
            "max_width": null,
            "min_height": null,
            "min_width": null,
            "object_fit": null,
            "object_position": null,
            "order": null,
            "overflow": null,
            "overflow_x": null,
            "overflow_y": null,
            "padding": null,
            "right": null,
            "top": null,
            "visibility": null,
            "width": null
          }
        },
        "1fe27d3d254e49b099f90d34d0acc3c0": {
          "model_module": "@jupyter-widgets/controls",
          "model_module_version": "1.5.0",
          "model_name": "DescriptionStyleModel",
          "state": {
            "_model_module": "@jupyter-widgets/controls",
            "_model_module_version": "1.5.0",
            "_model_name": "DescriptionStyleModel",
            "_view_count": null,
            "_view_module": "@jupyter-widgets/base",
            "_view_module_version": "1.2.0",
            "_view_name": "StyleView",
            "description_width": ""
          }
        },
        "23419445182649ffb6cd18c4a9123e27": {
          "model_module": "@jupyter-widgets/controls",
          "model_module_version": "1.5.0",
          "model_name": "HTMLModel",
          "state": {
            "_dom_classes": [],
            "_model_module": "@jupyter-widgets/controls",
            "_model_module_version": "1.5.0",
            "_model_name": "HTMLModel",
            "_view_count": null,
            "_view_module": "@jupyter-widgets/controls",
            "_view_module_version": "1.5.0",
            "_view_name": "HTMLView",
            "description": "",
            "description_tooltip": null,
            "layout": "IPY_MODEL_c3689930227841af911d6d763fc84d0a",
            "placeholder": "​",
            "style": "IPY_MODEL_f2493c8a040d4685bd549ebfee3f9a0e",
            "value": "model.safetensors: 100%"
          }
        },
        "249e950dc8624808ba27dcf7f8054740": {
          "model_module": "@jupyter-widgets/base",
          "model_module_version": "1.2.0",
          "model_name": "LayoutModel",
          "state": {
            "_model_module": "@jupyter-widgets/base",
            "_model_module_version": "1.2.0",
            "_model_name": "LayoutModel",
            "_view_count": null,
            "_view_module": "@jupyter-widgets/base",
            "_view_module_version": "1.2.0",
            "_view_name": "LayoutView",
            "align_content": null,
            "align_items": null,
            "align_self": null,
            "border": null,
            "bottom": null,
            "display": null,
            "flex": null,
            "flex_flow": null,
            "grid_area": null,
            "grid_auto_columns": null,
            "grid_auto_flow": null,
            "grid_auto_rows": null,
            "grid_column": null,
            "grid_gap": null,
            "grid_row": null,
            "grid_template_areas": null,
            "grid_template_columns": null,
            "grid_template_rows": null,
            "height": null,
            "justify_content": null,
            "justify_items": null,
            "left": null,
            "margin": null,
            "max_height": null,
            "max_width": null,
            "min_height": null,
            "min_width": null,
            "object_fit": null,
            "object_position": null,
            "order": null,
            "overflow": null,
            "overflow_x": null,
            "overflow_y": null,
            "padding": null,
            "right": null,
            "top": null,
            "visibility": null,
            "width": null
          }
        },
        "24cd6c9c41444c4c96397433cafad862": {
          "model_module": "@jupyter-widgets/base",
          "model_module_version": "1.2.0",
          "model_name": "LayoutModel",
          "state": {
            "_model_module": "@jupyter-widgets/base",
            "_model_module_version": "1.2.0",
            "_model_name": "LayoutModel",
            "_view_count": null,
            "_view_module": "@jupyter-widgets/base",
            "_view_module_version": "1.2.0",
            "_view_name": "LayoutView",
            "align_content": null,
            "align_items": null,
            "align_self": null,
            "border": null,
            "bottom": null,
            "display": null,
            "flex": null,
            "flex_flow": null,
            "grid_area": null,
            "grid_auto_columns": null,
            "grid_auto_flow": null,
            "grid_auto_rows": null,
            "grid_column": null,
            "grid_gap": null,
            "grid_row": null,
            "grid_template_areas": null,
            "grid_template_columns": null,
            "grid_template_rows": null,
            "height": null,
            "justify_content": null,
            "justify_items": null,
            "left": null,
            "margin": null,
            "max_height": null,
            "max_width": null,
            "min_height": null,
            "min_width": null,
            "object_fit": null,
            "object_position": null,
            "order": null,
            "overflow": null,
            "overflow_x": null,
            "overflow_y": null,
            "padding": null,
            "right": null,
            "top": null,
            "visibility": null,
            "width": null
          }
        },
        "2569ccff00c64e83be0c306aea9c97db": {
          "model_module": "@jupyter-widgets/base",
          "model_module_version": "1.2.0",
          "model_name": "LayoutModel",
          "state": {
            "_model_module": "@jupyter-widgets/base",
            "_model_module_version": "1.2.0",
            "_model_name": "LayoutModel",
            "_view_count": null,
            "_view_module": "@jupyter-widgets/base",
            "_view_module_version": "1.2.0",
            "_view_name": "LayoutView",
            "align_content": null,
            "align_items": null,
            "align_self": null,
            "border": null,
            "bottom": null,
            "display": null,
            "flex": null,
            "flex_flow": null,
            "grid_area": null,
            "grid_auto_columns": null,
            "grid_auto_flow": null,
            "grid_auto_rows": null,
            "grid_column": null,
            "grid_gap": null,
            "grid_row": null,
            "grid_template_areas": null,
            "grid_template_columns": null,
            "grid_template_rows": null,
            "height": null,
            "justify_content": null,
            "justify_items": null,
            "left": null,
            "margin": null,
            "max_height": null,
            "max_width": null,
            "min_height": null,
            "min_width": null,
            "object_fit": null,
            "object_position": null,
            "order": null,
            "overflow": null,
            "overflow_x": null,
            "overflow_y": null,
            "padding": null,
            "right": null,
            "top": null,
            "visibility": null,
            "width": null
          }
        },
        "258182290026479ebaa381d0d67b9386": {
          "model_module": "@jupyter-widgets/controls",
          "model_module_version": "1.5.0",
          "model_name": "ProgressStyleModel",
          "state": {
            "_model_module": "@jupyter-widgets/controls",
            "_model_module_version": "1.5.0",
            "_model_name": "ProgressStyleModel",
            "_view_count": null,
            "_view_module": "@jupyter-widgets/base",
            "_view_module_version": "1.2.0",
            "_view_name": "StyleView",
            "bar_color": null,
            "description_width": ""
          }
        },
        "27d45061a8df4356a503542c6f8aa348": {
          "model_module": "@jupyter-widgets/controls",
          "model_module_version": "1.5.0",
          "model_name": "DescriptionStyleModel",
          "state": {
            "_model_module": "@jupyter-widgets/controls",
            "_model_module_version": "1.5.0",
            "_model_name": "DescriptionStyleModel",
            "_view_count": null,
            "_view_module": "@jupyter-widgets/base",
            "_view_module_version": "1.2.0",
            "_view_name": "StyleView",
            "description_width": ""
          }
        },
        "2ac2c74212894e13b928417205126f7d": {
          "model_module": "@jupyter-widgets/controls",
          "model_module_version": "1.5.0",
          "model_name": "FloatProgressModel",
          "state": {
            "_dom_classes": [],
            "_model_module": "@jupyter-widgets/controls",
            "_model_module_version": "1.5.0",
            "_model_name": "FloatProgressModel",
            "_view_count": null,
            "_view_module": "@jupyter-widgets/controls",
            "_view_module_version": "1.5.0",
            "_view_name": "ProgressView",
            "bar_style": "success",
            "description": "",
            "description_tooltip": null,
            "layout": "IPY_MODEL_718bbad3e1ea4d4aba7c07de6a797bbc",
            "max": 466021,
            "min": 0,
            "orientation": "horizontal",
            "style": "IPY_MODEL_258182290026479ebaa381d0d67b9386",
            "value": 466021
          }
        },
        "2c2a40e47f1b402ba9f220cd51cf4dc9": {
          "model_module": "@jupyter-widgets/controls",
          "model_module_version": "1.5.0",
          "model_name": "DescriptionStyleModel",
          "state": {
            "_model_module": "@jupyter-widgets/controls",
            "_model_module_version": "1.5.0",
            "_model_name": "DescriptionStyleModel",
            "_view_count": null,
            "_view_module": "@jupyter-widgets/base",
            "_view_module_version": "1.2.0",
            "_view_name": "StyleView",
            "description_width": ""
          }
        },
        "2e2e9f41437a4081a7c66551712882e0": {
          "model_module": "@jupyter-widgets/base",
          "model_module_version": "1.2.0",
          "model_name": "LayoutModel",
          "state": {
            "_model_module": "@jupyter-widgets/base",
            "_model_module_version": "1.2.0",
            "_model_name": "LayoutModel",
            "_view_count": null,
            "_view_module": "@jupyter-widgets/base",
            "_view_module_version": "1.2.0",
            "_view_name": "LayoutView",
            "align_content": null,
            "align_items": null,
            "align_self": null,
            "border": null,
            "bottom": null,
            "display": null,
            "flex": null,
            "flex_flow": null,
            "grid_area": null,
            "grid_auto_columns": null,
            "grid_auto_flow": null,
            "grid_auto_rows": null,
            "grid_column": null,
            "grid_gap": null,
            "grid_row": null,
            "grid_template_areas": null,
            "grid_template_columns": null,
            "grid_template_rows": null,
            "height": null,
            "justify_content": null,
            "justify_items": null,
            "left": null,
            "margin": null,
            "max_height": null,
            "max_width": null,
            "min_height": null,
            "min_width": null,
            "object_fit": null,
            "object_position": null,
            "order": null,
            "overflow": null,
            "overflow_x": null,
            "overflow_y": null,
            "padding": null,
            "right": null,
            "top": null,
            "visibility": null,
            "width": null
          }
        },
        "30194fd1bd9a452d92b8f7bbf442fbf2": {
          "model_module": "@jupyter-widgets/base",
          "model_module_version": "1.2.0",
          "model_name": "LayoutModel",
          "state": {
            "_model_module": "@jupyter-widgets/base",
            "_model_module_version": "1.2.0",
            "_model_name": "LayoutModel",
            "_view_count": null,
            "_view_module": "@jupyter-widgets/base",
            "_view_module_version": "1.2.0",
            "_view_name": "LayoutView",
            "align_content": null,
            "align_items": null,
            "align_self": null,
            "border": null,
            "bottom": null,
            "display": null,
            "flex": null,
            "flex_flow": null,
            "grid_area": null,
            "grid_auto_columns": null,
            "grid_auto_flow": null,
            "grid_auto_rows": null,
            "grid_column": null,
            "grid_gap": null,
            "grid_row": null,
            "grid_template_areas": null,
            "grid_template_columns": null,
            "grid_template_rows": null,
            "height": null,
            "justify_content": null,
            "justify_items": null,
            "left": null,
            "margin": null,
            "max_height": null,
            "max_width": null,
            "min_height": null,
            "min_width": null,
            "object_fit": null,
            "object_position": null,
            "order": null,
            "overflow": null,
            "overflow_x": null,
            "overflow_y": null,
            "padding": null,
            "right": null,
            "top": null,
            "visibility": null,
            "width": null
          }
        },
        "308d7a9fea5d47e5a39f0622d400d3c9": {
          "model_module": "@jupyter-widgets/controls",
          "model_module_version": "1.5.0",
          "model_name": "HBoxModel",
          "state": {
            "_dom_classes": [],
            "_model_module": "@jupyter-widgets/controls",
            "_model_module_version": "1.5.0",
            "_model_name": "HBoxModel",
            "_view_count": null,
            "_view_module": "@jupyter-widgets/controls",
            "_view_module_version": "1.5.0",
            "_view_name": "HBoxView",
            "box_style": "",
            "children": [
              "IPY_MODEL_cc3be6b2345f497f83b1eb444264d34a",
              "IPY_MODEL_c90cf5c152544efca76bb80ef5332d53",
              "IPY_MODEL_45c4146030784c728d2088153c71d0ca"
            ],
            "layout": "IPY_MODEL_b6b9f662bca14bcdb7751313fa8c62d9"
          }
        },
        "30edd9c69d314ea1932eced97d99f11f": {
          "model_module": "@jupyter-widgets/controls",
          "model_module_version": "1.5.0",
          "model_name": "HTMLModel",
          "state": {
            "_dom_classes": [],
            "_model_module": "@jupyter-widgets/controls",
            "_model_module_version": "1.5.0",
            "_model_name": "HTMLModel",
            "_view_count": null,
            "_view_module": "@jupyter-widgets/controls",
            "_view_module_version": "1.5.0",
            "_view_name": "HTMLView",
            "description": "",
            "description_tooltip": null,
            "layout": "IPY_MODEL_249e950dc8624808ba27dcf7f8054740",
            "placeholder": "​",
            "style": "IPY_MODEL_bc683738256945a69325c9937861dc94",
            "value": "sentence_bert_config.json: 100%"
          }
        },
        "3a3f4cc837c24803a20672b8dbad0254": {
          "model_module": "@jupyter-widgets/controls",
          "model_module_version": "1.5.0",
          "model_name": "ProgressStyleModel",
          "state": {
            "_model_module": "@jupyter-widgets/controls",
            "_model_module_version": "1.5.0",
            "_model_name": "ProgressStyleModel",
            "_view_count": null,
            "_view_module": "@jupyter-widgets/base",
            "_view_module_version": "1.2.0",
            "_view_name": "StyleView",
            "bar_color": null,
            "description_width": ""
          }
        },
        "3af636903422427491eb2cc7fd65d793": {
          "model_module": "@jupyter-widgets/controls",
          "model_module_version": "1.5.0",
          "model_name": "DescriptionStyleModel",
          "state": {
            "_model_module": "@jupyter-widgets/controls",
            "_model_module_version": "1.5.0",
            "_model_name": "DescriptionStyleModel",
            "_view_count": null,
            "_view_module": "@jupyter-widgets/base",
            "_view_module_version": "1.2.0",
            "_view_name": "StyleView",
            "description_width": ""
          }
        },
        "3b1cb65b2ab64f2786e2d758127ee99b": {
          "model_module": "@jupyter-widgets/controls",
          "model_module_version": "1.5.0",
          "model_name": "DescriptionStyleModel",
          "state": {
            "_model_module": "@jupyter-widgets/controls",
            "_model_module_version": "1.5.0",
            "_model_name": "DescriptionStyleModel",
            "_view_count": null,
            "_view_module": "@jupyter-widgets/base",
            "_view_module_version": "1.2.0",
            "_view_name": "StyleView",
            "description_width": ""
          }
        },
        "41baa386cbb84154a7f5190c93a33934": {
          "model_module": "@jupyter-widgets/controls",
          "model_module_version": "1.5.0",
          "model_name": "FloatProgressModel",
          "state": {
            "_dom_classes": [],
            "_model_module": "@jupyter-widgets/controls",
            "_model_module_version": "1.5.0",
            "_model_name": "FloatProgressModel",
            "_view_count": null,
            "_view_module": "@jupyter-widgets/controls",
            "_view_module_version": "1.5.0",
            "_view_name": "ProgressView",
            "bar_style": "success",
            "description": "",
            "description_tooltip": null,
            "layout": "IPY_MODEL_94f3552dfa50465290fc533c70d65263",
            "max": 116,
            "min": 0,
            "orientation": "horizontal",
            "style": "IPY_MODEL_3a3f4cc837c24803a20672b8dbad0254",
            "value": 116
          }
        },
        "43073154968f49d2bfebba83b8a133f2": {
          "model_module": "@jupyter-widgets/controls",
          "model_module_version": "1.5.0",
          "model_name": "FloatProgressModel",
          "state": {
            "_dom_classes": [],
            "_model_module": "@jupyter-widgets/controls",
            "_model_module_version": "1.5.0",
            "_model_name": "FloatProgressModel",
            "_view_count": null,
            "_view_module": "@jupyter-widgets/controls",
            "_view_module_version": "1.5.0",
            "_view_name": "ProgressView",
            "bar_style": "success",
            "description": "",
            "description_tooltip": null,
            "layout": "IPY_MODEL_4b213e3f46164170bee9e46885c54a98",
            "max": 349,
            "min": 0,
            "orientation": "horizontal",
            "style": "IPY_MODEL_0032b05cc0cb4d14a509c0636093a677",
            "value": 349
          }
        },
        "45c4146030784c728d2088153c71d0ca": {
          "model_module": "@jupyter-widgets/controls",
          "model_module_version": "1.5.0",
          "model_name": "HTMLModel",
          "state": {
            "_dom_classes": [],
            "_model_module": "@jupyter-widgets/controls",
            "_model_module_version": "1.5.0",
            "_model_name": "HTMLModel",
            "_view_count": null,
            "_view_module": "@jupyter-widgets/controls",
            "_view_module_version": "1.5.0",
            "_view_name": "HTMLView",
            "description": "",
            "description_tooltip": null,
            "layout": "IPY_MODEL_2e2e9f41437a4081a7c66551712882e0",
            "placeholder": "​",
            "style": "IPY_MODEL_086c73bebce147a5b4d57311002adbb7",
            "value": " 10.4k/10.4k [00:00&lt;00:00, 813kB/s]"
          }
        },
        "4b213e3f46164170bee9e46885c54a98": {
          "model_module": "@jupyter-widgets/base",
          "model_module_version": "1.2.0",
          "model_name": "LayoutModel",
          "state": {
            "_model_module": "@jupyter-widgets/base",
            "_model_module_version": "1.2.0",
            "_model_name": "LayoutModel",
            "_view_count": null,
            "_view_module": "@jupyter-widgets/base",
            "_view_module_version": "1.2.0",
            "_view_name": "LayoutView",
            "align_content": null,
            "align_items": null,
            "align_self": null,
            "border": null,
            "bottom": null,
            "display": null,
            "flex": null,
            "flex_flow": null,
            "grid_area": null,
            "grid_auto_columns": null,
            "grid_auto_flow": null,
            "grid_auto_rows": null,
            "grid_column": null,
            "grid_gap": null,
            "grid_row": null,
            "grid_template_areas": null,
            "grid_template_columns": null,
            "grid_template_rows": null,
            "height": null,
            "justify_content": null,
            "justify_items": null,
            "left": null,
            "margin": null,
            "max_height": null,
            "max_width": null,
            "min_height": null,
            "min_width": null,
            "object_fit": null,
            "object_position": null,
            "order": null,
            "overflow": null,
            "overflow_x": null,
            "overflow_y": null,
            "padding": null,
            "right": null,
            "top": null,
            "visibility": null,
            "width": null
          }
        },
        "4bfc10a9f16a4fe0b6003caaf81143ee": {
          "model_module": "@jupyter-widgets/controls",
          "model_module_version": "1.5.0",
          "model_name": "DescriptionStyleModel",
          "state": {
            "_model_module": "@jupyter-widgets/controls",
            "_model_module_version": "1.5.0",
            "_model_name": "DescriptionStyleModel",
            "_view_count": null,
            "_view_module": "@jupyter-widgets/base",
            "_view_module_version": "1.2.0",
            "_view_name": "StyleView",
            "description_width": ""
          }
        },
        "4ca1c09a95794e998c885055cd50248d": {
          "model_module": "@jupyter-widgets/base",
          "model_module_version": "1.2.0",
          "model_name": "LayoutModel",
          "state": {
            "_model_module": "@jupyter-widgets/base",
            "_model_module_version": "1.2.0",
            "_model_name": "LayoutModel",
            "_view_count": null,
            "_view_module": "@jupyter-widgets/base",
            "_view_module_version": "1.2.0",
            "_view_name": "LayoutView",
            "align_content": null,
            "align_items": null,
            "align_self": null,
            "border": null,
            "bottom": null,
            "display": null,
            "flex": null,
            "flex_flow": null,
            "grid_area": null,
            "grid_auto_columns": null,
            "grid_auto_flow": null,
            "grid_auto_rows": null,
            "grid_column": null,
            "grid_gap": null,
            "grid_row": null,
            "grid_template_areas": null,
            "grid_template_columns": null,
            "grid_template_rows": null,
            "height": null,
            "justify_content": null,
            "justify_items": null,
            "left": null,
            "margin": null,
            "max_height": null,
            "max_width": null,
            "min_height": null,
            "min_width": null,
            "object_fit": null,
            "object_position": null,
            "order": null,
            "overflow": null,
            "overflow_x": null,
            "overflow_y": null,
            "padding": null,
            "right": null,
            "top": null,
            "visibility": null,
            "width": null
          }
        },
        "4defa666451f4eaca63d529f196e8ed1": {
          "model_module": "@jupyter-widgets/controls",
          "model_module_version": "1.5.0",
          "model_name": "HTMLModel",
          "state": {
            "_dom_classes": [],
            "_model_module": "@jupyter-widgets/controls",
            "_model_module_version": "1.5.0",
            "_model_name": "HTMLModel",
            "_view_count": null,
            "_view_module": "@jupyter-widgets/controls",
            "_view_module_version": "1.5.0",
            "_view_name": "HTMLView",
            "description": "",
            "description_tooltip": null,
            "layout": "IPY_MODEL_159f92f3419943a9874465c9364eab26",
            "placeholder": "​",
            "style": "IPY_MODEL_d370f37f6119496699eef8db3649494d",
            "value": " 232k/232k [00:00&lt;00:00, 7.09MB/s]"
          }
        },
        "52c8edd20a4646968d0f46aab83ee597": {
          "model_module": "@jupyter-widgets/controls",
          "model_module_version": "1.5.0",
          "model_name": "FloatProgressModel",
          "state": {
            "_dom_classes": [],
            "_model_module": "@jupyter-widgets/controls",
            "_model_module_version": "1.5.0",
            "_model_name": "FloatProgressModel",
            "_view_count": null,
            "_view_module": "@jupyter-widgets/controls",
            "_view_module_version": "1.5.0",
            "_view_name": "ProgressView",
            "bar_style": "success",
            "description": "",
            "description_tooltip": null,
            "layout": "IPY_MODEL_1296d392c58943e68ca312c1450df165",
            "max": 363,
            "min": 0,
            "orientation": "horizontal",
            "style": "IPY_MODEL_5c6d08d0765d41e68090da906734e942",
            "value": 363
          }
        },
        "575a8327be9749fe873385e0cf741a8c": {
          "model_module": "@jupyter-widgets/controls",
          "model_module_version": "1.5.0",
          "model_name": "DescriptionStyleModel",
          "state": {
            "_model_module": "@jupyter-widgets/controls",
            "_model_module_version": "1.5.0",
            "_model_name": "DescriptionStyleModel",
            "_view_count": null,
            "_view_module": "@jupyter-widgets/base",
            "_view_module_version": "1.2.0",
            "_view_name": "StyleView",
            "description_width": ""
          }
        },
        "5859b0835561414883022c0417361f67": {
          "model_module": "@jupyter-widgets/controls",
          "model_module_version": "1.5.0",
          "model_name": "HTMLModel",
          "state": {
            "_dom_classes": [],
            "_model_module": "@jupyter-widgets/controls",
            "_model_module_version": "1.5.0",
            "_model_name": "HTMLModel",
            "_view_count": null,
            "_view_module": "@jupyter-widgets/controls",
            "_view_module_version": "1.5.0",
            "_view_name": "HTMLView",
            "description": "",
            "description_tooltip": null,
            "layout": "IPY_MODEL_cf0a83185b3449adb6abd08a82762356",
            "placeholder": "​",
            "style": "IPY_MODEL_82a102295f4f4f7ba70bb4b48509fb58",
            "value": " 466k/466k [00:00&lt;00:00, 7.72MB/s]"
          }
        },
        "5967e51287fb41498a0ba425cf1deb2b": {
          "model_module": "@jupyter-widgets/controls",
          "model_module_version": "1.5.0",
          "model_name": "HTMLModel",
          "state": {
            "_dom_classes": [],
            "_model_module": "@jupyter-widgets/controls",
            "_model_module_version": "1.5.0",
            "_model_name": "HTMLModel",
            "_view_count": null,
            "_view_module": "@jupyter-widgets/controls",
            "_view_module_version": "1.5.0",
            "_view_name": "HTMLView",
            "description": "",
            "description_tooltip": null,
            "layout": "IPY_MODEL_bff98e379a494f11a4cc639fff3a965a",
            "placeholder": "​",
            "style": "IPY_MODEL_8bbb507893014f9499740611277531ea",
            "value": " 571/571 [00:00&lt;00:00, 39.6kB/s]"
          }
        },
        "59a6bd7c1a104514bedcb2c62c231e55": {
          "model_module": "@jupyter-widgets/controls",
          "model_module_version": "1.5.0",
          "model_name": "HTMLModel",
          "state": {
            "_dom_classes": [],
            "_model_module": "@jupyter-widgets/controls",
            "_model_module_version": "1.5.0",
            "_model_name": "HTMLModel",
            "_view_count": null,
            "_view_module": "@jupyter-widgets/controls",
            "_view_module_version": "1.5.0",
            "_view_name": "HTMLView",
            "description": "",
            "description_tooltip": null,
            "layout": "IPY_MODEL_03972232df754c11a98a94bfa947ad4a",
            "placeholder": "​",
            "style": "IPY_MODEL_b2655297b2164a3bb75fe6cf3f7a62d9",
            "value": " 363/363 [00:00&lt;00:00, 25.7kB/s]"
          }
        },
        "5c6d08d0765d41e68090da906734e942": {
          "model_module": "@jupyter-widgets/controls",
          "model_module_version": "1.5.0",
          "model_name": "ProgressStyleModel",
          "state": {
            "_model_module": "@jupyter-widgets/controls",
            "_model_module_version": "1.5.0",
            "_model_name": "ProgressStyleModel",
            "_view_count": null,
            "_view_module": "@jupyter-widgets/base",
            "_view_module_version": "1.2.0",
            "_view_name": "StyleView",
            "bar_color": null,
            "description_width": ""
          }
        },
        "5d0bf069e93b4082bee9820505754da3": {
          "model_module": "@jupyter-widgets/controls",
          "model_module_version": "1.5.0",
          "model_name": "FloatProgressModel",
          "state": {
            "_dom_classes": [],
            "_model_module": "@jupyter-widgets/controls",
            "_model_module_version": "1.5.0",
            "_model_name": "FloatProgressModel",
            "_view_count": null,
            "_view_module": "@jupyter-widgets/controls",
            "_view_module_version": "1.5.0",
            "_view_name": "ProgressView",
            "bar_style": "success",
            "description": "",
            "description_tooltip": null,
            "layout": "IPY_MODEL_fffcea987f914711b3d0e30ce7ea51c1",
            "max": 571,
            "min": 0,
            "orientation": "horizontal",
            "style": "IPY_MODEL_fa971907191d4b769e6098754a26a144",
            "value": 571
          }
        },
        "5f2ed160570e49f58611b4e3cedbb127": {
          "model_module": "@jupyter-widgets/base",
          "model_module_version": "1.2.0",
          "model_name": "LayoutModel",
          "state": {
            "_model_module": "@jupyter-widgets/base",
            "_model_module_version": "1.2.0",
            "_model_name": "LayoutModel",
            "_view_count": null,
            "_view_module": "@jupyter-widgets/base",
            "_view_module_version": "1.2.0",
            "_view_name": "LayoutView",
            "align_content": null,
            "align_items": null,
            "align_self": null,
            "border": null,
            "bottom": null,
            "display": null,
            "flex": null,
            "flex_flow": null,
            "grid_area": null,
            "grid_auto_columns": null,
            "grid_auto_flow": null,
            "grid_auto_rows": null,
            "grid_column": null,
            "grid_gap": null,
            "grid_row": null,
            "grid_template_areas": null,
            "grid_template_columns": null,
            "grid_template_rows": null,
            "height": null,
            "justify_content": null,
            "justify_items": null,
            "left": null,
            "margin": null,
            "max_height": null,
            "max_width": null,
            "min_height": null,
            "min_width": null,
            "object_fit": null,
            "object_position": null,
            "order": null,
            "overflow": null,
            "overflow_x": null,
            "overflow_y": null,
            "padding": null,
            "right": null,
            "top": null,
            "visibility": null,
            "width": null
          }
        },
        "643b665ebf734a6a96cdcd30e2847db0": {
          "model_module": "@jupyter-widgets/controls",
          "model_module_version": "1.5.0",
          "model_name": "HBoxModel",
          "state": {
            "_dom_classes": [],
            "_model_module": "@jupyter-widgets/controls",
            "_model_module_version": "1.5.0",
            "_model_name": "HBoxModel",
            "_view_count": null,
            "_view_module": "@jupyter-widgets/controls",
            "_view_module_version": "1.5.0",
            "_view_name": "HBoxView",
            "box_style": "",
            "children": [
              "IPY_MODEL_23419445182649ffb6cd18c4a9123e27",
              "IPY_MODEL_6e12d802165e420bb0e5adeb3c94efa9",
              "IPY_MODEL_b87a5a394f854e80b9f6ac063715d80f"
            ],
            "layout": "IPY_MODEL_7e77a921a02a43b6826d993d1280b42f"
          }
        },
        "67ba6f352e874a2e8b23415f9e5efa71": {
          "model_module": "@jupyter-widgets/controls",
          "model_module_version": "1.5.0",
          "model_name": "FloatProgressModel",
          "state": {
            "_dom_classes": [],
            "_model_module": "@jupyter-widgets/controls",
            "_model_module_version": "1.5.0",
            "_model_name": "FloatProgressModel",
            "_view_count": null,
            "_view_module": "@jupyter-widgets/controls",
            "_view_module_version": "1.5.0",
            "_view_name": "ProgressView",
            "bar_style": "success",
            "description": "",
            "description_tooltip": null,
            "layout": "IPY_MODEL_1464dd0b60704a599297a132ed2f0b86",
            "max": 231536,
            "min": 0,
            "orientation": "horizontal",
            "style": "IPY_MODEL_86d68b130d064267b299b84d45033ef1",
            "value": 231536
          }
        },
        "6988ae3afac548a19c5d790261604cb5": {
          "model_module": "@jupyter-widgets/controls",
          "model_module_version": "1.5.0",
          "model_name": "DescriptionStyleModel",
          "state": {
            "_model_module": "@jupyter-widgets/controls",
            "_model_module_version": "1.5.0",
            "_model_name": "DescriptionStyleModel",
            "_view_count": null,
            "_view_module": "@jupyter-widgets/base",
            "_view_module_version": "1.2.0",
            "_view_name": "StyleView",
            "description_width": ""
          }
        },
        "6a381cba614e4a78adadc9b7831e6cc0": {
          "model_module": "@jupyter-widgets/base",
          "model_module_version": "1.2.0",
          "model_name": "LayoutModel",
          "state": {
            "_model_module": "@jupyter-widgets/base",
            "_model_module_version": "1.2.0",
            "_model_name": "LayoutModel",
            "_view_count": null,
            "_view_module": "@jupyter-widgets/base",
            "_view_module_version": "1.2.0",
            "_view_name": "LayoutView",
            "align_content": null,
            "align_items": null,
            "align_self": null,
            "border": null,
            "bottom": null,
            "display": null,
            "flex": null,
            "flex_flow": null,
            "grid_area": null,
            "grid_auto_columns": null,
            "grid_auto_flow": null,
            "grid_auto_rows": null,
            "grid_column": null,
            "grid_gap": null,
            "grid_row": null,
            "grid_template_areas": null,
            "grid_template_columns": null,
            "grid_template_rows": null,
            "height": null,
            "justify_content": null,
            "justify_items": null,
            "left": null,
            "margin": null,
            "max_height": null,
            "max_width": null,
            "min_height": null,
            "min_width": null,
            "object_fit": null,
            "object_position": null,
            "order": null,
            "overflow": null,
            "overflow_x": null,
            "overflow_y": null,
            "padding": null,
            "right": null,
            "top": null,
            "visibility": null,
            "width": null
          }
        },
        "6b843504bfa443d184c92fc2e59b5c7f": {
          "model_module": "@jupyter-widgets/controls",
          "model_module_version": "1.5.0",
          "model_name": "HBoxModel",
          "state": {
            "_dom_classes": [],
            "_model_module": "@jupyter-widgets/controls",
            "_model_module_version": "1.5.0",
            "_model_name": "HBoxModel",
            "_view_count": null,
            "_view_module": "@jupyter-widgets/controls",
            "_view_module_version": "1.5.0",
            "_view_name": "HBoxView",
            "box_style": "",
            "children": [
              "IPY_MODEL_b9dfada775fa42348676ad96ed462656",
              "IPY_MODEL_52c8edd20a4646968d0f46aab83ee597",
              "IPY_MODEL_59a6bd7c1a104514bedcb2c62c231e55"
            ],
            "layout": "IPY_MODEL_81a69108b0a342e4adc6d2444b189fc8"
          }
        },
        "6bf71fc37f884e19980505fca19a535c": {
          "model_module": "@jupyter-widgets/controls",
          "model_module_version": "1.5.0",
          "model_name": "ProgressStyleModel",
          "state": {
            "_model_module": "@jupyter-widgets/controls",
            "_model_module_version": "1.5.0",
            "_model_name": "ProgressStyleModel",
            "_view_count": null,
            "_view_module": "@jupyter-widgets/base",
            "_view_module_version": "1.2.0",
            "_view_name": "StyleView",
            "bar_color": null,
            "description_width": ""
          }
        },
        "6db37bdf7703475e9ad0a84650d67b8b": {
          "model_module": "@jupyter-widgets/controls",
          "model_module_version": "1.5.0",
          "model_name": "DescriptionStyleModel",
          "state": {
            "_model_module": "@jupyter-widgets/controls",
            "_model_module_version": "1.5.0",
            "_model_name": "DescriptionStyleModel",
            "_view_count": null,
            "_view_module": "@jupyter-widgets/base",
            "_view_module_version": "1.2.0",
            "_view_name": "StyleView",
            "description_width": ""
          }
        },
        "6e12d802165e420bb0e5adeb3c94efa9": {
          "model_module": "@jupyter-widgets/controls",
          "model_module_version": "1.5.0",
          "model_name": "FloatProgressModel",
          "state": {
            "_dom_classes": [],
            "_model_module": "@jupyter-widgets/controls",
            "_model_module_version": "1.5.0",
            "_model_name": "FloatProgressModel",
            "_view_count": null,
            "_view_module": "@jupyter-widgets/controls",
            "_view_module_version": "1.5.0",
            "_view_name": "ProgressView",
            "bar_style": "success",
            "description": "",
            "description_tooltip": null,
            "layout": "IPY_MODEL_9f301c26d4e14aa2b23d0fbfa3d360dc",
            "max": 437971872,
            "min": 0,
            "orientation": "horizontal",
            "style": "IPY_MODEL_a21b07546f894143a44167fe242bad33",
            "value": 437971872
          }
        },
        "718bbad3e1ea4d4aba7c07de6a797bbc": {
          "model_module": "@jupyter-widgets/base",
          "model_module_version": "1.2.0",
          "model_name": "LayoutModel",
          "state": {
            "_model_module": "@jupyter-widgets/base",
            "_model_module_version": "1.2.0",
            "_model_name": "LayoutModel",
            "_view_count": null,
            "_view_module": "@jupyter-widgets/base",
            "_view_module_version": "1.2.0",
            "_view_name": "LayoutView",
            "align_content": null,
            "align_items": null,
            "align_self": null,
            "border": null,
            "bottom": null,
            "display": null,
            "flex": null,
            "flex_flow": null,
            "grid_area": null,
            "grid_auto_columns": null,
            "grid_auto_flow": null,
            "grid_auto_rows": null,
            "grid_column": null,
            "grid_gap": null,
            "grid_row": null,
            "grid_template_areas": null,
            "grid_template_columns": null,
            "grid_template_rows": null,
            "height": null,
            "justify_content": null,
            "justify_items": null,
            "left": null,
            "margin": null,
            "max_height": null,
            "max_width": null,
            "min_height": null,
            "min_width": null,
            "object_fit": null,
            "object_position": null,
            "order": null,
            "overflow": null,
            "overflow_x": null,
            "overflow_y": null,
            "padding": null,
            "right": null,
            "top": null,
            "visibility": null,
            "width": null
          }
        },
        "7e77a921a02a43b6826d993d1280b42f": {
          "model_module": "@jupyter-widgets/base",
          "model_module_version": "1.2.0",
          "model_name": "LayoutModel",
          "state": {
            "_model_module": "@jupyter-widgets/base",
            "_model_module_version": "1.2.0",
            "_model_name": "LayoutModel",
            "_view_count": null,
            "_view_module": "@jupyter-widgets/base",
            "_view_module_version": "1.2.0",
            "_view_name": "LayoutView",
            "align_content": null,
            "align_items": null,
            "align_self": null,
            "border": null,
            "bottom": null,
            "display": null,
            "flex": null,
            "flex_flow": null,
            "grid_area": null,
            "grid_auto_columns": null,
            "grid_auto_flow": null,
            "grid_auto_rows": null,
            "grid_column": null,
            "grid_gap": null,
            "grid_row": null,
            "grid_template_areas": null,
            "grid_template_columns": null,
            "grid_template_rows": null,
            "height": null,
            "justify_content": null,
            "justify_items": null,
            "left": null,
            "margin": null,
            "max_height": null,
            "max_width": null,
            "min_height": null,
            "min_width": null,
            "object_fit": null,
            "object_position": null,
            "order": null,
            "overflow": null,
            "overflow_x": null,
            "overflow_y": null,
            "padding": null,
            "right": null,
            "top": null,
            "visibility": null,
            "width": null
          }
        },
        "80865598bdf2493db678a610d476b61a": {
          "model_module": "@jupyter-widgets/controls",
          "model_module_version": "1.5.0",
          "model_name": "DescriptionStyleModel",
          "state": {
            "_model_module": "@jupyter-widgets/controls",
            "_model_module_version": "1.5.0",
            "_model_name": "DescriptionStyleModel",
            "_view_count": null,
            "_view_module": "@jupyter-widgets/base",
            "_view_module_version": "1.2.0",
            "_view_name": "StyleView",
            "description_width": ""
          }
        },
        "80c6b9732c694c90ad155966231f1489": {
          "model_module": "@jupyter-widgets/controls",
          "model_module_version": "1.5.0",
          "model_name": "HTMLModel",
          "state": {
            "_dom_classes": [],
            "_model_module": "@jupyter-widgets/controls",
            "_model_module_version": "1.5.0",
            "_model_name": "HTMLModel",
            "_view_count": null,
            "_view_module": "@jupyter-widgets/controls",
            "_view_module_version": "1.5.0",
            "_view_name": "HTMLView",
            "description": "",
            "description_tooltip": null,
            "layout": "IPY_MODEL_aea92b683be04edfabf8b13d37aaf9ea",
            "placeholder": "​",
            "style": "IPY_MODEL_3af636903422427491eb2cc7fd65d793",
            "value": "vocab.txt: 100%"
          }
        },
        "81a69108b0a342e4adc6d2444b189fc8": {
          "model_module": "@jupyter-widgets/base",
          "model_module_version": "1.2.0",
          "model_name": "LayoutModel",
          "state": {
            "_model_module": "@jupyter-widgets/base",
            "_model_module_version": "1.2.0",
            "_model_name": "LayoutModel",
            "_view_count": null,
            "_view_module": "@jupyter-widgets/base",
            "_view_module_version": "1.2.0",
            "_view_name": "LayoutView",
            "align_content": null,
            "align_items": null,
            "align_self": null,
            "border": null,
            "bottom": null,
            "display": null,
            "flex": null,
            "flex_flow": null,
            "grid_area": null,
            "grid_auto_columns": null,
            "grid_auto_flow": null,
            "grid_auto_rows": null,
            "grid_column": null,
            "grid_gap": null,
            "grid_row": null,
            "grid_template_areas": null,
            "grid_template_columns": null,
            "grid_template_rows": null,
            "height": null,
            "justify_content": null,
            "justify_items": null,
            "left": null,
            "margin": null,
            "max_height": null,
            "max_width": null,
            "min_height": null,
            "min_width": null,
            "object_fit": null,
            "object_position": null,
            "order": null,
            "overflow": null,
            "overflow_x": null,
            "overflow_y": null,
            "padding": null,
            "right": null,
            "top": null,
            "visibility": null,
            "width": null
          }
        },
        "82a102295f4f4f7ba70bb4b48509fb58": {
          "model_module": "@jupyter-widgets/controls",
          "model_module_version": "1.5.0",
          "model_name": "DescriptionStyleModel",
          "state": {
            "_model_module": "@jupyter-widgets/controls",
            "_model_module_version": "1.5.0",
            "_model_name": "DescriptionStyleModel",
            "_view_count": null,
            "_view_module": "@jupyter-widgets/base",
            "_view_module_version": "1.2.0",
            "_view_name": "StyleView",
            "description_width": ""
          }
        },
        "841205b183cc4f2e96fceae12c201cc2": {
          "model_module": "@jupyter-widgets/base",
          "model_module_version": "1.2.0",
          "model_name": "LayoutModel",
          "state": {
            "_model_module": "@jupyter-widgets/base",
            "_model_module_version": "1.2.0",
            "_model_name": "LayoutModel",
            "_view_count": null,
            "_view_module": "@jupyter-widgets/base",
            "_view_module_version": "1.2.0",
            "_view_name": "LayoutView",
            "align_content": null,
            "align_items": null,
            "align_self": null,
            "border": null,
            "bottom": null,
            "display": null,
            "flex": null,
            "flex_flow": null,
            "grid_area": null,
            "grid_auto_columns": null,
            "grid_auto_flow": null,
            "grid_auto_rows": null,
            "grid_column": null,
            "grid_gap": null,
            "grid_row": null,
            "grid_template_areas": null,
            "grid_template_columns": null,
            "grid_template_rows": null,
            "height": null,
            "justify_content": null,
            "justify_items": null,
            "left": null,
            "margin": null,
            "max_height": null,
            "max_width": null,
            "min_height": null,
            "min_width": null,
            "object_fit": null,
            "object_position": null,
            "order": null,
            "overflow": null,
            "overflow_x": null,
            "overflow_y": null,
            "padding": null,
            "right": null,
            "top": null,
            "visibility": null,
            "width": null
          }
        },
        "86d68b130d064267b299b84d45033ef1": {
          "model_module": "@jupyter-widgets/controls",
          "model_module_version": "1.5.0",
          "model_name": "ProgressStyleModel",
          "state": {
            "_model_module": "@jupyter-widgets/controls",
            "_model_module_version": "1.5.0",
            "_model_name": "ProgressStyleModel",
            "_view_count": null,
            "_view_module": "@jupyter-widgets/base",
            "_view_module_version": "1.2.0",
            "_view_name": "StyleView",
            "bar_color": null,
            "description_width": ""
          }
        },
        "88a04cab69bc4c0fa6df22d0ffa281b7": {
          "model_module": "@jupyter-widgets/controls",
          "model_module_version": "1.5.0",
          "model_name": "ProgressStyleModel",
          "state": {
            "_model_module": "@jupyter-widgets/controls",
            "_model_module_version": "1.5.0",
            "_model_name": "ProgressStyleModel",
            "_view_count": null,
            "_view_module": "@jupyter-widgets/base",
            "_view_module_version": "1.2.0",
            "_view_name": "StyleView",
            "bar_color": null,
            "description_width": ""
          }
        },
        "89e0174175cc40a6a2c6bfe7c507b667": {
          "model_module": "@jupyter-widgets/controls",
          "model_module_version": "1.5.0",
          "model_name": "HTMLModel",
          "state": {
            "_dom_classes": [],
            "_model_module": "@jupyter-widgets/controls",
            "_model_module_version": "1.5.0",
            "_model_name": "HTMLModel",
            "_view_count": null,
            "_view_module": "@jupyter-widgets/controls",
            "_view_module_version": "1.5.0",
            "_view_name": "HTMLView",
            "description": "",
            "description_tooltip": null,
            "layout": "IPY_MODEL_5f2ed160570e49f58611b4e3cedbb127",
            "placeholder": "​",
            "style": "IPY_MODEL_ee532e21aa59461e8a78a62702829f3a",
            "value": "config.json: 100%"
          }
        },
        "8bbb507893014f9499740611277531ea": {
          "model_module": "@jupyter-widgets/controls",
          "model_module_version": "1.5.0",
          "model_name": "DescriptionStyleModel",
          "state": {
            "_model_module": "@jupyter-widgets/controls",
            "_model_module_version": "1.5.0",
            "_model_name": "DescriptionStyleModel",
            "_view_count": null,
            "_view_module": "@jupyter-widgets/base",
            "_view_module_version": "1.2.0",
            "_view_name": "StyleView",
            "description_width": ""
          }
        },
        "8e2f954e3e244330a9ef197350ee6116": {
          "model_module": "@jupyter-widgets/controls",
          "model_module_version": "1.5.0",
          "model_name": "FloatProgressModel",
          "state": {
            "_dom_classes": [],
            "_model_module": "@jupyter-widgets/controls",
            "_model_module_version": "1.5.0",
            "_model_name": "FloatProgressModel",
            "_view_count": null,
            "_view_module": "@jupyter-widgets/controls",
            "_view_module_version": "1.5.0",
            "_view_name": "ProgressView",
            "bar_style": "success",
            "description": "",
            "description_tooltip": null,
            "layout": "IPY_MODEL_997b131cd6c7469480938f32fd4c4f5f",
            "max": 239,
            "min": 0,
            "orientation": "horizontal",
            "style": "IPY_MODEL_97b8dc0a189943d2b923ce104edd7e64",
            "value": 239
          }
        },
        "8fde1c1645fd4be7b8808126b1910a83": {
          "model_module": "@jupyter-widgets/controls",
          "model_module_version": "1.5.0",
          "model_name": "HTMLModel",
          "state": {
            "_dom_classes": [],
            "_model_module": "@jupyter-widgets/controls",
            "_model_module_version": "1.5.0",
            "_model_name": "HTMLModel",
            "_view_count": null,
            "_view_module": "@jupyter-widgets/controls",
            "_view_module_version": "1.5.0",
            "_view_name": "HTMLView",
            "description": "",
            "description_tooltip": null,
            "layout": "IPY_MODEL_cc516de8327a4f93a3b4d83602498b6e",
            "placeholder": "​",
            "style": "IPY_MODEL_6db37bdf7703475e9ad0a84650d67b8b",
            "value": " 349/349 [00:00&lt;00:00, 17.5kB/s]"
          }
        },
        "9323c2bd6ef545e68ab97ca36dac45bd": {
          "model_module": "@jupyter-widgets/controls",
          "model_module_version": "1.5.0",
          "model_name": "HBoxModel",
          "state": {
            "_dom_classes": [],
            "_model_module": "@jupyter-widgets/controls",
            "_model_module_version": "1.5.0",
            "_model_name": "HBoxModel",
            "_view_count": null,
            "_view_module": "@jupyter-widgets/controls",
            "_view_module_version": "1.5.0",
            "_view_name": "HBoxView",
            "box_style": "",
            "children": [
              "IPY_MODEL_0095fec9ce8e472e82d186390fe0e2d8",
              "IPY_MODEL_41baa386cbb84154a7f5190c93a33934",
              "IPY_MODEL_062a1707ae2147b58d81d32b895e1b97"
            ],
            "layout": "IPY_MODEL_1e423600e880484f86fe1a6fe6bd149b"
          }
        },
        "94f3552dfa50465290fc533c70d65263": {
          "model_module": "@jupyter-widgets/base",
          "model_module_version": "1.2.0",
          "model_name": "LayoutModel",
          "state": {
            "_model_module": "@jupyter-widgets/base",
            "_model_module_version": "1.2.0",
            "_model_name": "LayoutModel",
            "_view_count": null,
            "_view_module": "@jupyter-widgets/base",
            "_view_module_version": "1.2.0",
            "_view_name": "LayoutView",
            "align_content": null,
            "align_items": null,
            "align_self": null,
            "border": null,
            "bottom": null,
            "display": null,
            "flex": null,
            "flex_flow": null,
            "grid_area": null,
            "grid_auto_columns": null,
            "grid_auto_flow": null,
            "grid_auto_rows": null,
            "grid_column": null,
            "grid_gap": null,
            "grid_row": null,
            "grid_template_areas": null,
            "grid_template_columns": null,
            "grid_template_rows": null,
            "height": null,
            "justify_content": null,
            "justify_items": null,
            "left": null,
            "margin": null,
            "max_height": null,
            "max_width": null,
            "min_height": null,
            "min_width": null,
            "object_fit": null,
            "object_position": null,
            "order": null,
            "overflow": null,
            "overflow_x": null,
            "overflow_y": null,
            "padding": null,
            "right": null,
            "top": null,
            "visibility": null,
            "width": null
          }
        },
        "97b8dc0a189943d2b923ce104edd7e64": {
          "model_module": "@jupyter-widgets/controls",
          "model_module_version": "1.5.0",
          "model_name": "ProgressStyleModel",
          "state": {
            "_model_module": "@jupyter-widgets/controls",
            "_model_module_version": "1.5.0",
            "_model_name": "ProgressStyleModel",
            "_view_count": null,
            "_view_module": "@jupyter-widgets/base",
            "_view_module_version": "1.2.0",
            "_view_name": "StyleView",
            "bar_color": null,
            "description_width": ""
          }
        },
        "98123ab4e207489e85d0db1f921ce5e6": {
          "model_module": "@jupyter-widgets/base",
          "model_module_version": "1.2.0",
          "model_name": "LayoutModel",
          "state": {
            "_model_module": "@jupyter-widgets/base",
            "_model_module_version": "1.2.0",
            "_model_name": "LayoutModel",
            "_view_count": null,
            "_view_module": "@jupyter-widgets/base",
            "_view_module_version": "1.2.0",
            "_view_name": "LayoutView",
            "align_content": null,
            "align_items": null,
            "align_self": null,
            "border": null,
            "bottom": null,
            "display": null,
            "flex": null,
            "flex_flow": null,
            "grid_area": null,
            "grid_auto_columns": null,
            "grid_auto_flow": null,
            "grid_auto_rows": null,
            "grid_column": null,
            "grid_gap": null,
            "grid_row": null,
            "grid_template_areas": null,
            "grid_template_columns": null,
            "grid_template_rows": null,
            "height": null,
            "justify_content": null,
            "justify_items": null,
            "left": null,
            "margin": null,
            "max_height": null,
            "max_width": null,
            "min_height": null,
            "min_width": null,
            "object_fit": null,
            "object_position": null,
            "order": null,
            "overflow": null,
            "overflow_x": null,
            "overflow_y": null,
            "padding": null,
            "right": null,
            "top": null,
            "visibility": null,
            "width": null
          }
        },
        "997b131cd6c7469480938f32fd4c4f5f": {
          "model_module": "@jupyter-widgets/base",
          "model_module_version": "1.2.0",
          "model_name": "LayoutModel",
          "state": {
            "_model_module": "@jupyter-widgets/base",
            "_model_module_version": "1.2.0",
            "_model_name": "LayoutModel",
            "_view_count": null,
            "_view_module": "@jupyter-widgets/base",
            "_view_module_version": "1.2.0",
            "_view_name": "LayoutView",
            "align_content": null,
            "align_items": null,
            "align_self": null,
            "border": null,
            "bottom": null,
            "display": null,
            "flex": null,
            "flex_flow": null,
            "grid_area": null,
            "grid_auto_columns": null,
            "grid_auto_flow": null,
            "grid_auto_rows": null,
            "grid_column": null,
            "grid_gap": null,
            "grid_row": null,
            "grid_template_areas": null,
            "grid_template_columns": null,
            "grid_template_rows": null,
            "height": null,
            "justify_content": null,
            "justify_items": null,
            "left": null,
            "margin": null,
            "max_height": null,
            "max_width": null,
            "min_height": null,
            "min_width": null,
            "object_fit": null,
            "object_position": null,
            "order": null,
            "overflow": null,
            "overflow_x": null,
            "overflow_y": null,
            "padding": null,
            "right": null,
            "top": null,
            "visibility": null,
            "width": null
          }
        },
        "9f09046f389243a690ea9c6667b8ce96": {
          "model_module": "@jupyter-widgets/base",
          "model_module_version": "1.2.0",
          "model_name": "LayoutModel",
          "state": {
            "_model_module": "@jupyter-widgets/base",
            "_model_module_version": "1.2.0",
            "_model_name": "LayoutModel",
            "_view_count": null,
            "_view_module": "@jupyter-widgets/base",
            "_view_module_version": "1.2.0",
            "_view_name": "LayoutView",
            "align_content": null,
            "align_items": null,
            "align_self": null,
            "border": null,
            "bottom": null,
            "display": null,
            "flex": null,
            "flex_flow": null,
            "grid_area": null,
            "grid_auto_columns": null,
            "grid_auto_flow": null,
            "grid_auto_rows": null,
            "grid_column": null,
            "grid_gap": null,
            "grid_row": null,
            "grid_template_areas": null,
            "grid_template_columns": null,
            "grid_template_rows": null,
            "height": null,
            "justify_content": null,
            "justify_items": null,
            "left": null,
            "margin": null,
            "max_height": null,
            "max_width": null,
            "min_height": null,
            "min_width": null,
            "object_fit": null,
            "object_position": null,
            "order": null,
            "overflow": null,
            "overflow_x": null,
            "overflow_y": null,
            "padding": null,
            "right": null,
            "top": null,
            "visibility": null,
            "width": null
          }
        },
        "9f301c26d4e14aa2b23d0fbfa3d360dc": {
          "model_module": "@jupyter-widgets/base",
          "model_module_version": "1.2.0",
          "model_name": "LayoutModel",
          "state": {
            "_model_module": "@jupyter-widgets/base",
            "_model_module_version": "1.2.0",
            "_model_name": "LayoutModel",
            "_view_count": null,
            "_view_module": "@jupyter-widgets/base",
            "_view_module_version": "1.2.0",
            "_view_name": "LayoutView",
            "align_content": null,
            "align_items": null,
            "align_self": null,
            "border": null,
            "bottom": null,
            "display": null,
            "flex": null,
            "flex_flow": null,
            "grid_area": null,
            "grid_auto_columns": null,
            "grid_auto_flow": null,
            "grid_auto_rows": null,
            "grid_column": null,
            "grid_gap": null,
            "grid_row": null,
            "grid_template_areas": null,
            "grid_template_columns": null,
            "grid_template_rows": null,
            "height": null,
            "justify_content": null,
            "justify_items": null,
            "left": null,
            "margin": null,
            "max_height": null,
            "max_width": null,
            "min_height": null,
            "min_width": null,
            "object_fit": null,
            "object_position": null,
            "order": null,
            "overflow": null,
            "overflow_x": null,
            "overflow_y": null,
            "padding": null,
            "right": null,
            "top": null,
            "visibility": null,
            "width": null
          }
        },
        "a0da3c7a55e344e089dc76a1e4871146": {
          "model_module": "@jupyter-widgets/controls",
          "model_module_version": "1.5.0",
          "model_name": "HBoxModel",
          "state": {
            "_dom_classes": [],
            "_model_module": "@jupyter-widgets/controls",
            "_model_module_version": "1.5.0",
            "_model_name": "HBoxModel",
            "_view_count": null,
            "_view_module": "@jupyter-widgets/controls",
            "_view_module_version": "1.5.0",
            "_view_name": "HBoxView",
            "box_style": "",
            "children": [
              "IPY_MODEL_ee660d6cf42b40cfba314bc4cb4b124e",
              "IPY_MODEL_2ac2c74212894e13b928417205126f7d",
              "IPY_MODEL_5859b0835561414883022c0417361f67"
            ],
            "layout": "IPY_MODEL_24cd6c9c41444c4c96397433cafad862"
          }
        },
        "a21b07546f894143a44167fe242bad33": {
          "model_module": "@jupyter-widgets/controls",
          "model_module_version": "1.5.0",
          "model_name": "ProgressStyleModel",
          "state": {
            "_model_module": "@jupyter-widgets/controls",
            "_model_module_version": "1.5.0",
            "_model_name": "ProgressStyleModel",
            "_view_count": null,
            "_view_module": "@jupyter-widgets/base",
            "_view_module_version": "1.2.0",
            "_view_name": "StyleView",
            "bar_color": null,
            "description_width": ""
          }
        },
        "a75b7c16176a4e8fbe5f7010901d71a3": {
          "model_module": "@jupyter-widgets/base",
          "model_module_version": "1.2.0",
          "model_name": "LayoutModel",
          "state": {
            "_model_module": "@jupyter-widgets/base",
            "_model_module_version": "1.2.0",
            "_model_name": "LayoutModel",
            "_view_count": null,
            "_view_module": "@jupyter-widgets/base",
            "_view_module_version": "1.2.0",
            "_view_name": "LayoutView",
            "align_content": null,
            "align_items": null,
            "align_self": null,
            "border": null,
            "bottom": null,
            "display": null,
            "flex": null,
            "flex_flow": null,
            "grid_area": null,
            "grid_auto_columns": null,
            "grid_auto_flow": null,
            "grid_auto_rows": null,
            "grid_column": null,
            "grid_gap": null,
            "grid_row": null,
            "grid_template_areas": null,
            "grid_template_columns": null,
            "grid_template_rows": null,
            "height": null,
            "justify_content": null,
            "justify_items": null,
            "left": null,
            "margin": null,
            "max_height": null,
            "max_width": null,
            "min_height": null,
            "min_width": null,
            "object_fit": null,
            "object_position": null,
            "order": null,
            "overflow": null,
            "overflow_x": null,
            "overflow_y": null,
            "padding": null,
            "right": null,
            "top": null,
            "visibility": null,
            "width": null
          }
        },
        "a920ee50cf924ebf9ec088afd52604d9": {
          "model_module": "@jupyter-widgets/controls",
          "model_module_version": "1.5.0",
          "model_name": "DescriptionStyleModel",
          "state": {
            "_model_module": "@jupyter-widgets/controls",
            "_model_module_version": "1.5.0",
            "_model_name": "DescriptionStyleModel",
            "_view_count": null,
            "_view_module": "@jupyter-widgets/base",
            "_view_module_version": "1.2.0",
            "_view_name": "StyleView",
            "description_width": ""
          }
        },
        "aabae17d77c447ca867bcb11e3190007": {
          "model_module": "@jupyter-widgets/controls",
          "model_module_version": "1.5.0",
          "model_name": "HTMLModel",
          "state": {
            "_dom_classes": [],
            "_model_module": "@jupyter-widgets/controls",
            "_model_module_version": "1.5.0",
            "_model_name": "HTMLModel",
            "_view_count": null,
            "_view_module": "@jupyter-widgets/controls",
            "_view_module_version": "1.5.0",
            "_view_name": "HTMLView",
            "description": "",
            "description_tooltip": null,
            "layout": "IPY_MODEL_dc15a3a9422540ca8a1bd9d9c428f0ea",
            "placeholder": "​",
            "style": "IPY_MODEL_112acf92a6504ae98f1f2b57e673ed94",
            "value": "special_tokens_map.json: 100%"
          }
        },
        "aea92b683be04edfabf8b13d37aaf9ea": {
          "model_module": "@jupyter-widgets/base",
          "model_module_version": "1.2.0",
          "model_name": "LayoutModel",
          "state": {
            "_model_module": "@jupyter-widgets/base",
            "_model_module_version": "1.2.0",
            "_model_name": "LayoutModel",
            "_view_count": null,
            "_view_module": "@jupyter-widgets/base",
            "_view_module_version": "1.2.0",
            "_view_name": "LayoutView",
            "align_content": null,
            "align_items": null,
            "align_self": null,
            "border": null,
            "bottom": null,
            "display": null,
            "flex": null,
            "flex_flow": null,
            "grid_area": null,
            "grid_auto_columns": null,
            "grid_auto_flow": null,
            "grid_auto_rows": null,
            "grid_column": null,
            "grid_gap": null,
            "grid_row": null,
            "grid_template_areas": null,
            "grid_template_columns": null,
            "grid_template_rows": null,
            "height": null,
            "justify_content": null,
            "justify_items": null,
            "left": null,
            "margin": null,
            "max_height": null,
            "max_width": null,
            "min_height": null,
            "min_width": null,
            "object_fit": null,
            "object_position": null,
            "order": null,
            "overflow": null,
            "overflow_x": null,
            "overflow_y": null,
            "padding": null,
            "right": null,
            "top": null,
            "visibility": null,
            "width": null
          }
        },
        "af369d3982114a62bbd339b6b62cb509": {
          "model_module": "@jupyter-widgets/controls",
          "model_module_version": "1.5.0",
          "model_name": "HBoxModel",
          "state": {
            "_dom_classes": [],
            "_model_module": "@jupyter-widgets/controls",
            "_model_module_version": "1.5.0",
            "_model_name": "HBoxModel",
            "_view_count": null,
            "_view_module": "@jupyter-widgets/controls",
            "_view_module_version": "1.5.0",
            "_view_name": "HBoxView",
            "box_style": "",
            "children": [
              "IPY_MODEL_30edd9c69d314ea1932eced97d99f11f",
              "IPY_MODEL_148156f88224446c8384f5481fb5e47f",
              "IPY_MODEL_c7fdb0defe4b4bcda1fc53065098ab91"
            ],
            "layout": "IPY_MODEL_d1bef64422f44eb79c3ab20a554c8739"
          }
        },
        "b051ffef303e4dda9c695ca9a30112c6": {
          "model_module": "@jupyter-widgets/controls",
          "model_module_version": "1.5.0",
          "model_name": "HBoxModel",
          "state": {
            "_dom_classes": [],
            "_model_module": "@jupyter-widgets/controls",
            "_model_module_version": "1.5.0",
            "_model_name": "HBoxModel",
            "_view_count": null,
            "_view_module": "@jupyter-widgets/controls",
            "_view_module_version": "1.5.0",
            "_view_name": "HBoxView",
            "box_style": "",
            "children": [
              "IPY_MODEL_aabae17d77c447ca867bcb11e3190007",
              "IPY_MODEL_8e2f954e3e244330a9ef197350ee6116",
              "IPY_MODEL_d9d96dbcbf104b98b5f4b8c39c6b469e"
            ],
            "layout": "IPY_MODEL_1a5093e766a84509bc7f3375346bb5a6"
          }
        },
        "b078ef79bef94d2d9e50f85ee5da8345": {
          "model_module": "@jupyter-widgets/controls",
          "model_module_version": "1.5.0",
          "model_name": "HTMLModel",
          "state": {
            "_dom_classes": [],
            "_model_module": "@jupyter-widgets/controls",
            "_model_module_version": "1.5.0",
            "_model_name": "HTMLModel",
            "_view_count": null,
            "_view_module": "@jupyter-widgets/controls",
            "_view_module_version": "1.5.0",
            "_view_name": "HTMLView",
            "description": "",
            "description_tooltip": null,
            "layout": "IPY_MODEL_841205b183cc4f2e96fceae12c201cc2",
            "placeholder": "​",
            "style": "IPY_MODEL_27d45061a8df4356a503542c6f8aa348",
            "value": "config.json: 100%"
          }
        },
        "b1d5be7ef0d5464391658948123079d1": {
          "model_module": "@jupyter-widgets/base",
          "model_module_version": "1.2.0",
          "model_name": "LayoutModel",
          "state": {
            "_model_module": "@jupyter-widgets/base",
            "_model_module_version": "1.2.0",
            "_model_name": "LayoutModel",
            "_view_count": null,
            "_view_module": "@jupyter-widgets/base",
            "_view_module_version": "1.2.0",
            "_view_name": "LayoutView",
            "align_content": null,
            "align_items": null,
            "align_self": null,
            "border": null,
            "bottom": null,
            "display": null,
            "flex": null,
            "flex_flow": null,
            "grid_area": null,
            "grid_auto_columns": null,
            "grid_auto_flow": null,
            "grid_auto_rows": null,
            "grid_column": null,
            "grid_gap": null,
            "grid_row": null,
            "grid_template_areas": null,
            "grid_template_columns": null,
            "grid_template_rows": null,
            "height": null,
            "justify_content": null,
            "justify_items": null,
            "left": null,
            "margin": null,
            "max_height": null,
            "max_width": null,
            "min_height": null,
            "min_width": null,
            "object_fit": null,
            "object_position": null,
            "order": null,
            "overflow": null,
            "overflow_x": null,
            "overflow_y": null,
            "padding": null,
            "right": null,
            "top": null,
            "visibility": null,
            "width": null
          }
        },
        "b2655297b2164a3bb75fe6cf3f7a62d9": {
          "model_module": "@jupyter-widgets/controls",
          "model_module_version": "1.5.0",
          "model_name": "DescriptionStyleModel",
          "state": {
            "_model_module": "@jupyter-widgets/controls",
            "_model_module_version": "1.5.0",
            "_model_name": "DescriptionStyleModel",
            "_view_count": null,
            "_view_module": "@jupyter-widgets/base",
            "_view_module_version": "1.2.0",
            "_view_name": "StyleView",
            "description_width": ""
          }
        },
        "b2da6dbc3fa945ed97392d59524ad58a": {
          "model_module": "@jupyter-widgets/base",
          "model_module_version": "1.2.0",
          "model_name": "LayoutModel",
          "state": {
            "_model_module": "@jupyter-widgets/base",
            "_model_module_version": "1.2.0",
            "_model_name": "LayoutModel",
            "_view_count": null,
            "_view_module": "@jupyter-widgets/base",
            "_view_module_version": "1.2.0",
            "_view_name": "LayoutView",
            "align_content": null,
            "align_items": null,
            "align_self": null,
            "border": null,
            "bottom": null,
            "display": null,
            "flex": null,
            "flex_flow": null,
            "grid_area": null,
            "grid_auto_columns": null,
            "grid_auto_flow": null,
            "grid_auto_rows": null,
            "grid_column": null,
            "grid_gap": null,
            "grid_row": null,
            "grid_template_areas": null,
            "grid_template_columns": null,
            "grid_template_rows": null,
            "height": null,
            "justify_content": null,
            "justify_items": null,
            "left": null,
            "margin": null,
            "max_height": null,
            "max_width": null,
            "min_height": null,
            "min_width": null,
            "object_fit": null,
            "object_position": null,
            "order": null,
            "overflow": null,
            "overflow_x": null,
            "overflow_y": null,
            "padding": null,
            "right": null,
            "top": null,
            "visibility": null,
            "width": null
          }
        },
        "b5402dcf784045a79b433db2ace92418": {
          "model_module": "@jupyter-widgets/base",
          "model_module_version": "1.2.0",
          "model_name": "LayoutModel",
          "state": {
            "_model_module": "@jupyter-widgets/base",
            "_model_module_version": "1.2.0",
            "_model_name": "LayoutModel",
            "_view_count": null,
            "_view_module": "@jupyter-widgets/base",
            "_view_module_version": "1.2.0",
            "_view_name": "LayoutView",
            "align_content": null,
            "align_items": null,
            "align_self": null,
            "border": null,
            "bottom": null,
            "display": null,
            "flex": null,
            "flex_flow": null,
            "grid_area": null,
            "grid_auto_columns": null,
            "grid_auto_flow": null,
            "grid_auto_rows": null,
            "grid_column": null,
            "grid_gap": null,
            "grid_row": null,
            "grid_template_areas": null,
            "grid_template_columns": null,
            "grid_template_rows": null,
            "height": null,
            "justify_content": null,
            "justify_items": null,
            "left": null,
            "margin": null,
            "max_height": null,
            "max_width": null,
            "min_height": null,
            "min_width": null,
            "object_fit": null,
            "object_position": null,
            "order": null,
            "overflow": null,
            "overflow_x": null,
            "overflow_y": null,
            "padding": null,
            "right": null,
            "top": null,
            "visibility": null,
            "width": null
          }
        },
        "b6b9f662bca14bcdb7751313fa8c62d9": {
          "model_module": "@jupyter-widgets/base",
          "model_module_version": "1.2.0",
          "model_name": "LayoutModel",
          "state": {
            "_model_module": "@jupyter-widgets/base",
            "_model_module_version": "1.2.0",
            "_model_name": "LayoutModel",
            "_view_count": null,
            "_view_module": "@jupyter-widgets/base",
            "_view_module_version": "1.2.0",
            "_view_name": "LayoutView",
            "align_content": null,
            "align_items": null,
            "align_self": null,
            "border": null,
            "bottom": null,
            "display": null,
            "flex": null,
            "flex_flow": null,
            "grid_area": null,
            "grid_auto_columns": null,
            "grid_auto_flow": null,
            "grid_auto_rows": null,
            "grid_column": null,
            "grid_gap": null,
            "grid_row": null,
            "grid_template_areas": null,
            "grid_template_columns": null,
            "grid_template_rows": null,
            "height": null,
            "justify_content": null,
            "justify_items": null,
            "left": null,
            "margin": null,
            "max_height": null,
            "max_width": null,
            "min_height": null,
            "min_width": null,
            "object_fit": null,
            "object_position": null,
            "order": null,
            "overflow": null,
            "overflow_x": null,
            "overflow_y": null,
            "padding": null,
            "right": null,
            "top": null,
            "visibility": null,
            "width": null
          }
        },
        "b865c7df94724cbdbe5857060f25c795": {
          "model_module": "@jupyter-widgets/controls",
          "model_module_version": "1.5.0",
          "model_name": "HBoxModel",
          "state": {
            "_dom_classes": [],
            "_model_module": "@jupyter-widgets/controls",
            "_model_module_version": "1.5.0",
            "_model_name": "HBoxModel",
            "_view_count": null,
            "_view_module": "@jupyter-widgets/controls",
            "_view_module_version": "1.5.0",
            "_view_name": "HBoxView",
            "box_style": "",
            "children": [
              "IPY_MODEL_d0a3260f9cad4af8bd19cd3524958ef9",
              "IPY_MODEL_43073154968f49d2bfebba83b8a133f2",
              "IPY_MODEL_8fde1c1645fd4be7b8808126b1910a83"
            ],
            "layout": "IPY_MODEL_b2da6dbc3fa945ed97392d59524ad58a"
          }
        },
        "b87a5a394f854e80b9f6ac063715d80f": {
          "model_module": "@jupyter-widgets/controls",
          "model_module_version": "1.5.0",
          "model_name": "HTMLModel",
          "state": {
            "_dom_classes": [],
            "_model_module": "@jupyter-widgets/controls",
            "_model_module_version": "1.5.0",
            "_model_name": "HTMLModel",
            "_view_count": null,
            "_view_module": "@jupyter-widgets/controls",
            "_view_module_version": "1.5.0",
            "_view_name": "HTMLView",
            "description": "",
            "description_tooltip": null,
            "layout": "IPY_MODEL_cb2f691ee0a34d1fb76b52a34974fba6",
            "placeholder": "​",
            "style": "IPY_MODEL_3b1cb65b2ab64f2786e2d758127ee99b",
            "value": " 438M/438M [00:05&lt;00:00, 126MB/s]"
          }
        },
        "b9dfada775fa42348676ad96ed462656": {
          "model_module": "@jupyter-widgets/controls",
          "model_module_version": "1.5.0",
          "model_name": "HTMLModel",
          "state": {
            "_dom_classes": [],
            "_model_module": "@jupyter-widgets/controls",
            "_model_module_version": "1.5.0",
            "_model_name": "HTMLModel",
            "_view_count": null,
            "_view_module": "@jupyter-widgets/controls",
            "_view_module_version": "1.5.0",
            "_view_name": "HTMLView",
            "description": "",
            "description_tooltip": null,
            "layout": "IPY_MODEL_01f693371caf46aebcf244bf45e70e10",
            "placeholder": "​",
            "style": "IPY_MODEL_eb56b25ad0964b86b6a6657d59c6e0a8",
            "value": "tokenizer_config.json: 100%"
          }
        },
        "bc683738256945a69325c9937861dc94": {
          "model_module": "@jupyter-widgets/controls",
          "model_module_version": "1.5.0",
          "model_name": "DescriptionStyleModel",
          "state": {
            "_model_module": "@jupyter-widgets/controls",
            "_model_module_version": "1.5.0",
            "_model_name": "DescriptionStyleModel",
            "_view_count": null,
            "_view_module": "@jupyter-widgets/base",
            "_view_module_version": "1.2.0",
            "_view_name": "StyleView",
            "description_width": ""
          }
        },
        "bff98e379a494f11a4cc639fff3a965a": {
          "model_module": "@jupyter-widgets/base",
          "model_module_version": "1.2.0",
          "model_name": "LayoutModel",
          "state": {
            "_model_module": "@jupyter-widgets/base",
            "_model_module_version": "1.2.0",
            "_model_name": "LayoutModel",
            "_view_count": null,
            "_view_module": "@jupyter-widgets/base",
            "_view_module_version": "1.2.0",
            "_view_name": "LayoutView",
            "align_content": null,
            "align_items": null,
            "align_self": null,
            "border": null,
            "bottom": null,
            "display": null,
            "flex": null,
            "flex_flow": null,
            "grid_area": null,
            "grid_auto_columns": null,
            "grid_auto_flow": null,
            "grid_auto_rows": null,
            "grid_column": null,
            "grid_gap": null,
            "grid_row": null,
            "grid_template_areas": null,
            "grid_template_columns": null,
            "grid_template_rows": null,
            "height": null,
            "justify_content": null,
            "justify_items": null,
            "left": null,
            "margin": null,
            "max_height": null,
            "max_width": null,
            "min_height": null,
            "min_width": null,
            "object_fit": null,
            "object_position": null,
            "order": null,
            "overflow": null,
            "overflow_x": null,
            "overflow_y": null,
            "padding": null,
            "right": null,
            "top": null,
            "visibility": null,
            "width": null
          }
        },
        "c0a5f2a2e3a148749c51a01ec4cfdbfe": {
          "model_module": "@jupyter-widgets/base",
          "model_module_version": "1.2.0",
          "model_name": "LayoutModel",
          "state": {
            "_model_module": "@jupyter-widgets/base",
            "_model_module_version": "1.2.0",
            "_model_name": "LayoutModel",
            "_view_count": null,
            "_view_module": "@jupyter-widgets/base",
            "_view_module_version": "1.2.0",
            "_view_name": "LayoutView",
            "align_content": null,
            "align_items": null,
            "align_self": null,
            "border": null,
            "bottom": null,
            "display": null,
            "flex": null,
            "flex_flow": null,
            "grid_area": null,
            "grid_auto_columns": null,
            "grid_auto_flow": null,
            "grid_auto_rows": null,
            "grid_column": null,
            "grid_gap": null,
            "grid_row": null,
            "grid_template_areas": null,
            "grid_template_columns": null,
            "grid_template_rows": null,
            "height": "800px",
            "justify_content": null,
            "justify_items": null,
            "left": null,
            "margin": null,
            "max_height": null,
            "max_width": null,
            "min_height": null,
            "min_width": null,
            "object_fit": null,
            "object_position": null,
            "order": null,
            "overflow": null,
            "overflow_x": null,
            "overflow_y": null,
            "padding": null,
            "right": null,
            "top": null,
            "visibility": null,
            "width": "100%"
          }
        },
        "c130e47f56224365bb71cc9ad48d7599": {
          "model_module": "@jupyter-widgets/controls",
          "model_module_version": "1.5.0",
          "model_name": "HBoxModel",
          "state": {
            "_dom_classes": [],
            "_model_module": "@jupyter-widgets/controls",
            "_model_module_version": "1.5.0",
            "_model_name": "HBoxModel",
            "_view_count": null,
            "_view_module": "@jupyter-widgets/controls",
            "_view_module_version": "1.5.0",
            "_view_name": "HBoxView",
            "box_style": "",
            "children": [
              "IPY_MODEL_b078ef79bef94d2d9e50f85ee5da8345",
              "IPY_MODEL_5d0bf069e93b4082bee9820505754da3",
              "IPY_MODEL_5967e51287fb41498a0ba425cf1deb2b"
            ],
            "layout": "IPY_MODEL_a75b7c16176a4e8fbe5f7010901d71a3"
          }
        },
        "c3689930227841af911d6d763fc84d0a": {
          "model_module": "@jupyter-widgets/base",
          "model_module_version": "1.2.0",
          "model_name": "LayoutModel",
          "state": {
            "_model_module": "@jupyter-widgets/base",
            "_model_module_version": "1.2.0",
            "_model_name": "LayoutModel",
            "_view_count": null,
            "_view_module": "@jupyter-widgets/base",
            "_view_module_version": "1.2.0",
            "_view_name": "LayoutView",
            "align_content": null,
            "align_items": null,
            "align_self": null,
            "border": null,
            "bottom": null,
            "display": null,
            "flex": null,
            "flex_flow": null,
            "grid_area": null,
            "grid_auto_columns": null,
            "grid_auto_flow": null,
            "grid_auto_rows": null,
            "grid_column": null,
            "grid_gap": null,
            "grid_row": null,
            "grid_template_areas": null,
            "grid_template_columns": null,
            "grid_template_rows": null,
            "height": null,
            "justify_content": null,
            "justify_items": null,
            "left": null,
            "margin": null,
            "max_height": null,
            "max_width": null,
            "min_height": null,
            "min_width": null,
            "object_fit": null,
            "object_position": null,
            "order": null,
            "overflow": null,
            "overflow_x": null,
            "overflow_y": null,
            "padding": null,
            "right": null,
            "top": null,
            "visibility": null,
            "width": null
          }
        },
        "c7fdb0defe4b4bcda1fc53065098ab91": {
          "model_module": "@jupyter-widgets/controls",
          "model_module_version": "1.5.0",
          "model_name": "HTMLModel",
          "state": {
            "_dom_classes": [],
            "_model_module": "@jupyter-widgets/controls",
            "_model_module_version": "1.5.0",
            "_model_name": "HTMLModel",
            "_view_count": null,
            "_view_module": "@jupyter-widgets/controls",
            "_view_module_version": "1.5.0",
            "_view_name": "HTMLView",
            "description": "",
            "description_tooltip": null,
            "layout": "IPY_MODEL_30194fd1bd9a452d92b8f7bbf442fbf2",
            "placeholder": "​",
            "style": "IPY_MODEL_80865598bdf2493db678a610d476b61a",
            "value": " 53.0/53.0 [00:00&lt;00:00, 3.59kB/s]"
          }
        },
        "c90cf5c152544efca76bb80ef5332d53": {
          "model_module": "@jupyter-widgets/controls",
          "model_module_version": "1.5.0",
          "model_name": "FloatProgressModel",
          "state": {
            "_dom_classes": [],
            "_model_module": "@jupyter-widgets/controls",
            "_model_module_version": "1.5.0",
            "_model_name": "FloatProgressModel",
            "_view_count": null,
            "_view_module": "@jupyter-widgets/controls",
            "_view_module_version": "1.5.0",
            "_view_name": "ProgressView",
            "bar_style": "success",
            "description": "",
            "description_tooltip": null,
            "layout": "IPY_MODEL_0df4b7231ecb4fb889686d775e70b6e0",
            "max": 10415,
            "min": 0,
            "orientation": "horizontal",
            "style": "IPY_MODEL_6bf71fc37f884e19980505fca19a535c",
            "value": 10415
          }
        },
        "cb2f691ee0a34d1fb76b52a34974fba6": {
          "model_module": "@jupyter-widgets/base",
          "model_module_version": "1.2.0",
          "model_name": "LayoutModel",
          "state": {
            "_model_module": "@jupyter-widgets/base",
            "_model_module_version": "1.2.0",
            "_model_name": "LayoutModel",
            "_view_count": null,
            "_view_module": "@jupyter-widgets/base",
            "_view_module_version": "1.2.0",
            "_view_name": "LayoutView",
            "align_content": null,
            "align_items": null,
            "align_self": null,
            "border": null,
            "bottom": null,
            "display": null,
            "flex": null,
            "flex_flow": null,
            "grid_area": null,
            "grid_auto_columns": null,
            "grid_auto_flow": null,
            "grid_auto_rows": null,
            "grid_column": null,
            "grid_gap": null,
            "grid_row": null,
            "grid_template_areas": null,
            "grid_template_columns": null,
            "grid_template_rows": null,
            "height": null,
            "justify_content": null,
            "justify_items": null,
            "left": null,
            "margin": null,
            "max_height": null,
            "max_width": null,
            "min_height": null,
            "min_width": null,
            "object_fit": null,
            "object_position": null,
            "order": null,
            "overflow": null,
            "overflow_x": null,
            "overflow_y": null,
            "padding": null,
            "right": null,
            "top": null,
            "visibility": null,
            "width": null
          }
        },
        "cb795e84573e4db293f44e246126487a": {
          "model_module": "@jupyter-widgets/base",
          "model_module_version": "1.2.0",
          "model_name": "LayoutModel",
          "state": {
            "_model_module": "@jupyter-widgets/base",
            "_model_module_version": "1.2.0",
            "_model_name": "LayoutModel",
            "_view_count": null,
            "_view_module": "@jupyter-widgets/base",
            "_view_module_version": "1.2.0",
            "_view_name": "LayoutView",
            "align_content": null,
            "align_items": null,
            "align_self": null,
            "border": null,
            "bottom": null,
            "display": null,
            "flex": null,
            "flex_flow": null,
            "grid_area": null,
            "grid_auto_columns": null,
            "grid_auto_flow": null,
            "grid_auto_rows": null,
            "grid_column": null,
            "grid_gap": null,
            "grid_row": null,
            "grid_template_areas": null,
            "grid_template_columns": null,
            "grid_template_rows": null,
            "height": null,
            "justify_content": null,
            "justify_items": null,
            "left": null,
            "margin": null,
            "max_height": null,
            "max_width": null,
            "min_height": null,
            "min_width": null,
            "object_fit": null,
            "object_position": null,
            "order": null,
            "overflow": null,
            "overflow_x": null,
            "overflow_y": null,
            "padding": null,
            "right": null,
            "top": null,
            "visibility": null,
            "width": null
          }
        },
        "cc3be6b2345f497f83b1eb444264d34a": {
          "model_module": "@jupyter-widgets/controls",
          "model_module_version": "1.5.0",
          "model_name": "HTMLModel",
          "state": {
            "_dom_classes": [],
            "_model_module": "@jupyter-widgets/controls",
            "_model_module_version": "1.5.0",
            "_model_name": "HTMLModel",
            "_view_count": null,
            "_view_module": "@jupyter-widgets/controls",
            "_view_module_version": "1.5.0",
            "_view_name": "HTMLView",
            "description": "",
            "description_tooltip": null,
            "layout": "IPY_MODEL_ef649c6d8c15411c884942226c92a4b7",
            "placeholder": "​",
            "style": "IPY_MODEL_575a8327be9749fe873385e0cf741a8c",
            "value": "README.md: 100%"
          }
        },
        "cc516de8327a4f93a3b4d83602498b6e": {
          "model_module": "@jupyter-widgets/base",
          "model_module_version": "1.2.0",
          "model_name": "LayoutModel",
          "state": {
            "_model_module": "@jupyter-widgets/base",
            "_model_module_version": "1.2.0",
            "_model_name": "LayoutModel",
            "_view_count": null,
            "_view_module": "@jupyter-widgets/base",
            "_view_module_version": "1.2.0",
            "_view_name": "LayoutView",
            "align_content": null,
            "align_items": null,
            "align_self": null,
            "border": null,
            "bottom": null,
            "display": null,
            "flex": null,
            "flex_flow": null,
            "grid_area": null,
            "grid_auto_columns": null,
            "grid_auto_flow": null,
            "grid_auto_rows": null,
            "grid_column": null,
            "grid_gap": null,
            "grid_row": null,
            "grid_template_areas": null,
            "grid_template_columns": null,
            "grid_template_rows": null,
            "height": null,
            "justify_content": null,
            "justify_items": null,
            "left": null,
            "margin": null,
            "max_height": null,
            "max_width": null,
            "min_height": null,
            "min_width": null,
            "object_fit": null,
            "object_position": null,
            "order": null,
            "overflow": null,
            "overflow_x": null,
            "overflow_y": null,
            "padding": null,
            "right": null,
            "top": null,
            "visibility": null,
            "width": null
          }
        },
        "cf0a83185b3449adb6abd08a82762356": {
          "model_module": "@jupyter-widgets/base",
          "model_module_version": "1.2.0",
          "model_name": "LayoutModel",
          "state": {
            "_model_module": "@jupyter-widgets/base",
            "_model_module_version": "1.2.0",
            "_model_name": "LayoutModel",
            "_view_count": null,
            "_view_module": "@jupyter-widgets/base",
            "_view_module_version": "1.2.0",
            "_view_name": "LayoutView",
            "align_content": null,
            "align_items": null,
            "align_self": null,
            "border": null,
            "bottom": null,
            "display": null,
            "flex": null,
            "flex_flow": null,
            "grid_area": null,
            "grid_auto_columns": null,
            "grid_auto_flow": null,
            "grid_auto_rows": null,
            "grid_column": null,
            "grid_gap": null,
            "grid_row": null,
            "grid_template_areas": null,
            "grid_template_columns": null,
            "grid_template_rows": null,
            "height": null,
            "justify_content": null,
            "justify_items": null,
            "left": null,
            "margin": null,
            "max_height": null,
            "max_width": null,
            "min_height": null,
            "min_width": null,
            "object_fit": null,
            "object_position": null,
            "order": null,
            "overflow": null,
            "overflow_x": null,
            "overflow_y": null,
            "padding": null,
            "right": null,
            "top": null,
            "visibility": null,
            "width": null
          }
        },
        "d0a3260f9cad4af8bd19cd3524958ef9": {
          "model_module": "@jupyter-widgets/controls",
          "model_module_version": "1.5.0",
          "model_name": "HTMLModel",
          "state": {
            "_dom_classes": [],
            "_model_module": "@jupyter-widgets/controls",
            "_model_module_version": "1.5.0",
            "_model_name": "HTMLModel",
            "_view_count": null,
            "_view_module": "@jupyter-widgets/controls",
            "_view_module_version": "1.5.0",
            "_view_name": "HTMLView",
            "description": "",
            "description_tooltip": null,
            "layout": "IPY_MODEL_191d9c08db1d48559ca64474ca96cdfd",
            "placeholder": "​",
            "style": "IPY_MODEL_6988ae3afac548a19c5d790261604cb5",
            "value": "modules.json: 100%"
          }
        },
        "d0c233b84c604285b292b87b606827ec": {
          "model_module": "yfiles-jupyter-graphs",
          "model_module_version": "^1.10.6",
          "model_name": "GraphModel",
          "state": {
            "_context_pane_mapping": [
              {
                "id": "Neighborhood",
                "title": "Neighborhood"
              },
              {
                "id": "Data",
                "title": "Data"
              },
              {
                "id": "Search",
                "title": "Search"
              },
              {
                "id": "About",
                "title": "About"
              }
            ],
            "_data_importer": "neo4j",
            "_directed": true,
            "_dom_classes": [],
            "_edges": [
              {
                "color": "#9E9E9E",
                "directed": true,
                "end": 1,
                "id": 1152922604118474800,
                "label": "OFFERED_TO",
                "properties": {
                  "label": "OFFERED_TO"
                },
                "start": 2,
                "styles": {},
                "thickness_factor": 1
              },
              {
                "color": "#9C27B0",
                "directed": true,
                "end": 3,
                "id": 1152923703630102500,
                "label": "OFFERS",
                "properties": {
                  "label": "OFFERS"
                },
                "start": 2,
                "styles": {},
                "thickness_factor": 1
              },
              {
                "color": "#2196F3",
                "directed": true,
                "end": 4,
                "id": 1152924803141730300,
                "label": "BASED_IN",
                "properties": {
                  "label": "BASED_IN"
                },
                "start": 3,
                "styles": {},
                "thickness_factor": 1
              },
              {
                "color": "#4CAF50",
                "directed": true,
                "end": 5,
                "id": 1152925902653358000,
                "label": "START_DATE",
                "properties": {
                  "label": "START_DATE"
                },
                "start": 3,
                "styles": {},
                "thickness_factor": 1
              },
              {
                "color": "#9C27B0",
                "directed": true,
                "end": 59,
                "id": 6917531226664337000,
                "label": "OFFERS",
                "properties": {
                  "label": "OFFERS"
                },
                "start": 7,
                "styles": {},
                "thickness_factor": 1
              },
              {
                "color": "#9C27B0",
                "directed": true,
                "end": 60,
                "id": 6917531226664337000,
                "label": "OFFERS",
                "properties": {
                  "label": "OFFERS"
                },
                "start": 7,
                "styles": {},
                "thickness_factor": 1
              },
              {
                "color": "#9C27B0",
                "directed": true,
                "end": 61,
                "id": 6917531226664337000,
                "label": "OFFERS",
                "properties": {
                  "label": "OFFERS"
                },
                "start": 7,
                "styles": {},
                "thickness_factor": 1
              },
              {
                "color": "#9C27B0",
                "directed": true,
                "end": 62,
                "id": 6917531226664337000,
                "label": "OFFERS",
                "properties": {
                  "label": "OFFERS"
                },
                "start": 7,
                "styles": {},
                "thickness_factor": 1
              },
              {
                "color": "#9C27B0",
                "directed": true,
                "end": 63,
                "id": 6917531226664337000,
                "label": "OFFERS",
                "properties": {
                  "label": "OFFERS"
                },
                "start": 7,
                "styles": {},
                "thickness_factor": 1
              },
              {
                "color": "#F44336",
                "directed": true,
                "end": 8,
                "id": 1152927002164985900,
                "label": "EMPHASIZES",
                "properties": {
                  "label": "EMPHASIZES"
                },
                "start": 7,
                "styles": {},
                "thickness_factor": 1
              },
              {
                "color": "#F44336",
                "directed": true,
                "end": 9,
                "id": 1155178801978671000,
                "label": "EMPHASIZES",
                "properties": {
                  "label": "EMPHASIZES"
                },
                "start": 7,
                "styles": {},
                "thickness_factor": 1
              },
              {
                "color": "#F44336",
                "directed": true,
                "end": 10,
                "id": 1157430601792356400,
                "label": "EMPHASIZES",
                "properties": {
                  "label": "EMPHASIZES"
                },
                "start": 7,
                "styles": {},
                "thickness_factor": 1
              },
              {
                "color": "#F44336",
                "directed": true,
                "end": 11,
                "id": 1159682401606041600,
                "label": "EMPHASIZES",
                "properties": {
                  "label": "EMPHASIZES"
                },
                "start": 7,
                "styles": {},
                "thickness_factor": 1
              },
              {
                "color": "#607D8B",
                "directed": true,
                "end": 12,
                "id": 1152928101676613600,
                "label": "FOLLOWS",
                "properties": {
                  "label": "FOLLOWS"
                },
                "start": 7,
                "styles": {},
                "thickness_factor": 1
              },
              {
                "color": "#607D8B",
                "directed": true,
                "end": 14,
                "id": 1155179901490299000,
                "label": "FOLLOWS",
                "properties": {
                  "label": "FOLLOWS"
                },
                "start": 7,
                "styles": {},
                "thickness_factor": 1
              },
              {
                "color": "#673AB7",
                "directed": true,
                "end": 13,
                "id": 1152929201188241400,
                "label": "PROVIDES",
                "properties": {
                  "label": "PROVIDES"
                },
                "start": 7,
                "styles": {},
                "thickness_factor": 1
              },
              {
                "color": "#673AB7",
                "directed": true,
                "end": 24,
                "id": 6917536724222476000,
                "label": "PROVIDES",
                "properties": {
                  "label": "PROVIDES"
                },
                "start": 7,
                "styles": {},
                "thickness_factor": 1
              },
              {
                "color": "#673AB7",
                "directed": true,
                "end": 30,
                "id": 6917536724222476000,
                "label": "PROVIDES",
                "properties": {
                  "label": "PROVIDES"
                },
                "start": 7,
                "styles": {},
                "thickness_factor": 1
              },
              {
                "color": "#673AB7",
                "directed": true,
                "end": 34,
                "id": 6917536724222476000,
                "label": "PROVIDES",
                "properties": {
                  "label": "PROVIDES"
                },
                "start": 7,
                "styles": {},
                "thickness_factor": 1
              },
              {
                "color": "#673AB7",
                "directed": true,
                "end": 39,
                "id": 6917536724222476000,
                "label": "PROVIDES",
                "properties": {
                  "label": "PROVIDES"
                },
                "start": 7,
                "styles": {},
                "thickness_factor": 1
              },
              {
                "color": "#673AB7",
                "directed": true,
                "end": 53,
                "id": 6917536724222476000,
                "label": "PROVIDES",
                "properties": {
                  "label": "PROVIDES"
                },
                "start": 7,
                "styles": {},
                "thickness_factor": 1
              },
              {
                "color": "#673AB7",
                "directed": true,
                "end": 54,
                "id": 6917536724222476000,
                "label": "PROVIDES",
                "properties": {
                  "label": "PROVIDES"
                },
                "start": 7,
                "styles": {},
                "thickness_factor": 1
              },
              {
                "color": "#673AB7",
                "directed": true,
                "end": 55,
                "id": 6917536724222476000,
                "label": "PROVIDES",
                "properties": {
                  "label": "PROVIDES"
                },
                "start": 7,
                "styles": {},
                "thickness_factor": 1
              },
              {
                "color": "#673AB7",
                "directed": true,
                "end": 71,
                "id": 6917536724222476000,
                "label": "PROVIDES",
                "properties": {
                  "label": "PROVIDES"
                },
                "start": 7,
                "styles": {},
                "thickness_factor": 1
              },
              {
                "color": "#673AB7",
                "directed": true,
                "end": 72,
                "id": 6917536724222476000,
                "label": "PROVIDES",
                "properties": {
                  "label": "PROVIDES"
                },
                "start": 7,
                "styles": {},
                "thickness_factor": 1
              },
              {
                "color": "#673AB7",
                "directed": true,
                "end": 87,
                "id": 6917536724222476000,
                "label": "PROVIDES",
                "properties": {
                  "label": "PROVIDES"
                },
                "start": 7,
                "styles": {},
                "thickness_factor": 1
              },
              {
                "color": "#673AB7",
                "directed": true,
                "end": 91,
                "id": 6917536724222476000,
                "label": "PROVIDES",
                "properties": {
                  "label": "PROVIDES"
                },
                "start": 7,
                "styles": {},
                "thickness_factor": 1
              },
              {
                "color": "#673AB7",
                "directed": true,
                "end": 92,
                "id": 6917536724222476000,
                "label": "PROVIDES",
                "properties": {
                  "label": "PROVIDES"
                },
                "start": 7,
                "styles": {},
                "thickness_factor": 1
              },
              {
                "color": "#CDDC39",
                "directed": true,
                "end": 15,
                "id": 1152930300699869200,
                "label": "EMPLOYS",
                "properties": {
                  "label": "EMPLOYS"
                },
                "start": 7,
                "styles": {},
                "thickness_factor": 1
              },
              {
                "color": "#CDDC39",
                "directed": true,
                "end": 42,
                "id": 6917537823734104000,
                "label": "EMPLOYS",
                "properties": {
                  "label": "EMPLOYS"
                },
                "start": 7,
                "styles": {},
                "thickness_factor": 1
              },
              {
                "color": "#CDDC39",
                "directed": true,
                "end": 97,
                "id": 6917537823734104000,
                "label": "EMPLOYS",
                "properties": {
                  "label": "EMPLOYS"
                },
                "start": 7,
                "styles": {},
                "thickness_factor": 1
              },
              {
                "color": "#9E9E9E",
                "directed": true,
                "end": 17,
                "id": 1152931400211497000,
                "label": "CONDUCTS",
                "properties": {
                  "label": "CONDUCTS"
                },
                "start": 7,
                "styles": {},
                "thickness_factor": 1
              },
              {
                "color": "#9C27B0",
                "directed": true,
                "end": 24,
                "id": 1152939096792891400,
                "label": "PAYS",
                "properties": {
                  "label": "PAYS"
                },
                "start": 7,
                "styles": {},
                "thickness_factor": 1
              },
              {
                "color": "#2196F3",
                "directed": true,
                "end": 82,
                "id": 6917549918362010000,
                "label": "REQUIRES",
                "properties": {
                  "label": "REQUIRES"
                },
                "start": 7,
                "styles": {},
                "thickness_factor": 1
              },
              {
                "color": "#4CAF50",
                "directed": true,
                "end": 39,
                "id": 6917557614943404000,
                "label": "REQUIRES_RETURN_IF_NOT_EMPLOYED_CONTINUOUSLY_FOR_8_MONTHS",
                "properties": {
                  "label": "REQUIRES_RETURN_IF_NOT_EMPLOYED_CONTINUOUSLY_FOR_8_MONTHS"
                },
                "start": 7,
                "styles": {},
                "thickness_factor": 1
              },
              {
                "color": "#F44336",
                "directed": true,
                "end": 40,
                "id": 6917558714455032000,
                "label": "DETERMINES",
                "properties": {
                  "label": "DETERMINES"
                },
                "start": 7,
                "styles": {},
                "thickness_factor": 1
              },
              {
                "color": "#607D8B",
                "directed": true,
                "end": 41,
                "id": 6917559813966660000,
                "label": "ENROLLS_IN",
                "properties": {
                  "label": "ENROLLS_IN"
                },
                "start": 7,
                "styles": {},
                "thickness_factor": 1
              },
              {
                "color": "#673AB7",
                "directed": true,
                "end": 47,
                "id": 6917562012989915000,
                "label": "CONTRIBUTES",
                "properties": {
                  "label": "CONTRIBUTES"
                },
                "start": 7,
                "styles": {},
                "thickness_factor": 1
              },
              {
                "color": "#CDDC39",
                "directed": true,
                "end": 79,
                "id": 6917573008106193000,
                "label": "PROVIDES_ALLOWANCE",
                "properties": {
                  "label": "PROVIDES_ALLOWANCE"
                },
                "start": 7,
                "styles": {},
                "thickness_factor": 1
              },
              {
                "color": "#9E9E9E",
                "directed": true,
                "end": 80,
                "id": 6917574107617821000,
                "label": "REIMBURSES",
                "properties": {
                  "label": "REIMBURSES"
                },
                "start": 7,
                "styles": {},
                "thickness_factor": 1
              },
              {
                "color": "#9C27B0",
                "directed": true,
                "end": 84,
                "id": 6917577406152704000,
                "label": "CONDUCTS_AUDITS",
                "properties": {
                  "label": "CONDUCTS_AUDITS"
                },
                "start": 7,
                "styles": {},
                "thickness_factor": 1
              },
              {
                "color": "#2196F3",
                "directed": true,
                "end": 18,
                "id": 1152932499723124700,
                "label": "OCCURS_IN",
                "properties": {
                  "label": "OCCURS_IN"
                },
                "start": 17,
                "styles": {},
                "thickness_factor": 1
              },
              {
                "color": "#4CAF50",
                "directed": true,
                "end": 19,
                "id": 1152933599234752500,
                "label": "EFFECTIVE_FROM",
                "properties": {
                  "label": "EFFECTIVE_FROM"
                },
                "start": 17,
                "styles": {},
                "thickness_factor": 1
              },
              {
                "color": "#F44336",
                "directed": true,
                "end": 20,
                "id": 1152934698746380300,
                "label": "REQUIRES_EMPLOYMENT_BY",
                "properties": {
                  "label": "REQUIRES_EMPLOYMENT_BY"
                },
                "start": 17,
                "styles": {},
                "thickness_factor": 1
              },
              {
                "color": "#607D8B",
                "directed": true,
                "end": 21,
                "id": 1152935798258008000,
                "label": "PRO_RATED_BASED_ON",
                "properties": {
                  "label": "PRO_RATED_BASED_ON"
                },
                "start": 17,
                "styles": {},
                "thickness_factor": 1
              },
              {
                "color": "#673AB7",
                "directed": true,
                "end": 22,
                "id": 1152936897769635800,
                "label": "LESS_THAN",
                "properties": {
                  "label": "LESS_THAN"
                },
                "start": 21,
                "styles": {},
                "thickness_factor": 1
              },
              {
                "color": "#CDDC39",
                "directed": true,
                "end": 25,
                "id": 1152940196304519200,
                "label": "AMOUNT",
                "properties": {
                  "label": "AMOUNT"
                },
                "start": 24,
                "styles": {},
                "thickness_factor": 1
              },
              {
                "color": "#9E9E9E",
                "directed": true,
                "end": 26,
                "id": 1152941295816147000,
                "label": "PAID_IN",
                "properties": {
                  "label": "PAID_IN"
                },
                "start": 24,
                "styles": {},
                "thickness_factor": 1
              },
              {
                "color": "#2196F3",
                "directed": true,
                "end": 27,
                "id": 1152942395327774700,
                "label": "REQUIRES",
                "properties": {
                  "label": "REQUIRES"
                },
                "start": 24,
                "styles": {},
                "thickness_factor": 1
              },
              {
                "color": "#9C27B0",
                "directed": true,
                "end": 22,
                "id": 1152943494839402500,
                "label": "REQUIRES_COMPLETION_OF",
                "properties": {
                  "label": "REQUIRES_COMPLETION_OF"
                },
                "start": 27,
                "styles": {},
                "thickness_factor": 1
              }
            ],
            "_graph_layout": {},
            "_highlight": [],
            "_license": {},
            "_model_module": "yfiles-jupyter-graphs",
            "_model_module_version": "^1.10.6",
            "_model_name": "GraphModel",
            "_neighborhood": {},
            "_nodes": [
              {
                "color": "#2196F3",
                "id": 2,
                "label": "Zs Associates India Private Ltd.",
                "position": [
                  0,
                  0
                ],
                "properties": {
                  "id": "Zs Associates India Private Ltd.",
                  "label": "__Entity__:Organization"
                },
                "scale_factor": 1,
                "size": [
                  55,
                  55
                ],
                "styles": {},
                "type": "#2196F3"
              },
              {
                "color": "#4CAF50",
                "id": 1,
                "label": "Subhadip De",
                "position": [
                  0,
                  0
                ],
                "properties": {
                  "id": "Subhadip De",
                  "label": "__Entity__:Person"
                },
                "scale_factor": 1,
                "size": [
                  55,
                  55
                ],
                "styles": {},
                "type": "#4CAF50"
              },
              {
                "color": "#F44336",
                "id": 3,
                "label": "Business Technology Solutions Associate",
                "position": [
                  0,
                  0
                ],
                "properties": {
                  "id": "Business Technology Solutions Associate",
                  "label": "__Entity__:Role"
                },
                "scale_factor": 1,
                "size": [
                  55,
                  55
                ],
                "styles": {},
                "type": "#F44336"
              },
              {
                "color": "#607D8B",
                "id": 4,
                "label": "Bengaluru",
                "position": [
                  0,
                  0
                ],
                "properties": {
                  "id": "Bengaluru",
                  "label": "Location:__Entity__"
                },
                "scale_factor": 1,
                "size": [
                  55,
                  55
                ],
                "styles": {},
                "type": "#607D8B"
              },
              {
                "color": "#673AB7",
                "id": 5,
                "label": "June 2, 2025",
                "position": [
                  0,
                  0
                ],
                "properties": {
                  "id": "June 2, 2025",
                  "label": "__Entity__:Date:Value"
                },
                "scale_factor": 1,
                "size": [
                  55,
                  55
                ],
                "styles": {},
                "type": "#673AB7"
              },
              {
                "color": "#CDDC39",
                "id": 7,
                "label": "Zs",
                "position": [
                  0,
                  0
                ],
                "properties": {
                  "id": "Zs",
                  "label": "__Entity__:Company:Organization"
                },
                "scale_factor": 1,
                "size": [
                  55,
                  55
                ],
                "styles": {},
                "type": "#CDDC39"
              },
              {
                "color": "#9E9E9E",
                "id": 59,
                "label": "Group Insurance Plan",
                "position": [
                  0,
                  0
                ],
                "properties": {
                  "id": "Group Insurance Plan",
                  "label": "__Entity__:Insurance plan"
                },
                "scale_factor": 1,
                "size": [
                  55,
                  55
                ],
                "styles": {},
                "type": "#9E9E9E"
              },
              {
                "color": "#9C27B0",
                "id": 60,
                "label": "Preventive Healthcare Coverage",
                "position": [
                  0,
                  0
                ],
                "properties": {
                  "id": "Preventive Healthcare Coverage",
                  "label": "__Entity__:Insurance coverage"
                },
                "scale_factor": 1,
                "size": [
                  55,
                  55
                ],
                "styles": {},
                "type": "#9C27B0"
              },
              {
                "color": "#2196F3",
                "id": 61,
                "label": "Accident Insurance",
                "position": [
                  0,
                  0
                ],
                "properties": {
                  "id": "Accident Insurance",
                  "label": "__Entity__:Insurance"
                },
                "scale_factor": 1,
                "size": [
                  55,
                  55
                ],
                "styles": {},
                "type": "#2196F3"
              },
              {
                "color": "#2196F3",
                "id": 62,
                "label": "Business Travel Insurance",
                "position": [
                  0,
                  0
                ],
                "properties": {
                  "id": "Business Travel Insurance",
                  "label": "__Entity__:Insurance"
                },
                "scale_factor": 1,
                "size": [
                  55,
                  55
                ],
                "styles": {},
                "type": "#2196F3"
              },
              {
                "color": "#2196F3",
                "id": 63,
                "label": "Life Insurance",
                "position": [
                  0,
                  0
                ],
                "properties": {
                  "id": "Life Insurance",
                  "label": "__Entity__:Insurance"
                },
                "scale_factor": 1,
                "size": [
                  55,
                  55
                ],
                "styles": {},
                "type": "#2196F3"
              },
              {
                "color": "#4CAF50",
                "id": 8,
                "label": "Collaboration",
                "position": [
                  0,
                  0
                ],
                "properties": {
                  "id": "Collaboration",
                  "label": "__Entity__:Concept"
                },
                "scale_factor": 1,
                "size": [
                  55,
                  55
                ],
                "styles": {},
                "type": "#4CAF50"
              },
              {
                "color": "#4CAF50",
                "id": 9,
                "label": "Innovation",
                "position": [
                  0,
                  0
                ],
                "properties": {
                  "id": "Innovation",
                  "label": "__Entity__:Concept"
                },
                "scale_factor": 1,
                "size": [
                  55,
                  55
                ],
                "styles": {},
                "type": "#4CAF50"
              },
              {
                "color": "#4CAF50",
                "id": 10,
                "label": "Intensity",
                "position": [
                  0,
                  0
                ],
                "properties": {
                  "id": "Intensity",
                  "label": "__Entity__:Concept"
                },
                "scale_factor": 1,
                "size": [
                  55,
                  55
                ],
                "styles": {},
                "type": "#4CAF50"
              },
              {
                "color": "#4CAF50",
                "id": 11,
                "label": "Quality",
                "position": [
                  0,
                  0
                ],
                "properties": {
                  "id": "Quality",
                  "label": "__Entity__:Concept"
                },
                "scale_factor": 1,
                "size": [
                  55,
                  55
                ],
                "styles": {},
                "type": "#4CAF50"
              },
              {
                "color": "#4CAF50",
                "id": 12,
                "label": "Client-First Approach",
                "position": [
                  0,
                  0
                ],
                "properties": {
                  "id": "Client-First Approach",
                  "label": "__Entity__:Concept"
                },
                "scale_factor": 1,
                "size": [
                  55,
                  55
                ],
                "styles": {},
                "type": "#4CAF50"
              },
              {
                "color": "#F44336",
                "id": 14,
                "label": "Monthly Payment Schedule",
                "position": [
                  0,
                  0
                ],
                "properties": {
                  "id": "Monthly Payment Schedule",
                  "label": "__Entity__:Schedule"
                },
                "scale_factor": 1,
                "size": [
                  55,
                  55
                ],
                "styles": {},
                "type": "#F44336"
              },
              {
                "color": "#607D8B",
                "id": 13,
                "label": "Annual Gross Salary",
                "position": [
                  0,
                  0
                ],
                "properties": {
                  "id": "Annual Gross Salary",
                  "label": "__Entity__:Monetary value"
                },
                "scale_factor": 1,
                "size": [
                  55,
                  55
                ],
                "styles": {},
                "type": "#607D8B"
              },
              {
                "color": "#673AB7",
                "id": 24,
                "label": "Starting Bonus",
                "position": [
                  0,
                  0
                ],
                "properties": {
                  "id": "Starting Bonus",
                  "label": "__Entity__:Concept:Bonus"
                },
                "scale_factor": 1,
                "size": [
                  55,
                  55
                ],
                "styles": {},
                "type": "#673AB7"
              },
              {
                "color": "#CDDC39",
                "id": 30,
                "label": "Performance Bonus",
                "position": [
                  0,
                  0
                ],
                "properties": {
                  "id": "Performance Bonus",
                  "label": "__Entity__:Bonus:Salary component"
                },
                "scale_factor": 1,
                "size": [
                  55,
                  55
                ],
                "styles": {},
                "type": "#CDDC39"
              },
              {
                "color": "#9E9E9E",
                "id": 34,
                "label": "Emerging Leader Reward Program (Elrp)",
                "position": [
                  0,
                  0
                ],
                "properties": {
                  "id": "Emerging Leader Reward Program (Elrp)",
                  "label": "__Entity__:Program"
                },
                "scale_factor": 1,
                "size": [
                  55,
                  55
                ],
                "styles": {},
                "type": "#9E9E9E"
              },
              {
                "color": "#9E9E9E",
                "id": 39,
                "label": "Elrp",
                "position": [
                  0,
                  0
                ],
                "properties": {
                  "id": "Elrp",
                  "label": "__Entity__:Program"
                },
                "scale_factor": 1,
                "size": [
                  55,
                  55
                ],
                "styles": {},
                "type": "#9E9E9E"
              },
              {
                "color": "#9C27B0",
                "id": 53,
                "label": "Annual Leave",
                "position": [
                  0,
                  0
                ],
                "properties": {
                  "id": "Annual Leave",
                  "label": "Benefit:__Entity__"
                },
                "scale_factor": 1,
                "size": [
                  55,
                  55
                ],
                "styles": {},
                "type": "#9C27B0"
              },
              {
                "color": "#9C27B0",
                "id": 54,
                "label": "Holidays",
                "position": [
                  0,
                  0
                ],
                "properties": {
                  "id": "Holidays",
                  "label": "Benefit:__Entity__"
                },
                "scale_factor": 1,
                "size": [
                  55,
                  55
                ],
                "styles": {},
                "type": "#9C27B0"
              },
              {
                "color": "#9C27B0",
                "id": 55,
                "label": "Sick Time",
                "position": [
                  0,
                  0
                ],
                "properties": {
                  "id": "Sick Time",
                  "label": "Benefit:__Entity__"
                },
                "scale_factor": 1,
                "size": [
                  55,
                  55
                ],
                "styles": {},
                "type": "#9C27B0"
              },
              {
                "color": "#2196F3",
                "id": 71,
                "label": "Transportation Allowance",
                "position": [
                  0,
                  0
                ],
                "properties": {
                  "id": "Transportation Allowance",
                  "label": "__Entity__:Allowance"
                },
                "scale_factor": 1,
                "size": [
                  55,
                  55
                ],
                "styles": {},
                "type": "#2196F3"
              },
              {
                "color": "#4CAF50",
                "id": 72,
                "label": "Meal Allowance",
                "position": [
                  0,
                  0
                ],
                "properties": {
                  "id": "Meal Allowance",
                  "label": "__Entity__:Allowance:Salary component"
                },
                "scale_factor": 1,
                "size": [
                  55,
                  55
                ],
                "styles": {},
                "type": "#4CAF50"
              },
              {
                "color": "#4CAF50",
                "id": 87,
                "label": "Relocation Assistance",
                "position": [
                  0,
                  0
                ],
                "properties": {
                  "id": "Relocation Assistance",
                  "label": "__Entity__:Concept"
                },
                "scale_factor": 1,
                "size": [
                  55,
                  55
                ],
                "styles": {},
                "type": "#4CAF50"
              },
              {
                "color": "#F44336",
                "id": 91,
                "label": "Guest_House",
                "position": [
                  0,
                  0
                ],
                "properties": {
                  "id": "Guest_House",
                  "label": "__Entity__:Accommodation"
                },
                "scale_factor": 1,
                "size": [
                  55,
                  55
                ],
                "styles": {},
                "type": "#F44336"
              },
              {
                "color": "#2196F3",
                "id": 92,
                "label": "Relocation_Allowance",
                "position": [
                  0,
                  0
                ],
                "properties": {
                  "id": "Relocation_Allowance",
                  "label": "__Entity__:Allowance"
                },
                "scale_factor": 1,
                "size": [
                  55,
                  55
                ],
                "styles": {},
                "type": "#2196F3"
              },
              {
                "color": "#607D8B",
                "id": 15,
                "label": "Associates",
                "position": [
                  0,
                  0
                ],
                "properties": {
                  "id": "Associates",
                  "label": "__Entity__:Group"
                },
                "scale_factor": 1,
                "size": [
                  55,
                  55
                ],
                "styles": {},
                "type": "#607D8B"
              },
              {
                "color": "#4CAF50",
                "id": 42,
                "label": "Employee",
                "position": [
                  0,
                  0
                ],
                "properties": {
                  "id": "Employee",
                  "label": "__Entity__:Person"
                },
                "scale_factor": 1,
                "size": [
                  55,
                  55
                ],
                "styles": {},
                "type": "#4CAF50"
              },
              {
                "color": "#673AB7",
                "id": 97,
                "label": "Employment",
                "position": [
                  0,
                  0
                ],
                "properties": {
                  "id": "Employment",
                  "label": "__Entity__:Concept:Employment"
                },
                "scale_factor": 1,
                "size": [
                  55,
                  55
                ],
                "styles": {},
                "type": "#673AB7"
              },
              {
                "color": "#CDDC39",
                "id": 17,
                "label": "Salary Review",
                "position": [
                  0,
                  0
                ],
                "properties": {
                  "id": "Salary Review",
                  "label": "__Entity__:Process"
                },
                "scale_factor": 1,
                "size": [
                  55,
                  55
                ],
                "styles": {},
                "type": "#CDDC39"
              },
              {
                "color": "#9E9E9E",
                "id": 82,
                "label": "High_Speed_Broadband_Connection",
                "position": [
                  0,
                  0
                ],
                "properties": {
                  "id": "High_Speed_Broadband_Connection",
                  "label": "__Entity__:Technology"
                },
                "scale_factor": 1,
                "size": [
                  55,
                  55
                ],
                "styles": {},
                "type": "#9E9E9E"
              },
              {
                "color": "#9C27B0",
                "id": 40,
                "label": "Bonus",
                "position": [
                  0,
                  0
                ],
                "properties": {
                  "id": "Bonus",
                  "label": "__Entity__:Bonus"
                },
                "scale_factor": 1,
                "size": [
                  55,
                  55
                ],
                "styles": {},
                "type": "#9C27B0"
              },
              {
                "color": "#2196F3",
                "id": 41,
                "label": "Provident Fund",
                "position": [
                  0,
                  0
                ],
                "properties": {
                  "id": "Provident Fund",
                  "label": "__Entity__:Fund:Financial concept"
                },
                "scale_factor": 1,
                "size": [
                  55,
                  55
                ],
                "styles": {},
                "type": "#2196F3"
              },
              {
                "color": "#4CAF50",
                "id": 47,
                "label": "Contribution Details",
                "position": [
                  0,
                  0
                ],
                "properties": {
                  "id": "Contribution Details",
                  "label": "__Entity__:Contribution details"
                },
                "scale_factor": 1,
                "size": [
                  55,
                  55
                ],
                "styles": {},
                "type": "#4CAF50"
              },
              {
                "color": "#9C27B0",
                "id": 79,
                "label": "Broadband_Allowance",
                "position": [
                  0,
                  0
                ],
                "properties": {
                  "id": "Broadband_Allowance",
                  "label": "Benefit:__Entity__"
                },
                "scale_factor": 1,
                "size": [
                  55,
                  55
                ],
                "styles": {},
                "type": "#9C27B0"
              },
              {
                "color": "#F44336",
                "id": 80,
                "label": "Installation_Charge",
                "position": [
                  0,
                  0
                ],
                "properties": {
                  "id": "Installation_Charge",
                  "label": "__Entity__:Reimbursement"
                },
                "scale_factor": 1,
                "size": [
                  55,
                  55
                ],
                "styles": {},
                "type": "#F44336"
              },
              {
                "color": "#CDDC39",
                "id": 84,
                "label": "Audit",
                "position": [
                  0,
                  0
                ],
                "properties": {
                  "id": "Audit",
                  "label": "__Entity__:Process"
                },
                "scale_factor": 1,
                "size": [
                  55,
                  55
                ],
                "styles": {},
                "type": "#CDDC39"
              },
              {
                "color": "#607D8B",
                "id": 18,
                "label": "June",
                "position": [
                  0,
                  0
                ],
                "properties": {
                  "id": "June",
                  "label": "__Entity__:Month"
                },
                "scale_factor": 1,
                "size": [
                  55,
                  55
                ],
                "styles": {},
                "type": "#607D8B"
              },
              {
                "color": "#673AB7",
                "id": 19,
                "label": "July 1St",
                "position": [
                  0,
                  0
                ],
                "properties": {
                  "id": "July 1St",
                  "label": "__Entity__:Date"
                },
                "scale_factor": 1,
                "size": [
                  55,
                  55
                ],
                "styles": {},
                "type": "#673AB7"
              },
              {
                "color": "#673AB7",
                "id": 20,
                "label": "March 31",
                "position": [
                  0,
                  0
                ],
                "properties": {
                  "id": "March 31",
                  "label": "__Entity__:Date"
                },
                "scale_factor": 1,
                "size": [
                  55,
                  55
                ],
                "styles": {},
                "type": "#673AB7"
              },
              {
                "color": "#4CAF50",
                "id": 21,
                "label": "Employment Tenure",
                "position": [
                  0,
                  0
                ],
                "properties": {
                  "id": "Employment Tenure",
                  "label": "__Entity__:Concept"
                },
                "scale_factor": 1,
                "size": [
                  55,
                  55
                ],
                "styles": {},
                "type": "#4CAF50"
              },
              {
                "color": "#CDDC39",
                "id": 22,
                "label": "12 Months",
                "position": [
                  0,
                  0
                ],
                "properties": {
                  "id": "12 Months",
                  "label": "__Entity__:Duration:Timeperiod"
                },
                "scale_factor": 1,
                "size": [
                  55,
                  55
                ],
                "styles": {},
                "type": "#CDDC39"
              },
              {
                "color": "#607D8B",
                "id": 25,
                "label": "Inr ₹100,000.00",
                "position": [
                  0,
                  0
                ],
                "properties": {
                  "id": "Inr ₹100,000.00",
                  "label": "__Entity__:Monetary value"
                },
                "scale_factor": 1,
                "size": [
                  55,
                  55
                ],
                "styles": {},
                "type": "#607D8B"
              },
              {
                "color": "#4CAF50",
                "id": 26,
                "label": "Second Month'S Payroll",
                "position": [
                  0,
                  0
                ],
                "properties": {
                  "id": "Second Month'S Payroll",
                  "label": "__Entity__:Concept"
                },
                "scale_factor": 1,
                "size": [
                  55,
                  55
                ],
                "styles": {},
                "type": "#4CAF50"
              },
              {
                "color": "#4CAF50",
                "id": 27,
                "label": "Full-Time Active Permanent Employment",
                "position": [
                  0,
                  0
                ],
                "properties": {
                  "id": "Full-Time Active Permanent Employment",
                  "label": "__Entity__:Concept"
                },
                "scale_factor": 1,
                "size": [
                  55,
                  55
                ],
                "styles": {},
                "type": "#4CAF50"
              }
            ],
            "_overview": {
              "enabled": null,
              "overview_set": false
            },
            "_selected_graph": [
              [],
              []
            ],
            "_sidebar": {
              "enabled": false,
              "start_with": null
            },
            "_view_count": null,
            "_view_module": "yfiles-jupyter-graphs",
            "_view_module_version": "^1.10.6",
            "_view_name": "GraphView",
            "layout": "IPY_MODEL_c0a5f2a2e3a148749c51a01ec4cfdbfe"
          }
        },
        "d1bef64422f44eb79c3ab20a554c8739": {
          "model_module": "@jupyter-widgets/base",
          "model_module_version": "1.2.0",
          "model_name": "LayoutModel",
          "state": {
            "_model_module": "@jupyter-widgets/base",
            "_model_module_version": "1.2.0",
            "_model_name": "LayoutModel",
            "_view_count": null,
            "_view_module": "@jupyter-widgets/base",
            "_view_module_version": "1.2.0",
            "_view_name": "LayoutView",
            "align_content": null,
            "align_items": null,
            "align_self": null,
            "border": null,
            "bottom": null,
            "display": null,
            "flex": null,
            "flex_flow": null,
            "grid_area": null,
            "grid_auto_columns": null,
            "grid_auto_flow": null,
            "grid_auto_rows": null,
            "grid_column": null,
            "grid_gap": null,
            "grid_row": null,
            "grid_template_areas": null,
            "grid_template_columns": null,
            "grid_template_rows": null,
            "height": null,
            "justify_content": null,
            "justify_items": null,
            "left": null,
            "margin": null,
            "max_height": null,
            "max_width": null,
            "min_height": null,
            "min_width": null,
            "object_fit": null,
            "object_position": null,
            "order": null,
            "overflow": null,
            "overflow_x": null,
            "overflow_y": null,
            "padding": null,
            "right": null,
            "top": null,
            "visibility": null,
            "width": null
          }
        },
        "d370f37f6119496699eef8db3649494d": {
          "model_module": "@jupyter-widgets/controls",
          "model_module_version": "1.5.0",
          "model_name": "DescriptionStyleModel",
          "state": {
            "_model_module": "@jupyter-widgets/controls",
            "_model_module_version": "1.5.0",
            "_model_name": "DescriptionStyleModel",
            "_view_count": null,
            "_view_module": "@jupyter-widgets/base",
            "_view_module_version": "1.2.0",
            "_view_name": "StyleView",
            "description_width": ""
          }
        },
        "d9d96dbcbf104b98b5f4b8c39c6b469e": {
          "model_module": "@jupyter-widgets/controls",
          "model_module_version": "1.5.0",
          "model_name": "HTMLModel",
          "state": {
            "_dom_classes": [],
            "_model_module": "@jupyter-widgets/controls",
            "_model_module_version": "1.5.0",
            "_model_name": "HTMLModel",
            "_view_count": null,
            "_view_module": "@jupyter-widgets/controls",
            "_view_module_version": "1.5.0",
            "_view_name": "HTMLView",
            "description": "",
            "description_tooltip": null,
            "layout": "IPY_MODEL_b1d5be7ef0d5464391658948123079d1",
            "placeholder": "​",
            "style": "IPY_MODEL_2c2a40e47f1b402ba9f220cd51cf4dc9",
            "value": " 239/239 [00:00&lt;00:00, 21.1kB/s]"
          }
        },
        "dc15a3a9422540ca8a1bd9d9c428f0ea": {
          "model_module": "@jupyter-widgets/base",
          "model_module_version": "1.2.0",
          "model_name": "LayoutModel",
          "state": {
            "_model_module": "@jupyter-widgets/base",
            "_model_module_version": "1.2.0",
            "_model_name": "LayoutModel",
            "_view_count": null,
            "_view_module": "@jupyter-widgets/base",
            "_view_module_version": "1.2.0",
            "_view_name": "LayoutView",
            "align_content": null,
            "align_items": null,
            "align_self": null,
            "border": null,
            "bottom": null,
            "display": null,
            "flex": null,
            "flex_flow": null,
            "grid_area": null,
            "grid_auto_columns": null,
            "grid_auto_flow": null,
            "grid_auto_rows": null,
            "grid_column": null,
            "grid_gap": null,
            "grid_row": null,
            "grid_template_areas": null,
            "grid_template_columns": null,
            "grid_template_rows": null,
            "height": null,
            "justify_content": null,
            "justify_items": null,
            "left": null,
            "margin": null,
            "max_height": null,
            "max_width": null,
            "min_height": null,
            "min_width": null,
            "object_fit": null,
            "object_position": null,
            "order": null,
            "overflow": null,
            "overflow_x": null,
            "overflow_y": null,
            "padding": null,
            "right": null,
            "top": null,
            "visibility": null,
            "width": null
          }
        },
        "ea47f7d77fea455292a6b202e8936091": {
          "model_module": "@jupyter-widgets/controls",
          "model_module_version": "1.5.0",
          "model_name": "HTMLModel",
          "state": {
            "_dom_classes": [],
            "_model_module": "@jupyter-widgets/controls",
            "_model_module_version": "1.5.0",
            "_model_name": "HTMLModel",
            "_view_count": null,
            "_view_module": "@jupyter-widgets/controls",
            "_view_module_version": "1.5.0",
            "_view_name": "HTMLView",
            "description": "",
            "description_tooltip": null,
            "layout": "IPY_MODEL_4ca1c09a95794e998c885055cd50248d",
            "placeholder": "​",
            "style": "IPY_MODEL_0f8020856e7742bf9a3b9cac9c1f1b5b",
            "value": " 190/190 [00:00&lt;00:00, 11.2kB/s]"
          }
        },
        "eb56b25ad0964b86b6a6657d59c6e0a8": {
          "model_module": "@jupyter-widgets/controls",
          "model_module_version": "1.5.0",
          "model_name": "DescriptionStyleModel",
          "state": {
            "_model_module": "@jupyter-widgets/controls",
            "_model_module_version": "1.5.0",
            "_model_name": "DescriptionStyleModel",
            "_view_count": null,
            "_view_module": "@jupyter-widgets/base",
            "_view_module_version": "1.2.0",
            "_view_name": "StyleView",
            "description_width": ""
          }
        },
        "ee532e21aa59461e8a78a62702829f3a": {
          "model_module": "@jupyter-widgets/controls",
          "model_module_version": "1.5.0",
          "model_name": "DescriptionStyleModel",
          "state": {
            "_model_module": "@jupyter-widgets/controls",
            "_model_module_version": "1.5.0",
            "_model_name": "DescriptionStyleModel",
            "_view_count": null,
            "_view_module": "@jupyter-widgets/base",
            "_view_module_version": "1.2.0",
            "_view_name": "StyleView",
            "description_width": ""
          }
        },
        "ee660d6cf42b40cfba314bc4cb4b124e": {
          "model_module": "@jupyter-widgets/controls",
          "model_module_version": "1.5.0",
          "model_name": "HTMLModel",
          "state": {
            "_dom_classes": [],
            "_model_module": "@jupyter-widgets/controls",
            "_model_module_version": "1.5.0",
            "_model_name": "HTMLModel",
            "_view_count": null,
            "_view_module": "@jupyter-widgets/controls",
            "_view_module_version": "1.5.0",
            "_view_name": "HTMLView",
            "description": "",
            "description_tooltip": null,
            "layout": "IPY_MODEL_9f09046f389243a690ea9c6667b8ce96",
            "placeholder": "​",
            "style": "IPY_MODEL_1fe27d3d254e49b099f90d34d0acc3c0",
            "value": "tokenizer.json: 100%"
          }
        },
        "ef649c6d8c15411c884942226c92a4b7": {
          "model_module": "@jupyter-widgets/base",
          "model_module_version": "1.2.0",
          "model_name": "LayoutModel",
          "state": {
            "_model_module": "@jupyter-widgets/base",
            "_model_module_version": "1.2.0",
            "_model_name": "LayoutModel",
            "_view_count": null,
            "_view_module": "@jupyter-widgets/base",
            "_view_module_version": "1.2.0",
            "_view_name": "LayoutView",
            "align_content": null,
            "align_items": null,
            "align_self": null,
            "border": null,
            "bottom": null,
            "display": null,
            "flex": null,
            "flex_flow": null,
            "grid_area": null,
            "grid_auto_columns": null,
            "grid_auto_flow": null,
            "grid_auto_rows": null,
            "grid_column": null,
            "grid_gap": null,
            "grid_row": null,
            "grid_template_areas": null,
            "grid_template_columns": null,
            "grid_template_rows": null,
            "height": null,
            "justify_content": null,
            "justify_items": null,
            "left": null,
            "margin": null,
            "max_height": null,
            "max_width": null,
            "min_height": null,
            "min_width": null,
            "object_fit": null,
            "object_position": null,
            "order": null,
            "overflow": null,
            "overflow_x": null,
            "overflow_y": null,
            "padding": null,
            "right": null,
            "top": null,
            "visibility": null,
            "width": null
          }
        },
        "f2493c8a040d4685bd549ebfee3f9a0e": {
          "model_module": "@jupyter-widgets/controls",
          "model_module_version": "1.5.0",
          "model_name": "DescriptionStyleModel",
          "state": {
            "_model_module": "@jupyter-widgets/controls",
            "_model_module_version": "1.5.0",
            "_model_name": "DescriptionStyleModel",
            "_view_count": null,
            "_view_module": "@jupyter-widgets/base",
            "_view_module_version": "1.2.0",
            "_view_name": "StyleView",
            "description_width": ""
          }
        },
        "fa971907191d4b769e6098754a26a144": {
          "model_module": "@jupyter-widgets/controls",
          "model_module_version": "1.5.0",
          "model_name": "ProgressStyleModel",
          "state": {
            "_model_module": "@jupyter-widgets/controls",
            "_model_module_version": "1.5.0",
            "_model_name": "ProgressStyleModel",
            "_view_count": null,
            "_view_module": "@jupyter-widgets/base",
            "_view_module_version": "1.2.0",
            "_view_name": "StyleView",
            "bar_color": null,
            "description_width": ""
          }
        },
        "fbaff09bffe34ed983a84b27b5e981f2": {
          "model_module": "@jupyter-widgets/controls",
          "model_module_version": "1.5.0",
          "model_name": "ProgressStyleModel",
          "state": {
            "_model_module": "@jupyter-widgets/controls",
            "_model_module_version": "1.5.0",
            "_model_name": "ProgressStyleModel",
            "_view_count": null,
            "_view_module": "@jupyter-widgets/base",
            "_view_module_version": "1.2.0",
            "_view_name": "StyleView",
            "bar_color": null,
            "description_width": ""
          }
        },
        "fffcea987f914711b3d0e30ce7ea51c1": {
          "model_module": "@jupyter-widgets/base",
          "model_module_version": "1.2.0",
          "model_name": "LayoutModel",
          "state": {
            "_model_module": "@jupyter-widgets/base",
            "_model_module_version": "1.2.0",
            "_model_name": "LayoutModel",
            "_view_count": null,
            "_view_module": "@jupyter-widgets/base",
            "_view_module_version": "1.2.0",
            "_view_name": "LayoutView",
            "align_content": null,
            "align_items": null,
            "align_self": null,
            "border": null,
            "bottom": null,
            "display": null,
            "flex": null,
            "flex_flow": null,
            "grid_area": null,
            "grid_auto_columns": null,
            "grid_auto_flow": null,
            "grid_auto_rows": null,
            "grid_column": null,
            "grid_gap": null,
            "grid_row": null,
            "grid_template_areas": null,
            "grid_template_columns": null,
            "grid_template_rows": null,
            "height": null,
            "justify_content": null,
            "justify_items": null,
            "left": null,
            "margin": null,
            "max_height": null,
            "max_width": null,
            "min_height": null,
            "min_width": null,
            "object_fit": null,
            "object_position": null,
            "order": null,
            "overflow": null,
            "overflow_x": null,
            "overflow_y": null,
            "padding": null,
            "right": null,
            "top": null,
            "visibility": null,
            "width": null
          }
        }
      }
    }
  },
  "nbformat": 4,
  "nbformat_minor": 0
}
