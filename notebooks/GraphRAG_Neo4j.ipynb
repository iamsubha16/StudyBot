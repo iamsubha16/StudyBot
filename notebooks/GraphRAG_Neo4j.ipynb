{
 "cells": [
  {
   "cell_type": "markdown",
   "metadata": {
    "id": "b7zow2uXarlR"
   },
   "source": [
    "### What is Langchain?\n",
    "LangChain is an open-source framework for building LLM-powered applications, offering core components like Models (LLM integration), Prompt Templates (structured prompts), Memory (context retention), Indexes & Retrievers (efficient document retrieval), Agents (dynamic decision-making), and Chains (workflow automation). It simplifies RAG applications by enabling efficient document ingestion, retrieval, contextualized responses, and state management using vector databases, embeddings, and intelligent querying. This allows for seamless integration with external data sources and scalable AI-driven search and reasoning systems. 🚀"
   ]
  },
  {
   "cell_type": "markdown",
   "metadata": {
    "id": "0_nW4OcOvkFS"
   },
   "source": [
    "1. **`langchain-community`** – Contains community-maintained integrations and tools for working with various LLM providers, databases, and APIs.  \n",
    "2. **`langchain-experimental`** – Includes experimental and early-stage features for advanced LangChain applications, such as novel retrieval methods and agent capabilities.  \n",
    "3. **`langchain-groq`** – Provides integration with **Groq's LLMs**, enabling fast and efficient model inference.  \n",
    "4. **`langchain-huggingface`** – Facilitates the use of **Hugging Face models** (transformers, embeddings, and pipelines) within LangChain applications. 🚀"
   ]
  },
  {
   "cell_type": "markdown",
   "metadata": {
    "id": "wRhSxH1clXCF"
   },
   "source": [
    "##Imports"
   ]
  },
  {
   "cell_type": "code",
   "execution_count": 1,
   "metadata": {
    "colab": {
     "base_uri": "https://localhost:8080/"
    },
    "collapsed": true,
    "id": "vdtlwkZlu0rN",
    "outputId": "a781ccdc-0528-40af-fc98-ef77c17a71ab"
   },
   "outputs": [
    {
     "name": "stdout",
     "output_type": "stream",
     "text": [
      "\u001b[2K   \u001b[90m━━━━━━━━━━━━━━━━━━━━━━━━━━━━━━━━━━━━━━━━\u001b[0m \u001b[32m2.5/2.5 MB\u001b[0m \u001b[31m13.4 MB/s\u001b[0m eta \u001b[36m0:00:00\u001b[0m\n",
      "\u001b[2K   \u001b[90m━━━━━━━━━━━━━━━━━━━━━━━━━━━━━━━━━━━━━━━━\u001b[0m \u001b[32m209.2/209.2 kB\u001b[0m \u001b[31m16.3 MB/s\u001b[0m eta \u001b[36m0:00:00\u001b[0m\n",
      "\u001b[2K   \u001b[90m━━━━━━━━━━━━━━━━━━━━━━━━━━━━━━━━━━━━━━━━\u001b[0m \u001b[32m131.4/131.4 kB\u001b[0m \u001b[31m10.0 MB/s\u001b[0m eta \u001b[36m0:00:00\u001b[0m\n",
      "\u001b[2K   \u001b[90m━━━━━━━━━━━━━━━━━━━━━━━━━━━━━━━━━━━━━━━━\u001b[0m \u001b[32m444.0/444.0 kB\u001b[0m \u001b[31m25.5 MB/s\u001b[0m eta \u001b[36m0:00:00\u001b[0m\n",
      "\u001b[2K   \u001b[90m━━━━━━━━━━━━━━━━━━━━━━━━━━━━━━━━━━━━━━━━\u001b[0m \u001b[32m64.7/64.7 kB\u001b[0m \u001b[31m4.9 MB/s\u001b[0m eta \u001b[36m0:00:00\u001b[0m\n",
      "\u001b[2K   \u001b[90m━━━━━━━━━━━━━━━━━━━━━━━━━━━━━━━━━━━━━━━━\u001b[0m \u001b[32m50.9/50.9 kB\u001b[0m \u001b[31m4.3 MB/s\u001b[0m eta \u001b[36m0:00:00\u001b[0m\n",
      "\u001b[?25h\u001b[31mERROR: pip's dependency resolver does not currently take into account all the packages that are installed. This behaviour is the source of the following dependency conflicts.\n",
      "google-colab 1.0.0 requires requests==2.32.4, but you have requests 2.32.5 which is incompatible.\u001b[0m\u001b[31m\n",
      "\u001b[2K     \u001b[90m━━━━━━━━━━━━━━━━━━━━━━━━━━━━━━━━━━━━━━━\u001b[0m \u001b[32m40.1/40.1 kB\u001b[0m \u001b[31m332.8 kB/s\u001b[0m eta \u001b[36m0:00:00\u001b[0m\n",
      "\u001b[2K   \u001b[90m━━━━━━━━━━━━━━━━━━━━━━━━━━━━━━━━━━━━━━━━\u001b[0m \u001b[32m11.6/11.6 MB\u001b[0m \u001b[31m34.1 MB/s\u001b[0m eta \u001b[36m0:00:00\u001b[0m\n",
      "\u001b[2K   \u001b[90m━━━━━━━━━━━━━━━━━━━━━━━━━━━━━━━━━━━━━━━━\u001b[0m \u001b[32m3.3/3.3 MB\u001b[0m \u001b[31m82.6 MB/s\u001b[0m eta \u001b[36m0:00:00\u001b[0m\n",
      "\u001b[2K   \u001b[90m━━━━━━━━━━━━━━━━━━━━━━━━━━━━━━━━━━━━━━━━\u001b[0m \u001b[32m313.2/313.2 kB\u001b[0m \u001b[31m2.1 MB/s\u001b[0m eta \u001b[36m0:00:00\u001b[0m\n",
      "\u001b[2K   \u001b[90m━━━━━━━━━━━━━━━━━━━━━━━━━━━━━━━━━━━━━━━━\u001b[0m \u001b[32m15.7/15.7 MB\u001b[0m \u001b[31m31.7 MB/s\u001b[0m eta \u001b[36m0:00:00\u001b[0m\n",
      "\u001b[2K   \u001b[90m━━━━━━━━━━━━━━━━━━━━━━━━━━━━━━━━━━━━━━━━\u001b[0m \u001b[32m1.6/1.6 MB\u001b[0m \u001b[31m69.6 MB/s\u001b[0m eta \u001b[36m0:00:00\u001b[0m\n",
      "\u001b[2K   \u001b[90m━━━━━━━━━━━━━━━━━━━━━━━━━━━━━━━━━━━━━━━━\u001b[0m \u001b[32m310.5/310.5 kB\u001b[0m \u001b[31m2.6 MB/s\u001b[0m eta \u001b[36m0:00:00\u001b[0m\n",
      "\u001b[?25h"
     ]
    }
   ],
   "source": [
    "!pip install --upgrade --quiet langchain langchain-community langchain-experimental langchain-groq langchain-huggingface\n",
    "!pip install --upgrade --quiet  sentence-transformers\n",
    "!pip install --upgrade --quiet transformers\n",
    "!pip install --upgrade --quiet neo4j tiktoken yfiles_jupyter_graphs\n",
    "!pip install --upgrade --quiet pypdf"
   ]
  },
  {
   "cell_type": "markdown",
   "metadata": {
    "id": "QBT6Bw24j5W1"
   },
   "source": [
    "##Uploading the PDF"
   ]
  },
  {
   "cell_type": "code",
   "execution_count": 2,
   "metadata": {
    "colab": {
     "base_uri": "https://localhost:8080/",
     "height": 74
    },
    "id": "8A5-kp1ljAF-",
    "outputId": "6a074f4f-ffcc-412f-d08f-ead08edae9e2"
   },
   "outputs": [
    {
     "data": {
      "text/html": [
       "\n",
       "     <input type=\"file\" id=\"files-be426009-cbbe-4396-8509-2b7a0b20cdaf\" name=\"files[]\" multiple disabled\n",
       "        style=\"border:none\" />\n",
       "     <output id=\"result-be426009-cbbe-4396-8509-2b7a0b20cdaf\">\n",
       "      Upload widget is only available when the cell has been executed in the\n",
       "      current browser session. Please rerun this cell to enable.\n",
       "      </output>\n",
       "      <script>// Copyright 2017 Google LLC\n",
       "//\n",
       "// Licensed under the Apache License, Version 2.0 (the \"License\");\n",
       "// you may not use this file except in compliance with the License.\n",
       "// You may obtain a copy of the License at\n",
       "//\n",
       "//      http://www.apache.org/licenses/LICENSE-2.0\n",
       "//\n",
       "// Unless required by applicable law or agreed to in writing, software\n",
       "// distributed under the License is distributed on an \"AS IS\" BASIS,\n",
       "// WITHOUT WARRANTIES OR CONDITIONS OF ANY KIND, either express or implied.\n",
       "// See the License for the specific language governing permissions and\n",
       "// limitations under the License.\n",
       "\n",
       "/**\n",
       " * @fileoverview Helpers for google.colab Python module.\n",
       " */\n",
       "(function(scope) {\n",
       "function span(text, styleAttributes = {}) {\n",
       "  const element = document.createElement('span');\n",
       "  element.textContent = text;\n",
       "  for (const key of Object.keys(styleAttributes)) {\n",
       "    element.style[key] = styleAttributes[key];\n",
       "  }\n",
       "  return element;\n",
       "}\n",
       "\n",
       "// Max number of bytes which will be uploaded at a time.\n",
       "const MAX_PAYLOAD_SIZE = 100 * 1024;\n",
       "\n",
       "function _uploadFiles(inputId, outputId) {\n",
       "  const steps = uploadFilesStep(inputId, outputId);\n",
       "  const outputElement = document.getElementById(outputId);\n",
       "  // Cache steps on the outputElement to make it available for the next call\n",
       "  // to uploadFilesContinue from Python.\n",
       "  outputElement.steps = steps;\n",
       "\n",
       "  return _uploadFilesContinue(outputId);\n",
       "}\n",
       "\n",
       "// This is roughly an async generator (not supported in the browser yet),\n",
       "// where there are multiple asynchronous steps and the Python side is going\n",
       "// to poll for completion of each step.\n",
       "// This uses a Promise to block the python side on completion of each step,\n",
       "// then passes the result of the previous step as the input to the next step.\n",
       "function _uploadFilesContinue(outputId) {\n",
       "  const outputElement = document.getElementById(outputId);\n",
       "  const steps = outputElement.steps;\n",
       "\n",
       "  const next = steps.next(outputElement.lastPromiseValue);\n",
       "  return Promise.resolve(next.value.promise).then((value) => {\n",
       "    // Cache the last promise value to make it available to the next\n",
       "    // step of the generator.\n",
       "    outputElement.lastPromiseValue = value;\n",
       "    return next.value.response;\n",
       "  });\n",
       "}\n",
       "\n",
       "/**\n",
       " * Generator function which is called between each async step of the upload\n",
       " * process.\n",
       " * @param {string} inputId Element ID of the input file picker element.\n",
       " * @param {string} outputId Element ID of the output display.\n",
       " * @return {!Iterable<!Object>} Iterable of next steps.\n",
       " */\n",
       "function* uploadFilesStep(inputId, outputId) {\n",
       "  const inputElement = document.getElementById(inputId);\n",
       "  inputElement.disabled = false;\n",
       "\n",
       "  const outputElement = document.getElementById(outputId);\n",
       "  outputElement.innerHTML = '';\n",
       "\n",
       "  const pickedPromise = new Promise((resolve) => {\n",
       "    inputElement.addEventListener('change', (e) => {\n",
       "      resolve(e.target.files);\n",
       "    });\n",
       "  });\n",
       "\n",
       "  const cancel = document.createElement('button');\n",
       "  inputElement.parentElement.appendChild(cancel);\n",
       "  cancel.textContent = 'Cancel upload';\n",
       "  const cancelPromise = new Promise((resolve) => {\n",
       "    cancel.onclick = () => {\n",
       "      resolve(null);\n",
       "    };\n",
       "  });\n",
       "\n",
       "  // Wait for the user to pick the files.\n",
       "  const files = yield {\n",
       "    promise: Promise.race([pickedPromise, cancelPromise]),\n",
       "    response: {\n",
       "      action: 'starting',\n",
       "    }\n",
       "  };\n",
       "\n",
       "  cancel.remove();\n",
       "\n",
       "  // Disable the input element since further picks are not allowed.\n",
       "  inputElement.disabled = true;\n",
       "\n",
       "  if (!files) {\n",
       "    return {\n",
       "      response: {\n",
       "        action: 'complete',\n",
       "      }\n",
       "    };\n",
       "  }\n",
       "\n",
       "  for (const file of files) {\n",
       "    const li = document.createElement('li');\n",
       "    li.append(span(file.name, {fontWeight: 'bold'}));\n",
       "    li.append(span(\n",
       "        `(${file.type || 'n/a'}) - ${file.size} bytes, ` +\n",
       "        `last modified: ${\n",
       "            file.lastModifiedDate ? file.lastModifiedDate.toLocaleDateString() :\n",
       "                                    'n/a'} - `));\n",
       "    const percent = span('0% done');\n",
       "    li.appendChild(percent);\n",
       "\n",
       "    outputElement.appendChild(li);\n",
       "\n",
       "    const fileDataPromise = new Promise((resolve) => {\n",
       "      const reader = new FileReader();\n",
       "      reader.onload = (e) => {\n",
       "        resolve(e.target.result);\n",
       "      };\n",
       "      reader.readAsArrayBuffer(file);\n",
       "    });\n",
       "    // Wait for the data to be ready.\n",
       "    let fileData = yield {\n",
       "      promise: fileDataPromise,\n",
       "      response: {\n",
       "        action: 'continue',\n",
       "      }\n",
       "    };\n",
       "\n",
       "    // Use a chunked sending to avoid message size limits. See b/62115660.\n",
       "    let position = 0;\n",
       "    do {\n",
       "      const length = Math.min(fileData.byteLength - position, MAX_PAYLOAD_SIZE);\n",
       "      const chunk = new Uint8Array(fileData, position, length);\n",
       "      position += length;\n",
       "\n",
       "      const base64 = btoa(String.fromCharCode.apply(null, chunk));\n",
       "      yield {\n",
       "        response: {\n",
       "          action: 'append',\n",
       "          file: file.name,\n",
       "          data: base64,\n",
       "        },\n",
       "      };\n",
       "\n",
       "      let percentDone = fileData.byteLength === 0 ?\n",
       "          100 :\n",
       "          Math.round((position / fileData.byteLength) * 100);\n",
       "      percent.textContent = `${percentDone}% done`;\n",
       "\n",
       "    } while (position < fileData.byteLength);\n",
       "  }\n",
       "\n",
       "  // All done.\n",
       "  yield {\n",
       "    response: {\n",
       "      action: 'complete',\n",
       "    }\n",
       "  };\n",
       "}\n",
       "\n",
       "scope.google = scope.google || {};\n",
       "scope.google.colab = scope.google.colab || {};\n",
       "scope.google.colab._files = {\n",
       "  _uploadFiles,\n",
       "  _uploadFilesContinue,\n",
       "};\n",
       "})(self);\n",
       "</script> "
      ],
      "text/plain": [
       "<IPython.core.display.HTML object>"
      ]
     },
     "metadata": {},
     "output_type": "display_data"
    },
    {
     "name": "stdout",
     "output_type": "stream",
     "text": [
      "Saving BTSA-FTE Offer Letter.pdf to BTSA-FTE Offer Letter.pdf\n"
     ]
    }
   ],
   "source": [
    "# Imports\n",
    "from langchain.document_loaders import PyPDFLoader\n",
    "from langchain.text_splitter import RecursiveCharacterTextSplitter\n",
    "from google.colab import files\n",
    "import os\n",
    "\n",
    "# Upload the PDF file using Google Colab's file upload utility\n",
    "uploaded = files.upload()\n",
    "\n",
    "# Get the file path\n",
    "pdf_path = list(uploaded.keys())[0]\n",
    "\n",
    "# Load the PDF using Langchain's PyPDFLoader\n",
    "loader = PyPDFLoader(pdf_path)\n",
    "documents = loader.load()\n"
   ]
  },
  {
   "cell_type": "code",
   "execution_count": 3,
   "metadata": {
    "colab": {
     "base_uri": "https://localhost:8080/"
    },
    "id": "SfvrYM1454B4",
    "outputId": "28464f74-fd0a-47bc-de18-ae56e14f3044"
   },
   "outputs": [
    {
     "data": {
      "text/plain": [
       "list"
      ]
     },
     "execution_count": 3,
     "metadata": {},
     "output_type": "execute_result"
    }
   ],
   "source": [
    "type(documents)"
   ]
  },
  {
   "cell_type": "code",
   "execution_count": 4,
   "metadata": {
    "colab": {
     "base_uri": "https://localhost:8080/"
    },
    "id": "3mF5C7sR6PRe",
    "outputId": "be564b1e-06b8-4e65-eb97-561ade5a974d"
   },
   "outputs": [
    {
     "data": {
      "text/plain": [
       "Document(metadata={'producer': 'PDFKit.NET 12.3.320.0 DMV10', 'creator': 'PyPDF', 'creationdate': '2025-05-21T01:17:06-07:00', 'moddate': '2025-05-21T01:17:06-07:00', 'source': 'BTSA-FTE Offer Letter.pdf', 'total_pages': 8, 'page': 0, 'page_label': '1'}, page_content=\"May 21, 2025\\n \\nCONFIDENTIAL\\n \\nSubhadip De\\nAdhikari Ghosh Road, Hatthuba, PO :- Habra\\nDistrict - North 24 Parganas\\nHabra, West Bengal 743263\\nDear Subhadip:\\nWe are pleased to extend you an offer to join ZS Associates India Private Ltd. (‘ZS’) as a\\nBusiness Technology Solutions Associate , to be based in our Bengaluru office with a start \\ndate of June 2, 2025 . We hope that you give this opportunity with ZS serious \\nconsideration.\\n \\nZS has a special culture of collaboration and innovation and intensity. We produce work of \\noutstanding quality and are proud of the client-first approach we bring to every \\nengagement. ZSers bring passion to make an impact, commitment to continuous learning, \\nself-improvement and expertise to achieve that result.\\nSalary: Your annual gross salary will be INR ₹850,000.00/Annually, inclusive of basic and \\nfixed allowances; all associates are paid on the last working day of every month. ZS \\nreviews salaries each June, which is effective 1st July, provided you were employed at ZS \\nby March 31 in that year; the raise is pro-rated if your employment tenure is fewer than 12 \\nmonths. For salary details, please refer to Appendix 1.\\nStarting Bonus: When you start full-time active, permanent employment with ZS, we will \\npay you a starting bonus INR ₹100,000.00 in your second month's payroll,\\nHowever, if you do not then complete one full year (12 months) of continuous full-time \\nemployment with ZS immediately after that point for any reason (except for involuntary \\ntermination of your employment by ZS), then you agree to refund the starting bonus in its \\nentirety.\\nPerformance Bonus: ZS associates receive performance bonuses at the end of each year, \\nbased on your performance and the firm's results. This bonus may be up to 10% of your \\neligible wages earned during the calendar year. Bonuses are determined at the discretion \\nof ZS and are subject to standard withholding taxes.\\n    \\nDocusign Envelope ID: A63035C4-D3FB-44B0-B839-5B660260D5BD\")"
      ]
     },
     "execution_count": 4,
     "metadata": {},
     "output_type": "execute_result"
    }
   ],
   "source": [
    "documents[0]"
   ]
  },
  {
   "cell_type": "code",
   "execution_count": 5,
   "metadata": {
    "colab": {
     "base_uri": "https://localhost:8080/"
    },
    "id": "3nQx85ybAcjn",
    "outputId": "f3ef2632-1084-4d52-8056-9d7166aed040"
   },
   "outputs": [
    {
     "data": {
      "text/plain": [
       "8"
      ]
     },
     "execution_count": 5,
     "metadata": {},
     "output_type": "execute_result"
    }
   ],
   "source": [
    "len(documents)"
   ]
  },
  {
   "cell_type": "markdown",
   "metadata": {
    "id": "SB7uogzLlaV7"
   },
   "source": [
    "##Setting up the Environment for Developing"
   ]
  },
  {
   "cell_type": "markdown",
   "metadata": {
    "id": "wa2VpZsojBKj"
   },
   "source": [
    "### Environment in a Development Project\n",
    "In a development project, an **environment** refers to a configured system setup where software is developed, tested, and deployed, often using **environment variables** to manage sensitive information like API keys securely. In **Google Colab**, environment variables can be stored in **secrets** (e.g., `os.environ[\"API_KEY\"] = \"your_key\"`) to prevent hardcoding sensitive data. This ensures security, flexibility, and easier configuration management across different environments. 🚀"
   ]
  },
  {
   "cell_type": "code",
   "execution_count": 9,
   "metadata": {
    "id": "MvIX2qW_j9qu"
   },
   "outputs": [],
   "source": [
    "import os\n",
    "from google.colab import userdata\n",
    "\n",
    "os.environ[\"GROQ_API_KEY\"] = userdata.get('GROQ_API_KEY')\n",
    "os.environ[\"HF_TOKEN\"] = userdata.get('HF_TOKEN')\n",
    "os.environ[\"NEO4J_URI\"] = userdata.get('NEO4J_URI')\n",
    "os.environ[\"NEO4J_USERNAME\"] = userdata.get('NEO4J_USERNAME')\n",
    "os.environ[\"NEO4J_PASSWORD\"] = userdata.get('NEO4J_PASSWORD')"
   ]
  },
  {
   "cell_type": "code",
   "execution_count": 10,
   "metadata": {
    "id": "dTc1oouVwoYu"
   },
   "outputs": [],
   "source": [
    "from langchain_core.prompts import ChatPromptTemplate\n",
    "from langchain_core.prompts.prompt import PromptTemplate\n",
    "\n",
    "from typing import Tuple, List, Optional\n",
    "\n",
    "from langchain_core.messages import AIMessage, HumanMessage\n",
    "from langchain_core.output_parsers import StrOutputParser\n",
    "\n",
    "from langchain_core.runnables import ConfigurableField\n",
    "\n",
    "from yfiles_jupyter_graphs import GraphWidget\n",
    "from neo4j import GraphDatabase\n",
    "\n",
    "from langchain_community.vectorstores import Neo4jVector\n",
    "from langchain_community.graphs import Neo4jGraph\n",
    "\n",
    "from langchain_huggingface import HuggingFaceEmbeddings"
   ]
  },
  {
   "cell_type": "code",
   "execution_count": 11,
   "metadata": {
    "id": "zZK-vw_Sy4cu"
   },
   "outputs": [],
   "source": [
    "try:\n",
    "  import google.colab\n",
    "  from google.colab import output\n",
    "  output.enable_custom_widget_manager()\n",
    "except:\n",
    "  pass"
   ]
  },
  {
   "cell_type": "code",
   "execution_count": 12,
   "metadata": {
    "id": "M5FS6bBWj9om"
   },
   "outputs": [],
   "source": [
    "from langchain_core.runnables import (\n",
    "    RunnableBranch,\n",
    "    RunnableLambda,\n",
    "    RunnableParallel,\n",
    "    RunnablePassthrough,\n",
    ")"
   ]
  },
  {
   "cell_type": "markdown",
   "metadata": {
    "id": "eyN_RBsiqYSz"
   },
   "source": [
    "##Extracting Text from Wikipedia Pages\n",
    "--Using WikipediaLoader from Langchain"
   ]
  },
  {
   "cell_type": "code",
   "execution_count": null,
   "metadata": {
    "colab": {
     "base_uri": "https://localhost:8080/"
    },
    "id": "PdPlfdqFzg7g",
    "outputId": "4983dfe9-926a-4dfb-a836-74046b595285"
   },
   "outputs": [
    {
     "name": "stderr",
     "output_type": "stream",
     "text": [
      "/usr/local/lib/python3.11/dist-packages/wikipedia/wikipedia.py:389: GuessedAtParserWarning: No parser was explicitly specified, so I'm using the best available HTML parser for this system (\"lxml\"). This usually isn't a problem, but if you run this code on another system, or in a different virtual environment, it may use a different parser and behave differently.\n",
      "\n",
      "The code that caused this warning is on line 389 of the file /usr/local/lib/python3.11/dist-packages/wikipedia/wikipedia.py. To get rid of this warning, pass the additional argument 'features=\"lxml\"' to the BeautifulSoup constructor.\n",
      "\n",
      "  lis = BeautifulSoup(html).find_all('li')\n"
     ]
    }
   ],
   "source": [
    "# from langchain.document_loaders import WikipediaLoader\n",
    "# raw_documents = WikipediaLoader(query=\"The Merchant of Venice\").load()"
   ]
  },
  {
   "cell_type": "code",
   "execution_count": null,
   "metadata": {
    "colab": {
     "base_uri": "https://localhost:8080/"
    },
    "id": "5M9pNMDrzoFi",
    "outputId": "6c665e98-c1a4-4e35-adbb-5ac0ac0bd2ec"
   },
   "outputs": [
    {
     "data": {
      "text/plain": [
       "24"
      ]
     },
     "execution_count": 9,
     "metadata": {},
     "output_type": "execute_result"
    }
   ],
   "source": [
    "# len(raw_documents)"
   ]
  },
  {
   "cell_type": "code",
   "execution_count": null,
   "metadata": {
    "colab": {
     "base_uri": "https://localhost:8080/"
    },
    "collapsed": true,
    "id": "_beA0mmX7Wcc",
    "outputId": "8425973f-5518-40b1-f82f-4d86fbda7178"
   },
   "outputs": [
    {
     "data": {
      "text/plain": [
       "Document(metadata={'title': 'The Merchant of Venice', 'summary': 'The Merchant of Venice is a play by William Shakespeare, believed to have been written between 1596 and 1598. A merchant in Venice named Antonio defaults on a large loan taken out on behalf of his dear friend, Bassanio, and provided by a Jewish moneylender, Shylock, with seemingly inevitable fatal consequences.\\nAlthough classified as a comedy in the First Folio and sharing certain aspects with Shakespeare\\'s other romantic comedies, the play is most remembered for its dramatic scenes, and it is best known for the character Shylock and his famous demand for a \"pound of flesh\".\\nThe play contains two famous speeches, that of Shylock, \"Hath not a Jew eyes?\" on the subject of humanity, and that of Portia on \"the quality of mercy\".  Debate exists on whether the play is anti-Semitic, with Shylock\\'s insistence on his legal right to the pound of flesh being in opposition to his seemingly universal plea for the rights of all people suffering discrimination.', 'source': 'https://en.wikipedia.org/wiki/The_Merchant_of_Venice'}, page_content='The Merchant of Venice is a play by William Shakespeare, believed to have been written between 1596 and 1598. A merchant in Venice named Antonio defaults on a large loan taken out on behalf of his dear friend, Bassanio, and provided by a Jewish moneylender, Shylock, with seemingly inevitable fatal consequences.\\nAlthough classified as a comedy in the First Folio and sharing certain aspects with Shakespeare\\'s other romantic comedies, the play is most remembered for its dramatic scenes, and it is best known for the character Shylock and his famous demand for a \"pound of flesh\".\\nThe play contains two famous speeches, that of Shylock, \"Hath not a Jew eyes?\" on the subject of humanity, and that of Portia on \"the quality of mercy\".  Debate exists on whether the play is anti-Semitic, with Shylock\\'s insistence on his legal right to the pound of flesh being in opposition to his seemingly universal plea for the rights of all people suffering discrimination.\\n\\n\\n== Characters ==\\n\\n\\n== Plot summary ==\\n\\nBassanio, a young Venetian of noble rank, wishes to woo the beautiful and wealthy heiress of Belmont, Portia. Having squandered his estate, he needs 3,000 ducats to subsidise his expenditures as a suitor. Bassanio approaches his friend Antonio, a wealthy merchant of Venice, who has previously and repeatedly bailed him out. Antonio agrees, but has no liquid cash as  his ships and merchandise are busy at sea to Tripolis, the Indies, Mexico and England – he promises to cover a bond if Bassanio can find a lender, so Bassanio turns to the Jewish moneylender Shylock and names Antonio as the loan\\'s guarantor.\\nAntonio has already antagonized Shylock through his outspoken antisemitism and because Antonio\\'s habit of lending money without interest forces Shylock to charge lower rates. Shylock is at first reluctant to grant the loan, citing abuse he has suffered at Antonio\\'s hand. He finally agrees to lend the sum to Bassanio without interest upon one condition: if Antonio were unable to repay it at the specified date, Shylock may take a pound of Antonio\\'s flesh. Bassanio does not want Antonio to accept such a risky condition; Antonio is surprised by what he sees as the moneylender\\'s generosity (no \"usance\" – interest – is asked for), and he signs the contract. With money in hand, Bassanio leaves for Belmont with his friend Gratiano, who has asked to accompany him. Gratiano is a likeable young man, but he is often flippant, overly talkative, and tactless. Bassanio warns his companion to exercise self-control, and the two leave for Belmont.\\nMeanwhile, in Belmont, Portia is awash with suitors. Her father left a will stipulating that each of her suitors must choose correctly from one of three caskets, made of gold, silver and lead respectively. Whoever picks the right casket wins Portia\\'s hand. The first suitor, the Prince of Morocco, chooses the gold casket, interpreting its slogan, \"Who chooseth me shall gain what many men desire\", as referring to Portia. The second suitor, the conceited Prince of Aragon, chooses the silver casket, which proclaims, \"Who chooseth me shall get as much as he deserves\", as he believes he is full of merit. Both suitors leave empty-handed, having rejected the lead casket because of the baseness of its material and the uninviting nature of its slogan, \"Who chooseth me must give and hazard all he hath\". The last suitor is Bassanio, whom Portia wishes to succeed, having met him before. As Bassanio ponders his choice, members of Portia\\'s household sing a song that says that \"fancy\" (not true love) is \"It is engendered in the eye, / With gazing fed\"; Bassanio chooses the lead casket and wins Portia\\'s hand.\\n\\nAt Venice, Antonio\\'s ships are reported lost at sea, so the merchant cannot repay the bond. Shylock has become more determined to exact revenge from Christians because his daughter Jessica eloped with the Christian Lorenzo and converted. She took a substantial amount of Shylock\\'s wealth with her, as well as a turquoise ring which S')"
      ]
     },
     "execution_count": 10,
     "metadata": {},
     "output_type": "execute_result"
    }
   ],
   "source": [
    "# raw_documents[0]"
   ]
  },
  {
   "cell_type": "markdown",
   "metadata": {
    "id": "LhdrdifqmFI9"
   },
   "source": [
    "##Constants"
   ]
  },
  {
   "cell_type": "code",
   "execution_count": 13,
   "metadata": {
    "id": "fK1MDDVR1TKg"
   },
   "outputs": [],
   "source": [
    "chunk_size = 512\n",
    "chunk_overlap = 24\n",
    "\n",
    "model_name = \"deepseek-r1-distill-llama-70b\"\n",
    "embedding_model = \"sentence-transformers/all-mpnet-base-v2\"\n",
    "temperature = 0.3\n",
    "tokens_per_minute = 900"
   ]
  },
  {
   "cell_type": "markdown",
   "metadata": {
    "id": "5EZCmxNQq-6D"
   },
   "source": [
    "##Text Splitting using Recursive Charecter Text Splitter"
   ]
  },
  {
   "cell_type": "code",
   "execution_count": null,
   "metadata": {
    "id": "kGS_yTfrz0Km"
   },
   "outputs": [],
   "source": [
    "# # For Wikipedia\n",
    "# from langchain.text_splitter import RecursiveCharacterTextSplitter\n",
    "# text_splitter = RecursiveCharacterTextSplitter(chunk_size=chunk_size, chunk_overlap=chunk_overlap)\n",
    "# documents = text_splitter.split_documents(raw_documents[:4])"
   ]
  },
  {
   "cell_type": "code",
   "execution_count": 14,
   "metadata": {
    "id": "FFo8rElTIjYT"
   },
   "outputs": [],
   "source": [
    "# For PDF (Custom Upload)\n",
    "from langchain.text_splitter import RecursiveCharacterTextSplitter\n",
    "text_splitter = RecursiveCharacterTextSplitter(chunk_size=chunk_size, chunk_overlap=chunk_overlap)\n",
    "document_chunks = text_splitter.split_documents(documents)"
   ]
  },
  {
   "cell_type": "code",
   "execution_count": 15,
   "metadata": {
    "colab": {
     "base_uri": "https://localhost:8080/"
    },
    "collapsed": true,
    "id": "NH25P9SmnRoK",
    "outputId": "a716f4a1-29d5-41b0-85fe-5f9d20a02351"
   },
   "outputs": [
    {
     "data": {
      "text/plain": [
       "[Document(metadata={'producer': 'PDFKit.NET 12.3.320.0 DMV10', 'creator': 'PyPDF', 'creationdate': '2025-05-21T01:17:06-07:00', 'moddate': '2025-05-21T01:17:06-07:00', 'source': 'BTSA-FTE Offer Letter.pdf', 'total_pages': 8, 'page': 0, 'page_label': '1'}, page_content='May 21, 2025\\n \\nCONFIDENTIAL\\n \\nSubhadip De\\nAdhikari Ghosh Road, Hatthuba, PO :- Habra\\nDistrict - North 24 Parganas\\nHabra, West Bengal 743263\\nDear Subhadip:\\nWe are pleased to extend you an offer to join ZS Associates India Private Ltd. (‘ZS’) as a\\nBusiness Technology Solutions Associate , to be based in our Bengaluru office with a start \\ndate of June 2, 2025 . We hope that you give this opportunity with ZS serious \\nconsideration.'),\n",
       " Document(metadata={'producer': 'PDFKit.NET 12.3.320.0 DMV10', 'creator': 'PyPDF', 'creationdate': '2025-05-21T01:17:06-07:00', 'moddate': '2025-05-21T01:17:06-07:00', 'source': 'BTSA-FTE Offer Letter.pdf', 'total_pages': 8, 'page': 0, 'page_label': '1'}, page_content='consideration.\\n \\nZS has a special culture of collaboration and innovation and intensity. We produce work of \\noutstanding quality and are proud of the client-first approach we bring to every \\nengagement. ZSers bring passion to make an impact, commitment to continuous learning, \\nself-improvement and expertise to achieve that result.\\nSalary: Your annual gross salary will be INR ₹850,000.00/Annually, inclusive of basic and \\nfixed allowances; all associates are paid on the last working day of every month. ZS'),\n",
       " Document(metadata={'producer': 'PDFKit.NET 12.3.320.0 DMV10', 'creator': 'PyPDF', 'creationdate': '2025-05-21T01:17:06-07:00', 'moddate': '2025-05-21T01:17:06-07:00', 'source': 'BTSA-FTE Offer Letter.pdf', 'total_pages': 8, 'page': 0, 'page_label': '1'}, page_content=\"reviews salaries each June, which is effective 1st July, provided you were employed at ZS \\nby March 31 in that year; the raise is pro-rated if your employment tenure is fewer than 12 \\nmonths. For salary details, please refer to Appendix 1.\\nStarting Bonus: When you start full-time active, permanent employment with ZS, we will \\npay you a starting bonus INR ₹100,000.00 in your second month's payroll,\\nHowever, if you do not then complete one full year (12 months) of continuous full-time\"),\n",
       " Document(metadata={'producer': 'PDFKit.NET 12.3.320.0 DMV10', 'creator': 'PyPDF', 'creationdate': '2025-05-21T01:17:06-07:00', 'moddate': '2025-05-21T01:17:06-07:00', 'source': 'BTSA-FTE Offer Letter.pdf', 'total_pages': 8, 'page': 0, 'page_label': '1'}, page_content=\"employment with ZS immediately after that point for any reason (except for involuntary \\ntermination of your employment by ZS), then you agree to refund the starting bonus in its \\nentirety.\\nPerformance Bonus: ZS associates receive performance bonuses at the end of each year, \\nbased on your performance and the firm's results. This bonus may be up to 10% of your \\neligible wages earned during the calendar year. Bonuses are determined at the discretion \\nof ZS and are subject to standard withholding taxes.\"),\n",
       " Document(metadata={'producer': 'PDFKit.NET 12.3.320.0 DMV10', 'creator': 'PyPDF', 'creationdate': '2025-05-21T01:17:06-07:00', 'moddate': '2025-05-21T01:17:06-07:00', 'source': 'BTSA-FTE Offer Letter.pdf', 'total_pages': 8, 'page': 0, 'page_label': '1'}, page_content='Docusign Envelope ID: A63035C4-D3FB-44B0-B839-5B660260D5BD'),\n",
       " Document(metadata={'producer': 'PDFKit.NET 12.3.320.0 DMV10', 'creator': 'PyPDF', 'creationdate': '2025-05-21T01:17:06-07:00', 'moddate': '2025-05-21T01:17:06-07:00', 'source': 'BTSA-FTE Offer Letter.pdf', 'total_pages': 8, 'page': 1, 'page_label': '2'}, page_content='Emerging Leader Reward Program (ELRP): The expertise you gain over your tenure is \\nvaluable to ZS and we recognize your continued commitment and progression towards \\nbecoming a future leader in the firm. ZS rewards this expertise through a tenure-based \\nincentive of total INR 9 lacs, which begins after 12 months’ tenure and is paid at every one-\\nyear milestone till 48 months of your tenure with ZS India. Should your employment with'),\n",
       " Document(metadata={'producer': 'PDFKit.NET 12.3.320.0 DMV10', 'creator': 'PyPDF', 'creationdate': '2025-05-21T01:17:06-07:00', 'moddate': '2025-05-21T01:17:06-07:00', 'source': 'BTSA-FTE Offer Letter.pdf', 'total_pages': 8, 'page': 1, 'page_label': '2'}, page_content='ZS terminate (other than a dismissal by ZS without cause), and  if you don’t complete 8 \\nmonths of continuous full-time employment with ZS from the time of your ELRP pay-out, \\nthen you will be expected to return the pay-out of ELRP in its entirety.\\nAll bonuses are determined at the discretion of ZS, and are subject to standard \\nwithholding taxes.\\n  \\nProvident Fund: When you begin employment with ZS, you will be enrolled in the Provident'),\n",
       " Document(metadata={'producer': 'PDFKit.NET 12.3.320.0 DMV10', 'creator': 'PyPDF', 'creationdate': '2025-05-21T01:17:06-07:00', 'moddate': '2025-05-21T01:17:06-07:00', 'source': 'BTSA-FTE Offer Letter.pdf', 'total_pages': 8, 'page': 1, 'page_label': '2'}, page_content='Fund program. The primary objective of this program is to provide retirement and pension \\nsupport as per the Provident Fund Act, while reducing current tax exposure. As a \\nparticipant, you will make 12% contributions on the first INR ₹15,000 of your monthly \\nsalary through payroll deduction; ZS makes a separate additional matching contribution to \\nyour account. You can opt for additional contributions to your Fund account through \\npayroll deduction.'),\n",
       " Document(metadata={'producer': 'PDFKit.NET 12.3.320.0 DMV10', 'creator': 'PyPDF', 'creationdate': '2025-05-21T01:17:06-07:00', 'moddate': '2025-05-21T01:17:06-07:00', 'source': 'BTSA-FTE Offer Letter.pdf', 'total_pages': 8, 'page': 1, 'page_label': '2'}, page_content='payroll deduction.\\n \\nGratuity: After you complete five years of continuous service, ZS will pay 15 days’ salary \\nfor every completed year of service at the time of retirement or separation. The maximum \\namount payable is governed by the Gratuity Law.\\n \\nIn addition to components of the offer detailing direct compensation described above, this \\noffer also includes elements describing non-cash benefits of employment with ZS. You will'),\n",
       " Document(metadata={'producer': 'PDFKit.NET 12.3.320.0 DMV10', 'creator': 'PyPDF', 'creationdate': '2025-05-21T01:17:06-07:00', 'moddate': '2025-05-21T01:17:06-07:00', 'source': 'BTSA-FTE Offer Letter.pdf', 'total_pages': 8, 'page': 1, 'page_label': '2'}, page_content='be eligible for all of the following benefits as of your start date with ZS. Benefits described \\nare subject to taxes based on the prevailing government guidelines.\\n \\nAnnual Leave, Holidays and Sick Time: We provide 25 days of paid annual leave per year, \\ninclusive of privilege and casual leave, on a pro-rata basis. In addition, ZS has designated \\npaid holidays and permits up to seven paid sick days per year on a pro rata basis.'),\n",
       " Document(metadata={'producer': 'PDFKit.NET 12.3.320.0 DMV10', 'creator': 'PyPDF', 'creationdate': '2025-05-21T01:17:06-07:00', 'moddate': '2025-05-21T01:17:06-07:00', 'source': 'BTSA-FTE Offer Letter.pdf', 'total_pages': 8, 'page': 1, 'page_label': '2'}, page_content='Insurance: We offer a group insurance plan to cover hospitalization expenses for \\nemployees and immediate dependents may also be added as per the existing insurance \\nprogram guidelines. Additionally, ZS provides some preventive healthcare coverage \\n(Health Check-Up, OPD (Outpatient Department) coverage, mental well-being and care, \\netc.). ZS provides accident insurance and business travel insurance for employees. ZS \\nalso provides life insurance coverage in the amount of three times your annual gross'),\n",
       " Document(metadata={'producer': 'PDFKit.NET 12.3.320.0 DMV10', 'creator': 'PyPDF', 'creationdate': '2025-05-21T01:17:06-07:00', 'moddate': '2025-05-21T01:17:06-07:00', 'source': 'BTSA-FTE Offer Letter.pdf', 'total_pages': 8, 'page': 1, 'page_label': '2'}, page_content='salary, with ZS paying these premiums in full.\\n \\nTransportation and Meal: ZS will provide a transportation allowance of INR 12,000 \\nmonthly for you to arrange your own transport to/from the office. This allowance of INR \\n12000 shall be granted, in full, if your office presence is 12 or more days in a month, \\notherwise it shall be granted on pro-rata basis based on the actual number of your office \\npresence. Additionally, a meal allowance of INR 5,500 will be disbursed monthly via payroll,'),\n",
       " Document(metadata={'producer': 'PDFKit.NET 12.3.320.0 DMV10', 'creator': 'PyPDF', 'creationdate': '2025-05-21T01:17:06-07:00', 'moddate': '2025-05-21T01:17:06-07:00', 'source': 'BTSA-FTE Offer Letter.pdf', 'total_pages': 8, 'page': 1, 'page_label': '2'}, page_content='in lieu of in-office dining services. The transportation and meal allowances are considered \\nas taxable income.\\nDocusign Envelope ID: A63035C4-D3FB-44B0-B839-5B660260D5BD'),\n",
       " Document(metadata={'producer': 'PDFKit.NET 12.3.320.0 DMV10', 'creator': 'PyPDF', 'creationdate': '2025-05-21T01:17:06-07:00', 'moddate': '2025-05-21T01:17:06-07:00', 'source': 'BTSA-FTE Offer Letter.pdf', 'total_pages': 8, 'page': 2, 'page_label': '3'}, page_content=\"Broadband access: ZS will provide a broadband allowance of INR ₹1,500 per month \\nthrough payroll. We will also reimburse a one-time ‘installation charge' of INR ₹500 against \\nthe receipt from your broadband service provider. We expect that you install a high-speed \\nbroadband connection at home to enable you to work remotely for project demands, and \\nrecommend at least a 2.0 MBPS wired connection. ZS retains the right to conduct random \\naudits to ensure appropriate use of the allowance.\"),\n",
       " Document(metadata={'producer': 'PDFKit.NET 12.3.320.0 DMV10', 'creator': 'PyPDF', 'creationdate': '2025-05-21T01:17:06-07:00', 'moddate': '2025-05-21T01:17:06-07:00', 'source': 'BTSA-FTE Offer Letter.pdf', 'total_pages': 8, 'page': 2, 'page_label': '3'}, page_content='Finally, the following elements of your offer relate to logistics: getting you to ZS and \\ngetting you started.\\nRelocation: We will provide relocation assistance to support your move closer to your ZS \\noffice. If you are relocating from another city to Bangalore, ZS provides the following \\nsupport:\\noYou have to arrange train/air tickets from your college/home location to your ZS \\noffice location at your expense and share the tickets with Gaurav Asolkar'),\n",
       " Document(metadata={'producer': 'PDFKit.NET 12.3.320.0 DMV10', 'creator': 'PyPDF', 'creationdate': '2025-05-21T01:17:06-07:00', 'moddate': '2025-05-21T01:17:06-07:00', 'source': 'BTSA-FTE Offer Letter.pdf', 'total_pages': 8, 'page': 2, 'page_label': '3'}, page_content='(gaurav.asolkar@zs.com) which will enable him to book your accommodation if \\nrequired.\\noUpon your arrival, ZS will provide up to 2 weeks (14 days) of temporary guest house \\naccommodation on a twin sharing basis. ZS will direct pay the guest house \\naccommodation.\\noZS will provide a onetime relocation allowance of INR₹75,000.00 through the second \\nmonth’s payroll. If you do not complete one full year (12 months) of continuous full-'),\n",
       " Document(metadata={'producer': 'PDFKit.NET 12.3.320.0 DMV10', 'creator': 'PyPDF', 'creationdate': '2025-05-21T01:17:06-07:00', 'moddate': '2025-05-21T01:17:06-07:00', 'source': 'BTSA-FTE Offer Letter.pdf', 'total_pages': 8, 'page': 2, 'page_label': '3'}, page_content='time employment with ZS, then you agree to refund the relocation allowance and the \\nexpenses incurred for the accommodation and travel entirely. The relocation \\nallowance is considered taxable income.\\nNotice Period: ZS expects that experienced hires serve out their notice period with their \\ncurrent employer; however, ZS may opt to buy-out your notice period. If you do not start \\nemployment with ZS or do not complete one full year (12 months) of continuous full-time'),\n",
       " Document(metadata={'producer': 'PDFKit.NET 12.3.320.0 DMV10', 'creator': 'PyPDF', 'creationdate': '2025-05-21T01:17:06-07:00', 'moddate': '2025-05-21T01:17:06-07:00', 'source': 'BTSA-FTE Offer Letter.pdf', 'total_pages': 8, 'page': 2, 'page_label': '3'}, page_content='employment with ZS immediately after that point for any reason (except for involuntary \\ntermination of your employment by ZS), then you agree to repay to ZS any buyout amount \\nin its entirety.\\n \\nConfidentiality and Employment Agreement: Our work at ZS often involves the use of \\nconfidential information of our clients, as well as the development and use of ZS \\nproprietary software and processes. For you to start employment with ZS, you will be'),\n",
       " Document(metadata={'producer': 'PDFKit.NET 12.3.320.0 DMV10', 'creator': 'PyPDF', 'creationdate': '2025-05-21T01:17:06-07:00', 'moddate': '2025-05-21T01:17:06-07:00', 'source': 'BTSA-FTE Offer Letter.pdf', 'total_pages': 8, 'page': 2, 'page_label': '3'}, page_content='required to sign the employment agreement. If you have questions regarding this \\nagreement, please do not hesitate to ask.\\n \\nZStart and Orientation: New associates who begin employment between ZStart sessions \\nparticipate in an office-based Orientation program to gain a basic understanding of ZS \\nculture and work. The ZStart Academy program, held several times per year is designed to \\nprovide a deeper view of the issues you will solve and the skills you will develop at ZS.'),\n",
       " Document(metadata={'producer': 'PDFKit.NET 12.3.320.0 DMV10', 'creator': 'PyPDF', 'creationdate': '2025-05-21T01:17:06-07:00', 'moddate': '2025-05-21T01:17:06-07:00', 'source': 'BTSA-FTE Offer Letter.pdf', 'total_pages': 8, 'page': 2, 'page_label': '3'}, page_content='Both session provide an excellent opportunity to get to know other new ZS associates.\\n \\nDocusign Envelope ID: A63035C4-D3FB-44B0-B839-5B660260D5BD'),\n",
       " Document(metadata={'producer': 'PDFKit.NET 12.3.320.0 DMV10', 'creator': 'PyPDF', 'creationdate': '2025-05-21T01:17:06-07:00', 'moddate': '2025-05-21T01:17:06-07:00', 'source': 'BTSA-FTE Offer Letter.pdf', 'total_pages': 8, 'page': 3, 'page_label': '4'}, page_content='Start Date and Formalities: We propose a start date of June 2, 2025, contingent on your \\ncurrent employment arrangement. Please ensure that you report for work on the date \\nindicated.\\n \\nThis offer is subject to verification of original certificates of educational qualifications and \\nother documents listed below. At the time of joining, you are required to bring the \\nfollowing:\\noOriginal certificates of all educational qualifications, each with a scanned copy\\noAadhar Card'),\n",
       " Document(metadata={'producer': 'PDFKit.NET 12.3.320.0 DMV10', 'creator': 'PyPDF', 'creationdate': '2025-05-21T01:17:06-07:00', 'moddate': '2025-05-21T01:17:06-07:00', 'source': 'BTSA-FTE Offer Letter.pdf', 'total_pages': 8, 'page': 3, 'page_label': '4'}, page_content='oAadhar Card\\noProof of age (Pan Card or Passport scanned copy)\\noRelieving letter scanned copy (if employed)\\noScanned copy of the latest salary slip from your current employer (if employed)\\noTwo passport-size photographs \\nWe are pleased by the prospect of you starting your ZS career in this position. If you \\ndecide to accept this offer, please sign this letter electronically through DocuSign to return \\nit to us. Should you decide not to accept, please decline through DocuSign so that your \\noffer is closed.'),\n",
       " Document(metadata={'producer': 'PDFKit.NET 12.3.320.0 DMV10', 'creator': 'PyPDF', 'creationdate': '2025-05-21T01:17:06-07:00', 'moddate': '2025-05-21T01:17:06-07:00', 'source': 'BTSA-FTE Offer Letter.pdf', 'total_pages': 8, 'page': 3, 'page_label': '4'}, page_content='offer is closed. \\n \\nPlease know that we would like to hear from you regarding your decision as soon as \\npossible. We will consider this offer to be valid until May 23, 2025.\\nThe elements of this offer are personal and specific to you and, accordingly, we do not \\nconsider them appropriate to be shared with colleagues or the public. All details conveyed \\nin this offer are based on our understanding of your expected completion of degree'),\n",
       " Document(metadata={'producer': 'PDFKit.NET 12.3.320.0 DMV10', 'creator': 'PyPDF', 'creationdate': '2025-05-21T01:17:06-07:00', 'moddate': '2025-05-21T01:17:06-07:00', 'source': 'BTSA-FTE Offer Letter.pdf', 'total_pages': 8, 'page': 3, 'page_label': '4'}, page_content='program, availability and likely start timing. We describe benefits and conditions currently \\nin force as of today and expected to be ongoing at the time you join. This offer is \\ncontingent upon successful completion of a background verification. If you have any \\nquestions about any of the elements of this offer, or would like to discuss the job further, \\nplease do not hesitate to contact me.\\n \\nWe look forward to you joining ZS and helping ZS (and you!) continue to grow and prosper \\nin the future!'),\n",
       " Document(metadata={'producer': 'PDFKit.NET 12.3.320.0 DMV10', 'creator': 'PyPDF', 'creationdate': '2025-05-21T01:17:06-07:00', 'moddate': '2025-05-21T01:17:06-07:00', 'source': 'BTSA-FTE Offer Letter.pdf', 'total_pages': 8, 'page': 3, 'page_label': '4'}, page_content='in the future!\\n \\nSincerely,\\n \\nManish Menon\\nOffice Managing Principal\\n \\nSignature:  ${esignature.signature}\\n       \\nName as it appears on PAN card or passport: ${esignature.initial}\\n \\nDate Signed:  ${esignature.date}\\nDocusign Envelope ID: A63035C4-D3FB-44B0-B839-5B660260D5BD'),\n",
       " Document(metadata={'producer': 'PDFKit.NET 12.3.320.0 DMV10', 'creator': 'PyPDF', 'creationdate': '2025-05-21T01:17:06-07:00', 'moddate': '2025-05-21T01:17:06-07:00', 'source': 'BTSA-FTE Offer Letter.pdf', 'total_pages': 8, 'page': 4, 'page_label': '5'}, page_content='APPENDIX 1 \\nSalary Break up Details\\nZS Associates India Pvt. Ltd.\\n              Annual INR\\nZS Gross   8,50,000\\nBasic  3,40,000\\nHRA  1,36,000\\nLTA 28,333\\nSpecial Allowance  3,45,667\\nPerformance Bonus 85,000\\nMaximum 10% of ZS gross salary; pay-out at the end of \\ncalendar year, depending on individual performance  \\nCash Benefit 84,000\\nBroadband Allowance (ZS will provide a broadband \\nallowance of INR 1,500 per month, through payroll) 18,000\\nMeal Allowance (ZS will provide a meal allowance of INR'),\n",
       " Document(metadata={'producer': 'PDFKit.NET 12.3.320.0 DMV10', 'creator': 'PyPDF', 'creationdate': '2025-05-21T01:17:06-07:00', 'moddate': '2025-05-21T01:17:06-07:00', 'source': 'BTSA-FTE Offer Letter.pdf', 'total_pages': 8, 'page': 4, 'page_label': '5'}, page_content=\"5500 per month, through payroll) 66,000\\nRetirals 16,000\\nGratuity - payable on completing 5 years of continuous \\nservice with ZS India Private Limited as per the Payment of \\nGratuity Act 1972 (first year's provision)\\n \\nProvident Fund 21,600\\nEmployer's contribution to Provident Fund  \\nOne time Starting Bonus 100,000\\n  \\n*ELRP Payout in 1st year (details of the program are \\nmentioned in the table below) 150,000\\nFirst Year Earning Potential 1,290,600\\nDocusign Envelope ID: A63035C4-D3FB-44B0-B839-5B660260D5BD\"),\n",
       " Document(metadata={'producer': 'PDFKit.NET 12.3.320.0 DMV10', 'creator': 'PyPDF', 'creationdate': '2025-05-21T01:17:06-07:00', 'moddate': '2025-05-21T01:17:06-07:00', 'source': 'BTSA-FTE Offer Letter.pdf', 'total_pages': 8, 'page': 5, 'page_label': '6'}, page_content='Docusign Envelope ID: A63035C4-D3FB-44B0-B839-5B660260D5BD'),\n",
       " Document(metadata={'producer': 'PDFKit.NET 12.3.320.0 DMV10', 'creator': 'PyPDF', 'creationdate': '2025-05-21T01:17:06-07:00', 'moddate': '2025-05-21T01:17:06-07:00', 'source': 'BTSA-FTE Offer Letter.pdf', 'total_pages': 8, 'page': 6, 'page_label': '7'}, page_content='Benefit Details\\n \\n \\nConvenience Benefits:\\n \\noAdvance toward Home Deposit: An interest-free advance up to INR ₹75,000 against \\nlease agreement, recovered over a period of 06 months through payroll.\\n \\nHealth and Wellness Benefits:\\n \\noGroup Medical Insurance: A Sum Assured of INR ₹4,00,000 for Associates, \\nAssociate Consultants, Consultants and Managers and INR ₹5,00,000 for Associate \\nPrincipals and Principals. Employee can nominate up to five immediate dependent \\nfamily members.'),\n",
       " Document(metadata={'producer': 'PDFKit.NET 12.3.320.0 DMV10', 'creator': 'PyPDF', 'creationdate': '2025-05-21T01:17:06-07:00', 'moddate': '2025-05-21T01:17:06-07:00', 'source': 'BTSA-FTE Offer Letter.pdf', 'total_pages': 8, 'page': 6, 'page_label': '7'}, page_content='family members.\\noLife Insurance Coverage: 3 times your annual gross salary\\noAccident Policy: A Sum Assured of INR ₹10,00,000\\noOutPatient Department (OPD) expense coverage: INR ₹5000 annually\\noAnnual Health Check Reimbursement for self and spouse: INR ₹5000 in total \\nannually.\\noLeaves: 25 days of vacation per calendar year and up to 7 days of sick leave on pro-\\nrata basis\\noDay care reimbursement (for women ZSers): INR ₹7000 monthly, for children aged'),\n",
       " Document(metadata={'producer': 'PDFKit.NET 12.3.320.0 DMV10', 'creator': 'PyPDF', 'creationdate': '2025-05-21T01:17:06-07:00', 'moddate': '2025-05-21T01:17:06-07:00', 'source': 'BTSA-FTE Offer Letter.pdf', 'total_pages': 8, 'page': 6, 'page_label': '7'}, page_content='0-12months and INR ₹4000 monthly, for children aged 13months to 4 years.\\nDocusign Envelope ID: A63035C4-D3FB-44B0-B839-5B660260D5BD'),\n",
       " Document(metadata={'producer': 'PDFKit.NET 12.3.320.0 DMV10', 'creator': 'PyPDF', 'creationdate': '2025-05-21T01:17:06-07:00', 'moddate': '2025-05-21T01:17:06-07:00', 'source': 'BTSA-FTE Offer Letter.pdf', 'total_pages': 8, 'page': 7, 'page_label': '8'}, page_content='Docusign Envelope ID: A63035C4-D3FB-44B0-B839-5B660260D5BD')]"
      ]
     },
     "execution_count": 15,
     "metadata": {},
     "output_type": "execute_result"
    }
   ],
   "source": [
    "document_chunks"
   ]
  },
  {
   "cell_type": "markdown",
   "metadata": {
    "id": "ELkC9PrSmK7d"
   },
   "source": [
    "##Initializing a Large Language Model (LLM) and Graph Transformer instance"
   ]
  },
  {
   "cell_type": "code",
   "execution_count": 16,
   "metadata": {
    "id": "09E1Hro31Et9"
   },
   "outputs": [],
   "source": [
    "from langchain_groq import ChatGroq\n",
    "\n",
    "llm = ChatGroq(\n",
    "            model_name=model_name,\n",
    "            temperature=temperature,\n",
    "            max_tokens=None,\n",
    "            groq_api_key=os.environ[\"GROQ_API_KEY\"],\n",
    "            timeout=60\n",
    "        )"
   ]
  },
  {
   "cell_type": "code",
   "execution_count": null,
   "metadata": {
    "id": "1rbZJRwh2u9m"
   },
   "outputs": [],
   "source": [
    "# Import the LLMGraphTransformer for converting text into a structured graph\n",
    "from langchain_experimental.graph_transformers import LLMGraphTransformer\n",
    "\n",
    "# Initialize the Graph Transformer with a Large Language Model (LLM)\n",
    "llm_transformer = LLMGraphTransformer(llm=llm)\n",
    "\n",
    "# Convert a list of textual documents into a structured graph representation\n",
    "graph_documents = llm_transformer.convert_to_graph_documents(document_chunks)"
   ]
  },
  {
   "cell_type": "code",
   "execution_count": 18,
   "metadata": {
    "colab": {
     "base_uri": "https://localhost:8080/"
    },
    "collapsed": true,
    "id": "r9QRPGMF3NHE",
    "outputId": "64cc6a49-2c38-4036-a294-06b2779f2f87"
   },
   "outputs": [
    {
     "data": {
      "text/plain": [
       "[GraphDocument(nodes=[Node(id='Subhadip De', type='Person', properties={}), Node(id='Zs Associates India Private Ltd.', type='Company', properties={}), Node(id='Business Technology Solutions Associate', type='Role', properties={}), Node(id='Bengaluru', type='Location', properties={}), Node(id='June 2, 2025', type='Date', properties={})], relationships=[Relationship(source=Node(id='Zs Associates India Private Ltd.', type='Company', properties={}), target=Node(id='Subhadip De', type='Person', properties={}), type='OFFERED_TO', properties={}), Relationship(source=Node(id='Zs Associates India Private Ltd.', type='Company', properties={}), target=Node(id='Business Technology Solutions Associate', type='Role', properties={}), type='OFFERED_POSITION', properties={}), Relationship(source=Node(id='Business Technology Solutions Associate', type='Role', properties={}), target=Node(id='Bengaluru', type='Location', properties={}), type='BASED_IN', properties={}), Relationship(source=Node(id='Business Technology Solutions Associate', type='Role', properties={}), target=Node(id='June 2, 2025', type='Date', properties={}), type='STARTS_ON', properties={})], source=Document(metadata={'producer': 'PDFKit.NET 12.3.320.0 DMV10', 'creator': 'PyPDF', 'creationdate': '2025-05-21T01:17:06-07:00', 'moddate': '2025-05-21T01:17:06-07:00', 'source': 'BTSA-FTE Offer Letter.pdf', 'total_pages': 8, 'page': 0, 'page_label': '1'}, page_content='May 21, 2025\\n \\nCONFIDENTIAL\\n \\nSubhadip De\\nAdhikari Ghosh Road, Hatthuba, PO :- Habra\\nDistrict - North 24 Parganas\\nHabra, West Bengal 743263\\nDear Subhadip:\\nWe are pleased to extend you an offer to join ZS Associates India Private Ltd. (‘ZS’) as a\\nBusiness Technology Solutions Associate , to be based in our Bengaluru office with a start \\ndate of June 2, 2025 . We hope that you give this opportunity with ZS serious \\nconsideration.')),\n",
       " GraphDocument(nodes=[Node(id='Zs', type='Company', properties={}), Node(id='Collaboration', type='Concept', properties={}), Node(id='Innovation', type='Concept', properties={}), Node(id='Intensity', type='Concept', properties={}), Node(id='Quality', type='Concept', properties={}), Node(id='Client-First Approach', type='Concept', properties={}), Node(id='Zsers', type='Person', properties={}), Node(id='Passion', type='Concept', properties={}), Node(id='Commitment', type='Concept', properties={}), Node(id='Continuous Learning', type='Concept', properties={}), Node(id='Self-Improvement', type='Concept', properties={}), Node(id='Expertise', type='Concept', properties={}), Node(id='Salary', type='Concept', properties={}), Node(id='Associates', type='Person', properties={})], relationships=[Relationship(source=Node(id='Zs', type='Company', properties={}), target=Node(id='Collaboration', type='Concept', properties={}), type='HAS_CULTURE', properties={}), Relationship(source=Node(id='Zs', type='Company', properties={}), target=Node(id='Innovation', type='Concept', properties={}), type='HAS_CULTURE', properties={}), Relationship(source=Node(id='Zs', type='Company', properties={}), target=Node(id='Intensity', type='Concept', properties={}), type='HAS_CULTURE', properties={}), Relationship(source=Node(id='Zs', type='Company', properties={}), target=Node(id='Quality', type='Concept', properties={}), type='PRODUCES', properties={}), Relationship(source=Node(id='Zs', type='Company', properties={}), target=Node(id='Client-First Approach', type='Concept', properties={}), type='FOLLOWS', properties={}), Relationship(source=Node(id='Zsers', type='Person', properties={}), target=Node(id='Passion', type='Concept', properties={}), type='BRINGS', properties={}), Relationship(source=Node(id='Zsers', type='Person', properties={}), target=Node(id='Commitment', type='Concept', properties={}), type='BRINGS', properties={}), Relationship(source=Node(id='Zsers', type='Person', properties={}), target=Node(id='Continuous Learning', type='Concept', properties={}), type='BRINGS', properties={}), Relationship(source=Node(id='Zsers', type='Person', properties={}), target=Node(id='Self-Improvement', type='Concept', properties={}), type='BRINGS', properties={}), Relationship(source=Node(id='Zsers', type='Person', properties={}), target=Node(id='Expertise', type='Concept', properties={}), type='BRINGS', properties={}), Relationship(source=Node(id='Associates', type='Person', properties={}), target=Node(id='Salary', type='Concept', properties={}), type='PAID', properties={})], source=Document(metadata={'producer': 'PDFKit.NET 12.3.320.0 DMV10', 'creator': 'PyPDF', 'creationdate': '2025-05-21T01:17:06-07:00', 'moddate': '2025-05-21T01:17:06-07:00', 'source': 'BTSA-FTE Offer Letter.pdf', 'total_pages': 8, 'page': 0, 'page_label': '1'}, page_content='consideration.\\n \\nZS has a special culture of collaboration and innovation and intensity. We produce work of \\noutstanding quality and are proud of the client-first approach we bring to every \\nengagement. ZSers bring passion to make an impact, commitment to continuous learning, \\nself-improvement and expertise to achieve that result.\\nSalary: Your annual gross salary will be INR ₹850,000.00/Annually, inclusive of basic and \\nfixed allowances; all associates are paid on the last working day of every month. ZS')),\n",
       " GraphDocument(nodes=[Node(id='Zs', type='Organization', properties={}), Node(id='Salary Review', type='Event', properties={}), Node(id='June', type='Date', properties={}), Node(id='July 1St', type='Date', properties={}), Node(id='March 31St', type='Date', properties={}), Node(id='Employment', type='Concept', properties={}), Node(id='Starting Bonus', type='Event', properties={}), Node(id='Appendix 1', type='Document', properties={}), Node(id=\"Second Month'S Payroll\", type='Event', properties={}), Node(id='Full Year', type='Time period', properties={}), Node(id='Continuous Employment', type='Concept', properties={})], relationships=[Relationship(source=Node(id='Zs', type='Organization', properties={}), target=Node(id='Salary Review', type='Event', properties={}), type='CONDUCTS', properties={}), Relationship(source=Node(id='Salary Review', type='Event', properties={}), target=Node(id='June', type='Date', properties={}), type='OCCURS_IN', properties={}), Relationship(source=Node(id='Salary Review', type='Event', properties={}), target=Node(id='July 1St', type='Date', properties={}), type='EFFECTIVE_ON', properties={}), Relationship(source=Node(id='Salary Review', type='Event', properties={}), target=Node(id='March 31St', type='Date', properties={}), type='ELIGIBILITY_CRITERIA', properties={}), Relationship(source=Node(id='Employment', type='Concept', properties={}), target=Node(id='Pro-Rated Raise', type='Concept', properties={}), type='MAY_BE', properties={}), Relationship(source=Node(id='Zs', type='Organization', properties={}), target=Node(id='Starting Bonus', type='Event', properties={}), type='PAYS', properties={}), Relationship(source=Node(id='Starting Bonus', type='Event', properties={}), target=Node(id=\"Second Month'S Payroll\", type='Event', properties={}), type='PAID_IN', properties={}), Relationship(source=Node(id='Starting Bonus', type='Event', properties={}), target=Node(id='Full Year', type='Time period', properties={}), type='REQUIRES', properties={}), Relationship(source=Node(id='Employment', type='Concept', properties={}), target=Node(id='Continuous Employment', type='Concept', properties={}), type='MAY_REQUIRE', properties={})], source=Document(metadata={'producer': 'PDFKit.NET 12.3.320.0 DMV10', 'creator': 'PyPDF', 'creationdate': '2025-05-21T01:17:06-07:00', 'moddate': '2025-05-21T01:17:06-07:00', 'source': 'BTSA-FTE Offer Letter.pdf', 'total_pages': 8, 'page': 0, 'page_label': '1'}, page_content=\"reviews salaries each June, which is effective 1st July, provided you were employed at ZS \\nby March 31 in that year; the raise is pro-rated if your employment tenure is fewer than 12 \\nmonths. For salary details, please refer to Appendix 1.\\nStarting Bonus: When you start full-time active, permanent employment with ZS, we will \\npay you a starting bonus INR ₹100,000.00 in your second month's payroll,\\nHowever, if you do not then complete one full year (12 months) of continuous full-time\")),\n",
       " GraphDocument(nodes=[Node(id='Zs', type='Organization', properties={}), Node(id='Employment', type='Employment', properties={}), Node(id='Starting Bonus', type='Bonus', properties={}), Node(id='Refund Condition', type='Condition', properties={}), Node(id='Performance Bonus', type='Bonus', properties={}), Node(id=\"Performance And Firm'S Results\", type='Criteria', properties={}), Node(id='Eligible Wages', type='Wages', properties={}), Node(id='Withholding Taxes', type='Tax', properties={})], relationships=[Relationship(source=Node(id='Zs', type='Organization', properties={}), target=Node(id='Employment', type='Employment', properties={}), type='EMPLOYS', properties={}), Relationship(source=Node(id='Zs', type='Organization', properties={}), target=Node(id='Starting Bonus', type='Bonus', properties={}), type='PROVIDES', properties={}), Relationship(source=Node(id='Starting Bonus', type='Bonus', properties={}), target=Node(id='Refund Condition', type='Condition', properties={}), type='CONDITION', properties={}), Relationship(source=Node(id='Zs', type='Organization', properties={}), target=Node(id='Performance Bonus', type='Bonus', properties={}), type='PROVIDES', properties={}), Relationship(source=Node(id='Performance Bonus', type='Bonus', properties={}), target=Node(id=\"Performance And Firm'S Results\", type='Criteria', properties={}), type='BASED_ON', properties={}), Relationship(source=Node(id='Performance Bonus', type='Bonus', properties={}), target=Node(id='Eligible Wages', type='Wages', properties={}), type='CALCULATES', properties={}), Relationship(source=Node(id='Starting Bonus', type='Bonus', properties={}), target=Node(id='Withholding Taxes', type='Tax', properties={}), type='SUBJECT_TO', properties={}), Relationship(source=Node(id='Performance Bonus', type='Bonus', properties={}), target=Node(id='Withholding Taxes', type='Tax', properties={}), type='SUBJECT_TO', properties={})], source=Document(metadata={'producer': 'PDFKit.NET 12.3.320.0 DMV10', 'creator': 'PyPDF', 'creationdate': '2025-05-21T01:17:06-07:00', 'moddate': '2025-05-21T01:17:06-07:00', 'source': 'BTSA-FTE Offer Letter.pdf', 'total_pages': 8, 'page': 0, 'page_label': '1'}, page_content=\"employment with ZS immediately after that point for any reason (except for involuntary \\ntermination of your employment by ZS), then you agree to refund the starting bonus in its \\nentirety.\\nPerformance Bonus: ZS associates receive performance bonuses at the end of each year, \\nbased on your performance and the firm's results. This bonus may be up to 10% of your \\neligible wages earned during the calendar year. Bonuses are determined at the discretion \\nof ZS and are subject to standard withholding taxes.\")),\n",
       " GraphDocument(nodes=[Node(id='Docusign Envelope Id', type='Document', properties={}), Node(id='A63035C4-D3Fb-44B0-B839-5B660260D5Bd', type='String', properties={})], relationships=[Relationship(source=Node(id='Docusign Envelope Id', type='Document', properties={}), target=Node(id='A63035C4-D3Fb-44B0-B839-5B660260D5Bd', type='String', properties={}), type='HAS_VALUE', properties={})], source=Document(metadata={'producer': 'PDFKit.NET 12.3.320.0 DMV10', 'creator': 'PyPDF', 'creationdate': '2025-05-21T01:17:06-07:00', 'moddate': '2025-05-21T01:17:06-07:00', 'source': 'BTSA-FTE Offer Letter.pdf', 'total_pages': 8, 'page': 0, 'page_label': '1'}, page_content='Docusign Envelope ID: A63035C4-D3FB-44B0-B839-5B660260D5BD')),\n",
       " GraphDocument(nodes=[Node(id='Emerging Leader Reward Program (Elrp)', type='Program', properties={}), Node(id='Zs', type='Company', properties={}), Node(id='Expertise', type='Concept', properties={}), Node(id='Inr 9 Lacs', type='Monetary value', properties={}), Node(id='12 Months', type='Time period', properties={}), Node(id='48 Months', type='Time period', properties={})], relationships=[Relationship(source=Node(id='Emerging Leader Reward Program (Elrp)', type='Program', properties={}), target=Node(id='Zs', type='Company', properties={}), type='OFFERED_BY', properties={}), Relationship(source=Node(id='Emerging Leader Reward Program (Elrp)', type='Program', properties={}), target=Node(id='Expertise', type='Concept', properties={}), type='RECOGNIZES', properties={}), Relationship(source=Node(id='Emerging Leader Reward Program (Elrp)', type='Program', properties={}), target=Node(id='Inr 9 Lacs', type='Monetary value', properties={}), type='INCLUDES', properties={}), Relationship(source=Node(id='Inr 9 Lacs', type='Monetary value', properties={}), target=Node(id='12 Months', type='Time period', properties={}), type='PAID_OVER', properties={}), Relationship(source=Node(id='Inr 9 Lacs', type='Monetary value', properties={}), target=Node(id='48 Months', type='Time period', properties={}), type='PAID_OVER', properties={})], source=Document(metadata={'producer': 'PDFKit.NET 12.3.320.0 DMV10', 'creator': 'PyPDF', 'creationdate': '2025-05-21T01:17:06-07:00', 'moddate': '2025-05-21T01:17:06-07:00', 'source': 'BTSA-FTE Offer Letter.pdf', 'total_pages': 8, 'page': 1, 'page_label': '2'}, page_content='Emerging Leader Reward Program (ELRP): The expertise you gain over your tenure is \\nvaluable to ZS and we recognize your continued commitment and progression towards \\nbecoming a future leader in the firm. ZS rewards this expertise through a tenure-based \\nincentive of total INR 9 lacs, which begins after 12 months’ tenure and is paid at every one-\\nyear milestone till 48 months of your tenure with ZS India. Should your employment with')),\n",
       " GraphDocument(nodes=[Node(id='Zs', type='Organization', properties={}), Node(id='Elrp', type='Program', properties={}), Node(id='Employment', type='Employment', properties={}), Node(id='Payout', type='Payout', properties={}), Node(id='8_Months', type='Duration', properties={}), Node(id='Bonuses', type='Bonuses', properties={}), Node(id='Taxes', type='Taxes', properties={}), Node(id='Provident_Fund', type='Fund', properties={})], relationships=[Relationship(source=Node(id='Zs', type='Organization', properties={}), target=Node(id='Elrp', type='Program', properties={}), type='PROVIDES', properties={}), Relationship(source=Node(id='Zs', type='Organization', properties={}), target=Node(id='Termination', type='Event', properties={}), type='LEADS_TO', properties={}), Relationship(source=Node(id='Termination', type='Event', properties={}), target=Node(id='Payout', type='Payout', properties={}), type='REQUIRES', properties={}), Relationship(source=Node(id='Payout', type='Payout', properties={}), target=Node(id='8_Months', type='Duration', properties={}), type='REQUIRES', properties={}), Relationship(source=Node(id='8_Months', type='Duration', properties={}), target=Node(id='Employment', type='Employment', properties={}), type='REQUIRES', properties={}), Relationship(source=Node(id='Bonuses', type='Bonuses', properties={}), target=Node(id='Zs', type='Organization', properties={}), type='DETERMINED_BY', properties={}), Relationship(source=Node(id='Bonuses', type='Bonuses', properties={}), target=Node(id='Taxes', type='Taxes', properties={}), type='SUBJECT_TO', properties={}), Relationship(source=Node(id='Zs', type='Organization', properties={}), target=Node(id='Provident_Fund', type='Fund', properties={}), type='ENROLLS_IN', properties={})], source=Document(metadata={'producer': 'PDFKit.NET 12.3.320.0 DMV10', 'creator': 'PyPDF', 'creationdate': '2025-05-21T01:17:06-07:00', 'moddate': '2025-05-21T01:17:06-07:00', 'source': 'BTSA-FTE Offer Letter.pdf', 'total_pages': 8, 'page': 1, 'page_label': '2'}, page_content='ZS terminate (other than a dismissal by ZS without cause), and  if you don’t complete 8 \\nmonths of continuous full-time employment with ZS from the time of your ELRP pay-out, \\nthen you will be expected to return the pay-out of ELRP in its entirety.\\nAll bonuses are determined at the discretion of ZS, and are subject to standard \\nwithholding taxes.\\n  \\nProvident Fund: When you begin employment with ZS, you will be enrolled in the Provident')),\n",
       " GraphDocument(nodes=[Node(id='Fund Program', type='Program', properties={}), Node(id='Retirement', type='Concept', properties={}), Node(id='Pension Support', type='Concept', properties={}), Node(id='Provident Fund Act', type='Act', properties={}), Node(id='Tax Exposure', type='Concept', properties={}), Node(id='Participant', type='Person', properties={}), Node(id='Inr ₹15,000', type='Monetaryvalue', properties={}), Node(id='Monthly Salary', type='Concept', properties={}), Node(id='Payroll Deduction', type='Concept', properties={}), Node(id='Zs', type='Organization', properties={}), Node(id='Fund Account', type='Account', properties={})], relationships=[Relationship(source=Node(id='Fund Program', type='Program', properties={}), target=Node(id='Retirement', type='Concept', properties={}), type='PROVIDES', properties={}), Relationship(source=Node(id='Fund Program', type='Program', properties={}), target=Node(id='Pension Support', type='Concept', properties={}), type='PROVIDES', properties={}), Relationship(source=Node(id='Fund Program', type='Program', properties={}), target=Node(id='Provident Fund Act', type='Act', properties={}), type='GOVERNED_BY', properties={}), Relationship(source=Node(id='Fund Program', type='Program', properties={}), target=Node(id='Tax Exposure', type='Concept', properties={}), type='REDUCES', properties={}), Relationship(source=Node(id='Participant', type='Person', properties={}), target=Node(id='Payroll Deduction', type='Concept', properties={}), type='CONTRIBUTES', properties={}), Relationship(source=Node(id='Participant', type='Person', properties={}), target=Node(id='Inr ₹15,000', type='Monetaryvalue', properties={}), type='CONTRIBUTES', properties={}), Relationship(source=Node(id='Participant', type='Person', properties={}), target=Node(id='Monthly Salary', type='Concept', properties={}), type='CONTRIBUTES', properties={}), Relationship(source=Node(id='Zs', type='Organization', properties={}), target=Node(id='Fund Account', type='Account', properties={}), type='CONTRIBUTES', properties={}), Relationship(source=Node(id='Participant', type='Person', properties={}), target=Node(id='Fund Account', type='Account', properties={}), type='CONTRIBUTES', properties={})], source=Document(metadata={'producer': 'PDFKit.NET 12.3.320.0 DMV10', 'creator': 'PyPDF', 'creationdate': '2025-05-21T01:17:06-07:00', 'moddate': '2025-05-21T01:17:06-07:00', 'source': 'BTSA-FTE Offer Letter.pdf', 'total_pages': 8, 'page': 1, 'page_label': '2'}, page_content='Fund program. The primary objective of this program is to provide retirement and pension \\nsupport as per the Provident Fund Act, while reducing current tax exposure. As a \\nparticipant, you will make 12% contributions on the first INR ₹15,000 of your monthly \\nsalary through payroll deduction; ZS makes a separate additional matching contribution to \\nyour account. You can opt for additional contributions to your Fund account through \\npayroll deduction.')),\n",
       " GraphDocument(nodes=[Node(id='Gratuity', type='Benefit', properties={}), Node(id='Zs', type='Company', properties={}), Node(id='Gratuity Law', type='Law', properties={})], relationships=[Relationship(source=Node(id='Zs', type='Company', properties={}), target=Node(id='Gratuity', type='Benefit', properties={}), type='PROVIDES', properties={}), Relationship(source=Node(id='Gratuity', type='Benefit', properties={}), target=Node(id='Gratuity Law', type='Law', properties={}), type='GOVERNED_BY', properties={})], source=Document(metadata={'producer': 'PDFKit.NET 12.3.320.0 DMV10', 'creator': 'PyPDF', 'creationdate': '2025-05-21T01:17:06-07:00', 'moddate': '2025-05-21T01:17:06-07:00', 'source': 'BTSA-FTE Offer Letter.pdf', 'total_pages': 8, 'page': 1, 'page_label': '2'}, page_content='payroll deduction.\\n \\nGratuity: After you complete five years of continuous service, ZS will pay 15 days’ salary \\nfor every completed year of service at the time of retirement or separation. The maximum \\namount payable is governed by the Gratuity Law.\\n \\nIn addition to components of the offer detailing direct compensation described above, this \\noffer also includes elements describing non-cash benefits of employment with ZS. You will')),\n",
       " GraphDocument(nodes=[Node(id='Zs', type='Organization', properties={}), Node(id='Annual Leave', type='Benefit', properties={}), Node(id='Holidays', type='Benefit', properties={}), Node(id='Sick Time', type='Benefit', properties={}), Node(id='25 Days', type='Duration', properties={}), Node(id='Pro-Rata Basis', type='Calculation method', properties={}), Node(id='Seven Paid Sick Days', type='Duration', properties={}), Node(id='Taxes', type='Government guideline', properties={})], relationships=[Relationship(source=Node(id='Zs', type='Organization', properties={}), target=Node(id='Annual Leave', type='Benefit', properties={}), type='PROVIDES', properties={}), Relationship(source=Node(id='Zs', type='Organization', properties={}), target=Node(id='Holidays', type='Benefit', properties={}), type='PROVIDES', properties={}), Relationship(source=Node(id='Zs', type='Organization', properties={}), target=Node(id='Sick Time', type='Benefit', properties={}), type='PROVIDES', properties={}), Relationship(source=Node(id='Annual Leave', type='Benefit', properties={}), target=Node(id='25 Days', type='Duration', properties={}), type='DURATION', properties={}), Relationship(source=Node(id='Annual Leave', type='Benefit', properties={}), target=Node(id='Pro-Rata Basis', type='Calculation method', properties={}), type='CALCULATION_METHOD', properties={}), Relationship(source=Node(id='Sick Time', type='Benefit', properties={}), target=Node(id='Seven Paid Sick Days', type='Duration', properties={}), type='DURATION', properties={}), Relationship(source=Node(id='Holidays', type='Benefit', properties={}), target=Node(id='Pro-Rata Basis', type='Calculation method', properties={}), type='CALCULATION_METHOD', properties={}), Relationship(source=Node(id='Benefits', type='Benefit', properties={}), target=Node(id='Taxes', type='Government guideline', properties={}), type='SUBJECT_TO', properties={})], source=Document(metadata={'producer': 'PDFKit.NET 12.3.320.0 DMV10', 'creator': 'PyPDF', 'creationdate': '2025-05-21T01:17:06-07:00', 'moddate': '2025-05-21T01:17:06-07:00', 'source': 'BTSA-FTE Offer Letter.pdf', 'total_pages': 8, 'page': 1, 'page_label': '2'}, page_content='be eligible for all of the following benefits as of your start date with ZS. Benefits described \\nare subject to taxes based on the prevailing government guidelines.\\n \\nAnnual Leave, Holidays and Sick Time: We provide 25 days of paid annual leave per year, \\ninclusive of privilege and casual leave, on a pro-rata basis. In addition, ZS has designated \\npaid holidays and permits up to seven paid sick days per year on a pro rata basis.')),\n",
       " GraphDocument(nodes=[Node(id='Group Insurance Plan', type='Insurance plan', properties={}), Node(id='Hospitalization Expenses', type='Expenses', properties={}), Node(id='Immediate Dependents', type='Dependents', properties={}), Node(id='Preventive Healthcare Coverage', type='Healthcare coverage', properties={}), Node(id='Health Check-Up', type='Health service', properties={}), Node(id='Opd (Outpatient Department) Coverage', type='Health service', properties={}), Node(id='Mental Well-Being And Care', type='Health service', properties={}), Node(id='Accident Insurance', type='Insurance', properties={}), Node(id='Business Travel Insurance', type='Insurance', properties={}), Node(id='Life Insurance Coverage', type='Insurance', properties={}), Node(id='Annual Gross Salary', type='Salary', properties={})], relationships=[Relationship(source=Node(id='Group Insurance Plan', type='Insurance plan', properties={}), target=Node(id='Hospitalization Expenses', type='Expenses', properties={}), type='COVERS', properties={}), Relationship(source=Node(id='Group Insurance Plan', type='Insurance plan', properties={}), target=Node(id='Immediate Dependents', type='Dependents', properties={}), type='COVERS', properties={}), Relationship(source=Node(id='Zs', type='Organization', properties={}), target=Node(id='Preventive Healthcare Coverage', type='Healthcare coverage', properties={}), type='PROVIDES', properties={}), Relationship(source=Node(id='Preventive Healthcare Coverage', type='Healthcare coverage', properties={}), target=Node(id='Health Check-Up', type='Health service', properties={}), type='INCLUDES', properties={}), Relationship(source=Node(id='Preventive Healthcare Coverage', type='Healthcare coverage', properties={}), target=Node(id='Opd (Outpatient Department) Coverage', type='Health service', properties={}), type='INCLUDES', properties={}), Relationship(source=Node(id='Preventive Healthcare Coverage', type='Healthcare coverage', properties={}), target=Node(id='Mental Well-Being And Care', type='Health service', properties={}), type='INCLUDES', properties={}), Relationship(source=Node(id='Zs', type='Organization', properties={}), target=Node(id='Accident Insurance', type='Insurance', properties={}), type='PROVIDES', properties={}), Relationship(source=Node(id='Zs', type='Organization', properties={}), target=Node(id='Business Travel Insurance', type='Insurance', properties={}), type='PROVIDES', properties={}), Relationship(source=Node(id='Zs', type='Organization', properties={}), target=Node(id='Life Insurance Coverage', type='Insurance', properties={}), type='PROVIDES', properties={}), Relationship(source=Node(id='Life Insurance Coverage', type='Insurance', properties={}), target=Node(id='Annual Gross Salary', type='Salary', properties={}), type='BASED_ON', properties={})], source=Document(metadata={'producer': 'PDFKit.NET 12.3.320.0 DMV10', 'creator': 'PyPDF', 'creationdate': '2025-05-21T01:17:06-07:00', 'moddate': '2025-05-21T01:17:06-07:00', 'source': 'BTSA-FTE Offer Letter.pdf', 'total_pages': 8, 'page': 1, 'page_label': '2'}, page_content='Insurance: We offer a group insurance plan to cover hospitalization expenses for \\nemployees and immediate dependents may also be added as per the existing insurance \\nprogram guidelines. Additionally, ZS provides some preventive healthcare coverage \\n(Health Check-Up, OPD (Outpatient Department) coverage, mental well-being and care, \\netc.). ZS provides accident insurance and business travel insurance for employees. ZS \\nalso provides life insurance coverage in the amount of three times your annual gross')),\n",
       " GraphDocument(nodes=[Node(id='Zs', type='Organization', properties={}), Node(id='Transportation Allowance', type='Allowance', properties={}), Node(id='Meal Allowance', type='Allowance', properties={}), Node(id='Office Presence', type='Concept', properties={})], relationships=[Relationship(source=Node(id='Zs', type='Organization', properties={}), target=Node(id='Transportation Allowance', type='Allowance', properties={}), type='PROVIDES', properties={}), Relationship(source=Node(id='Zs', type='Organization', properties={}), target=Node(id='Meal Allowance', type='Allowance', properties={}), type='PROVIDES', properties={}), Relationship(source=Node(id='Transportation Allowance', type='Allowance', properties={}), target=Node(id='Office Presence', type='Concept', properties={}), type='CONDITIONAL_ON', properties={})], source=Document(metadata={'producer': 'PDFKit.NET 12.3.320.0 DMV10', 'creator': 'PyPDF', 'creationdate': '2025-05-21T01:17:06-07:00', 'moddate': '2025-05-21T01:17:06-07:00', 'source': 'BTSA-FTE Offer Letter.pdf', 'total_pages': 8, 'page': 1, 'page_label': '2'}, page_content='salary, with ZS paying these premiums in full.\\n \\nTransportation and Meal: ZS will provide a transportation allowance of INR 12,000 \\nmonthly for you to arrange your own transport to/from the office. This allowance of INR \\n12000 shall be granted, in full, if your office presence is 12 or more days in a month, \\notherwise it shall be granted on pro-rata basis based on the actual number of your office \\npresence. Additionally, a meal allowance of INR 5,500 will be disbursed monthly via payroll,')),\n",
       " GraphDocument(nodes=[Node(id='Transportation_Allowance', type='Allowance', properties={}), Node(id='Meal_Allowance', type='Allowance', properties={}), Node(id='Taxable_Income', type='Concept', properties={}), Node(id='A63035C4-D3Fb-44B0-B839-5B660260D5Bd', type='Document', properties={})], relationships=[Relationship(source=Node(id='Transportation_Allowance', type='Allowance', properties={}), target=Node(id='Taxable_Income', type='Concept', properties={}), type='IS_CONSIDERED_AS', properties={}), Relationship(source=Node(id='Meal_Allowance', type='Allowance', properties={}), target=Node(id='Taxable_Income', type='Concept', properties={}), type='IS_CONSIDERED_AS', properties={}), Relationship(source=Node(id='Transportation_Allowance', type='Allowance', properties={}), target=Node(id='A63035C4-D3Fb-44B0-B839-5B660260D5Bd', type='Document', properties={}), type='IDENTIFIED_BY', properties={}), Relationship(source=Node(id='Meal_Allowance', type='Allowance', properties={}), target=Node(id='A63035C4-D3Fb-44B0-B839-5B660260D5Bd', type='Document', properties={}), type='IDENTIFIED_BY', properties={})], source=Document(metadata={'producer': 'PDFKit.NET 12.3.320.0 DMV10', 'creator': 'PyPDF', 'creationdate': '2025-05-21T01:17:06-07:00', 'moddate': '2025-05-21T01:17:06-07:00', 'source': 'BTSA-FTE Offer Letter.pdf', 'total_pages': 8, 'page': 1, 'page_label': '2'}, page_content='in lieu of in-office dining services. The transportation and meal allowances are considered \\nas taxable income.\\nDocusign Envelope ID: A63035C4-D3FB-44B0-B839-5B660260D5BD')),\n",
       " GraphDocument(nodes=[Node(id='Zs', type='Organization', properties={}), Node(id='Broadband Allowance', type='Monetary allowance', properties={}), Node(id='Installation Charge', type='Charge', properties={}), Node(id='Broadband Connection', type='Service', properties={}), Node(id='Audit', type='Process', properties={})], relationships=[Relationship(source=Node(id='Zs', type='Organization', properties={}), target=Node(id='Broadband Allowance', type='Monetary allowance', properties={}), type='PROVIDES', properties={}), Relationship(source=Node(id='Zs', type='Organization', properties={}), target=Node(id='Installation Charge', type='Charge', properties={}), type='REIMBURSES', properties={}), Relationship(source=Node(id='Broadband Allowance', type='Monetary allowance', properties={}), target=Node(id='Broadband Connection', type='Service', properties={}), type='USED_FOR', properties={}), Relationship(source=Node(id='Zs', type='Organization', properties={}), target=Node(id='Broadband Connection', type='Service', properties={}), type='EXPECTS', properties={}), Relationship(source=Node(id='Zs', type='Organization', properties={}), target=Node(id='Audit', type='Process', properties={}), type='CONDUCTS', properties={})], source=Document(metadata={'producer': 'PDFKit.NET 12.3.320.0 DMV10', 'creator': 'PyPDF', 'creationdate': '2025-05-21T01:17:06-07:00', 'moddate': '2025-05-21T01:17:06-07:00', 'source': 'BTSA-FTE Offer Letter.pdf', 'total_pages': 8, 'page': 2, 'page_label': '3'}, page_content=\"Broadband access: ZS will provide a broadband allowance of INR ₹1,500 per month \\nthrough payroll. We will also reimburse a one-time ‘installation charge' of INR ₹500 against \\nthe receipt from your broadband service provider. We expect that you install a high-speed \\nbroadband connection at home to enable you to work remotely for project demands, and \\nrecommend at least a 2.0 MBPS wired connection. ZS retains the right to conduct random \\naudits to ensure appropriate use of the allowance.\")),\n",
       " GraphDocument(nodes=[Node(id='Zs', type='Organization', properties={}), Node(id='Bangalore', type='City', properties={}), Node(id='Gaurav Asolkar', type='Person', properties={}), Node(id='Relocation Assistance', type='Service', properties={})], relationships=[Relationship(source=Node(id='Zs', type='Organization', properties={}), target=Node(id='Relocation Assistance', type='Service', properties={}), type='PROVIDES', properties={}), Relationship(source=Node(id='Relocation Assistance', type='Service', properties={}), target=Node(id='Bangalore', type='City', properties={}), type='DESTINATION', properties={}), Relationship(source=Node(id='Gaurav Asolkar', type='Person', properties={}), target=Node(id='Relocation Assistance', type='Service', properties={}), type='MANAGES', properties={})], source=Document(metadata={'producer': 'PDFKit.NET 12.3.320.0 DMV10', 'creator': 'PyPDF', 'creationdate': '2025-05-21T01:17:06-07:00', 'moddate': '2025-05-21T01:17:06-07:00', 'source': 'BTSA-FTE Offer Letter.pdf', 'total_pages': 8, 'page': 2, 'page_label': '3'}, page_content='Finally, the following elements of your offer relate to logistics: getting you to ZS and \\ngetting you started.\\nRelocation: We will provide relocation assistance to support your move closer to your ZS \\noffice. If you are relocating from another city to Bangalore, ZS provides the following \\nsupport:\\noYou have to arrange train/air tickets from your college/home location to your ZS \\noffice location at your expense and share the tickets with Gaurav Asolkar')),\n",
       " GraphDocument(nodes=[Node(id='Gaurav.Asolkar@Zs.Com', type='Person', properties={}), Node(id='Zs', type='Organization', properties={}), Node(id='Guest House Accommodation', type='Service', properties={}), Node(id='Relocation Allowance', type='Allowance', properties={}), Node(id='Second Month Payroll', type='Payroll', properties={}), Node(id='Refund Of Relocation Allowance', type='Obligation', properties={})], relationships=[Relationship(source=Node(id='Zs', type='Organization', properties={}), target=Node(id='Guest House Accommodation', type='Service', properties={}), type='PROVIDES', properties={}), Relationship(source=Node(id='Zs', type='Organization', properties={}), target=Node(id='Guest House Accommodation', type='Service', properties={}), type=\"PAY'S\", properties={}), Relationship(source=Node(id='Zs', type='Organization', properties={}), target=Node(id='Relocation Allowance', type='Allowance', properties={}), type='PROVIDES', properties={}), Relationship(source=Node(id='Relocation Allowance', type='Allowance', properties={}), target=Node(id='Second Month Payroll', type='Payroll', properties={}), type='DISBURSED_THROUGH', properties={}), Relationship(source=Node(id='Relocation Allowance', type='Allowance', properties={}), target=Node(id='Refund Of Relocation Allowance', type='Obligation', properties={}), type='REQUIRES', properties={})], source=Document(metadata={'producer': 'PDFKit.NET 12.3.320.0 DMV10', 'creator': 'PyPDF', 'creationdate': '2025-05-21T01:17:06-07:00', 'moddate': '2025-05-21T01:17:06-07:00', 'source': 'BTSA-FTE Offer Letter.pdf', 'total_pages': 8, 'page': 2, 'page_label': '3'}, page_content='(gaurav.asolkar@zs.com) which will enable him to book your accommodation if \\nrequired.\\noUpon your arrival, ZS will provide up to 2 weeks (14 days) of temporary guest house \\naccommodation on a twin sharing basis. ZS will direct pay the guest house \\naccommodation.\\noZS will provide a onetime relocation allowance of INR₹75,000.00 through the second \\nmonth’s payroll. If you do not complete one full year (12 months) of continuous full-')),\n",
       " GraphDocument(nodes=[Node(id='Zs', type='Organization', properties={}), Node(id='Relocation Allowance', type='Concept', properties={}), Node(id='Expenses', type='Concept', properties={}), Node(id='Notice Period', type='Concept', properties={}), Node(id='Employment', type='Concept', properties={})], relationships=[Relationship(source=Node(id='Zs', type='Organization', properties={}), target=Node(id='Relocation Allowance', type='Concept', properties={}), type='REFUND_CONDITION', properties={}), Relationship(source=Node(id='Zs', type='Organization', properties={}), target=Node(id='Expenses', type='Concept', properties={}), type='REFUND_CONDITION', properties={}), Relationship(source=Node(id='Zs', type='Organization', properties={}), target=Node(id='Notice Period', type='Concept', properties={}), type='EXPECTS', properties={}), Relationship(source=Node(id='Notice Period', type='Concept', properties={}), target=Node(id='Buy-Out', type='Concept', properties={}), type='MAY_BE_BOUGHT_OUT', properties={})], source=Document(metadata={'producer': 'PDFKit.NET 12.3.320.0 DMV10', 'creator': 'PyPDF', 'creationdate': '2025-05-21T01:17:06-07:00', 'moddate': '2025-05-21T01:17:06-07:00', 'source': 'BTSA-FTE Offer Letter.pdf', 'total_pages': 8, 'page': 2, 'page_label': '3'}, page_content='time employment with ZS, then you agree to refund the relocation allowance and the \\nexpenses incurred for the accommodation and travel entirely. The relocation \\nallowance is considered taxable income.\\nNotice Period: ZS expects that experienced hires serve out their notice period with their \\ncurrent employer; however, ZS may opt to buy-out your notice period. If you do not start \\nemployment with ZS or do not complete one full year (12 months) of continuous full-time')),\n",
       " GraphDocument(nodes=[Node(id='Zs', type='Organization', properties={}), Node(id='Buyout Amount', type='Monetary concept', properties={}), Node(id='Confidentiality', type='Concept', properties={}), Node(id='Client Information', type='Information', properties={}), Node(id='Proprietary Software', type='Information', properties={}), Node(id='Processes', type='Information', properties={})], relationships=[Relationship(source=Node(id='Zs', type='Organization', properties={}), target=Node(id='Employment', type='Concept', properties={}), type='EMPLOYS', properties={}), Relationship(source=Node(id='Buyout Amount', type='Monetary concept', properties={}), target=Node(id='Repayment', type='Concept', properties={}), type='REQUIRES', properties={}), Relationship(source=Node(id='Confidentiality', type='Concept', properties={}), target=Node(id='Employment', type='Concept', properties={}), type='AGREEMENT', properties={}), Relationship(source=Node(id='Client Information', type='Information', properties={}), target=Node(id='Zs', type='Organization', properties={}), type='USED_IN', properties={}), Relationship(source=Node(id='Proprietary Software', type='Information', properties={}), target=Node(id='Zs', type='Organization', properties={}), type='USED_IN', properties={}), Relationship(source=Node(id='Processes', type='Information', properties={}), target=Node(id='Zs', type='Organization', properties={}), type='USED_IN', properties={})], source=Document(metadata={'producer': 'PDFKit.NET 12.3.320.0 DMV10', 'creator': 'PyPDF', 'creationdate': '2025-05-21T01:17:06-07:00', 'moddate': '2025-05-21T01:17:06-07:00', 'source': 'BTSA-FTE Offer Letter.pdf', 'total_pages': 8, 'page': 2, 'page_label': '3'}, page_content='employment with ZS immediately after that point for any reason (except for involuntary \\ntermination of your employment by ZS), then you agree to repay to ZS any buyout amount \\nin its entirety.\\n \\nConfidentiality and Employment Agreement: Our work at ZS often involves the use of \\nconfidential information of our clients, as well as the development and use of ZS \\nproprietary software and processes. For you to start employment with ZS, you will be')),\n",
       " GraphDocument(nodes=[Node(id='Employment_Agreement', type='Document', properties={}), Node(id='Orientation_Program', type='Program', properties={}), Node(id='Zs_Culture', type='Culture', properties={}), Node(id='Zstart_Academy_Program', type='Program', properties={}), Node(id='Skills', type='Skills', properties={}), Node(id='Issues', type='Issues', properties={})], relationships=[Relationship(source=Node(id='Employment_Agreement', type='Document', properties={}), target=Node(id='New_Associates', type='Group', properties={}), type='REQUIRED_FOR', properties={}), Relationship(source=Node(id='Orientation_Program', type='Program', properties={}), target=Node(id='Zstart_Academy_Program', type='Program', properties={}), type='PART_OF', properties={}), Relationship(source=Node(id='Orientation_Program', type='Program', properties={}), target=Node(id='Zs_Culture', type='Culture', properties={}), type='PROVIDES', properties={}), Relationship(source=Node(id='Zstart_Academy_Program', type='Program', properties={}), target=Node(id='Skills', type='Skills', properties={}), type='DEVELOPS', properties={}), Relationship(source=Node(id='Zstart_Academy_Program', type='Program', properties={}), target=Node(id='Issues', type='Issues', properties={}), type='ADDRESSES', properties={})], source=Document(metadata={'producer': 'PDFKit.NET 12.3.320.0 DMV10', 'creator': 'PyPDF', 'creationdate': '2025-05-21T01:17:06-07:00', 'moddate': '2025-05-21T01:17:06-07:00', 'source': 'BTSA-FTE Offer Letter.pdf', 'total_pages': 8, 'page': 2, 'page_label': '3'}, page_content='required to sign the employment agreement. If you have questions regarding this \\nagreement, please do not hesitate to ask.\\n \\nZStart and Orientation: New associates who begin employment between ZStart sessions \\nparticipate in an office-based Orientation program to gain a basic understanding of ZS \\nculture and work. The ZStart Academy program, held several times per year is designed to \\nprovide a deeper view of the issues you will solve and the skills you will develop at ZS.')),\n",
       " GraphDocument(nodes=[Node(id='Session', type='Event', properties={}), Node(id='Zs_Associates', type='Person', properties={}), Node(id='A63035C4-D3Fb-44B0-B839-5B660260D5Bd', type='Identifier', properties={})], relationships=[Relationship(source=Node(id='Session', type='Event', properties={}), target=Node(id='Zs_Associates', type='Person', properties={}), type='OPPORTUNITY_TO_KNOW', properties={}), Relationship(source=Node(id='Session', type='Event', properties={}), target=Node(id='A63035C4-D3Fb-44B0-B839-5B660260D5Bd', type='Identifier', properties={}), type='ENVELOPE_ID', properties={})], source=Document(metadata={'producer': 'PDFKit.NET 12.3.320.0 DMV10', 'creator': 'PyPDF', 'creationdate': '2025-05-21T01:17:06-07:00', 'moddate': '2025-05-21T01:17:06-07:00', 'source': 'BTSA-FTE Offer Letter.pdf', 'total_pages': 8, 'page': 2, 'page_label': '3'}, page_content='Both session provide an excellent opportunity to get to know other new ZS associates.\\n \\nDocusign Envelope ID: A63035C4-D3FB-44B0-B839-5B660260D5BD')),\n",
       " GraphDocument(nodes=[Node(id='Start Date', type='Date', properties={}), Node(id='June 2, 2025', type='Value', properties={}), Node(id='Employment Arrangement', type='Condition', properties={}), Node(id='Educational Qualifications', type='Certificates', properties={}), Node(id='Verification', type='Process', properties={}), Node(id='Original Certificates', type='Documents', properties={}), Node(id='Scanned Copy', type='Documents', properties={}), Node(id='Aadhar Card', type='Documents', properties={})], relationships=[Relationship(source=Node(id='Start Date', type='Date', properties={}), target=Node(id='June 2, 2025', type='Value', properties={}), type='SET_TO', properties={}), Relationship(source=Node(id='Start Date', type='Date', properties={}), target=Node(id='Employment Arrangement', type='Condition', properties={}), type='CONTINGENT_UPON', properties={}), Relationship(source=Node(id='Offer', type='Event', properties={}), target=Node(id='Verification', type='Process', properties={}), type='SUBJECT_TO', properties={}), Relationship(source=Node(id='Verification', type='Process', properties={}), target=Node(id='Educational Qualifications', type='Certificates', properties={}), type='REQUIRES', properties={}), Relationship(source=Node(id='Verification', type='Process', properties={}), target=Node(id='Original Certificates', type='Documents', properties={}), type='REQUIRES', properties={}), Relationship(source=Node(id='Verification', type='Process', properties={}), target=Node(id='Aadhar Card', type='Documents', properties={}), type='REQUIRES', properties={}), Relationship(source=Node(id='Original Certificates', type='Documents', properties={}), target=Node(id='Scanned Copy', type='Documents', properties={}), type='REQUIRES', properties={})], source=Document(metadata={'producer': 'PDFKit.NET 12.3.320.0 DMV10', 'creator': 'PyPDF', 'creationdate': '2025-05-21T01:17:06-07:00', 'moddate': '2025-05-21T01:17:06-07:00', 'source': 'BTSA-FTE Offer Letter.pdf', 'total_pages': 8, 'page': 3, 'page_label': '4'}, page_content='Start Date and Formalities: We propose a start date of June 2, 2025, contingent on your \\ncurrent employment arrangement. Please ensure that you report for work on the date \\nindicated.\\n \\nThis offer is subject to verification of original certificates of educational qualifications and \\nother documents listed below. At the time of joining, you are required to bring the \\nfollowing:\\noOriginal certificates of all educational qualifications, each with a scanned copy\\noAadhar Card')),\n",
       " GraphDocument(nodes=[Node(id='Aadhar Card', type='Document', properties={}), Node(id='Proof Of Age', type='Document', properties={}), Node(id='Relieving Letter', type='Document', properties={}), Node(id='Salary Slip', type='Document', properties={}), Node(id='Photographs', type='Document', properties={}), Node(id='Offer Letter', type='Document', properties={})], relationships=[Relationship(source=Node(id='Offer Letter', type='Document', properties={}), target=Node(id='Sign', type='Action', properties={}), type='RELATED_TO', properties={}), Relationship(source=Node(id='Offer Letter', type='Document', properties={}), target=Node(id='Decline', type='Action', properties={}), type='RELATED_TO', properties={})], source=Document(metadata={'producer': 'PDFKit.NET 12.3.320.0 DMV10', 'creator': 'PyPDF', 'creationdate': '2025-05-21T01:17:06-07:00', 'moddate': '2025-05-21T01:17:06-07:00', 'source': 'BTSA-FTE Offer Letter.pdf', 'total_pages': 8, 'page': 3, 'page_label': '4'}, page_content='oAadhar Card\\noProof of age (Pan Card or Passport scanned copy)\\noRelieving letter scanned copy (if employed)\\noScanned copy of the latest salary slip from your current employer (if employed)\\noTwo passport-size photographs \\nWe are pleased by the prospect of you starting your ZS career in this position. If you \\ndecide to accept this offer, please sign this letter electronically through DocuSign to return \\nit to us. Should you decide not to accept, please decline through DocuSign so that your \\noffer is closed.')),\n",
       " GraphDocument(nodes=[Node(id='Offer', type='Offer', properties={}), Node(id='You', type='Person', properties={}), Node(id='May 23, 2025', type='Date', properties={}), Node(id='Degree_Completion', type='Concept', properties={})], relationships=[Relationship(source=Node(id='Offer', type='Offer', properties={}), target=Node(id='May 23, 2025', type='Date', properties={}), type='VALID_UNTIL', properties={}), Relationship(source=Node(id='Offer', type='Offer', properties={}), target=Node(id='You', type='Person', properties={}), type='IS_CONFIDENTIAL', properties={}), Relationship(source=Node(id='Offer', type='Offer', properties={}), target=Node(id='Degree_Completion', type='Concept', properties={}), type='BASED_ON', properties={})], source=Document(metadata={'producer': 'PDFKit.NET 12.3.320.0 DMV10', 'creator': 'PyPDF', 'creationdate': '2025-05-21T01:17:06-07:00', 'moddate': '2025-05-21T01:17:06-07:00', 'source': 'BTSA-FTE Offer Letter.pdf', 'total_pages': 8, 'page': 3, 'page_label': '4'}, page_content='offer is closed. \\n \\nPlease know that we would like to hear from you regarding your decision as soon as \\npossible. We will consider this offer to be valid until May 23, 2025.\\nThe elements of this offer are personal and specific to you and, accordingly, we do not \\nconsider them appropriate to be shared with colleagues or the public. All details conveyed \\nin this offer are based on our understanding of your expected completion of degree')),\n",
       " GraphDocument(nodes=[Node(id='Program', type='Program', properties={}), Node(id='Availability', type='Availability', properties={}), Node(id='Start Timing', type='Start timing', properties={}), Node(id='Background Verification', type='Background verification', properties={}), Node(id='Benefits And Conditions', type='Benefits and conditions', properties={})], relationships=[Relationship(source=Node(id='Program', type='Program', properties={}), target=Node(id='Availability', type='Availability', properties={}), type='HAS_AVAILABILITY', properties={}), Relationship(source=Node(id='Program', type='Program', properties={}), target=Node(id='Background Verification', type='Background verification', properties={}), type='CONTINGENT_UPON', properties={}), Relationship(source=Node(id='Program', type='Program', properties={}), target=Node(id='Benefits And Conditions', type='Benefits and conditions', properties={}), type='HAS_BENEFITS', properties={}), Relationship(source=Node(id='Program', type='Program', properties={}), target=Node(id='Start Timing', type='Start timing', properties={}), type='HAS_START_TIMING', properties={})], source=Document(metadata={'producer': 'PDFKit.NET 12.3.320.0 DMV10', 'creator': 'PyPDF', 'creationdate': '2025-05-21T01:17:06-07:00', 'moddate': '2025-05-21T01:17:06-07:00', 'source': 'BTSA-FTE Offer Letter.pdf', 'total_pages': 8, 'page': 3, 'page_label': '4'}, page_content='program, availability and likely start timing. We describe benefits and conditions currently \\nin force as of today and expected to be ongoing at the time you join. This offer is \\ncontingent upon successful completion of a background verification. If you have any \\nquestions about any of the elements of this offer, or would like to discuss the job further, \\nplease do not hesitate to contact me.\\n \\nWe look forward to you joining ZS and helping ZS (and you!) continue to grow and prosper \\nin the future!')),\n",
       " GraphDocument(nodes=[Node(id='Manish Menon', type='Person', properties={}), Node(id='Office Managing Principal', type='Position', properties={}), Node(id='Signature', type='Signature', properties={}), Node(id='Document', type='Document', properties={})], relationships=[Relationship(source=Node(id='Manish Menon', type='Person', properties={}), target=Node(id='Office Managing Principal', type='Position', properties={}), type='HOLDS', properties={}), Relationship(source=Node(id='Manish Menon', type='Person', properties={}), target=Node(id='Signature', type='Signature', properties={}), type='CREATED_BY', properties={}), Relationship(source=Node(id='Signature', type='Signature', properties={}), target=Node(id='Document', type='Document', properties={}), type='ASSOCIATED_WITH', properties={}), Relationship(source=Node(id='Document', type='Document', properties={}), target=Node(id='A63035C4-D3Fb-44B0-B839-5B660260D5Bd', type='Document id', properties={}), type='IDENTIFIED_BY', properties={})], source=Document(metadata={'producer': 'PDFKit.NET 12.3.320.0 DMV10', 'creator': 'PyPDF', 'creationdate': '2025-05-21T01:17:06-07:00', 'moddate': '2025-05-21T01:17:06-07:00', 'source': 'BTSA-FTE Offer Letter.pdf', 'total_pages': 8, 'page': 3, 'page_label': '4'}, page_content='in the future!\\n \\nSincerely,\\n \\nManish Menon\\nOffice Managing Principal\\n \\nSignature:  ${esignature.signature}\\n       \\nName as it appears on PAN card or passport: ${esignature.initial}\\n \\nDate Signed:  ${esignature.date}\\nDocusign Envelope ID: A63035C4-D3FB-44B0-B839-5B660260D5BD')),\n",
       " GraphDocument(nodes=[Node(id='Zs_Associates_India_Pvt_Ltd', type='Company', properties={}), Node(id='Annual_Gross_Salary', type='Salary_component', properties={}), Node(id='Basic_Salary', type='Salary_component', properties={}), Node(id='Hra', type='Salary_component', properties={}), Node(id='Lta', type='Salary_component', properties={}), Node(id='Special_Allowance', type='Salary_component', properties={}), Node(id='Performance_Bonus', type='Salary_component', properties={}), Node(id='Cash_Benefit', type='Salary_component', properties={}), Node(id='Broadband_Allowance', type='Salary_component', properties={}), Node(id='Meal_Allowance', type='Salary_component', properties={})], relationships=[Relationship(source=Node(id='Zs_Associates_India_Pvt_Ltd', type='Company', properties={}), target=Node(id='Annual_Gross_Salary', type='Salary_component', properties={}), type='PART_OF_SALARY_STRUCTURE', properties={}), Relationship(source=Node(id='Zs_Associates_India_Pvt_Ltd', type='Company', properties={}), target=Node(id='Basic_Salary', type='Salary_component', properties={}), type='PART_OF_SALARY_STRUCTURE', properties={}), Relationship(source=Node(id='Zs_Associates_India_Pvt_Ltd', type='Company', properties={}), target=Node(id='Hra', type='Salary_component', properties={}), type='PART_OF_SALARY_STRUCTURE', properties={}), Relationship(source=Node(id='Zs_Associates_India_Pvt_Ltd', type='Company', properties={}), target=Node(id='Lta', type='Salary_component', properties={}), type='PART_OF_SALARY_STRUCTURE', properties={}), Relationship(source=Node(id='Zs_Associates_India_Pvt_Ltd', type='Company', properties={}), target=Node(id='Special_Allowance', type='Salary_component', properties={}), type='PART_OF_SALARY_STRUCTURE', properties={}), Relationship(source=Node(id='Zs_Associates_India_Pvt_Ltd', type='Company', properties={}), target=Node(id='Performance_Bonus', type='Salary_component', properties={}), type='PART_OF_SALARY_STRUCTURE', properties={}), Relationship(source=Node(id='Zs_Associates_India_Pvt_Ltd', type='Company', properties={}), target=Node(id='Cash_Benefit', type='Salary_component', properties={}), type='PART_OF_SALARY_STRUCTURE', properties={}), Relationship(source=Node(id='Zs_Associates_India_Pvt_Ltd', type='Company', properties={}), target=Node(id='Broadband_Allowance', type='Salary_component', properties={}), type='PART_OF_SALARY_STRUCTURE', properties={}), Relationship(source=Node(id='Zs_Associates_India_Pvt_Ltd', type='Company', properties={}), target=Node(id='Meal_Allowance', type='Salary_component', properties={}), type='PART_OF_SALARY_STRUCTURE', properties={})], source=Document(metadata={'producer': 'PDFKit.NET 12.3.320.0 DMV10', 'creator': 'PyPDF', 'creationdate': '2025-05-21T01:17:06-07:00', 'moddate': '2025-05-21T01:17:06-07:00', 'source': 'BTSA-FTE Offer Letter.pdf', 'total_pages': 8, 'page': 4, 'page_label': '5'}, page_content='APPENDIX 1 \\nSalary Break up Details\\nZS Associates India Pvt. Ltd.\\n              Annual INR\\nZS Gross   8,50,000\\nBasic  3,40,000\\nHRA  1,36,000\\nLTA 28,333\\nSpecial Allowance  3,45,667\\nPerformance Bonus 85,000\\nMaximum 10% of ZS gross salary; pay-out at the end of \\ncalendar year, depending on individual performance  \\nCash Benefit 84,000\\nBroadband Allowance (ZS will provide a broadband \\nallowance of INR 1,500 per month, through payroll) 18,000\\nMeal Allowance (ZS will provide a meal allowance of INR')),\n",
       " GraphDocument(nodes=[Node(id='5500_Per_Month', type='Monetaryvalue', properties={}), Node(id='66,000', type='Monetaryvalue', properties={}), Node(id='Retirals', type='Monetaryvalue', properties={}), Node(id='16,000', type='Monetaryvalue', properties={}), Node(id='Gratuity', type='Monetaryvalue', properties={}), Node(id='Provident_Fund', type='Monetaryvalue', properties={}), Node(id='One_Time_Starting_Bonus', type='Monetaryvalue', properties={}), Node(id='Elrp_Payout', type='Monetaryvalue', properties={}), Node(id='First_Year_Earning_Potential', type='Monetaryvalue', properties={}), Node(id='Docusign_Envelope_Id', type='Documentidentifier', properties={})], relationships=[Relationship(source=Node(id='Gratuity', type='Monetaryvalue', properties={}), target=Node(id='Payment_Of_Gratuity_Act_1972', type='Act', properties={}), type='PAYABLE_UNDER', properties={}), Relationship(source=Node(id='One_Time_Starting_Bonus', type='Monetaryvalue', properties={}), target=Node(id='100,000', type='Monetaryvalue', properties={}), type='STARTING_BONUS', properties={}), Relationship(source=Node(id='Elrp_Payout', type='Monetaryvalue', properties={}), target=Node(id='150,000', type='Monetaryvalue', properties={}), type='ELRP_PAYOUT', properties={}), Relationship(source=Node(id='First_Year_Earning_Potential', type='Monetaryvalue', properties={}), target=Node(id='1,290,600', type='Monetaryvalue', properties={}), type='FIRST_YEAR_EARNING_POTENTIAL', properties={}), Relationship(source=Node(id='Docusign_Envelope_Id', type='Documentidentifier', properties={}), target=Node(id='A63035C4-D3Fb-44B0-B839-5B660260D5Bd', type='Documentidentifier', properties={}), type='DOCSIGN_ENVELOPE', properties={})], source=Document(metadata={'producer': 'PDFKit.NET 12.3.320.0 DMV10', 'creator': 'PyPDF', 'creationdate': '2025-05-21T01:17:06-07:00', 'moddate': '2025-05-21T01:17:06-07:00', 'source': 'BTSA-FTE Offer Letter.pdf', 'total_pages': 8, 'page': 4, 'page_label': '5'}, page_content=\"5500 per month, through payroll) 66,000\\nRetirals 16,000\\nGratuity - payable on completing 5 years of continuous \\nservice with ZS India Private Limited as per the Payment of \\nGratuity Act 1972 (first year's provision)\\n \\nProvident Fund 21,600\\nEmployer's contribution to Provident Fund  \\nOne time Starting Bonus 100,000\\n  \\n*ELRP Payout in 1st year (details of the program are \\nmentioned in the table below) 150,000\\nFirst Year Earning Potential 1,290,600\\nDocusign Envelope ID: A63035C4-D3FB-44B0-B839-5B660260D5BD\")),\n",
       " GraphDocument(nodes=[Node(id='A63035C4-D3Fb-44B0-B839-5B660260D5Bd', type='Document', properties={})], relationships=[], source=Document(metadata={'producer': 'PDFKit.NET 12.3.320.0 DMV10', 'creator': 'PyPDF', 'creationdate': '2025-05-21T01:17:06-07:00', 'moddate': '2025-05-21T01:17:06-07:00', 'source': 'BTSA-FTE Offer Letter.pdf', 'total_pages': 8, 'page': 5, 'page_label': '6'}, page_content='Docusign Envelope ID: A63035C4-D3FB-44B0-B839-5B660260D5BD')),\n",
       " GraphDocument(nodes=[Node(id='Company', type='Organization', properties={}), Node(id='Convenience Benefits', type='Benefit category', properties={}), Node(id='Health And Wellness Benefits', type='Benefit category', properties={}), Node(id='Advance Toward Home Deposit', type='Convenience benefit', properties={}), Node(id='Group Medical Insurance', type='Health and wellness benefit', properties={}), Node(id='Associate', type='Role', properties={}), Node(id='Associate Consultant', type='Role', properties={}), Node(id='Consultant', type='Role', properties={}), Node(id='Manager', type='Role', properties={}), Node(id='Associate Principal', type='Role', properties={}), Node(id='Principal', type='Role', properties={})], relationships=[Relationship(source=Node(id='Company', type='Organization', properties={}), target=Node(id='Convenience Benefits', type='Benefit category', properties={}), type='PROVIDES', properties={}), Relationship(source=Node(id='Company', type='Organization', properties={}), target=Node(id='Health And Wellness Benefits', type='Benefit category', properties={}), type='PROVIDES', properties={}), Relationship(source=Node(id='Convenience Benefits', type='Benefit category', properties={}), target=Node(id='Advance Toward Home Deposit', type='Convenience benefit', properties={}), type='INCLUDES', properties={}), Relationship(source=Node(id='Health And Wellness Benefits', type='Benefit category', properties={}), target=Node(id='Group Medical Insurance', type='Health and wellness benefit', properties={}), type='INCLUDES', properties={}), Relationship(source=Node(id='Group Medical Insurance', type='Health and wellness benefit', properties={}), target=Node(id='Associate', type='Role', properties={}), type='APPLICABLE_TO', properties={}), Relationship(source=Node(id='Group Medical Insurance', type='Health and wellness benefit', properties={}), target=Node(id='Associate Consultant', type='Role', properties={}), type='APPLICABLE_TO', properties={}), Relationship(source=Node(id='Group Medical Insurance', type='Health and wellness benefit', properties={}), target=Node(id='Consultant', type='Role', properties={}), type='APPLICABLE_TO', properties={}), Relationship(source=Node(id='Group Medical Insurance', type='Health and wellness benefit', properties={}), target=Node(id='Manager', type='Role', properties={}), type='APPLICABLE_TO', properties={}), Relationship(source=Node(id='Group Medical Insurance', type='Health and wellness benefit', properties={}), target=Node(id='Associate Principal', type='Role', properties={}), type='APPLICABLE_TO', properties={}), Relationship(source=Node(id='Group Medical Insurance', type='Health and wellness benefit', properties={}), target=Node(id='Principal', type='Role', properties={}), type='APPLICABLE_TO', properties={})], source=Document(metadata={'producer': 'PDFKit.NET 12.3.320.0 DMV10', 'creator': 'PyPDF', 'creationdate': '2025-05-21T01:17:06-07:00', 'moddate': '2025-05-21T01:17:06-07:00', 'source': 'BTSA-FTE Offer Letter.pdf', 'total_pages': 8, 'page': 6, 'page_label': '7'}, page_content='Benefit Details\\n \\n \\nConvenience Benefits:\\n \\noAdvance toward Home Deposit: An interest-free advance up to INR ₹75,000 against \\nlease agreement, recovered over a period of 06 months through payroll.\\n \\nHealth and Wellness Benefits:\\n \\noGroup Medical Insurance: A Sum Assured of INR ₹4,00,000 for Associates, \\nAssociate Consultants, Consultants and Managers and INR ₹5,00,000 for Associate \\nPrincipals and Principals. Employee can nominate up to five immediate dependent \\nfamily members.')),\n",
       " GraphDocument(nodes=[Node(id='Life Insurance Coverage', type='Life insurance coverage', properties={}), Node(id='Accident Policy', type='Accident policy', properties={}), Node(id='Opd Expense Coverage', type='Opd expense coverage', properties={}), Node(id='Annual Health Check Reimbursement', type='Annual health check reimbursement', properties={}), Node(id='Leaves', type='Leaves', properties={}), Node(id='Day Care Reimbursement', type='Day care reimbursement', properties={})], relationships=[Relationship(source=Node(id='Life Insurance Coverage', type='Life insurance coverage', properties={}), target=Node(id='Employee Benefits', type='Employee benefits', properties={}), type='PART_OF', properties={}), Relationship(source=Node(id='Accident Policy', type='Accident policy', properties={}), target=Node(id='Employee Benefits', type='Employee benefits', properties={}), type='PART_OF', properties={}), Relationship(source=Node(id='Opd Expense Coverage', type='Opd expense coverage', properties={}), target=Node(id='Employee Benefits', type='Employee benefits', properties={}), type='PART_OF', properties={}), Relationship(source=Node(id='Annual Health Check Reimbursement', type='Annual health check reimbursement', properties={}), target=Node(id='Employee Benefits', type='Employee benefits', properties={}), type='PART_OF', properties={}), Relationship(source=Node(id='Leaves', type='Leaves', properties={}), target=Node(id='Employee Benefits', type='Employee benefits', properties={}), type='PART_OF', properties={}), Relationship(source=Node(id='Day Care Reimbursement', type='Day care reimbursement', properties={}), target=Node(id='Employee Benefits', type='Employee benefits', properties={}), type='PART_OF', properties={})], source=Document(metadata={'producer': 'PDFKit.NET 12.3.320.0 DMV10', 'creator': 'PyPDF', 'creationdate': '2025-05-21T01:17:06-07:00', 'moddate': '2025-05-21T01:17:06-07:00', 'source': 'BTSA-FTE Offer Letter.pdf', 'total_pages': 8, 'page': 6, 'page_label': '7'}, page_content='family members.\\noLife Insurance Coverage: 3 times your annual gross salary\\noAccident Policy: A Sum Assured of INR ₹10,00,000\\noOutPatient Department (OPD) expense coverage: INR ₹5000 annually\\noAnnual Health Check Reimbursement for self and spouse: INR ₹5000 in total \\nannually.\\noLeaves: 25 days of vacation per calendar year and up to 7 days of sick leave on pro-\\nrata basis\\noDay care reimbursement (for women ZSers): INR ₹7000 monthly, for children aged')),\n",
       " GraphDocument(nodes=[Node(id='0-12Months', type='Agegroup', properties={}), Node(id='Inr ₹4000 Monthly', type='Fee', properties={}), Node(id='13Months To 4 Years', type='Agegroup', properties={}), Node(id='A63035C4-D3Fb-44B0-B839-5B660260D5Bd', type='Envelopeid', properties={})], relationships=[Relationship(source=Node(id='Inr ₹4000 Monthly', type='Fee', properties={}), target=Node(id='0-12Months', type='Agegroup', properties={}), type='APPLICABLE_FEE', properties={}), Relationship(source=Node(id='Inr ₹4000 Monthly', type='Fee', properties={}), target=Node(id='13Months To 4 Years', type='Agegroup', properties={}), type='APPLICABLE_FEE', properties={})], source=Document(metadata={'producer': 'PDFKit.NET 12.3.320.0 DMV10', 'creator': 'PyPDF', 'creationdate': '2025-05-21T01:17:06-07:00', 'moddate': '2025-05-21T01:17:06-07:00', 'source': 'BTSA-FTE Offer Letter.pdf', 'total_pages': 8, 'page': 6, 'page_label': '7'}, page_content='0-12months and INR ₹4000 monthly, for children aged 13months to 4 years.\\nDocusign Envelope ID: A63035C4-D3FB-44B0-B839-5B660260D5BD')),\n",
       " GraphDocument(nodes=[Node(id='Docusign Envelope Id', type='Document', properties={}), Node(id='A63035C4-D3Fb-44B0-B839-5B660260D5Bd', type='String', properties={})], relationships=[Relationship(source=Node(id='Docusign Envelope Id', type='Document', properties={}), target=Node(id='A63035C4-D3Fb-44B0-B839-5B660260D5Bd', type='String', properties={}), type='HAS_ID', properties={})], source=Document(metadata={'producer': 'PDFKit.NET 12.3.320.0 DMV10', 'creator': 'PyPDF', 'creationdate': '2025-05-21T01:17:06-07:00', 'moddate': '2025-05-21T01:17:06-07:00', 'source': 'BTSA-FTE Offer Letter.pdf', 'total_pages': 8, 'page': 7, 'page_label': '8'}, page_content='Docusign Envelope ID: A63035C4-D3FB-44B0-B839-5B660260D5BD'))]"
      ]
     },
     "execution_count": 18,
     "metadata": {},
     "output_type": "execute_result"
    }
   ],
   "source": [
    "graph_documents"
   ]
  },
  {
   "cell_type": "code",
   "execution_count": 19,
   "metadata": {
    "colab": {
     "base_uri": "https://localhost:8080/"
    },
    "id": "7RDkHMLuj9j1",
    "outputId": "4c9a6c46-d17a-4b6a-fe5d-382225e5788c"
   },
   "outputs": [
    {
     "name": "stderr",
     "output_type": "stream",
     "text": [
      "/tmp/ipython-input-478658749.py:2: LangChainDeprecationWarning: The class `Neo4jGraph` was deprecated in LangChain 0.3.8 and will be removed in 1.0. An updated version of the class exists in the :class:`~langchain-neo4j package and should be used instead. To use it run `pip install -U :class:`~langchain-neo4j` and import as `from :class:`~langchain_neo4j import Neo4jGraph``.\n",
      "  graph = Neo4jGraph()\n"
     ]
    }
   ],
   "source": [
    "# Initializing Neo4j Instance\n",
    "graph = Neo4jGraph()"
   ]
  },
  {
   "cell_type": "code",
   "execution_count": 20,
   "metadata": {
    "id": "gJ144VWy3WoD"
   },
   "outputs": [],
   "source": [
    "# Adding the Graph created to the Neo4j Cloud\n",
    "graph.add_graph_documents(\n",
    "    graph_documents,\n",
    "    baseEntityLabel=True, #Ensures nodes have labels like Person, Company, etc.\n",
    "    include_source=True #Keeps the original document as part of the graph for traceability.\n",
    ")"
   ]
  },
  {
   "cell_type": "code",
   "execution_count": 37,
   "metadata": {
    "id": "xA2S9kD5CMni"
   },
   "outputs": [],
   "source": [
    "# directly show the graph resulting from the given Cypher query\n",
    "default_cypher = \"MATCH (s)-[r:!MENTIONS]->(t) RETURN s,r,t LIMIT 50\""
   ]
  },
  {
   "cell_type": "code",
   "execution_count": null,
   "metadata": {
    "id": "cSbnuIW1CPUZ"
   },
   "outputs": [],
   "source": [
    "from yfiles_jupyter_graphs import GraphWidget\n",
    "from neo4j import GraphDatabase"
   ]
  },
  {
   "cell_type": "code",
   "execution_count": null,
   "metadata": {
    "id": "movs-Kf4CWco"
   },
   "outputs": [],
   "source": [
    "# Visualizing the graph through GraphWidget\n",
    "def showGraph(cypher: str = default_cypher):\n",
    "    # create a neo4j session to run queries\n",
    "    driver = GraphDatabase.driver(\n",
    "        uri = os.environ[\"NEO4J_URI\"],\n",
    "        auth = (os.environ[\"NEO4J_USERNAME\"],\n",
    "                os.environ[\"NEO4J_PASSWORD\"]))\n",
    "    session = driver.session()\n",
    "    widget = GraphWidget(graph = session.run(cypher).graph())\n",
    "    widget.node_label_mapping = 'id'\n",
    "    display(widget)\n",
    "    return widget"
   ]
  },
  {
   "cell_type": "code",
   "execution_count": null,
   "metadata": {
    "colab": {
     "base_uri": "https://localhost:8080/",
     "height": 1000,
     "referenced_widgets": [
      "d0c233b84c604285b292b87b606827ec",
      "c0a5f2a2e3a148749c51a01ec4cfdbfe"
     ]
    },
    "id": "2h0NdTRuCa0k",
    "outputId": "3e2d2a05-02ca-4fcd-ae56-2354ada7301a"
   },
   "outputs": [
    {
     "data": {
      "application/vnd.jupyter.widget-view+json": {
       "model_id": "d0c233b84c604285b292b87b606827ec",
       "version_major": 2,
       "version_minor": 0
      },
      "text/plain": [
       "GraphWidget(layout=Layout(height='800px', width='100%'))"
      ]
     },
     "metadata": {
      "application/vnd.jupyter.widget-view+json": {
       "colab": {
        "custom_widget_manager": {
         "url": "https://ssl.gstatic.com/colaboratory-static/widgets/colab-cdn-widget-manager/2b70e893a8ba7c0f/manager.min.js"
        }
       }
      }
     },
     "output_type": "display_data"
    },
    {
     "data": {
      "application/vnd.jupyter.widget-view+json": {
       "model_id": "d0c233b84c604285b292b87b606827ec",
       "version_major": 2,
       "version_minor": 0
      },
      "text/plain": [
       "GraphWidget(layout=Layout(height='800px', width='100%'))"
      ]
     },
     "metadata": {
      "application/vnd.jupyter.widget-view+json": {
       "colab": {
        "custom_widget_manager": {
         "url": "https://ssl.gstatic.com/colaboratory-static/widgets/colab-cdn-widget-manager/2b70e893a8ba7c0f/manager.min.js"
        }
       }
      }
     },
     "output_type": "display_data"
    }
   ],
   "source": [
    "showGraph()"
   ]
  },
  {
   "cell_type": "markdown",
   "metadata": {},
   "source": [
    "## Get Graph Vizualizer as a HTML File"
   ]
  },
  {
   "cell_type": "code",
   "execution_count": 29,
   "metadata": {
    "colab": {
     "base_uri": "https://localhost:8080/"
    },
    "collapsed": true,
    "id": "49VXHaV1W8B3",
    "outputId": "48702d3c-e240-45f6-b9b7-f6fe3758658e"
   },
   "outputs": [
    {
     "name": "stdout",
     "output_type": "stream",
     "text": [
      "Collecting pyvis\n",
      "  Downloading pyvis-0.3.2-py3-none-any.whl.metadata (1.7 kB)\n",
      "Requirement already satisfied: ipython>=5.3.0 in /usr/local/lib/python3.12/dist-packages (from pyvis) (7.34.0)\n",
      "Requirement already satisfied: jinja2>=2.9.6 in /usr/local/lib/python3.12/dist-packages (from pyvis) (3.1.6)\n",
      "Requirement already satisfied: jsonpickle>=1.4.1 in /usr/local/lib/python3.12/dist-packages (from pyvis) (4.1.1)\n",
      "Requirement already satisfied: networkx>=1.11 in /usr/local/lib/python3.12/dist-packages (from pyvis) (3.5)\n",
      "Requirement already satisfied: setuptools>=18.5 in /usr/local/lib/python3.12/dist-packages (from ipython>=5.3.0->pyvis) (75.2.0)\n",
      "Requirement already satisfied: jedi>=0.16 in /usr/local/lib/python3.12/dist-packages (from ipython>=5.3.0->pyvis) (0.19.2)\n",
      "Requirement already satisfied: decorator in /usr/local/lib/python3.12/dist-packages (from ipython>=5.3.0->pyvis) (4.4.2)\n",
      "Requirement already satisfied: pickleshare in /usr/local/lib/python3.12/dist-packages (from ipython>=5.3.0->pyvis) (0.7.5)\n",
      "Requirement already satisfied: traitlets>=4.2 in /usr/local/lib/python3.12/dist-packages (from ipython>=5.3.0->pyvis) (5.7.1)\n",
      "Requirement already satisfied: prompt-toolkit!=3.0.0,!=3.0.1,<3.1.0,>=2.0.0 in /usr/local/lib/python3.12/dist-packages (from ipython>=5.3.0->pyvis) (3.0.51)\n",
      "Requirement already satisfied: pygments in /usr/local/lib/python3.12/dist-packages (from ipython>=5.3.0->pyvis) (2.19.2)\n",
      "Requirement already satisfied: backcall in /usr/local/lib/python3.12/dist-packages (from ipython>=5.3.0->pyvis) (0.2.0)\n",
      "Requirement already satisfied: matplotlib-inline in /usr/local/lib/python3.12/dist-packages (from ipython>=5.3.0->pyvis) (0.1.7)\n",
      "Requirement already satisfied: pexpect>4.3 in /usr/local/lib/python3.12/dist-packages (from ipython>=5.3.0->pyvis) (4.9.0)\n",
      "Requirement already satisfied: MarkupSafe>=2.0 in /usr/local/lib/python3.12/dist-packages (from jinja2>=2.9.6->pyvis) (3.0.2)\n",
      "Requirement already satisfied: parso<0.9.0,>=0.8.4 in /usr/local/lib/python3.12/dist-packages (from jedi>=0.16->ipython>=5.3.0->pyvis) (0.8.5)\n",
      "Requirement already satisfied: ptyprocess>=0.5 in /usr/local/lib/python3.12/dist-packages (from pexpect>4.3->ipython>=5.3.0->pyvis) (0.7.0)\n",
      "Requirement already satisfied: wcwidth in /usr/local/lib/python3.12/dist-packages (from prompt-toolkit!=3.0.0,!=3.0.1,<3.1.0,>=2.0.0->ipython>=5.3.0->pyvis) (0.2.13)\n",
      "Downloading pyvis-0.3.2-py3-none-any.whl (756 kB)\n",
      "\u001b[2K   \u001b[90m━━━━━━━━━━━━━━━━━━━━━━━━━━━━━━━━━━━━━━━━\u001b[0m \u001b[32m756.0/756.0 kB\u001b[0m \u001b[31m2.9 MB/s\u001b[0m eta \u001b[36m0:00:00\u001b[0m\n",
      "\u001b[?25hInstalling collected packages: pyvis\n",
      "Successfully installed pyvis-0.3.2\n"
     ]
    }
   ],
   "source": [
    "!pip install pyvis"
   ]
  },
  {
   "cell_type": "code",
   "execution_count": 41,
   "metadata": {
    "colab": {
     "base_uri": "https://localhost:8080/"
    },
    "id": "3ZNqIZEuNKTc",
    "outputId": "f0f38b04-1b40-4d07-f7b5-1b452519547b"
   },
   "outputs": [
    {
     "name": "stdout",
     "output_type": "stream",
     "text": [
      "graph.html\n",
      "Interactive HTML graph saved as graph.html\n"
     ]
    }
   ],
   "source": [
    "import os\n",
    "from neo4j import GraphDatabase\n",
    "from pyvis.network import Network\n",
    "import random\n",
    "\n",
    "# Default Cypher query\n",
    "default_cypher = \"MATCH (s)-[r]->(t) RETURN s,r,t LIMIT 50\"\n",
    "\n",
    "def get_node_label(node):\n",
    "    \"\"\"Return a meaningful label for a Neo4j node.\"\"\"\n",
    "    for key in [\"name\", \"label\", \"title\"]:\n",
    "        if key in node and node[key]:\n",
    "            return str(node[key])\n",
    "    for key, value in node.items():\n",
    "        if isinstance(value, str):\n",
    "            return value\n",
    "    return str(node.element_id)\n",
    "\n",
    "def get_random_color():\n",
    "    \"\"\"Generate a random color in hex format.\"\"\"\n",
    "    return f\"#{random.randint(0, 0xFFFFFF):06x}\"\n",
    "\n",
    "def export_graph_html(cypher: str = default_cypher, html_file: str = \"graph.html\"):\n",
    "    \"\"\"Export Neo4j graph as an interactive HTML graph with colorful and spacious nodes.\"\"\"\n",
    "    driver = GraphDatabase.driver(\n",
    "        uri=os.environ[\"NEO4J_URI\"],\n",
    "        auth=(os.environ[\"NEO4J_USERNAME\"], os.environ[\"NEO4J_PASSWORD\"])\n",
    "    )\n",
    "\n",
    "    with driver.session() as session:\n",
    "        result = session.run(cypher)\n",
    "        graph = result.graph()\n",
    "\n",
    "        # Map nodes, labels, and colors\n",
    "        node_map = {}\n",
    "        node_labels = {}\n",
    "        node_colors = {}\n",
    "        for idx, node in enumerate(graph.nodes):\n",
    "            internal_id = f\"n{idx}\"\n",
    "            node_map[node.element_id] = internal_id\n",
    "            label = get_node_label(node)\n",
    "            node_labels[node.element_id] = label\n",
    "            node_colors[node.element_id] = get_random_color()\n",
    "\n",
    "        # Create interactive HTML with PyVis\n",
    "        net = Network(height=\"750px\", width=\"100%\", notebook=True, cdn_resources='in_line')\n",
    "\n",
    "        # Enable physics for spacious layout\n",
    "        net.barnes_hut(gravity=-8000, central_gravity=0.3, spring_length=200, spring_strength=0.05, damping=0.09)\n",
    "\n",
    "        # Add nodes\n",
    "        for element_id, internal_id in node_map.items():\n",
    "            label = node_labels[element_id]\n",
    "            color = node_colors[element_id]\n",
    "            net.add_node(internal_id, label=label, title=label, color=color)\n",
    "\n",
    "        # Add edges\n",
    "        for rel in graph.relationships:\n",
    "            start_id = node_map[rel.start_node.element_id]\n",
    "            end_id = node_map[rel.end_node.element_id]\n",
    "            net.add_edge(start_id, end_id, label=str(rel.type), title=str(rel.type))\n",
    "\n",
    "        net.show(html_file)\n",
    "        print(f\"Interactive HTML graph saved as {html_file}\")\n",
    "\n",
    "\n",
    "if __name__ == \"__main__\":\n",
    "    export_graph_html()\n"
   ]
  },
  {
   "cell_type": "markdown",
   "metadata": {
    "id": "nXt5T-zJpv6O"
   },
   "source": [
    "##Creating Word Embedding"
   ]
  },
  {
   "cell_type": "code",
   "execution_count": null,
   "metadata": {
    "colab": {
     "base_uri": "https://localhost:8080/",
     "height": 369,
     "referenced_widgets": [
      "b865c7df94724cbdbe5857060f25c795",
      "d0a3260f9cad4af8bd19cd3524958ef9",
      "43073154968f49d2bfebba83b8a133f2",
      "8fde1c1645fd4be7b8808126b1910a83",
      "b2da6dbc3fa945ed97392d59524ad58a",
      "191d9c08db1d48559ca64474ca96cdfd",
      "6988ae3afac548a19c5d790261604cb5",
      "4b213e3f46164170bee9e46885c54a98",
      "0032b05cc0cb4d14a509c0636093a677",
      "cc516de8327a4f93a3b4d83602498b6e",
      "6db37bdf7703475e9ad0a84650d67b8b",
      "9323c2bd6ef545e68ab97ca36dac45bd",
      "0095fec9ce8e472e82d186390fe0e2d8",
      "41baa386cbb84154a7f5190c93a33934",
      "062a1707ae2147b58d81d32b895e1b97",
      "1e423600e880484f86fe1a6fe6bd149b",
      "cb795e84573e4db293f44e246126487a",
      "4bfc10a9f16a4fe0b6003caaf81143ee",
      "94f3552dfa50465290fc533c70d65263",
      "3a3f4cc837c24803a20672b8dbad0254",
      "98123ab4e207489e85d0db1f921ce5e6",
      "a920ee50cf924ebf9ec088afd52604d9",
      "308d7a9fea5d47e5a39f0622d400d3c9",
      "cc3be6b2345f497f83b1eb444264d34a",
      "c90cf5c152544efca76bb80ef5332d53",
      "45c4146030784c728d2088153c71d0ca",
      "b6b9f662bca14bcdb7751313fa8c62d9",
      "ef649c6d8c15411c884942226c92a4b7",
      "575a8327be9749fe873385e0cf741a8c",
      "0df4b7231ecb4fb889686d775e70b6e0",
      "6bf71fc37f884e19980505fca19a535c",
      "2e2e9f41437a4081a7c66551712882e0",
      "086c73bebce147a5b4d57311002adbb7",
      "af369d3982114a62bbd339b6b62cb509",
      "30edd9c69d314ea1932eced97d99f11f",
      "148156f88224446c8384f5481fb5e47f",
      "c7fdb0defe4b4bcda1fc53065098ab91",
      "d1bef64422f44eb79c3ab20a554c8739",
      "249e950dc8624808ba27dcf7f8054740",
      "bc683738256945a69325c9937861dc94",
      "6a381cba614e4a78adadc9b7831e6cc0",
      "fbaff09bffe34ed983a84b27b5e981f2",
      "30194fd1bd9a452d92b8f7bbf442fbf2",
      "80865598bdf2493db678a610d476b61a",
      "fffcea987f914711b3d0e30ce7ea51c1",
      "fa971907191d4b769e6098754a26a144",
      "841205b183cc4f2e96fceae12c201cc2",
      "27d45061a8df4356a503542c6f8aa348",
      "bff98e379a494f11a4cc639fff3a965a",
      "8bbb507893014f9499740611277531ea",
      "b078ef79bef94d2d9e50f85ee5da8345",
      "5d0bf069e93b4082bee9820505754da3",
      "5967e51287fb41498a0ba425cf1deb2b",
      "a75b7c16176a4e8fbe5f7010901d71a3",
      "c130e47f56224365bb71cc9ad48d7599",
      "9f301c26d4e14aa2b23d0fbfa3d360dc",
      "a21b07546f894143a44167fe242bad33",
      "c3689930227841af911d6d763fc84d0a",
      "f2493c8a040d4685bd549ebfee3f9a0e",
      "cb2f691ee0a34d1fb76b52a34974fba6",
      "3b1cb65b2ab64f2786e2d758127ee99b",
      "23419445182649ffb6cd18c4a9123e27",
      "6e12d802165e420bb0e5adeb3c94efa9",
      "b87a5a394f854e80b9f6ac063715d80f",
      "7e77a921a02a43b6826d993d1280b42f",
      "643b665ebf734a6a96cdcd30e2847db0",
      "1296d392c58943e68ca312c1450df165",
      "5c6d08d0765d41e68090da906734e942",
      "01f693371caf46aebcf244bf45e70e10",
      "eb56b25ad0964b86b6a6657d59c6e0a8",
      "03972232df754c11a98a94bfa947ad4a",
      "b2655297b2164a3bb75fe6cf3f7a62d9",
      "b9dfada775fa42348676ad96ed462656",
      "52c8edd20a4646968d0f46aab83ee597",
      "59a6bd7c1a104514bedcb2c62c231e55",
      "81a69108b0a342e4adc6d2444b189fc8",
      "6b843504bfa443d184c92fc2e59b5c7f",
      "1464dd0b60704a599297a132ed2f0b86",
      "86d68b130d064267b299b84d45033ef1",
      "aea92b683be04edfabf8b13d37aaf9ea",
      "3af636903422427491eb2cc7fd65d793",
      "159f92f3419943a9874465c9364eab26",
      "d370f37f6119496699eef8db3649494d",
      "80c6b9732c694c90ad155966231f1489",
      "67ba6f352e874a2e8b23415f9e5efa71",
      "4defa666451f4eaca63d529f196e8ed1",
      "b5402dcf784045a79b433db2ace92418",
      "1879f047a7e744239bec99310576cd46",
      "718bbad3e1ea4d4aba7c07de6a797bbc",
      "258182290026479ebaa381d0d67b9386",
      "9f09046f389243a690ea9c6667b8ce96",
      "1fe27d3d254e49b099f90d34d0acc3c0",
      "cf0a83185b3449adb6abd08a82762356",
      "82a102295f4f4f7ba70bb4b48509fb58",
      "ee660d6cf42b40cfba314bc4cb4b124e",
      "2ac2c74212894e13b928417205126f7d",
      "5859b0835561414883022c0417361f67",
      "24cd6c9c41444c4c96397433cafad862",
      "a0da3c7a55e344e089dc76a1e4871146",
      "997b131cd6c7469480938f32fd4c4f5f",
      "97b8dc0a189943d2b923ce104edd7e64",
      "dc15a3a9422540ca8a1bd9d9c428f0ea",
      "112acf92a6504ae98f1f2b57e673ed94",
      "b1d5be7ef0d5464391658948123079d1",
      "2c2a40e47f1b402ba9f220cd51cf4dc9",
      "aabae17d77c447ca867bcb11e3190007",
      "8e2f954e3e244330a9ef197350ee6116",
      "d9d96dbcbf104b98b5f4b8c39c6b469e",
      "1a5093e766a84509bc7f3375346bb5a6",
      "b051ffef303e4dda9c695ca9a30112c6",
      "148faf48a9bc4aa3bea518b44093b958",
      "88a04cab69bc4c0fa6df22d0ffa281b7",
      "5f2ed160570e49f58611b4e3cedbb127",
      "ee532e21aa59461e8a78a62702829f3a",
      "4ca1c09a95794e998c885055cd50248d",
      "0f8020856e7742bf9a3b9cac9c1f1b5b",
      "89e0174175cc40a6a2c6bfe7c507b667",
      "1a17418ead3b49c1a2c57c1d3eb2ec33",
      "ea47f7d77fea455292a6b202e8936091",
      "2569ccff00c64e83be0c306aea9c97db",
      "07d1a3e098e94197a35e017200d9fb98"
     ]
    },
    "id": "8YAqIRn6sUSU",
    "outputId": "2cda432c-877b-428c-9a6a-f7ccaa217c15"
   },
   "outputs": [
    {
     "data": {
      "application/vnd.jupyter.widget-view+json": {
       "model_id": "b865c7df94724cbdbe5857060f25c795",
       "version_major": 2,
       "version_minor": 0
      },
      "text/plain": [
       "modules.json:   0%|          | 0.00/349 [00:00<?, ?B/s]"
      ]
     },
     "metadata": {
      "application/vnd.jupyter.widget-view+json": {
       "colab": {
        "custom_widget_manager": {
         "url": "https://ssl.gstatic.com/colaboratory-static/widgets/colab-cdn-widget-manager/2b70e893a8ba7c0f/manager.min.js"
        }
       }
      }
     },
     "output_type": "display_data"
    },
    {
     "data": {
      "application/vnd.jupyter.widget-view+json": {
       "model_id": "9323c2bd6ef545e68ab97ca36dac45bd",
       "version_major": 2,
       "version_minor": 0
      },
      "text/plain": [
       "config_sentence_transformers.json:   0%|          | 0.00/116 [00:00<?, ?B/s]"
      ]
     },
     "metadata": {
      "application/vnd.jupyter.widget-view+json": {
       "colab": {
        "custom_widget_manager": {
         "url": "https://ssl.gstatic.com/colaboratory-static/widgets/colab-cdn-widget-manager/2b70e893a8ba7c0f/manager.min.js"
        }
       }
      }
     },
     "output_type": "display_data"
    },
    {
     "data": {
      "application/vnd.jupyter.widget-view+json": {
       "model_id": "308d7a9fea5d47e5a39f0622d400d3c9",
       "version_major": 2,
       "version_minor": 0
      },
      "text/plain": [
       "README.md:   0%|          | 0.00/10.4k [00:00<?, ?B/s]"
      ]
     },
     "metadata": {
      "application/vnd.jupyter.widget-view+json": {
       "colab": {
        "custom_widget_manager": {
         "url": "https://ssl.gstatic.com/colaboratory-static/widgets/colab-cdn-widget-manager/2b70e893a8ba7c0f/manager.min.js"
        }
       }
      }
     },
     "output_type": "display_data"
    },
    {
     "data": {
      "application/vnd.jupyter.widget-view+json": {
       "model_id": "af369d3982114a62bbd339b6b62cb509",
       "version_major": 2,
       "version_minor": 0
      },
      "text/plain": [
       "sentence_bert_config.json:   0%|          | 0.00/53.0 [00:00<?, ?B/s]"
      ]
     },
     "metadata": {
      "application/vnd.jupyter.widget-view+json": {
       "colab": {
        "custom_widget_manager": {
         "url": "https://ssl.gstatic.com/colaboratory-static/widgets/colab-cdn-widget-manager/2b70e893a8ba7c0f/manager.min.js"
        }
       }
      }
     },
     "output_type": "display_data"
    },
    {
     "data": {
      "application/vnd.jupyter.widget-view+json": {
       "model_id": "c130e47f56224365bb71cc9ad48d7599",
       "version_major": 2,
       "version_minor": 0
      },
      "text/plain": [
       "config.json:   0%|          | 0.00/571 [00:00<?, ?B/s]"
      ]
     },
     "metadata": {
      "application/vnd.jupyter.widget-view+json": {
       "colab": {
        "custom_widget_manager": {
         "url": "https://ssl.gstatic.com/colaboratory-static/widgets/colab-cdn-widget-manager/2b70e893a8ba7c0f/manager.min.js"
        }
       }
      }
     },
     "output_type": "display_data"
    },
    {
     "data": {
      "application/vnd.jupyter.widget-view+json": {
       "model_id": "643b665ebf734a6a96cdcd30e2847db0",
       "version_major": 2,
       "version_minor": 0
      },
      "text/plain": [
       "model.safetensors:   0%|          | 0.00/438M [00:00<?, ?B/s]"
      ]
     },
     "metadata": {
      "application/vnd.jupyter.widget-view+json": {
       "colab": {
        "custom_widget_manager": {
         "url": "https://ssl.gstatic.com/colaboratory-static/widgets/colab-cdn-widget-manager/2b70e893a8ba7c0f/manager.min.js"
        }
       }
      }
     },
     "output_type": "display_data"
    },
    {
     "data": {
      "application/vnd.jupyter.widget-view+json": {
       "model_id": "6b843504bfa443d184c92fc2e59b5c7f",
       "version_major": 2,
       "version_minor": 0
      },
      "text/plain": [
       "tokenizer_config.json:   0%|          | 0.00/363 [00:00<?, ?B/s]"
      ]
     },
     "metadata": {
      "application/vnd.jupyter.widget-view+json": {
       "colab": {
        "custom_widget_manager": {
         "url": "https://ssl.gstatic.com/colaboratory-static/widgets/colab-cdn-widget-manager/2b70e893a8ba7c0f/manager.min.js"
        }
       }
      }
     },
     "output_type": "display_data"
    },
    {
     "data": {
      "application/vnd.jupyter.widget-view+json": {
       "model_id": "1879f047a7e744239bec99310576cd46",
       "version_major": 2,
       "version_minor": 0
      },
      "text/plain": [
       "vocab.txt:   0%|          | 0.00/232k [00:00<?, ?B/s]"
      ]
     },
     "metadata": {
      "application/vnd.jupyter.widget-view+json": {
       "colab": {
        "custom_widget_manager": {
         "url": "https://ssl.gstatic.com/colaboratory-static/widgets/colab-cdn-widget-manager/2b70e893a8ba7c0f/manager.min.js"
        }
       }
      }
     },
     "output_type": "display_data"
    },
    {
     "data": {
      "application/vnd.jupyter.widget-view+json": {
       "model_id": "a0da3c7a55e344e089dc76a1e4871146",
       "version_major": 2,
       "version_minor": 0
      },
      "text/plain": [
       "tokenizer.json:   0%|          | 0.00/466k [00:00<?, ?B/s]"
      ]
     },
     "metadata": {
      "application/vnd.jupyter.widget-view+json": {
       "colab": {
        "custom_widget_manager": {
         "url": "https://ssl.gstatic.com/colaboratory-static/widgets/colab-cdn-widget-manager/2b70e893a8ba7c0f/manager.min.js"
        }
       }
      }
     },
     "output_type": "display_data"
    },
    {
     "data": {
      "application/vnd.jupyter.widget-view+json": {
       "model_id": "b051ffef303e4dda9c695ca9a30112c6",
       "version_major": 2,
       "version_minor": 0
      },
      "text/plain": [
       "special_tokens_map.json:   0%|          | 0.00/239 [00:00<?, ?B/s]"
      ]
     },
     "metadata": {
      "application/vnd.jupyter.widget-view+json": {
       "colab": {
        "custom_widget_manager": {
         "url": "https://ssl.gstatic.com/colaboratory-static/widgets/colab-cdn-widget-manager/2b70e893a8ba7c0f/manager.min.js"
        }
       }
      }
     },
     "output_type": "display_data"
    },
    {
     "data": {
      "application/vnd.jupyter.widget-view+json": {
       "model_id": "07d1a3e098e94197a35e017200d9fb98",
       "version_major": 2,
       "version_minor": 0
      },
      "text/plain": [
       "config.json:   0%|          | 0.00/190 [00:00<?, ?B/s]"
      ]
     },
     "metadata": {},
     "output_type": "display_data"
    }
   ],
   "source": [
    "# Creating Word Embedding instance from HuggingFace\n",
    "embeddings = HuggingFaceEmbeddings(\n",
    "            model_name=embedding_model,\n",
    "            model_kwargs={'device': 'cpu'}\n",
    "        )"
   ]
  },
  {
   "cell_type": "code",
   "execution_count": null,
   "metadata": {
    "id": "UvCOaROrTz5S"
   },
   "outputs": [],
   "source": [
    "from langchain_community.vectorstores import Neo4jVector\n",
    "\n",
    "# Use the embeddings with Neo4jVector\n",
    "vector_index = Neo4jVector.from_existing_graph(\n",
    "    embeddings,\n",
    "    search_type=\"hybrid\",\n",
    "    node_label=\"Document\",\n",
    "    text_node_properties=[\"text\"],\n",
    "    embedding_node_property=\"embedding\"\n",
    ")"
   ]
  },
  {
   "cell_type": "code",
   "execution_count": null,
   "metadata": {
    "colab": {
     "base_uri": "https://localhost:8080/"
    },
    "id": "sfBIy-JHTz1x",
    "outputId": "59005ea6-ff68-4500-8f44-8f24362e6a7d"
   },
   "outputs": [
    {
     "data": {
      "text/plain": [
       "[]"
      ]
     },
     "execution_count": 25,
     "metadata": {},
     "output_type": "execute_result"
    }
   ],
   "source": [
    "graph.query(\"CREATE FULLTEXT INDEX entity IF NOT EXISTS FOR (e:__Entity__) ON EACH [e.id]\")"
   ]
  },
  {
   "cell_type": "markdown",
   "metadata": {
    "id": "-v3pN266r3OB"
   },
   "source": [
    "##Extracting Entities (Nodes) from the text given input"
   ]
  },
  {
   "cell_type": "code",
   "execution_count": null,
   "metadata": {
    "id": "MB0dmxczTzym"
   },
   "outputs": [],
   "source": [
    "from pydantic import BaseModel, Field\n",
    "# Extract entities from text\n",
    "class Entities(BaseModel):\n",
    "    \"\"\"Identifying information about entities.\"\"\"\n",
    "\n",
    "    names: List[str] = Field(\n",
    "        ...,\n",
    "        description=\"All the person, organization, or business entities that \"\n",
    "        \"appear in the text\",\n",
    "    )"
   ]
  },
  {
   "cell_type": "code",
   "execution_count": null,
   "metadata": {
    "id": "vSqpK6U6Tzlw"
   },
   "outputs": [],
   "source": [
    "# Creating Prompt Templates using Langchain\n",
    "from langchain_core.prompts import ChatPromptTemplate\n",
    "from langchain_core.prompts.prompt import PromptTemplate\n",
    "\n",
    "prompt = ChatPromptTemplate.from_messages(\n",
    "    [\n",
    "        (\n",
    "            \"system\",\n",
    "            \"You are extracting organization and person entities from the text.\",\n",
    "        ),\n",
    "        (\n",
    "            \"human\",\n",
    "            \"Use the given format to extract information from the following \"\n",
    "            \"input: {question}\",\n",
    "        ),\n",
    "    ]\n",
    ")"
   ]
  },
  {
   "cell_type": "code",
   "execution_count": null,
   "metadata": {
    "id": "8F6AWyxuVqGW"
   },
   "outputs": [],
   "source": [
    "entity_chain = prompt | llm.with_structured_output(Entities)"
   ]
  },
  {
   "cell_type": "code",
   "execution_count": null,
   "metadata": {
    "colab": {
     "base_uri": "https://localhost:8080/"
    },
    "id": "9Q6qHj24VqDJ",
    "outputId": "c283698a-b5a1-456b-89ee-aed8eb371fe1"
   },
   "outputs": [
    {
     "data": {
      "text/plain": [
       "['ZS', 'Broadband Allowances']"
      ]
     },
     "execution_count": 31,
     "metadata": {},
     "output_type": "execute_result"
    }
   ],
   "source": [
    "entity_chain.invoke({\"question\": \"Will ZS offer any Broadband Allowances?\"}).names"
   ]
  },
  {
   "cell_type": "markdown",
   "metadata": {
    "id": "NKrFd_82sPfR"
   },
   "source": [
    "##Graph Retrieval from the Question"
   ]
  },
  {
   "cell_type": "code",
   "execution_count": null,
   "metadata": {
    "id": "1VI-QZJoVqBC"
   },
   "outputs": [],
   "source": [
    "# Generates a full-text search query with fuzzy matching (~2) for Neo4j by sanitizing input and combining words using AND.\n",
    "from langchain_community.vectorstores.neo4j_vector import remove_lucene_chars\n",
    "\n",
    "def generate_full_text_query(input: str) -> str:\n",
    "    full_text_query = \"\"\n",
    "    words = [el for el in remove_lucene_chars(input).split() if el]\n",
    "    for word in words[:-1]:\n",
    "        full_text_query += f\" {word}~2 AND\"\n",
    "    full_text_query += f\" {words[-1]}~2\"\n",
    "    return full_text_query.strip()"
   ]
  },
  {
   "cell_type": "code",
   "execution_count": null,
   "metadata": {
    "id": "o1fzKZdnVp-A"
   },
   "outputs": [],
   "source": [
    "# Full text index query\n",
    "def structured_retriever(question: str) -> str:\n",
    "    result = \"\"\n",
    "    entities = entity_chain.invoke({\"question\": question})\n",
    "    for entity in entities.names:\n",
    "        response = graph.query(\n",
    "            \"\"\"CALL db.index.fulltext.queryNodes('entity', $query, {limit:2})\n",
    "            YIELD node,score\n",
    "            CALL {\n",
    "              WITH node\n",
    "              MATCH (node)-[r:!MENTIONS]->(neighbor)\n",
    "              RETURN node.id + ' - ' + type(r) + ' -> ' + neighbor.id AS output\n",
    "              UNION ALL\n",
    "              WITH node\n",
    "              MATCH (node)<-[r:!MENTIONS]-(neighbor)\n",
    "              RETURN neighbor.id + ' - ' + type(r) + ' -> ' +  node.id AS output\n",
    "            }\n",
    "            RETURN output LIMIT 50\n",
    "            \"\"\",\n",
    "            {\"query\": generate_full_text_query(entity)},\n",
    "        )\n",
    "        result += \"\\n\".join([el['output'] for el in response])\n",
    "    return result"
   ]
  },
  {
   "cell_type": "code",
   "execution_count": null,
   "metadata": {
    "colab": {
     "base_uri": "https://localhost:8080/"
    },
    "id": "qBIWywYaVp7Z",
    "outputId": "2fddaf4c-82d4-4333-cf64-b39f458b3361"
   },
   "outputs": [
    {
     "name": "stderr",
     "output_type": "stream",
     "text": [
      "<ipython-input-32-2132f4b34bad>:6: LangChainDeprecationWarning: The function `remove_lucene_chars` was deprecated in LangChain 0.3.8 and will be removed in 1.0. An updated version of the function exists in the :meth:`~langchain-neo4j package and should be used instead. To use it run `pip install -U :meth:`~langchain-neo4j` and import as `from :meth:`~langchain_neo4j.vectorstores.neo4j_vector import remove_lucene_chars``.\n",
      "  words = [el for el in remove_lucene_chars(input).split() if el]\n",
      "WARNING:neo4j.notifications:Received notification from DBMS server: {severity: WARNING} {code: Neo.ClientNotification.Statement.FeatureDeprecationWarning} {category: DEPRECATION} {title: This feature is deprecated and will be removed in future versions.} {description: CALL subquery without a variable scope clause is now deprecated. Use CALL (node, node) { ... }} {position: line: 3, column: 13, offset: 104} for query: \"CALL db.index.fulltext.queryNodes('entity', $query, {limit:2})\\n            YIELD node,score\\n            CALL {\\n              WITH node\\n              MATCH (node)-[r:!MENTIONS]->(neighbor)\\n              RETURN node.id + ' - ' + type(r) + ' -> ' + neighbor.id AS output\\n              UNION ALL\\n              WITH node\\n              MATCH (node)<-[r:!MENTIONS]-(neighbor)\\n              RETURN neighbor.id + ' - ' + type(r) + ' -> ' +  node.id AS output\\n            }\\n            RETURN output LIMIT 50\\n            \"\n"
     ]
    },
    {
     "name": "stdout",
     "output_type": "stream",
     "text": [
      "Zs - OFFERS -> Group Insurance Plan\n",
      "Zs - OFFERS -> Preventive Healthcare Coverage\n",
      "Zs - OFFERS -> Accident Insurance\n",
      "Zs - OFFERS -> Business Travel Insurance\n",
      "Zs - OFFERS -> Life Insurance\n",
      "Zs - EMPHASIZES -> Collaboration\n",
      "Zs - EMPHASIZES -> Innovation\n",
      "Zs - EMPHASIZES -> Intensity\n",
      "Zs - EMPHASIZES -> Quality\n",
      "Zs - FOLLOWS -> Client-First Approach\n",
      "Zs - FOLLOWS -> Monthly Payment Schedule\n",
      "Zs - PROVIDES -> Annual Gross Salary\n",
      "Zs - PROVIDES -> Starting Bonus\n",
      "Zs - PROVIDES -> Performance Bonus\n",
      "Zs - PROVIDES -> Emerging Leader Reward Program (Elrp)\n",
      "Zs - PROVIDES -> Elrp\n",
      "Zs - PROVIDES -> Annual Leave\n",
      "Zs - PROVIDES -> Holidays\n",
      "Zs - PROVIDES -> Sick Time\n",
      "Zs - PROVIDES -> Transportation Allowance\n",
      "Zs - PROVIDES -> Meal Allowance\n",
      "Zs - PROVIDES -> Relocation Assistance\n",
      "Zs - PROVIDES -> Guest_House\n",
      "Zs - PROVIDES -> Relocation_Allowance\n",
      "Zs - EMPLOYS -> Associates\n",
      "Zs - EMPLOYS -> Employee\n",
      "Zs - EMPLOYS -> Employment\n",
      "Zs - CONDUCTS -> Salary Review\n",
      "Zs - PAYS -> Starting Bonus\n",
      "Zs - REQUIRES -> High_Speed_Broadband_Connection\n",
      "Zs - REQUIRES_RETURN_IF_NOT_EMPLOYED_CONTINUOUSLY_FOR_8_MONTHS -> Elrp\n",
      "Zs - DETERMINES -> Bonus\n",
      "Zs - ENROLLS_IN -> Provident Fund\n",
      "Zs - CONTRIBUTES -> Contribution Details\n",
      "Zs - PROVIDES_ALLOWANCE -> Broadband_Allowance\n",
      "Zs - REIMBURSES -> Installation_Charge\n",
      "Zs - CONDUCTS_AUDITS -> Audit\n",
      "Zstart_Academy - PROVIDES -> Zs\n",
      "Employee - EMPLOYED_BY -> Zs\n",
      "Gratuity - PROVIDED_BY -> Zs\n",
      "Orientation_Program - DESIGNED_FOR -> Zs\n",
      "Job Offer - OFFERED_BY -> Zs\n",
      "Session - PROVIDES_OPPORTUNITY -> Zs Associates\n"
     ]
    }
   ],
   "source": [
    "print(structured_retriever(\"Will ZS offer any Broadband Allowances?\"))"
   ]
  },
  {
   "cell_type": "markdown",
   "metadata": {
    "id": "W5ryKEnKsZ0y"
   },
   "source": [
    "##Combining results from a structured retriever and a vector-based similarity search\n"
   ]
  },
  {
   "cell_type": "code",
   "execution_count": null,
   "metadata": {
    "id": "CaX6YRB3Vp5B"
   },
   "outputs": [],
   "source": [
    "# Retrieves structured and unstructured data based on the input question.\n",
    "\n",
    "def retriever(question: str):\n",
    "    print(f\"Search query: {question}\")\n",
    "    structured_data = structured_retriever(question)\n",
    "    unstructured_data = [el.page_content for el in vector_index.similarity_search(question)]\n",
    "    final_data = f\"\"\"Structured data:\n",
    "      {structured_data}\n",
    "      Unstructured data:\n",
    "      {\"#Document \". join(unstructured_data)}\n",
    "          \"\"\"\n",
    "    return final_data"
   ]
  },
  {
   "cell_type": "code",
   "execution_count": null,
   "metadata": {
    "id": "TFkJFCWJVp2a"
   },
   "outputs": [],
   "source": [
    "_template = \"\"\"Given the following conversation and a follow up question, rephrase the follow up question to be a standalone question,\n",
    "in its original language.\n",
    "Chat History:\n",
    "{chat_history}\n",
    "Follow Up Input: {question}\n",
    "Standalone question:\"\"\""
   ]
  },
  {
   "cell_type": "code",
   "execution_count": null,
   "metadata": {
    "id": "Skpxz-WsVpzr"
   },
   "outputs": [],
   "source": [
    "CONDENSE_QUESTION_PROMPT = PromptTemplate.from_template(_template)"
   ]
  },
  {
   "cell_type": "code",
   "execution_count": null,
   "metadata": {
    "id": "khFyAhmNVpxJ"
   },
   "outputs": [],
   "source": [
    "def _format_chat_history(chat_history: List[Tuple[str, str]]) -> List:\n",
    "    buffer = []\n",
    "    for human, ai in chat_history:\n",
    "        buffer.append(HumanMessage(content=human))\n",
    "        buffer.append(AIMessage(content=ai))\n",
    "    return buffer"
   ]
  },
  {
   "cell_type": "code",
   "execution_count": null,
   "metadata": {
    "id": "aqV3DTxNWUYJ"
   },
   "outputs": [],
   "source": [
    "_search_query = RunnableBranch(\n",
    "    # If input includes chat_history, we condense it with the follow-up question\n",
    "    (\n",
    "        RunnableLambda(lambda x: bool(x.get(\"chat_history\"))).with_config(\n",
    "            run_name=\"HasChatHistoryCheck\"\n",
    "        ),  # Condense follow-up question and chat into a standalone_question\n",
    "        RunnablePassthrough.assign(\n",
    "            chat_history=lambda x: _format_chat_history(x[\"chat_history\"])\n",
    "        )\n",
    "        | CONDENSE_QUESTION_PROMPT\n",
    "        | llm\n",
    "        | StrOutputParser(),\n",
    "    ),\n",
    "    # Else, we have no chat history, so just pass through the question\n",
    "    RunnableLambda(lambda x : x[\"question\"]),\n",
    ")"
   ]
  },
  {
   "cell_type": "code",
   "execution_count": null,
   "metadata": {
    "id": "oKjCWzWCWUVu"
   },
   "outputs": [],
   "source": [
    "template = \"\"\"Answer the question based only on the following context:\n",
    "{context}\n",
    "\n",
    "Question: {question}\n",
    "\n",
    "Provide a concise context (2-3 sentences) for this chunk, considering the following guidelines:\n",
    "        1. Identify the main topic or metric discussed .\n",
    "        2. Mention any relevant time periods or comparisons .\n",
    "        3. Include any key figures or percentages that provide important context.\n",
    "        4. Do not use phrases like \"This chunk discusses\" or \"This section provides\". Instead, directly state the context.\n",
    "\n",
    "Answer:\"\"\""
   ]
  },
  {
   "cell_type": "code",
   "execution_count": null,
   "metadata": {
    "id": "6w1RpMHNWUTF"
   },
   "outputs": [],
   "source": [
    "prompt = ChatPromptTemplate.from_template(template)"
   ]
  },
  {
   "cell_type": "code",
   "execution_count": null,
   "metadata": {
    "id": "yeBQnBReVpup"
   },
   "outputs": [],
   "source": [
    "# Creates a processing chain where a search query is retrieved, passed to a prompt, sent to an LLM, and then parsed into a string output.\n",
    "chain = (\n",
    "    RunnableParallel(\n",
    "        {\n",
    "            \"context\": _search_query | retriever,\n",
    "            \"question\": RunnablePassthrough(),\n",
    "        }\n",
    "    )\n",
    "    | prompt\n",
    "    | llm\n",
    "    | StrOutputParser()\n",
    ")"
   ]
  },
  {
   "cell_type": "code",
   "execution_count": null,
   "metadata": {
    "colab": {
     "base_uri": "https://localhost:8080/",
     "height": 255
    },
    "id": "c0LqYoLVWgss",
    "outputId": "b40248c1-0e14-48b9-c868-4e62d540fa68"
   },
   "outputs": [
    {
     "name": "stdout",
     "output_type": "stream",
     "text": [
      "Search query: Will ZS offer any Broadband Allowances?\n"
     ]
    },
    {
     "name": "stderr",
     "output_type": "stream",
     "text": [
      "WARNING:neo4j.notifications:Received notification from DBMS server: {severity: WARNING} {code: Neo.ClientNotification.Statement.FeatureDeprecationWarning} {category: DEPRECATION} {title: This feature is deprecated and will be removed in future versions.} {description: CALL subquery without a variable scope clause is now deprecated. Use CALL (node, node) { ... }} {position: line: 3, column: 13, offset: 104} for query: \"CALL db.index.fulltext.queryNodes('entity', $query, {limit:2})\\n            YIELD node,score\\n            CALL {\\n              WITH node\\n              MATCH (node)-[r:!MENTIONS]->(neighbor)\\n              RETURN node.id + ' - ' + type(r) + ' -> ' + neighbor.id AS output\\n              UNION ALL\\n              WITH node\\n              MATCH (node)<-[r:!MENTIONS]-(neighbor)\\n              RETURN neighbor.id + ' - ' + type(r) + ' -> ' +  node.id AS output\\n            }\\n            RETURN output LIMIT 50\\n            \"\n",
      "WARNING:neo4j.notifications:Received notification from DBMS server: {severity: WARNING} {code: Neo.ClientNotification.Statement.FeatureDeprecationWarning} {category: DEPRECATION} {title: This feature is deprecated and will be removed in future versions.} {description: CALL subquery without a variable scope clause is now deprecated. Use CALL () { ... }} {position: line: 1, column: 1, offset: 0} for query: \"CALL { CALL db.index.vector.queryNodes($index, $k, $embedding) YIELD node, score WITH collect({node:node, score:score}) AS nodes, max(score) AS max UNWIND nodes AS n RETURN n.node AS node, (n.score / max) AS score UNION CALL db.index.fulltext.queryNodes($keyword_index, $query, {limit: $k}) YIELD node, score WITH collect({node:node, score:score}) AS nodes, max(score) AS max UNWIND nodes AS n RETURN n.node AS node, (n.score / max) AS score } WITH node, max(score) AS score ORDER BY score DESC LIMIT $k RETURN reduce(str='', k IN ['text'] | str + '\\\\n' + k + ': ' + coalesce(node[k], '')) AS text, node {.*, `embedding`: Null, id: Null, `text`: Null} AS metadata, score\"\n"
     ]
    },
    {
     "data": {
      "application/vnd.google.colaboratory.intrinsic+json": {
       "type": "string"
      },
      "text/plain": [
       "\"<think>\\nOkay, I need to figure out if ZS offers any Broadband Allowances. Let me go through the provided context step by step.\\n\\nFirst, looking at the structured data, I see that Zs Associates India Private Ltd. offers a position called Business Technology Solutions Associate to Subhadip De. The unstructured data has several documents. \\n\\nIn the first document, it mentions that ZS will provide a broadband allowance of INR ₹1,500 per month through payroll. They also reimburse a one-time installation charge of INR ₹500. They expect the employee to have a high-speed connection, at least 2.0 MBPS, for remote work. Additionally, ZS can audit the usage of this allowance randomly.\\n\\nThe second document is the salary breakup, which includes the Broadband Allowance as a separate component amounting to INR 18,000 annually. This is calculated as INR 1,500 per month. \\n\\nThe other documents talk about the offer being contingent on background verification and relocation assistance, but those aren't directly related to the broadband allowance.\\n\\nSo, putting it all together, ZS does offer a Broadband Allowance. It's a monthly stipend of ₹1,500, which totals ₹18,000 per year. They also cover a one-time installation fee of ₹500. This is part of their salary structure and benefits package to support remote work with a reliable internet connection.\\n</think>\\n\\nZS offers a Broadband Allowance of ₹1,500 per month, totaling ₹18,000 annually, and reimburses a one-time installation charge of ₹500 to support remote work with a high-speed connection.\""
      ]
     },
     "execution_count": 47,
     "metadata": {},
     "output_type": "execute_result"
    }
   ],
   "source": [
    "chain.invoke({\"question\": \"Will ZS offer any Broadband Allowances?\"})"
   ]
  },
  {
   "cell_type": "code",
   "execution_count": null,
   "metadata": {
    "id": "U4jXpksaWgpT"
   },
   "outputs": [],
   "source": [
    "# chain.invoke(\n",
    "#     {\n",
    "#         \"question\": \"When was she born?\",\n",
    "#         \"chat_history\": [(\"Which house did Elizabeth I belong to?\", \"House Of Tudor\")],\n",
    "#     }\n",
    "# )"
   ]
  },
  {
   "cell_type": "code",
   "execution_count": null,
   "metadata": {
    "id": "KljTxjhoWgiL"
   },
   "outputs": [],
   "source": []
  }
 ],
 "metadata": {
  "colab": {
   "collapsed_sections": [
    "eyN_RBsiqYSz"
   ],
   "provenance": []
  },
  "kernelspec": {
   "display_name": "Python 3",
   "name": "python3"
  },
  "language_info": {
   "name": "python"
  }
 },
 "nbformat": 4,
 "nbformat_minor": 0
}
